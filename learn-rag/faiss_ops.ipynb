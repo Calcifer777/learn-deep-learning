{
  "nbformat": 4,
  "nbformat_minor": 0,
  "metadata": {
    "colab": {
      "provenance": [],
      "authorship_tag": "ABX9TyP/2PkeepYwPeKOOP1QHf7Y",
      "include_colab_link": true
    },
    "kernelspec": {
      "name": "python3",
      "display_name": "Python 3"
    },
    "language_info": {
      "name": "python"
    }
  },
  "cells": [
    {
      "cell_type": "markdown",
      "metadata": {
        "id": "view-in-github",
        "colab_type": "text"
      },
      "source": [
        "<a href=\"https://colab.research.google.com/github/Calcifer777/learn-deep-learning/blob/main/learn-rag/faiss_ops.ipynb\" target=\"_parent\"><img src=\"https://colab.research.google.com/assets/colab-badge.svg\" alt=\"Open In Colab\"/></a>"
      ]
    },
    {
      "cell_type": "markdown",
      "source": [
        "# Resources\n",
        "\n",
        "- Index factory docs: https://github.com/facebookresearch/faiss/wiki/The-index-factory\n",
        "- How to navigate the 'index_factory': https://www.pinecone.io/learn/series/faiss/composite-indexes/\n",
        "- https://www.pinecone.io/learn/series/faiss/"
      ],
      "metadata": {
        "id": "acVLVsX88aml"
      }
    },
    {
      "cell_type": "code",
      "execution_count": 1,
      "metadata": {
        "colab": {
          "base_uri": "https://localhost:8080/"
        },
        "id": "sP-zPytxW8ZL",
        "outputId": "cd7263dc-c437-45f9-f8d6-1a485855d5c7"
      },
      "outputs": [
        {
          "output_type": "stream",
          "name": "stdout",
          "text": [
            "Collecting faiss-cpu\n",
            "  Downloading faiss_cpu-1.7.4-cp310-cp310-manylinux_2_17_x86_64.manylinux2014_x86_64.whl (17.6 MB)\n",
            "     ━━━━━━━━━━━━━━━━━━━━━━━━━━━━━━━━━━━━━━━━ 17.6/17.6 MB 56.4 MB/s eta 0:00:00\n",
            "Collecting faiss-gpu\n",
            "  Downloading faiss_gpu-1.7.2-cp310-cp310-manylinux_2_17_x86_64.manylinux2014_x86_64.whl (85.5 MB)\n",
            "     ━━━━━━━━━━━━━━━━━━━━━━━━━━━━━━━━━━━━━━━━ 85.5/85.5 MB 11.3 MB/s eta 0:00:00\n",
            "Installing collected packages: faiss-gpu, faiss-cpu\n",
            "Successfully installed faiss-cpu-1.7.4 faiss-gpu-1.7.2\n"
          ]
        }
      ],
      "source": [
        "%%bash\n",
        "\n",
        "pip install faiss-cpu faiss-gpu"
      ]
    },
    {
      "cell_type": "code",
      "source": [
        "import os\n",
        "import time\n",
        "\n",
        "from matplotlib import pyplot as plt\n",
        "import numpy as np\n",
        "from tqdm import tqdm\n",
        "\n",
        "import faiss"
      ],
      "metadata": {
        "id": "MIyt85beXB_O"
      },
      "execution_count": 2,
      "outputs": []
    },
    {
      "cell_type": "markdown",
      "source": [
        "## Parameters"
      ],
      "metadata": {
        "id": "AS5JJ5CDFkxm"
      }
    },
    {
      "cell_type": "code",
      "source": [
        "vector_dim = 64\n",
        "\n",
        "# only for IVF indexes\n",
        "n_probes = 8\n",
        "n_centroids = 64\n",
        "\n",
        "# only for PQ indexes\n",
        "n_groups = 16  # must be divisible by vector dim\n",
        "bits = 8  # bits in each centroid"
      ],
      "metadata": {
        "id": "pPbcOH7Qu2zc"
      },
      "execution_count": 3,
      "outputs": []
    },
    {
      "cell_type": "markdown",
      "source": [
        "# FAISS Indices\n",
        "\n",
        "## Flat index\n",
        "\n",
        "Measures the L2 (or Euclidean) distance between all given points between our query vector, and the vectors loaded into the index. It’s simple, **very accurate, but not too fast**.\n",
        "\n",
        "## Locality Sensitive Index\n",
        "\n",
        "Locality Sensitive Hashing (LSH) works by grouping vectors into buckets by processing each vector through a hash function that maximizes hashing collisions — rather than minimizing as is usual with hashing functions.\n",
        "\n",
        "IndexLSH is not suitable if we have large vector dimensionality (128 is already too large). Instead, it is best suited to low-dimensionality vectors — and small indexes.\n",
        "\n",
        "## HNSW\n",
        "\n",
        "Where RAM is not a limiting factor HNSW is great as a well-balanced index that we can push to focus more towards quality by increasing our three parameters\n",
        "\n",
        "## Inverted File indexes\n",
        "\n",
        "The quantizer (an Index instance) provides a quantization index for each vector to be added. The quantization index maps to a list (aka inverted list or posting list), where the id of the vector is stored.\n",
        "\n",
        "At search time, the vector to be searched is also quantized, and only the list corresponding to the quantization index is searched. This **speeds up the search by making it non-exhaustive**. This **can be relaxed using multi-probe** search.\n",
        "\n",
        "### IVFFlat\n",
        "\n",
        "Inverted file with stored vectors. Here the inverted file pre-selects the vectors to be searched, but they are not otherwise encoded, the code array just contains the raw float entries.\n",
        "\n",
        "\n",
        "### IVFPQ\n",
        "\n",
        "Inverted file with Product Quantizer encoding. Each residual vector is encoded as a product quantizer code.\n",
        "\n",
        "## Product Quantization\n",
        "\n",
        "Where IVF allows us to approximate by reducing the scope of our search, PQ approximates the distance/similarity calculation instead.\n",
        "\n",
        "- Split the original vector into several subvectors.\n",
        "- For each set of subvectors, we perform a clustering operation — creating multiple centroids for each sub-vector set.\n",
        "- In our vector of sub-vectors, we replace each sub-vector with the ID of it’s nearest set-specific centroid.\n",
        "\n",
        "- Very high recall is out of reach for both PQ and IVFPQ indexes\n"
      ],
      "metadata": {
        "id": "Z2JPWlgWFm7C"
      }
    },
    {
      "cell_type": "code",
      "source": [
        "flat_index = faiss.index_factory(vector_dim, \"Flat\")\n",
        "\n",
        "ivf_index = faiss.index_factory(vector_dim, f\"IVF{n_centroids},Flat\")\n",
        "\n",
        "quantizer = faiss.IndexFlatL2(vector_dim)\n",
        "ivfpq_index = faiss.IndexIVFPQ(quantizer, vector_dim, n_centroids, n_groups, bits)\n",
        "ivfpq_index.nprobe = n_probes"
      ],
      "metadata": {
        "id": "s-tVpIqsFabe"
      },
      "execution_count": 9,
      "outputs": []
    },
    {
      "cell_type": "code",
      "source": [
        "indexes = dict(\n",
        "    flat=flat_index,\n",
        "    ivf=ivf_index,\n",
        "    ivfpq=ivfpq_index,\n",
        ")"
      ],
      "metadata": {
        "id": "R7SKqth5FyGp"
      },
      "execution_count": 12,
      "outputs": []
    },
    {
      "cell_type": "markdown",
      "source": [
        "# Query times"
      ],
      "metadata": {
        "id": "JyC3HhgJtdVB"
      }
    },
    {
      "cell_type": "code",
      "source": [
        "def fill_index(index: faiss.Index, n: int, dim: int):\n",
        "    index.reset()\n",
        "    corpus = np.random.rand(n, dim)\n",
        "    if index.is_trained is False:\n",
        "        index.train(corpus)\n",
        "    index.add(corpus)\n",
        "    assert index.is_trained is True\n",
        "    assert index.ntotal == n"
      ],
      "metadata": {
        "id": "t3-0dUay-sLf"
      },
      "execution_count": 10,
      "outputs": []
    },
    {
      "cell_type": "code",
      "source": [
        "def get_query_times(\n",
        "    index: faiss.Index,\n",
        "    step: int = 100_000,\n",
        "    max_corpus_size: int =  5_000_000,\n",
        "    dim: int = vector_dim,\n",
        "    n_queries: int = 10,\n",
        "    q_tries: int = 5,\n",
        "    n_results: int = 10,\n",
        ") -> tuple[list[int], list[int]]:\n",
        "    corpus_sizes = range(step, max_corpus_size + step, step)\n",
        "    times = []\n",
        "\n",
        "    pbar = tqdm(corpus_sizes)\n",
        "    for n in pbar:\n",
        "        fill_index(index, n, dim)\n",
        "        q_times = []\n",
        "        for i in range(q_tries):\n",
        "            queries = np.random.rand(n_queries, dim)\n",
        "            start = time.perf_counter()\n",
        "            _, _ = index.search(queries, k=n_results)\n",
        "            q_times.append(time.perf_counter() - start)\n",
        "        times.append(np.mean(q_times) * 1_000)\n",
        "        index.reset()\n",
        "\n",
        "    return corpus_sizes, times"
      ],
      "metadata": {
        "id": "l6KM5C-vmv0w"
      },
      "execution_count": 27,
      "outputs": []
    },
    {
      "cell_type": "code",
      "source": [
        "query_times = dict()\n",
        "\n",
        "for index_name, index in indexes.items():\n",
        "    query_times[index_name] = get_query_times(index)"
      ],
      "metadata": {
        "colab": {
          "base_uri": "https://localhost:8080/"
        },
        "id": "mxpLphg_F6Q4",
        "outputId": "cde673f0-1ed6-433b-c4d3-12b10e438c3a"
      },
      "execution_count": 28,
      "outputs": [
        {
          "output_type": "stream",
          "name": "stderr",
          "text": [
            "100%|██████████| 50/50 [04:49<00:00,  5.78s/it]\n",
            "100%|██████████| 50/50 [03:16<00:00,  3.92s/it]\n",
            "100%|██████████| 50/50 [12:06<00:00, 14.53s/it]\n"
          ]
        }
      ]
    },
    {
      "cell_type": "code",
      "source": [
        "for index_name, (corpus_sizes, times) in query_times.items():\n",
        "    plt.plot(corpus_sizes, times)\n",
        "plt.legend(query_times.keys())"
      ],
      "metadata": {
        "colab": {
          "base_uri": "https://localhost:8080/",
          "height": 466
        },
        "id": "D89kRR7XGSmr",
        "outputId": "6050a40d-c650-4b99-c735-7fb7944d01aa"
      },
      "execution_count": 29,
      "outputs": [
        {
          "output_type": "execute_result",
          "data": {
            "text/plain": [
              "<matplotlib.legend.Legend at 0x7ee51e2016f0>"
            ]
          },
          "metadata": {},
          "execution_count": 29
        },
        {
          "output_type": "display_data",
          "data": {
            "text/plain": [
              "<Figure size 640x480 with 1 Axes>"
            ],
            "image/png": "[encoded data removed]"
          },
          "metadata": {}
        }
      ]
    },
    {
      "cell_type": "markdown",
      "source": [
        "# Memory Usage"
      ],
      "metadata": {
        "id": "H0Xr3BVx7X1L"
      }
    },
    {
      "cell_type": "code",
      "source": [
        "def get_memory(index):\n",
        "    # write index to file\n",
        "    faiss.write_index(index, './temp.index')\n",
        "    # get file size\n",
        "    file_size = os.path.getsize('./temp.index')\n",
        "    # delete saved index\n",
        "    os.remove('./temp.index')\n",
        "    return file_size"
      ],
      "metadata": {
        "id": "MTHoGOXwuoL5"
      },
      "execution_count": 6,
      "outputs": []
    },
    {
      "cell_type": "code",
      "source": [
        "index_sizes = dict()\n",
        "\n",
        "for index_name, index in indexes.items():\n",
        "    fill_index(index, n=1_000_000, dim=vector_dim)\n",
        "    index_sizes[index_name] = get_memory(index)"
      ],
      "metadata": {
        "id": "HiMasiGV-TfM"
      },
      "execution_count": 17,
      "outputs": []
    },
    {
      "cell_type": "code",
      "source": [
        "for n, s in index_sizes.items():\n",
        "    print(f\"Index: {n:10s} Memory: {s/2**20:.2f} Mb\")"
      ],
      "metadata": {
        "colab": {
          "base_uri": "https://localhost:8080/"
        },
        "id": "E-2vIozAFVXa",
        "outputId": "665c553e-dad0-463d-e821-84395bb982e8"
      },
      "execution_count": 25,
      "outputs": [
        {
          "output_type": "stream",
          "name": "stdout",
          "text": [
            "Index: flat       Memory: 244.14 Mb\n",
            "Index: ivf        Memory: 251.79 Mb\n",
            "Index: ivfpq      Memory: 22.97 Mb\n"
          ]
        }
      ]
    },
    {
      "cell_type": "code",
      "source": [],
      "metadata": {
        "id": "oPBEJde4HCLR"
      },
      "execution_count": null,
      "outputs": []
    }
  ]
}