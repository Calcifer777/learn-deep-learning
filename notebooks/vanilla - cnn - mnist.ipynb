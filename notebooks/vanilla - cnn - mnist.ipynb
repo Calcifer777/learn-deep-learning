{
 "cells": [
  {
   "cell_type": "code",
   "execution_count": 1,
   "id": "06a554b5-b485-48f9-91d7-b632d31e3039",
   "metadata": {},
   "outputs": [
    {
     "name": "stderr",
     "output_type": "stream",
     "text": [
      "2022-07-09 09:35:00.536931: W tensorflow/stream_executor/platform/default/dso_loader.cc:64] Could not load dynamic library 'libcudart.so.11.0'; dlerror: libcudart.so.11.0: cannot open shared object file: No such file or directory\n",
      "2022-07-09 09:35:00.536960: I tensorflow/stream_executor/cuda/cudart_stub.cc:29] Ignore above cudart dlerror if you do not have a GPU set up on your machine.\n",
      "/home/calcifer/virtualenvs/ai/lib/python3.8/site-packages/tqdm/auto.py:22: TqdmWarning: IProgress not found. Please update jupyter and ipywidgets. See https://ipywidgets.readthedocs.io/en/stable/user_install.html\n",
      "  from .autonotebook import tqdm as notebook_tqdm\n"
     ]
    }
   ],
   "source": [
    "import numpy as np\n",
    "import tensorflow_datasets as tfds\n",
    "from tensorflow.keras.layers import Dense, Conv2D, MaxPool2D, Dropout, Flatten\n",
    "from tensorflow.keras.models import Sequential\n",
    "from tensorflow.keras.optimizers import Adam\n",
    "from tensorflow.keras.initializers import he_normal, glorot_uniform\n",
    "from tensorflow.keras.utils import to_categorical\n",
    "from matplotlib import pyplot as plt\n",
    "%matplotlib inline"
   ]
  },
  {
   "cell_type": "code",
   "execution_count": 2,
   "id": "e1cd3ca9-9d9a-4c3c-bd8e-08be8fe5a0cc",
   "metadata": {},
   "outputs": [
    {
     "name": "stderr",
     "output_type": "stream",
     "text": [
      "2022-07-09 09:35:02.481098: W tensorflow/stream_executor/platform/default/dso_loader.cc:64] Could not load dynamic library 'libcuda.so.1'; dlerror: libcuda.so.1: cannot open shared object file: No such file or directory\n",
      "2022-07-09 09:35:02.481135: W tensorflow/stream_executor/cuda/cuda_driver.cc:269] failed call to cuInit: UNKNOWN ERROR (303)\n",
      "2022-07-09 09:35:02.481163: I tensorflow/stream_executor/cuda/cuda_diagnostics.cc:156] kernel driver does not appear to be running on this host (calcifer-Inspiron-7370): /proc/driver/nvidia/version does not exist\n",
      "2022-07-09 09:35:02.481571: I tensorflow/core/platform/cpu_feature_guard.cc:193] This TensorFlow binary is optimized with oneAPI Deep Neural Network Library (oneDNN) to use the following CPU instructions in performance-critical operations:  AVX2 FMA\n",
      "To enable them in other operations, rebuild TensorFlow with the appropriate compiler flags.\n"
     ]
    }
   ],
   "source": [
    "(ds_train, ds_test), info = tfds.load(\"mnist\", split=[\"train\", \"test\"], with_info=True)"
   ]
  },
  {
   "cell_type": "code",
   "execution_count": 3,
   "id": "2e776aab-0ec7-424f-b496-2f18b47e3dec",
   "metadata": {},
   "outputs": [
    {
     "data": {
      "text/plain": [
       "tfds.core.DatasetInfo(\n",
       "    name='mnist',\n",
       "    full_name='mnist/3.0.1',\n",
       "    description=\"\"\"\n",
       "    The MNIST database of handwritten digits.\n",
       "    \"\"\",\n",
       "    homepage='http://yann.lecun.com/exdb/mnist/',\n",
       "    data_path='/home/calcifer/tensorflow_datasets/mnist/3.0.1',\n",
       "    file_format=tfrecord,\n",
       "    download_size=11.06 MiB,\n",
       "    dataset_size=21.00 MiB,\n",
       "    features=FeaturesDict({\n",
       "        'image': Image(shape=(28, 28, 1), dtype=tf.uint8),\n",
       "        'label': ClassLabel(shape=(), dtype=tf.int64, num_classes=10),\n",
       "    }),\n",
       "    supervised_keys=('image', 'label'),\n",
       "    disable_shuffling=False,\n",
       "    splits={\n",
       "        'test': <SplitInfo num_examples=10000, num_shards=1>,\n",
       "        'train': <SplitInfo num_examples=60000, num_shards=1>,\n",
       "    },\n",
       "    citation=\"\"\"@article{lecun2010mnist,\n",
       "      title={MNIST handwritten digit database},\n",
       "      author={LeCun, Yann and Cortes, Corinna and Burges, CJ},\n",
       "      journal={ATT Labs [Online]. Available: http://yann.lecun.com/exdb/mnist},\n",
       "      volume={2},\n",
       "      year={2010}\n",
       "    }\"\"\",\n",
       ")"
      ]
     },
     "execution_count": 3,
     "metadata": {},
     "output_type": "execute_result"
    }
   ],
   "source": [
    "info"
   ]
  },
  {
   "cell_type": "code",
   "execution_count": 4,
   "id": "487e5f84-4d57-4cef-bd45-d14c064e4ffc",
   "metadata": {},
   "outputs": [],
   "source": [
    "# To numpy\n",
    "x_train = np.stack([record['image'] for record in ds_train.as_numpy_iterator()])\n",
    "y_train = np.stack([record['label'] for record in ds_train.as_numpy_iterator()])\n",
    "x_test = np.stack([record['image'] for record in ds_test.as_numpy_iterator()])\n",
    "y_test = np.stack([record['label'] for record in ds_test.as_numpy_iterator()])"
   ]
  },
  {
   "cell_type": "code",
   "execution_count": 5,
   "id": "a9833929-c86d-4492-9391-6c85ed1201e0",
   "metadata": {},
   "outputs": [
    {
     "name": "stdout",
     "output_type": "stream",
     "text": [
      "Shape X train: (60000, 28, 28, 1)\n",
      "Shape y train: (60000,)\n",
      "Shape X test: (10000, 28, 28, 1)\n",
      "Shape y test: (10000,)\n"
     ]
    }
   ],
   "source": [
    "print(\"Shape X train:\", x_train.shape)\n",
    "print(\"Shape y train:\", y_train.shape)\n",
    "print(\"Shape X test:\", x_test.shape)\n",
    "print(\"Shape y test:\", y_test.shape)"
   ]
  },
  {
   "cell_type": "code",
   "execution_count": 6,
   "id": "f487e21c-856e-481e-b8bf-694a9416770f",
   "metadata": {},
   "outputs": [],
   "source": [
    "# Standardization\n",
    "x_train_std = (x_train - 255) / 255\n",
    "x_test_std = (x_test - 255) / 255\n",
    "y_train_ohc = to_categorical(y_train)\n",
    "y_test_ohc = to_categorical(y_test)"
   ]
  },
  {
   "cell_type": "code",
   "execution_count": 7,
   "id": "7da842a0-4878-4f57-a1fd-8488672daa9c",
   "metadata": {},
   "outputs": [
    {
     "data": {
      "image/png": "[encoded data removed]",
      "text/plain": [
       "<Figure size 432x288 with 1 Axes>"
      ]
     },
     "metadata": {
      "needs_background": "light"
     },
     "output_type": "display_data"
    }
   ],
   "source": [
    "# Plot some samples\n",
    "idx = np.random.randint(60000)\n",
    "fig = plt.figure\n",
    "plt.imshow(x_train[idx].reshape(28, 28), cmap='gray')\n",
    "plt.show()"
   ]
  },
  {
   "cell_type": "code",
   "execution_count": 10,
   "id": "38f6e5c0-7996-4e58-b9d2-4f9ba0ac02a7",
   "metadata": {},
   "outputs": [],
   "source": [
    "model = Sequential()\n",
    "model.add(\n",
    "    Conv2D(\n",
    "        input_shape=(28, 28, 1),\n",
    "        filters=8,\n",
    "        kernel_size=(4, 4),\n",
    "        strides=(2, 2),\n",
    "        padding=\"same\",\n",
    "        kernel_initializer=\"he_normal\",\n",
    "        bias_initializer='zeros',\n",
    "        activation=\"relu\",\n",
    "    )\n",
    ")\n",
    "model.add(\n",
    "    Conv2D(\n",
    "        input_shape=(28, 28, 1),\n",
    "        filters=4,\n",
    "        kernel_size=(3, 3),\n",
    "        strides=(1, 1),\n",
    "        padding=\"same\",\n",
    "        kernel_initializer=\"he_normal\",\n",
    "        bias_initializer='zeros',\n",
    "        activation=\"relu\",\n",
    "    )\n",
    ")\n",
    "model.add(Flatten())\n",
    "model.add(\n",
    "    Dense(\n",
    "        units=10,\n",
    "        kernel_initializer=\"glorot_uniform\",\n",
    "        bias_initializer='zeros',\n",
    "        activation=\"softmax\",\n",
    "    )\n",
    ")"
   ]
  },
  {
   "cell_type": "code",
   "execution_count": 96,
   "id": "8fb263c9-bbc3-4b3b-b098-4b006cfe83d9",
   "metadata": {},
   "outputs": [
    {
     "name": "stdout",
     "output_type": "stream",
     "text": [
      "Model: \"sequential_4\"\n",
      "_________________________________________________________________\n",
      " Layer (type)                Output Shape              Param #   \n",
      "=================================================================\n",
      " conv2d_3 (Conv2D)           (None, 14, 14, 8)         136       \n",
      "                                                                 \n",
      " conv2d_4 (Conv2D)           (None, 14, 14, 4)         292       \n",
      "                                                                 \n",
      " flatten_1 (Flatten)         (None, 784)               0         \n",
      "                                                                 \n",
      " dense_1 (Dense)             (None, 10)                7850      \n",
      "                                                                 \n",
      "=================================================================\n",
      "Total params: 8,278\n",
      "Trainable params: 8,278\n",
      "Non-trainable params: 0\n",
      "_________________________________________________________________\n"
     ]
    }
   ],
   "source": [
    "model.compile(\n",
    "    optimizer='adam',\n",
    "    loss=\"categorical_crossentropy\",\n",
    "    metrics=[\"accuracy\"],\n",
    ")\n",
    "model.summary()"
   ]
  },
  {
   "cell_type": "code",
   "execution_count": 105,
   "id": "2cb5a919-a75c-41a9-b70b-0d6ef24f6665",
   "metadata": {},
   "outputs": [],
   "source": [
    "batch_size = 256\n",
    "epochs = 10"
   ]
  },
  {
   "cell_type": "code",
   "execution_count": 202,
   "id": "30497ad3-44d4-42d1-88a8-8cc98ecd45f4",
   "metadata": {},
   "outputs": [
    {
     "name": "stdout",
     "output_type": "stream",
     "text": [
      "Epoch 1/10\n",
      "235/235 [==============================] - 3s 12ms/step - loss: 8.8979e-04 - accuracy: 0.9998 - val_loss: 0.3956 - val_accuracy: 0.9681\n",
      "Epoch 2/10\n",
      "235/235 [==============================] - 3s 12ms/step - loss: 8.7813e-04 - accuracy: 0.9998 - val_loss: 0.3957 - val_accuracy: 0.9678\n",
      "Epoch 3/10\n",
      "235/235 [==============================] - 3s 12ms/step - loss: 8.7868e-04 - accuracy: 0.9998 - val_loss: 0.3964 - val_accuracy: 0.9673\n",
      "Epoch 4/10\n",
      "235/235 [==============================] - 3s 12ms/step - loss: 8.8192e-04 - accuracy: 0.9998 - val_loss: 0.3970 - val_accuracy: 0.9683\n",
      "Epoch 5/10\n",
      "235/235 [==============================] - 3s 12ms/step - loss: 8.5955e-04 - accuracy: 0.9998 - val_loss: 0.3991 - val_accuracy: 0.9680\n",
      "Epoch 6/10\n",
      "235/235 [==============================] - 3s 12ms/step - loss: 8.9193e-04 - accuracy: 0.9998 - val_loss: 0.4009 - val_accuracy: 0.9677\n",
      "Epoch 7/10\n",
      "235/235 [==============================] - 3s 12ms/step - loss: 8.6018e-04 - accuracy: 0.9998 - val_loss: 0.4003 - val_accuracy: 0.9679\n",
      "Epoch 8/10\n",
      "235/235 [==============================] - 3s 14ms/step - loss: 8.5877e-04 - accuracy: 0.9998 - val_loss: 0.4010 - val_accuracy: 0.9681\n",
      "Epoch 9/10\n",
      "235/235 [==============================] - 3s 15ms/step - loss: 8.4865e-04 - accuracy: 0.9998 - val_loss: 0.4015 - val_accuracy: 0.9679\n",
      "Epoch 10/10\n",
      "235/235 [==============================] - 3s 14ms/step - loss: 8.7305e-04 - accuracy: 0.9998 - val_loss: 0.4062 - val_accuracy: 0.9677\n"
     ]
    },
    {
     "data": {
      "text/plain": [
       "<keras.callbacks.History at 0x7f47780a2e20>"
      ]
     },
     "execution_count": 202,
     "metadata": {},
     "output_type": "execute_result"
    }
   ],
   "source": [
    "model.fit(\n",
    "    x=x_train_std,\n",
    "    y=y_train_ohc,\n",
    "    batch_size=batch_size,\n",
    "    epochs=epochs,\n",
    "    verbose=1,\n",
    "    validation_data=(x_test_std, y_test_ohc),\n",
    "    shuffle=True,\n",
    "    workers=8,\n",
    "    use_multiprocessing=True,\n",
    ")"
   ]
  },
  {
   "cell_type": "code",
   "execution_count": 207,
   "id": "40bb773f-2c57-4fed-b9a2-8afd9e50944f",
   "metadata": {},
   "outputs": [
    {
     "name": "stdout",
     "output_type": "stream",
     "text": [
      "Validation accuracy: 96.77%\n"
     ]
    },
    {
     "data": {
      "image/png": "[encoded data removed]",
      "text/plain": [
       "<Figure size 432x288 with 1 Axes>"
      ]
     },
     "metadata": {
      "needs_background": "light"
     },
     "output_type": "display_data"
    }
   ],
   "source": [
    "acc = model.history.history['accuracy']\n",
    "acc_val =  model.history.history['val_accuracy']\n",
    "plt.plot(acc)\n",
    "plt.plot(acc_val)\n",
    "plt.title('Model Accuracy')\n",
    "plt.ylabel('Accuracy')\n",
    "plt.xlabel('Epoch')\n",
    "plt.legend([\"Train\", \"Test\"])\n",
    "plt.ylim((0.0,1.1))\n",
    "print(\"Validation accuracy: {:.2%}\".format(acc_val[-1]))"
   ]
  },
  {
   "cell_type": "code",
   "execution_count": 325,
   "id": "fea0ddb5-834b-4c36-92ba-724678f12c9e",
   "metadata": {},
   "outputs": [
    {
     "data": {
      "image/png": "[encoded data removed]",
      "text/plain": [
       "<Figure size 432x288 with 1 Axes>"
      ]
     },
     "metadata": {
      "needs_background": "light"
     },
     "output_type": "display_data"
    },
    {
     "name": "stdout",
     "output_type": "stream",
     "text": [
      "Predicted:  1\n",
      "Actual:  1\n"
     ]
    }
   ],
   "source": [
    "idx = np.random.randint(10000)\n",
    "fig = plt.figure\n",
    "plt.imshow(x_test[idx].reshape(28, 28), cmap='gray')\n",
    "plt.show()\n",
    "print(\"Predicted: \", np.argmax(model.predict(x_test_std[idx:idx+1])[0]))\n",
    "print(\"Actual: \", y_test[idx])"
   ]
  }
 ],
 "metadata": {
  "kernelspec": {
   "display_name": "ai",
   "language": "python",
   "name": "ai"
  },
  "language_info": {
   "codemirror_mode": {
    "name": "ipython",
    "version": 3
   },
   "file_extension": ".py",
   "mimetype": "text/x-python",
   "name": "python",
   "nbconvert_exporter": "python",
   "pygments_lexer": "ipython3",
   "version": "3.8.10"
  }
 },
 "nbformat": 4,
 "nbformat_minor": 5
}
