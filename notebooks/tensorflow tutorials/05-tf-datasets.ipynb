{
 "cells": [
  {
   "cell_type": "code",
   "execution_count": 1,
   "id": "a73fb4fc",
   "metadata": {},
   "outputs": [
    {
     "name": "stderr",
     "output_type": "stream",
     "text": [
      "2022-06-03 11:09:57.050390: W tensorflow/stream_executor/platform/default/dso_loader.cc:64] Could not load dynamic library 'libcudart.so.11.0'; dlerror: libcudart.so.11.0: cannot open shared object file: No such file or directory\n",
      "2022-06-03 11:09:57.050421: I tensorflow/stream_executor/cuda/cudart_stub.cc:29] Ignore above cudart dlerror if you do not have a GPU set up on your machine.\n"
     ]
    }
   ],
   "source": [
    "import tensorflow as tf\n",
    "import tensorflow_datasets as tfds"
   ]
  },
  {
   "cell_type": "code",
   "execution_count": 2,
   "id": "81bffaa5",
   "metadata": {},
   "outputs": [
    {
     "name": "stderr",
     "output_type": "stream",
     "text": [
      "2022-06-03 09:48:59.964520: W tensorflow/stream_executor/platform/default/dso_loader.cc:64] Could not load dynamic library 'libcuda.so.1'; dlerror: libcuda.so.1: cannot open shared object file: No such file or directory\n",
      "2022-06-03 09:48:59.964549: W tensorflow/stream_executor/cuda/cuda_driver.cc:269] failed call to cuInit: UNKNOWN ERROR (303)\n",
      "2022-06-03 09:48:59.964572: I tensorflow/stream_executor/cuda/cuda_diagnostics.cc:156] kernel driver does not appear to be running on this host (calcifer-Inspiron-7370): /proc/driver/nvidia/version does not exist\n",
      "2022-06-03 09:48:59.965668: I tensorflow/core/platform/cpu_feature_guard.cc:193] This TensorFlow binary is optimized with oneAPI Deep Neural Network Library (oneDNN) to use the following CPU instructions in performance-critical operations:  AVX2 FMA\n",
      "To enable them in other operations, rebuild TensorFlow with the appropriate compiler flags.\n"
     ]
    }
   ],
   "source": [
    "(mnist_ds_train, mnist_ds_test) , mnist_info = tfds.load(\"mnist\", split=[\"train\", \"test\"], with_info=True)"
   ]
  },
  {
   "cell_type": "markdown",
   "id": "eae2fd69",
   "metadata": {},
   "source": [
    "# Explore a TF Dataset"
   ]
  },
  {
   "cell_type": "code",
   "execution_count": 8,
   "id": "1d253204",
   "metadata": {
    "collapsed": true,
    "jupyter": {
     "outputs_hidden": true
    },
    "tags": []
   },
   "outputs": [
    {
     "data": {
      "text/plain": [
       "tfds.core.DatasetInfo(\n",
       "    name='mnist',\n",
       "    full_name='mnist/3.0.1',\n",
       "    description=\"\"\"\n",
       "    The MNIST database of handwritten digits.\n",
       "    \"\"\",\n",
       "    homepage='http://yann.lecun.com/exdb/mnist/',\n",
       "    data_path='/home/calcifer/tensorflow_datasets/mnist/3.0.1',\n",
       "    download_size=11.06 MiB,\n",
       "    dataset_size=21.00 MiB,\n",
       "    features=FeaturesDict({\n",
       "        'image': Image(shape=(28, 28, 1), dtype=tf.uint8),\n",
       "        'label': ClassLabel(shape=(), dtype=tf.int64, num_classes=10),\n",
       "    }),\n",
       "    supervised_keys=('image', 'label'),\n",
       "    disable_shuffling=False,\n",
       "    splits={\n",
       "        'test': <SplitInfo num_examples=10000, num_shards=1>,\n",
       "        'train': <SplitInfo num_examples=60000, num_shards=1>,\n",
       "    },\n",
       "    citation=\"\"\"@article{lecun2010mnist,\n",
       "      title={MNIST handwritten digit database},\n",
       "      author={LeCun, Yann and Cortes, Corinna and Burges, CJ},\n",
       "      journal={ATT Labs [Online]. Available: http://yann.lecun.com/exdb/mnist},\n",
       "      volume={2},\n",
       "      year={2010}\n",
       "    }\"\"\",\n",
       ")"
      ]
     },
     "execution_count": 8,
     "metadata": {},
     "output_type": "execute_result"
    }
   ],
   "source": [
    "mnist_info"
   ]
  },
  {
   "cell_type": "code",
   "execution_count": 28,
   "id": "2ee9e96f",
   "metadata": {},
   "outputs": [
    {
     "name": "stdout",
     "output_type": "stream",
     "text": [
      "dict_keys(['image', 'label'])\n"
     ]
    },
    {
     "name": "stderr",
     "output_type": "stream",
     "text": [
      "2022-06-03 10:52:45.827247: W tensorflow/core/kernels/data/cache_dataset_ops.cc:856] The calling iterator did not fully read the dataset being cached. In order to avoid unexpected truncation of the dataset, the partially cached contents of the dataset  will be discarded. This can happen if you have an input pipeline similar to `dataset.cache().take(k).repeat()`. You should use `dataset.take(k).cache().repeat()` instead.\n"
     ]
    }
   ],
   "source": [
    "for example in mnist_ds_train.take(1):\n",
    "  print(example.keys())"
   ]
  },
  {
   "cell_type": "code",
   "execution_count": 13,
   "id": "90c3e989",
   "metadata": {},
   "outputs": [],
   "source": [
    "from matplotlib import pyplot as plt\n",
    "\n",
    "%matplotlib inline"
   ]
  },
  {
   "cell_type": "code",
   "execution_count": 24,
   "id": "8b503e84",
   "metadata": {},
   "outputs": [
    {
     "name": "stdout",
     "output_type": "stream",
     "text": [
      "Label: 4\n",
      "image shape: (28, 28, 1)\n"
     ]
    },
    {
     "name": "stderr",
     "output_type": "stream",
     "text": [
      "2022-06-03 10:51:42.448653: W tensorflow/core/kernels/data/cache_dataset_ops.cc:856] The calling iterator did not fully read the dataset being cached. In order to avoid unexpected truncation of the dataset, the partially cached contents of the dataset  will be discarded. This can happen if you have an input pipeline similar to `dataset.cache().take(k).repeat()`. You should use `dataset.take(k).cache().repeat()` instead.\n"
     ]
    },
    {
     "data": {
      "image/png": "[encoded data removed]",
      "text/plain": [
       "<Figure size 432x288 with 1 Axes>"
      ]
     },
     "metadata": {
      "needs_background": "light"
     },
     "output_type": "display_data"
    }
   ],
   "source": [
    "for r in tfds.as_numpy(mnist_ds_train.take(1)):\n",
    "  print(\"Label:\", r['label'])\n",
    "  print(\"image shape:\", r[\"image\"].shape)\n",
    "  plt.imshow(r['image'])\n",
    "  plt.axis(\"off\")"
   ]
  },
  {
   "cell_type": "code",
   "execution_count": 27,
   "id": "dad79b74",
   "metadata": {},
   "outputs": [
    {
     "name": "stderr",
     "output_type": "stream",
     "text": [
      "2022-06-03 10:52:20.210862: W tensorflow/core/kernels/data/cache_dataset_ops.cc:856] The calling iterator did not fully read the dataset being cached. In order to avoid unexpected truncation of the dataset, the partially cached contents of the dataset  will be discarded. This can happen if you have an input pipeline similar to `dataset.cache().take(k).repeat()`. You should use `dataset.take(k).cache().repeat()` instead.\n"
     ]
    },
    {
     "data": {
      "image/png": "[encoded data removed]",
      "text/plain": [
       "<Figure size 648x648 with 9 Axes>"
      ]
     },
     "metadata": {},
     "output_type": "display_data"
    }
   ],
   "source": [
    "fig = tfds.show_examples(mnist_ds_train, mnist_info)"
   ]
  },
  {
   "cell_type": "markdown",
   "id": "da3c8c22-f95b-4f99-b553-a3ee58ddb02b",
   "metadata": {},
   "source": [
    "# Exaple: Fashion MNIST"
   ]
  },
  {
   "cell_type": "code",
   "execution_count": 110,
   "id": "ef1b4a74",
   "metadata": {},
   "outputs": [],
   "source": [
    "(fmnist_train, fmnist_test), fminst_info = tfds.load(\n",
    "  name=\"fashion_mnist\",\n",
    "  as_supervised=True,\n",
    "  with_info=True,\n",
    "  split=[\"train\", \"test\"]\n",
    ")"
   ]
  },
  {
   "cell_type": "code",
   "execution_count": 111,
   "id": "41b0e433-cf3c-4222-95ad-93b0829b3e86",
   "metadata": {},
   "outputs": [
    {
     "name": "stdout",
     "output_type": "stream",
     "text": [
      "FeaturesDict({\n",
      "    'image': Image(shape=(28, 28, 1), dtype=tf.uint8),\n",
      "    'label': ClassLabel(shape=(), dtype=tf.int64, num_classes=10),\n",
      "})\n",
      "Class names: ['T-shirt/top', 'Trouser', 'Pullover', 'Dress', 'Coat', 'Sandal', 'Shirt', 'Sneaker', 'Bag', 'Ankle boot']\n"
     ]
    }
   ],
   "source": [
    "print(fminst_info.features)\n",
    "\n",
    "print(\"Class names:\", fashion_info.features[\"label\"].names)"
   ]
  },
  {
   "cell_type": "code",
   "execution_count": 112,
   "id": "e16522bc-289f-468a-83b9-66d124bcb549",
   "metadata": {},
   "outputs": [],
   "source": [
    "from tensorflow.keras.models import Sequential\n",
    "from tensorflow.keras.layers import Dense, Dropout, Flatten, Rescaling, Input, Reshape, Resizing\n",
    "from tensorflow.keras.losses import SparseCategoricalCrossentropy"
   ]
  },
  {
   "cell_type": "code",
   "execution_count": 113,
   "id": "0d801314-521a-421a-98af-17b066a2d48a",
   "metadata": {
    "collapsed": true,
    "jupyter": {
     "outputs_hidden": true
    },
    "tags": []
   },
   "outputs": [
    {
     "data": {
      "text/plain": [
       "\u001b[0;31mSignature:\u001b[0m\n",
       "\u001b[0mInput\u001b[0m\u001b[0;34m(\u001b[0m\u001b[0;34m\u001b[0m\n",
       "\u001b[0;34m\u001b[0m    \u001b[0mshape\u001b[0m\u001b[0;34m=\u001b[0m\u001b[0;32mNone\u001b[0m\u001b[0;34m,\u001b[0m\u001b[0;34m\u001b[0m\n",
       "\u001b[0;34m\u001b[0m    \u001b[0mbatch_size\u001b[0m\u001b[0;34m=\u001b[0m\u001b[0;32mNone\u001b[0m\u001b[0;34m,\u001b[0m\u001b[0;34m\u001b[0m\n",
       "\u001b[0;34m\u001b[0m    \u001b[0mname\u001b[0m\u001b[0;34m=\u001b[0m\u001b[0;32mNone\u001b[0m\u001b[0;34m,\u001b[0m\u001b[0;34m\u001b[0m\n",
       "\u001b[0;34m\u001b[0m    \u001b[0mdtype\u001b[0m\u001b[0;34m=\u001b[0m\u001b[0;32mNone\u001b[0m\u001b[0;34m,\u001b[0m\u001b[0;34m\u001b[0m\n",
       "\u001b[0;34m\u001b[0m    \u001b[0msparse\u001b[0m\u001b[0;34m=\u001b[0m\u001b[0;32mNone\u001b[0m\u001b[0;34m,\u001b[0m\u001b[0;34m\u001b[0m\n",
       "\u001b[0;34m\u001b[0m    \u001b[0mtensor\u001b[0m\u001b[0;34m=\u001b[0m\u001b[0;32mNone\u001b[0m\u001b[0;34m,\u001b[0m\u001b[0;34m\u001b[0m\n",
       "\u001b[0;34m\u001b[0m    \u001b[0mragged\u001b[0m\u001b[0;34m=\u001b[0m\u001b[0;32mNone\u001b[0m\u001b[0;34m,\u001b[0m\u001b[0;34m\u001b[0m\n",
       "\u001b[0;34m\u001b[0m    \u001b[0mtype_spec\u001b[0m\u001b[0;34m=\u001b[0m\u001b[0;32mNone\u001b[0m\u001b[0;34m,\u001b[0m\u001b[0;34m\u001b[0m\n",
       "\u001b[0;34m\u001b[0m    \u001b[0;34m**\u001b[0m\u001b[0mkwargs\u001b[0m\u001b[0;34m,\u001b[0m\u001b[0;34m\u001b[0m\n",
       "\u001b[0;34m\u001b[0m\u001b[0;34m)\u001b[0m\u001b[0;34m\u001b[0m\u001b[0;34m\u001b[0m\u001b[0m\n",
       "\u001b[0;31mDocstring:\u001b[0m\n",
       "`Input()` is used to instantiate a Keras tensor.\n",
       "\n",
       "A Keras tensor is a symbolic tensor-like object,\n",
       "which we augment with certain attributes that allow us to build a Keras model\n",
       "just by knowing the inputs and outputs of the model.\n",
       "\n",
       "For instance, if `a`, `b` and `c` are Keras tensors,\n",
       "it becomes possible to do:\n",
       "`model = Model(input=[a, b], output=c)`\n",
       "\n",
       "Args:\n",
       "    shape: A shape tuple (integers), not including the batch size.\n",
       "        For instance, `shape=(32,)` indicates that the expected input\n",
       "        will be batches of 32-dimensional vectors. Elements of this tuple\n",
       "        can be None; 'None' elements represent dimensions where the shape is\n",
       "        not known.\n",
       "    batch_size: optional static batch size (integer).\n",
       "    name: An optional name string for the layer.\n",
       "        Should be unique in a model (do not reuse the same name twice).\n",
       "        It will be autogenerated if it isn't provided.\n",
       "    dtype: The data type expected by the input, as a string\n",
       "        (`float32`, `float64`, `int32`...)\n",
       "    sparse: A boolean specifying whether the placeholder to be created is\n",
       "        sparse. Only one of 'ragged' and 'sparse' can be True. Note that,\n",
       "        if `sparse` is False, sparse tensors can still be passed into the\n",
       "        input - they will be densified with a default value of 0.\n",
       "    tensor: Optional existing tensor to wrap into the `Input` layer.\n",
       "        If set, the layer will use the `tf.TypeSpec` of this tensor rather\n",
       "        than creating a new placeholder tensor.\n",
       "    ragged: A boolean specifying whether the placeholder to be created is\n",
       "        ragged. Only one of 'ragged' and 'sparse' can be True. In this case,\n",
       "        values of 'None' in the 'shape' argument represent ragged dimensions.\n",
       "        For more information about RaggedTensors, see\n",
       "        [this guide](https://www.tensorflow.org/guide/ragged_tensors).\n",
       "    type_spec: A `tf.TypeSpec` object to create the input placeholder from.\n",
       "        When provided, all other args except name must be None.\n",
       "    **kwargs: deprecated arguments support. Supports `batch_shape` and\n",
       "        `batch_input_shape`.\n",
       "\n",
       "Returns:\n",
       "  A `tensor`.\n",
       "\n",
       "Example:\n",
       "\n",
       "```python\n",
       "# this is a logistic regression in Keras\n",
       "x = Input(shape=(32,))\n",
       "y = Dense(16, activation='softmax')(x)\n",
       "model = Model(x, y)\n",
       "```\n",
       "\n",
       "Note that even if eager execution is enabled,\n",
       "`Input` produces a symbolic tensor-like object (i.e. a placeholder).\n",
       "This symbolic tensor-like object can be used with lower-level\n",
       "TensorFlow ops that take tensors as inputs, as such:\n",
       "\n",
       "```python\n",
       "x = Input(shape=(32,))\n",
       "y = tf.square(x)  # This op will be treated like a layer\n",
       "model = Model(x, y)\n",
       "```\n",
       "\n",
       "(This behavior does not work for higher-order TensorFlow APIs such as\n",
       "control flow and being directly watched by a `tf.GradientTape`).\n",
       "\n",
       "However, the resulting model will not track any variables that were\n",
       "used as inputs to TensorFlow ops. All variable usages must happen within\n",
       "Keras layers to make sure they will be tracked by the model's weights.\n",
       "\n",
       "The Keras Input can also create a placeholder from an arbitrary `tf.TypeSpec`,\n",
       "e.g:\n",
       "\n",
       "```python\n",
       "x = Input(type_spec=tf.RaggedTensorSpec(shape=[None, None],\n",
       "                                        dtype=tf.float32, ragged_rank=1))\n",
       "y = x.values\n",
       "model = Model(x, y)\n",
       "```\n",
       "When passing an arbitrary `tf.TypeSpec`, it must represent the signature of an\n",
       "entire batch instead of just one example.\n",
       "\n",
       "Raises:\n",
       "  ValueError: If both `sparse` and `ragged` are provided.\n",
       "  ValueError: If both `shape` and (`batch_input_shape` or `batch_shape`) are\n",
       "    provided.\n",
       "  ValueError: If `shape`, `tensor` and `type_spec` are None.\n",
       "  ValueError: If arguments besides `type_spec` are non-None while `type_spec`\n",
       "              is passed.\n",
       "  ValueError: if any unrecognized parameters are provided.\n",
       "\u001b[0;31mFile:\u001b[0m      ~/git/marco/learn-deep-learning/.env/lib/python3.8/site-packages/keras/engine/input_layer.py\n",
       "\u001b[0;31mType:\u001b[0m      function\n"
      ]
     },
     "metadata": {},
     "output_type": "display_data"
    }
   ],
   "source": [
    "Input?"
   ]
  },
  {
   "cell_type": "code",
   "execution_count": 114,
   "id": "fbf4df0c-9991-4326-8f5e-5b6fb38f82cb",
   "metadata": {},
   "outputs": [],
   "source": [
    "BATCH_SIZE = 64\n",
    "EPOCHS = 10"
   ]
  },
  {
   "cell_type": "code",
   "execution_count": 121,
   "id": "346a225a-7517-4795-933d-a7641cd282d8",
   "metadata": {},
   "outputs": [
    {
     "name": "stdout",
     "output_type": "stream",
     "text": [
      "Model: \"sequential\"\n",
      "_________________________________________________________________\n",
      " Layer (type)                Output Shape              Param #   \n",
      "=================================================================\n",
      " rescaling (Rescaling)       (None, 28, 28, 1)         0         \n",
      "                                                                 \n",
      " flatten (Flatten)           (None, 784)               0         \n",
      "                                                                 \n",
      " dense (Dense)               (None, 64)                50240     \n",
      "                                                                 \n",
      " dense_1 (Dense)             (None, 32)                2080      \n",
      "                                                                 \n",
      " dense_2 (Dense)             (None, 16)                528       \n",
      "                                                                 \n",
      " dense_3 (Dense)             (None, 10)                170       \n",
      "                                                                 \n",
      "=================================================================\n",
      "Total params: 53,018\n",
      "Trainable params: 53,018\n",
      "Non-trainable params: 0\n",
      "_________________________________________________________________\n"
     ]
    }
   ],
   "source": [
    "tf.keras.backend.clear_session()\n",
    "\n",
    "model = Sequential([\n",
    "    Input(shape=fashion_info.features[\"image\"].shape),\n",
    "    Rescaling(scale=1./127.5, offset=-1),\n",
    "    Flatten(),\n",
    "    Dense(units=64, activation=\"relu\", kernel_regularizer=\"l2\"),\n",
    "    # Dropout(0.2),\n",
    "    Dense(units=32, activation=\"relu\", kernel_regularizer=\"l2\"),\n",
    "    # Dropout(0.2),\n",
    "    Dense(units=16, activation=\"relu\", kernel_regularizer=\"l2\"),\n",
    "    # Dropout(0.2),\n",
    "    Dense(units=10, activation=\"softmax\"),\n",
    "])\n",
    "model.summary()"
   ]
  },
  {
   "cell_type": "code",
   "execution_count": 122,
   "id": "556c25ef-07e9-4908-98f5-2b946980d339",
   "metadata": {},
   "outputs": [],
   "source": [
    "fmnist_train_batched = fmnist_train.batch(BATCH_SIZE).cache().prefetch(1)\n",
    "fmnist_test_batched = fmnist_test.batch(BATCH_SIZE).cache().prefetch(1)"
   ]
  },
  {
   "cell_type": "code",
   "execution_count": 123,
   "id": "9d783551-db2b-42ea-9bf4-31ef22ffc122",
   "metadata": {},
   "outputs": [
    {
     "name": "stdout",
     "output_type": "stream",
     "text": [
      "Epoch 1/10\n",
      "938/938 [==============================] - 2s 2ms/step - loss: 1.1545 - accuracy: 0.7859 - val_loss: 0.8437 - val_accuracy: 0.7956\n",
      "Epoch 2/10\n",
      "938/938 [==============================] - 2s 2ms/step - loss: 0.7639 - accuracy: 0.8206 - val_loss: 0.7718 - val_accuracy: 0.8025\n",
      "Epoch 3/10\n",
      "938/938 [==============================] - 2s 2ms/step - loss: 0.7174 - accuracy: 0.8249 - val_loss: 0.7344 - val_accuracy: 0.8084\n",
      "Epoch 4/10\n",
      "938/938 [==============================] - 2s 2ms/step - loss: 0.6897 - accuracy: 0.8282 - val_loss: 0.7153 - val_accuracy: 0.8119\n",
      "Epoch 5/10\n",
      "938/938 [==============================] - 2s 2ms/step - loss: 0.6685 - accuracy: 0.8310 - val_loss: 0.6990 - val_accuracy: 0.8143\n",
      "Epoch 6/10\n",
      "938/938 [==============================] - 2s 2ms/step - loss: 0.6515 - accuracy: 0.8346 - val_loss: 0.6882 - val_accuracy: 0.8167\n",
      "Epoch 7/10\n",
      "938/938 [==============================] - 2s 2ms/step - loss: 0.6379 - accuracy: 0.8364 - val_loss: 0.6748 - val_accuracy: 0.8189\n",
      "Epoch 8/10\n",
      "938/938 [==============================] - 2s 2ms/step - loss: 0.6269 - accuracy: 0.8381 - val_loss: 0.6647 - val_accuracy: 0.8197\n",
      "Epoch 9/10\n",
      "938/938 [==============================] - 2s 2ms/step - loss: 0.6179 - accuracy: 0.8390 - val_loss: 0.6560 - val_accuracy: 0.8212\n",
      "Epoch 10/10\n",
      "938/938 [==============================] - 2s 2ms/step - loss: 0.6102 - accuracy: 0.8401 - val_loss: 0.6492 - val_accuracy: 0.8205\n"
     ]
    },
    {
     "data": {
      "text/plain": [
       "<keras.callbacks.History at 0x7fb979d63100>"
      ]
     },
     "execution_count": 123,
     "metadata": {},
     "output_type": "execute_result"
    }
   ],
   "source": [
    "model.compile(\n",
    "    optimizer='adam',\n",
    "    loss=SparseCategoricalCrossentropy(from_logits=False),\n",
    "    metrics=[\"accuracy\"],\n",
    ")\n",
    "model.fit(\n",
    "    fmnist_train_batched,\n",
    "    batch_size=BATCH_SIZE,\n",
    "    epochs=EPOCHS,\n",
    "    validation_data=fmnist_test_batched,\n",
    ")"
   ]
  },
  {
   "cell_type": "code",
   "execution_count": null,
   "id": "481f7525-0e01-4920-94a5-33c136cd1fe6",
   "metadata": {},
   "outputs": [],
   "source": []
  }
 ],
 "metadata": {
  "kernelspec": {
   "display_name": "learn-deep-learning",
   "language": "python",
   "name": "learn-deep-learning"
  },
  "language_info": {
   "codemirror_mode": {
    "name": "ipython",
    "version": 3
   },
   "file_extension": ".py",
   "mimetype": "text/x-python",
   "name": "python",
   "nbconvert_exporter": "python",
   "pygments_lexer": "ipython3",
   "version": "3.8.10"
  }
 },
 "nbformat": 4,
 "nbformat_minor": 5
}
