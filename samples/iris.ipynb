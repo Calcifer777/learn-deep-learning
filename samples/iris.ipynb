{
 "cells": [
  {
   "cell_type": "code",
   "execution_count": 1,
   "id": "ddbe95f1-8a05-45e0-936d-f7a4444ca1f4",
   "metadata": {},
   "outputs": [
    {
     "name": "stderr",
     "output_type": "stream",
     "text": [
      "2021-11-17 21:19:25.859040: W tensorflow/stream_executor/platform/default/dso_loader.cc:64] Could not load dynamic library 'libcudart.so.11.0'; dlerror: libcudart.so.11.0: cannot open shared object file: No such file or directory\n",
      "2021-11-17 21:19:25.859063: I tensorflow/stream_executor/cuda/cudart_stub.cc:29] Ignore above cudart dlerror if you do not have a GPU set up on your machine.\n"
     ]
    }
   ],
   "source": [
    "import tensorflow_datasets as tfds\n",
    "import tensorflow as tf\n",
    "from tensorflow.keras import Sequential\n",
    "from tensorflow.keras.layers import Dense\n",
    "from tensorflow.keras.utils import to_categorical\n",
    "import numpy as np\n",
    "import matplotlib.pyplot as plt"
   ]
  },
  {
   "cell_type": "code",
   "execution_count": 2,
   "id": "e1cd3ca9-9d9a-4c3c-bd8e-08be8fe5a0cc",
   "metadata": {},
   "outputs": [
    {
     "name": "stderr",
     "output_type": "stream",
     "text": [
      "2021-11-17 21:19:28.074738: W tensorflow/stream_executor/platform/default/dso_loader.cc:64] Could not load dynamic library 'libcuda.so.1'; dlerror: libcuda.so.1: cannot open shared object file: No such file or directory\n",
      "2021-11-17 21:19:28.074761: W tensorflow/stream_executor/cuda/cuda_driver.cc:269] failed call to cuInit: UNKNOWN ERROR (303)\n",
      "2021-11-17 21:19:28.074779: I tensorflow/stream_executor/cuda/cuda_diagnostics.cc:156] kernel driver does not appear to be running on this host (calcifer-Inspiron-7370): /proc/driver/nvidia/version does not exist\n",
      "2021-11-17 21:19:28.075034: I tensorflow/core/platform/cpu_feature_guard.cc:151] This TensorFlow binary is optimized with oneAPI Deep Neural Network Library (oneDNN) to use the following CPU instructions in performance-critical operations:  AVX2 FMA\n",
      "To enable them in other operations, rebuild TensorFlow with the appropriate compiler flags.\n"
     ]
    }
   ],
   "source": [
    "ds, info = tfds.load(\n",
    "    \"iris\", \n",
    "    split=\"train\", \n",
    "    with_info=True,\n",
    ")"
   ]
  },
  {
   "cell_type": "code",
   "execution_count": 3,
   "id": "0402f4f2-67e2-4a61-bc75-d56f5b567bb3",
   "metadata": {
    "tags": []
   },
   "outputs": [
    {
     "data": {
      "text/plain": [
       "tfds.core.DatasetInfo(\n",
       "    name='iris',\n",
       "    full_name='iris/2.0.0',\n",
       "    description=\"\"\"\n",
       "    This is perhaps the best known database to be found in the pattern recognition\n",
       "    literature. Fisher's paper is a classic in the field and is referenced\n",
       "    frequently to this day. (See Duda & Hart, for example.) The data set contains\n",
       "    3 classes of 50 instances each, where each class refers to a type of iris\n",
       "    plant. One class is linearly separable from the other 2; the latter are NOT\n",
       "    linearly separable from each other.\n",
       "    \"\"\",\n",
       "    homepage='https://archive.ics.uci.edu/ml/datasets/iris',\n",
       "    data_path='/home/calcifer/tensorflow_datasets/iris/2.0.0',\n",
       "    download_size=4.44 KiB,\n",
       "    dataset_size=7.62 KiB,\n",
       "    features=FeaturesDict({\n",
       "        'features': Tensor(shape=(4,), dtype=tf.float32),\n",
       "        'label': ClassLabel(shape=(), dtype=tf.int64, num_classes=3),\n",
       "    }),\n",
       "    supervised_keys=('features', 'label'),\n",
       "    disable_shuffling=False,\n",
       "    splits={\n",
       "        'train': <SplitInfo num_examples=150, num_shards=1>,\n",
       "    },\n",
       "    citation=\"\"\"@misc{Dua:2019 ,\n",
       "    author = \"Dua, Dheeru and Graff, Casey\",\n",
       "    year = \"2017\",\n",
       "    title = \"{UCI} Machine Learning Repository\",\n",
       "    url = \"http://archive.ics.uci.edu/ml\",\n",
       "    institution = \"University of California, Irvine, School of Information and Computer Sciences\"\n",
       "    }\"\"\",\n",
       ")"
      ]
     },
     "execution_count": 3,
     "metadata": {},
     "output_type": "execute_result"
    }
   ],
   "source": [
    "info"
   ]
  },
  {
   "cell_type": "code",
   "execution_count": 4,
   "id": "08451d88-fbbd-48a1-9423-c25f26656171",
   "metadata": {},
   "outputs": [],
   "source": [
    "features = np.stack([x['features'] for x in ds.as_numpy_iterator()])\n",
    "labels = np.stack([x['label'] for x in ds.as_numpy_iterator()])"
   ]
  },
  {
   "cell_type": "code",
   "execution_count": 22,
   "id": "a12494e8-ec2e-46de-86f7-c8df08ed5fed",
   "metadata": {},
   "outputs": [],
   "source": [
    "# Standardize the data.\n",
    "mean = np.mean(features)\n",
    "stddev = np.std(features)\n",
    "features_std = (features - mean) / stddev\n",
    "\n",
    "labels_ohc = to_categorical(labels, num_classes=3)"
   ]
  },
  {
   "cell_type": "code",
   "execution_count": 41,
   "id": "8d9a0eaf-1707-457a-ab80-915f17d22a2d",
   "metadata": {},
   "outputs": [],
   "source": [
    "model = Sequential([\n",
    "    Dense(\n",
    "        units=6, \n",
    "        activation=\"tanh\", \n",
    "        bias_initializer=\"zeros\", \n",
    "        kernel_initializer=\"he_normal\",\n",
    "    ),\n",
    "    Dense(\n",
    "        units=3, \n",
    "        activation=\"softmax\", \n",
    "        bias_initializer=\"zeros\", \n",
    "        kernel_initializer=\"glorot_uniform\",\n",
    "    ),\n",
    "])"
   ]
  },
  {
   "cell_type": "code",
   "execution_count": 42,
   "id": "9b93f846-87d9-4d4f-bf1b-14d7297d8449",
   "metadata": {},
   "outputs": [],
   "source": [
    "optimizer = tf.keras.optimizers.Adam(learning_rate=0.01)\n",
    "loss = tf.keras.losses.CategoricalCrossentropy()\n",
    "metrics = [\"accuracy\"]"
   ]
  },
  {
   "cell_type": "code",
   "execution_count": 43,
   "id": "61bd9b40-06bd-4773-ab86-a9f8eaa96df8",
   "metadata": {},
   "outputs": [],
   "source": [
    "model.compile(\n",
    "    optimizer=optimizer, \n",
    "    loss=\"categorical_crossentropy\",\n",
    "    metrics=metrics\n",
    ")"
   ]
  },
  {
   "cell_type": "code",
   "execution_count": 44,
   "id": "daa6a81e-193a-4186-8569-83c1e5ee6ce8",
   "metadata": {},
   "outputs": [],
   "source": [
    "BATCH_SIZE = 10\n",
    "HIDDEN_SIZE = 10\n",
    "EPOCHS=20"
   ]
  },
  {
   "cell_type": "code",
   "execution_count": 45,
   "id": "cda0a63a-7c32-4503-abaf-39aee623fc0f",
   "metadata": {},
   "outputs": [
    {
     "name": "stdout",
     "output_type": "stream",
     "text": [
      "Epoch 1/20\n",
      "15/15 - 0s - loss: 1.2835 - accuracy: 0.3333 - 276ms/epoch - 18ms/step\n",
      "Epoch 2/20\n",
      "15/15 - 0s - loss: 1.0262 - accuracy: 0.5733 - 10ms/epoch - 642us/step\n",
      "Epoch 3/20\n",
      "15/15 - 0s - loss: 0.8483 - accuracy: 0.7333 - 12ms/epoch - 789us/step\n",
      "Epoch 4/20\n",
      "15/15 - 0s - loss: 0.6860 - accuracy: 0.7733 - 15ms/epoch - 1ms/step\n",
      "Epoch 5/20\n",
      "15/15 - 0s - loss: 0.5704 - accuracy: 0.8400 - 12ms/epoch - 822us/step\n",
      "Epoch 6/20\n",
      "15/15 - 0s - loss: 0.4931 - accuracy: 0.8667 - 14ms/epoch - 918us/step\n",
      "Epoch 7/20\n",
      "15/15 - 0s - loss: 0.4385 - accuracy: 0.9000 - 13ms/epoch - 899us/step\n",
      "Epoch 8/20\n",
      "15/15 - 0s - loss: 0.3866 - accuracy: 0.9000 - 13ms/epoch - 859us/step\n",
      "Epoch 9/20\n",
      "15/15 - 0s - loss: 0.3411 - accuracy: 0.9400 - 13ms/epoch - 864us/step\n",
      "Epoch 10/20\n",
      "15/15 - 0s - loss: 0.2974 - accuracy: 0.9467 - 14ms/epoch - 934us/step\n",
      "Epoch 11/20\n",
      "15/15 - 0s - loss: 0.2642 - accuracy: 0.9600 - 15ms/epoch - 1ms/step\n",
      "Epoch 12/20\n",
      "15/15 - 0s - loss: 0.2328 - accuracy: 0.9533 - 14ms/epoch - 904us/step\n",
      "Epoch 13/20\n",
      "15/15 - 0s - loss: 0.2072 - accuracy: 0.9600 - 14ms/epoch - 906us/step\n",
      "Epoch 14/20\n",
      "15/15 - 0s - loss: 0.1889 - accuracy: 0.9600 - 14ms/epoch - 951us/step\n",
      "Epoch 15/20\n",
      "15/15 - 0s - loss: 0.1715 - accuracy: 0.9600 - 14ms/epoch - 961us/step\n",
      "Epoch 16/20\n",
      "15/15 - 0s - loss: 0.1584 - accuracy: 0.9733 - 15ms/epoch - 980us/step\n",
      "Epoch 17/20\n",
      "15/15 - 0s - loss: 0.1460 - accuracy: 0.9600 - 14ms/epoch - 939us/step\n",
      "Epoch 18/20\n",
      "15/15 - 0s - loss: 0.1398 - accuracy: 0.9600 - 14ms/epoch - 932us/step\n",
      "Epoch 19/20\n",
      "15/15 - 0s - loss: 0.1312 - accuracy: 0.9533 - 12ms/epoch - 791us/step\n",
      "Epoch 20/20\n",
      "15/15 - 0s - loss: 0.1234 - accuracy: 0.9733 - 12ms/epoch - 828us/step\n"
     ]
    },
    {
     "data": {
      "text/plain": [
       "<keras.callbacks.History at 0x7f3b897a4ee0>"
      ]
     },
     "execution_count": 45,
     "metadata": {},
     "output_type": "execute_result"
    }
   ],
   "source": [
    "model.fit(\n",
    "    features_std, \n",
    "    labels_ohc, \n",
    "    epochs=EPOCHS, \n",
    "    batch_size=BATCH_SIZE,\n",
    "    verbose=2\n",
    ")"
   ]
  },
  {
   "cell_type": "code",
   "execution_count": 49,
   "id": "e7ff6267-8097-4d30-8d57-b960f3dc3529",
   "metadata": {},
   "outputs": [
    {
     "data": {
      "image/png": "[encoded data removed]",
      "text/plain": [
       "<Figure size 432x288 with 1 Axes>"
      ]
     },
     "metadata": {
      "needs_background": "light"
     },
     "output_type": "display_data"
    },
    {
     "name": "stdout",
     "output_type": "stream",
     "text": [
      "Max accuracy: 97.3%\n"
     ]
    }
   ],
   "source": [
    "# summarize history for accuracy\n",
    "accuracy = model.history.history['accuracy']\n",
    "plt.plot(accuracy)\n",
    "plt.title('model accuracy')\n",
    "plt.ylabel('accuracy')\n",
    "plt.xlabel('epoch')\n",
    "plt.show()\n",
    "print(\"Max accuracy: {:.1%}\".format(np.max(accuracy)))"
   ]
  },
  {
   "cell_type": "code",
   "execution_count": 48,
   "id": "4eef180e-f78d-424d-94eb-b0d88177e8f2",
   "metadata": {},
   "outputs": [
    {
     "data": {
      "image/png": "[encoded data removed]",
      "text/plain": [
       "<Figure size 432x288 with 1 Axes>"
      ]
     },
     "metadata": {
      "needs_background": "light"
     },
     "output_type": "display_data"
    },
    {
     "name": "stdout",
     "output_type": "stream",
     "text": [
      "Min Loss: 0.12\n"
     ]
    }
   ],
   "source": [
    "loss = model.history.history['loss']\n",
    "plt.plot(loss)\n",
    "plt.title('model loss')\n",
    "plt.ylabel('loss')\n",
    "plt.xlabel('epoch')\n",
    "plt.legend('train', loc='upper left')\n",
    "plt.show()\n",
    "print(\"Min Loss: {:.2f}\".format(np.min(loss)))"
   ]
  }
 ],
 "metadata": {
  "kernelspec": {
   "display_name": "Python 3 (ipykernel)",
   "language": "python",
   "name": "python3"
  },
  "language_info": {
   "codemirror_mode": {
    "name": "ipython",
    "version": 3
   },
   "file_extension": ".py",
   "mimetype": "text/x-python",
   "name": "python",
   "nbconvert_exporter": "python",
   "pygments_lexer": "ipython3",
   "version": "3.8.10"
  }
 },
 "nbformat": 4,
 "nbformat_minor": 5
}
