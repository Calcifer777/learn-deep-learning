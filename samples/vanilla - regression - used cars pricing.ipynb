{
 "cells": [
  {
   "cell_type": "code",
   "execution_count": 9,
   "id": "6e77fb3a-947a-4174-a840-7c4e6d92730a",
   "metadata": {},
   "outputs": [
    {
     "name": "stdout",
     "output_type": "stream",
     "text": [
      "Downloading vehicle-dataset-from-cardekho.zip to ./data\n",
      "\n",
      "Archive:  ./data/vehicle-dataset-from-cardekho.zip\n",
      "  inflating: ./data/used-cars/CAR DETAILS FROM CAR DEKHO.csv  \n",
      "  inflating: ./data/used-cars/Car details v3.csv  \n",
      "  inflating: ./data/used-cars/car data.csv  \n"
     ]
    },
    {
     "name": "stderr",
     "output_type": "stream",
     "text": [
      "100%|██████████| 227k/227k [00:00<00:00, 10.2MB/s]\n"
     ]
    }
   ],
   "source": [
    "%%bash\n",
    "test -d ./data/used-cars/ || \n",
    "kaggle datasets download -d nehalbirla/vehicle-dataset-from-cardekho -p ./data/ && \n",
    "unzip ./data/vehicle-dataset-from-cardekho.zip -d ./data/used-cars/ &&\n",
    "rm ./data/vehicle-dataset-from-cardekho.zip"
   ]
  },
  {
   "cell_type": "code",
   "execution_count": 64,
   "id": "e449f027-8ff5-4df9-8b5d-4017c4bec591",
   "metadata": {},
   "outputs": [],
   "source": [
    "import pandas as pd\n",
    "from matplotlib import pyplot  as plt\n",
    "import numpy as np"
   ]
  },
  {
   "cell_type": "code",
   "execution_count": 435,
   "id": "8255c24c-8adc-4107-ad7a-dd45543c54e6",
   "metadata": {},
   "outputs": [
    {
     "name": "stdout",
     "output_type": "stream",
     "text": [
      "<class 'pandas.core.frame.DataFrame'>\n",
      "Int64Index: 7603 entries, 0 to 8127\n",
      "Data columns (total 13 columns):\n",
      " #   Column         Non-Null Count  Dtype  \n",
      "---  ------         --------------  -----  \n",
      " 0   name           7603 non-null   object \n",
      " 1   year           7603 non-null   int64  \n",
      " 2   selling_price  7603 non-null   int64  \n",
      " 3   km_driven      7603 non-null   int64  \n",
      " 4   fuel           7603 non-null   object \n",
      " 5   seller_type    7603 non-null   object \n",
      " 6   transmission   7603 non-null   object \n",
      " 7   owner          7603 non-null   object \n",
      " 8   mileage        7603 non-null   object \n",
      " 9   engine         7603 non-null   object \n",
      " 10  max_power      7603 non-null   object \n",
      " 11  torque         7603 non-null   object \n",
      " 12  seats          7603 non-null   float64\n",
      "dtypes: float64(1), int64(3), object(9)\n",
      "memory usage: 831.6+ KB\n"
     ]
    }
   ],
   "source": [
    "fn = \"./data/used-cars/Car details v3.csv\"\n",
    "\n",
    "df = pd.read_csv(fn)\n",
    "df = df.dropna()\n",
    "df = df.loc[df.selling_price < 2500000]\n",
    "df.info()"
   ]
  },
  {
   "cell_type": "code",
   "execution_count": 436,
   "id": "907fc38b-5425-4cc6-bc75-64df5eb525ca",
   "metadata": {},
   "outputs": [
    {
     "data": {
      "text/html": [
       "<div>\n",
       "<style scoped>\n",
       "    .dataframe tbody tr th:only-of-type {\n",
       "        vertical-align: middle;\n",
       "    }\n",
       "\n",
       "    .dataframe tbody tr th {\n",
       "        vertical-align: top;\n",
       "    }\n",
       "\n",
       "    .dataframe thead th {\n",
       "        text-align: right;\n",
       "    }\n",
       "</style>\n",
       "<table border=\"1\" class=\"dataframe\">\n",
       "  <thead>\n",
       "    <tr style=\"text-align: right;\">\n",
       "      <th></th>\n",
       "      <th>name</th>\n",
       "      <th>year</th>\n",
       "      <th>selling_price</th>\n",
       "      <th>km_driven</th>\n",
       "      <th>fuel</th>\n",
       "      <th>seller_type</th>\n",
       "      <th>transmission</th>\n",
       "      <th>owner</th>\n",
       "      <th>mileage</th>\n",
       "      <th>engine</th>\n",
       "      <th>max_power</th>\n",
       "      <th>torque</th>\n",
       "      <th>seats</th>\n",
       "    </tr>\n",
       "  </thead>\n",
       "  <tbody>\n",
       "    <tr>\n",
       "      <th>0</th>\n",
       "      <td>Maruti Swift Dzire VDI</td>\n",
       "      <td>2014</td>\n",
       "      <td>450000</td>\n",
       "      <td>145500</td>\n",
       "      <td>Diesel</td>\n",
       "      <td>Individual</td>\n",
       "      <td>Manual</td>\n",
       "      <td>First Owner</td>\n",
       "      <td>23.4 kmpl</td>\n",
       "      <td>1248 CC</td>\n",
       "      <td>74 bhp</td>\n",
       "      <td>190Nm@ 2000rpm</td>\n",
       "      <td>5.0</td>\n",
       "    </tr>\n",
       "    <tr>\n",
       "      <th>1</th>\n",
       "      <td>Skoda Rapid 1.5 TDI Ambition</td>\n",
       "      <td>2014</td>\n",
       "      <td>370000</td>\n",
       "      <td>120000</td>\n",
       "      <td>Diesel</td>\n",
       "      <td>Individual</td>\n",
       "      <td>Manual</td>\n",
       "      <td>Second Owner</td>\n",
       "      <td>21.14 kmpl</td>\n",
       "      <td>1498 CC</td>\n",
       "      <td>103.52 bhp</td>\n",
       "      <td>250Nm@ 1500-2500rpm</td>\n",
       "      <td>5.0</td>\n",
       "    </tr>\n",
       "    <tr>\n",
       "      <th>2</th>\n",
       "      <td>Honda City 2017-2020 EXi</td>\n",
       "      <td>2006</td>\n",
       "      <td>158000</td>\n",
       "      <td>140000</td>\n",
       "      <td>Petrol</td>\n",
       "      <td>Individual</td>\n",
       "      <td>Manual</td>\n",
       "      <td>Third Owner</td>\n",
       "      <td>17.7 kmpl</td>\n",
       "      <td>1497 CC</td>\n",
       "      <td>78 bhp</td>\n",
       "      <td>12.7@ 2,700(kgm@ rpm)</td>\n",
       "      <td>5.0</td>\n",
       "    </tr>\n",
       "    <tr>\n",
       "      <th>3</th>\n",
       "      <td>Hyundai i20 Sportz Diesel</td>\n",
       "      <td>2010</td>\n",
       "      <td>225000</td>\n",
       "      <td>127000</td>\n",
       "      <td>Diesel</td>\n",
       "      <td>Individual</td>\n",
       "      <td>Manual</td>\n",
       "      <td>First Owner</td>\n",
       "      <td>23.0 kmpl</td>\n",
       "      <td>1396 CC</td>\n",
       "      <td>90 bhp</td>\n",
       "      <td>22.4 kgm at 1750-2750rpm</td>\n",
       "      <td>5.0</td>\n",
       "    </tr>\n",
       "    <tr>\n",
       "      <th>4</th>\n",
       "      <td>Maruti Swift VXI BSIII</td>\n",
       "      <td>2007</td>\n",
       "      <td>130000</td>\n",
       "      <td>120000</td>\n",
       "      <td>Petrol</td>\n",
       "      <td>Individual</td>\n",
       "      <td>Manual</td>\n",
       "      <td>First Owner</td>\n",
       "      <td>16.1 kmpl</td>\n",
       "      <td>1298 CC</td>\n",
       "      <td>88.2 bhp</td>\n",
       "      <td>11.5@ 4,500(kgm@ rpm)</td>\n",
       "      <td>5.0</td>\n",
       "    </tr>\n",
       "  </tbody>\n",
       "</table>\n",
       "</div>"
      ],
      "text/plain": [
       "                           name  year  selling_price  km_driven    fuel  \\\n",
       "0        Maruti Swift Dzire VDI  2014         450000     145500  Diesel   \n",
       "1  Skoda Rapid 1.5 TDI Ambition  2014         370000     120000  Diesel   \n",
       "2      Honda City 2017-2020 EXi  2006         158000     140000  Petrol   \n",
       "3     Hyundai i20 Sportz Diesel  2010         225000     127000  Diesel   \n",
       "4        Maruti Swift VXI BSIII  2007         130000     120000  Petrol   \n",
       "\n",
       "  seller_type transmission         owner     mileage   engine   max_power  \\\n",
       "0  Individual       Manual   First Owner   23.4 kmpl  1248 CC      74 bhp   \n",
       "1  Individual       Manual  Second Owner  21.14 kmpl  1498 CC  103.52 bhp   \n",
       "2  Individual       Manual   Third Owner   17.7 kmpl  1497 CC      78 bhp   \n",
       "3  Individual       Manual   First Owner   23.0 kmpl  1396 CC      90 bhp   \n",
       "4  Individual       Manual   First Owner   16.1 kmpl  1298 CC    88.2 bhp   \n",
       "\n",
       "                     torque  seats  \n",
       "0            190Nm@ 2000rpm    5.0  \n",
       "1       250Nm@ 1500-2500rpm    5.0  \n",
       "2     12.7@ 2,700(kgm@ rpm)    5.0  \n",
       "3  22.4 kgm at 1750-2750rpm    5.0  \n",
       "4     11.5@ 4,500(kgm@ rpm)    5.0  "
      ]
     },
     "execution_count": 436,
     "metadata": {},
     "output_type": "execute_result"
    }
   ],
   "source": [
    "df.head()"
   ]
  },
  {
   "cell_type": "code",
   "execution_count": 437,
   "id": "23ff1cde-6147-472e-9ee9-2cdac21d28bf",
   "metadata": {},
   "outputs": [],
   "source": [
    "# Preprocessing\n",
    "df['mileage'] = df['mileage'].str.extract(\"([\\d\\.]+)\\s[\\w/]+\").astype(float)\n",
    "df = pd.concat([df, pd.get_dummies(df['owner'], prefix=\"owner_\")], axis=1)\n",
    "df = pd.concat([df, pd.get_dummies(df['transmission'], prefix=\"transmission_\")], axis=1)\n",
    "df = pd.concat([df, pd.get_dummies(df['fuel'], prefix=\"fuel_\")], axis=1)\n",
    "df = pd.concat([df, pd.get_dummies(df['seller_type'], prefix=\"seller_type_\")], axis=1)\n",
    "df['engine'] = df['engine'].str.extract(\"([\\d\\.]+)\\sCC\").astype(float)"
   ]
  },
  {
   "cell_type": "code",
   "execution_count": 439,
   "id": "e99372ea-5fa0-46df-9a11-c1e88b7ec23f",
   "metadata": {},
   "outputs": [
    {
     "data": {
      "text/plain": [
       "Index(['name', 'year', 'selling_price', 'km_driven', 'fuel', 'seller_type',\n",
       "       'transmission', 'owner', 'mileage', 'engine', 'max_power', 'torque',\n",
       "       'seats', 'owner__First Owner', 'owner__Fourth & Above Owner',\n",
       "       'owner__Second Owner', 'owner__Test Drive Car', 'owner__Third Owner',\n",
       "       'transmission__Automatic', 'transmission__Manual', 'fuel__CNG',\n",
       "       'fuel__Diesel', 'fuel__LPG', 'fuel__Petrol', 'seller_type__Dealer',\n",
       "       'seller_type__Individual', 'seller_type__Trustmark Dealer'],\n",
       "      dtype='object')"
      ]
     },
     "execution_count": 439,
     "metadata": {},
     "output_type": "execute_result"
    }
   ],
   "source": [
    "df.columns"
   ]
  },
  {
   "cell_type": "code",
   "execution_count": 440,
   "id": "3894d364-bb0c-4983-bc07-2a3e9ccdf37c",
   "metadata": {},
   "outputs": [],
   "source": [
    "y_col = \"selling_price\"\n",
    "x_col = [\n",
    "    'year', \n",
    "    'km_driven', \n",
    "    \n",
    "    'fuel__CNG',\n",
    "    'fuel__Diesel',\n",
    "    'fuel__LPG',\n",
    "    'fuel__Petrol',\n",
    "    \n",
    "    'seller_type__Dealer',\n",
    "    'seller_type__Individual',\n",
    "    'seller_type__Trustmark Dealer',\n",
    "    \n",
    "    'transmission__Automatic', \n",
    "    'transmission__Manual',\n",
    "    \n",
    "    'owner__Test Drive Car',\n",
    "    'owner__First Owner', \n",
    "    'owner__Second Owner',\n",
    "    'owner__Third Owner',\n",
    "    'owner__Fourth & Above Owner',\n",
    "        \n",
    "    'mileage', \n",
    "    'engine', \n",
    "    # 'max_power', \n",
    "    # 'torque',\n",
    "    'seats', \n",
    "]"
   ]
  },
  {
   "cell_type": "code",
   "execution_count": 441,
   "id": "ea86fba8-cbb2-4f02-894a-450c450fddab",
   "metadata": {},
   "outputs": [],
   "source": [
    "# Train/test split\n",
    "y = df[y_col].values.astype(float)\n",
    "x = df[x_col].values.astype(float)\n",
    "\n",
    "mask = [random.random() > 0.2 for _ in range(0, len(df))]\n",
    "mask_test = [not x for x in mask]\n",
    "x_train = x[mask]\n",
    "y_train = y[mask]\n",
    "x_test = x[mask_test]\n",
    "y_test = y[mask_test]\n",
    "\n",
    "assert(y_train.shape[0] + y_test.shape[0] == len(df))"
   ]
  },
  {
   "cell_type": "code",
   "execution_count": 442,
   "id": "fdd448f2-bcd5-47e0-bbf1-56fd67676833",
   "metadata": {},
   "outputs": [],
   "source": [
    "# Standardization\n",
    "means = np.mean(x_train, axis=0)\n",
    "std = np.std(x_train, axis=0)\n",
    "\n",
    "x_train_std = (x_train - means) / std\n",
    "x_test_std = (x_test - means) / std"
   ]
  },
  {
   "cell_type": "code",
   "execution_count": 443,
   "id": "d9d04fce-986c-474e-9e2b-b7bcc3d30df6",
   "metadata": {},
   "outputs": [],
   "source": [
    "from tensorflow.keras.layers import Dense, Dropout\n",
    "from tensorflow.keras.models import Sequential"
   ]
  },
  {
   "cell_type": "code",
   "execution_count": 444,
   "id": "8855760c-ad7a-4fd7-94c8-fb4cf4b7ba27",
   "metadata": {},
   "outputs": [],
   "source": [
    "model = Sequential([\n",
    "    Dense(\n",
    "        input_shape=(x_train.shape[1],), \n",
    "        units=128, \n",
    "        activation=\"relu\",\n",
    "    ),\n",
    "    Dropout(.2),\n",
    "    Dense(\n",
    "        units=64, \n",
    "        activation=\"relu\",\n",
    "    ),\n",
    "    Dropout(.2),\n",
    "    Dense(\n",
    "        units=32, \n",
    "        activation=\"relu\",\n",
    "    ),\n",
    "    Dropout(.2),\n",
    "    Dense(\n",
    "        units=1, \n",
    "        activation=\"linear\",\n",
    "        bias_initializer=\"zeros\",\n",
    "    ),\n",
    "    ])"
   ]
  },
  {
   "cell_type": "code",
   "execution_count": 445,
   "id": "1d1fb115-85b4-46b9-8bd0-f9b7a612e77b",
   "metadata": {},
   "outputs": [
    {
     "name": "stdout",
     "output_type": "stream",
     "text": [
      "Model: \"sequential_14\"\n",
      "_________________________________________________________________\n",
      " Layer (type)                Output Shape              Param #   \n",
      "=================================================================\n",
      " dense_51 (Dense)            (None, 128)               2560      \n",
      "                                                                 \n",
      " dropout_31 (Dropout)        (None, 128)               0         \n",
      "                                                                 \n",
      " dense_52 (Dense)            (None, 64)                8256      \n",
      "                                                                 \n",
      " dropout_32 (Dropout)        (None, 64)                0         \n",
      "                                                                 \n",
      " dense_53 (Dense)            (None, 32)                2080      \n",
      "                                                                 \n",
      " dropout_33 (Dropout)        (None, 32)                0         \n",
      "                                                                 \n",
      " dense_54 (Dense)            (None, 1)                 33        \n",
      "                                                                 \n",
      "=================================================================\n",
      "Total params: 12,929\n",
      "Trainable params: 12,929\n",
      "Non-trainable params: 0\n",
      "_________________________________________________________________\n"
     ]
    }
   ],
   "source": [
    "model.compile(\n",
    "    optimizer=\"adam\",\n",
    "    loss=\"mean_squared_error\",\n",
    "    metrics=[\"mean_absolute_error\",],\n",
    ")\n",
    "model.summary()"
   ]
  },
  {
   "cell_type": "code",
   "execution_count": 446,
   "id": "05d95306-6d77-4f85-a25f-8c37e42a03d6",
   "metadata": {},
   "outputs": [],
   "source": [
    "BATCH_SIZE = 32\n",
    "EPOCHS = 150\n",
    "\n",
    "model.fit(\n",
    "    x=x_train_std,\n",
    "    y=y_train,\n",
    "    epochs=EPOCHS,\n",
    "    batch_size=BATCH_SIZE,\n",
    "    validation_data=[x_test_std, y_test],\n",
    "    verbose=0\n",
    ")\n",
    "\n",
    "history = model.history.history"
   ]
  },
  {
   "cell_type": "code",
   "execution_count": 447,
   "id": "fd565fb9-665f-4d4f-9526-b83e0dd3c9dc",
   "metadata": {},
   "outputs": [
    {
     "data": {
      "text/plain": [
       "<matplotlib.legend.Legend at 0x7f4704ffa340>"
      ]
     },
     "execution_count": 447,
     "metadata": {},
     "output_type": "execute_result"
    },
    {
     "data": {
      "image/png": "[encoded data removed]",
      "text/plain": [
       "<Figure size 432x288 with 1 Axes>"
      ]
     },
     "metadata": {
      "needs_background": "light"
     },
     "output_type": "display_data"
    }
   ],
   "source": [
    "plt.plot(history[\"loss\"])\n",
    "plt.plot(history[\"val_loss\"])\n",
    "plt.legend([\"Train\", \"Test\",])"
   ]
  },
  {
   "cell_type": "code",
   "execution_count": 448,
   "id": "8aa1a12a-df0d-4036-b4d8-3f1ed9c28988",
   "metadata": {},
   "outputs": [
    {
     "data": {
      "text/plain": [
       "<matplotlib.legend.Legend at 0x7f4704f64400>"
      ]
     },
     "execution_count": 448,
     "metadata": {},
     "output_type": "execute_result"
    },
    {
     "data": {
      "image/png": "[encoded data removed]",
      "text/plain": [
       "<Figure size 432x288 with 1 Axes>"
      ]
     },
     "metadata": {
      "needs_background": "light"
     },
     "output_type": "display_data"
    }
   ],
   "source": [
    "plt.plot(history[\"mean_absolute_error\"])\n",
    "plt.plot(history[\"val_mean_absolute_error\"])\n",
    "plt.legend([\"Train\", \"Test\",])"
   ]
  },
  {
   "cell_type": "code",
   "execution_count": 449,
   "id": "630c990a-7fab-49f1-8db4-cc544629f6cd",
   "metadata": {},
   "outputs": [
    {
     "name": "stdout",
     "output_type": "stream",
     "text": [
      "Min mean error 117240.3359375\n"
     ]
    }
   ],
   "source": [
    "print(\"Min mean error\", np.min(history[\"val_mean_absolute_error\"]))"
   ]
  },
  {
   "cell_type": "code",
   "execution_count": 450,
   "id": "27b7f453-3d25-4bce-9958-1ecb9f5debe6",
   "metadata": {
    "tags": []
   },
   "outputs": [
    {
     "data": {
      "text/plain": [
       "[<matplotlib.lines.Line2D at 0x7f4704ea7370>]"
      ]
     },
     "execution_count": 450,
     "metadata": {},
     "output_type": "execute_result"
    },
    {
     "data": {
      "image/png": "[encoded data removed]",
      "text/plain": [
       "<Figure size 432x288 with 1 Axes>"
      ]
     },
     "metadata": {
      "needs_background": "light"
     },
     "output_type": "display_data"
    }
   ],
   "source": [
    "predictions = model.predict(x_test_std)\n",
    "\n",
    "plt.figure()\n",
    "plt.scatter(y_test, predictions, s=3)\n",
    "plt.plot([0, np.max(y_test)], [0, np.max(y_test)], color=\"red\", lw=1)"
   ]
  }
 ],
 "metadata": {
  "kernelspec": {
   "display_name": "Python 3 (ipykernel)",
   "language": "python",
   "name": "python3"
  },
  "language_info": {
   "codemirror_mode": {
    "name": "ipython",
    "version": 3
   },
   "file_extension": ".py",
   "mimetype": "text/x-python",
   "name": "python",
   "nbconvert_exporter": "python",
   "pygments_lexer": "ipython3",
   "version": "3.8.10"
  }
 },
 "nbformat": 4,
 "nbformat_minor": 5
}
