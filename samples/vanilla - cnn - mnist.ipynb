{
 "cells": [
  {
   "cell_type": "code",
   "execution_count": 90,
   "id": "06a554b5-b485-48f9-91d7-b632d31e3039",
   "metadata": {},
   "outputs": [],
   "source": [
    "import numpy as np\n",
    "import tensorflow_datasets as tfds\n",
    "from tensorflow.keras.layers import Dense, Conv2D, MaxPool2D, Dropout, Flatten\n",
    "from tensorflow.keras.models import Sequential\n",
    "from tensorflow.keras.optimizers import Adam\n",
    "from tensorflow.keras.initializers import he_normal, glorot_uniform\n",
    "from tensorflow.keras.utils import to_categorical\n",
    "from matplotlib import pyplot as plt\n",
    "%matplotlib inline"
   ]
  },
  {
   "cell_type": "code",
   "execution_count": 4,
   "id": "e1cd3ca9-9d9a-4c3c-bd8e-08be8fe5a0cc",
   "metadata": {},
   "outputs": [],
   "source": [
    "(ds_train, ds_test), info = tfds.load(\"mnist\", split=[\"train\", \"test\"], with_info=True)"
   ]
  },
  {
   "cell_type": "code",
   "execution_count": 5,
   "id": "2e776aab-0ec7-424f-b496-2f18b47e3dec",
   "metadata": {},
   "outputs": [
    {
     "data": {
      "text/plain": [
       "tfds.core.DatasetInfo(\n",
       "    name='mnist',\n",
       "    full_name='mnist/3.0.1',\n",
       "    description=\"\"\"\n",
       "    The MNIST database of handwritten digits.\n",
       "    \"\"\",\n",
       "    homepage='http://yann.lecun.com/exdb/mnist/',\n",
       "    data_path='/home/calcifer/tensorflow_datasets/mnist/3.0.1',\n",
       "    download_size=11.06 MiB,\n",
       "    dataset_size=21.00 MiB,\n",
       "    features=FeaturesDict({\n",
       "        'image': Image(shape=(28, 28, 1), dtype=tf.uint8),\n",
       "        'label': ClassLabel(shape=(), dtype=tf.int64, num_classes=10),\n",
       "    }),\n",
       "    supervised_keys=('image', 'label'),\n",
       "    disable_shuffling=False,\n",
       "    splits={\n",
       "        'test': <SplitInfo num_examples=10000, num_shards=1>,\n",
       "        'train': <SplitInfo num_examples=60000, num_shards=1>,\n",
       "    },\n",
       "    citation=\"\"\"@article{lecun2010mnist,\n",
       "      title={MNIST handwritten digit database},\n",
       "      author={LeCun, Yann and Cortes, Corinna and Burges, CJ},\n",
       "      journal={ATT Labs [Online]. Available: http://yann.lecun.com/exdb/mnist},\n",
       "      volume={2},\n",
       "      year={2010}\n",
       "    }\"\"\",\n",
       ")"
      ]
     },
     "execution_count": 5,
     "metadata": {},
     "output_type": "execute_result"
    }
   ],
   "source": [
    "info"
   ]
  },
  {
   "cell_type": "code",
   "execution_count": 11,
   "id": "487e5f84-4d57-4cef-bd45-d14c064e4ffc",
   "metadata": {},
   "outputs": [],
   "source": [
    "# To numpy\n",
    "x_train = np.stack([record['image'] for record in ds_train.as_numpy_iterator()])\n",
    "y_train = np.stack([record['label'] for record in ds_train.as_numpy_iterator()])\n",
    "x_test = np.stack([record['image'] for record in ds_test.as_numpy_iterator()])\n",
    "y_test = np.stack([record['label'] for record in ds_test.as_numpy_iterator()])"
   ]
  },
  {
   "cell_type": "code",
   "execution_count": 19,
   "id": "a9833929-c86d-4492-9391-6c85ed1201e0",
   "metadata": {},
   "outputs": [
    {
     "name": "stdout",
     "output_type": "stream",
     "text": [
      "Shape X train: (60000, 28, 28, 1)\n",
      "Shape y train: (60000,)\n",
      "Shape X test: (10000, 28, 28, 1)\n",
      "Shape y test: (10000,)\n"
     ]
    }
   ],
   "source": [
    "print(\"Shape X train:\", x_train.shape)\n",
    "print(\"Shape y train:\", y_train.shape)\n",
    "print(\"Shape X test:\", x_test.shape)\n",
    "print(\"Shape y test:\", y_test.shape)"
   ]
  },
  {
   "cell_type": "code",
   "execution_count": 32,
   "id": "f487e21c-856e-481e-b8bf-694a9416770f",
   "metadata": {},
   "outputs": [],
   "source": [
    "# Standardization\n",
    "x_train_std = (x_train - 255) / 255\n",
    "x_test_std = (x_test - 255) / 255\n",
    "y_train_ohc = to_categorical(y_train)\n",
    "y_test_ohc = to_categorical(y_test)"
   ]
  },
  {
   "cell_type": "code",
   "execution_count": 85,
   "id": "7da842a0-4878-4f57-a1fd-8488672daa9c",
   "metadata": {},
   "outputs": [
    {
     "data": {
      "image/png": "[encoded data removed]",
      "text/plain": [
       "<Figure size 432x288 with 1 Axes>"
      ]
     },
     "metadata": {
      "needs_background": "light"
     },
     "output_type": "display_data"
    }
   ],
   "source": [
    "# Plot some samples\n",
    "idx = np.random.randint(60000)\n",
    "fig = plt.figure\n",
    "plt.imshow(x_train[idx].reshape(28, 28), cmap='gray')\n",
    "plt.show()"
   ]
  },
  {
   "cell_type": "code",
   "execution_count": 22,
   "id": "3bdb83cd-2104-41ff-b5a4-26e02c46c5b3",
   "metadata": {},
   "outputs": [
    {
     "data": {
      "text/plain": [
       "\u001b[0;31mInit signature:\u001b[0m \u001b[0mConv2D\u001b[0m\u001b[0;34m(\u001b[0m\u001b[0;34m*\u001b[0m\u001b[0margs\u001b[0m\u001b[0;34m,\u001b[0m \u001b[0;34m**\u001b[0m\u001b[0mkwargs\u001b[0m\u001b[0;34m)\u001b[0m\u001b[0;34m\u001b[0m\u001b[0;34m\u001b[0m\u001b[0m\n",
       "\u001b[0;31mDocstring:\u001b[0m     \n",
       "2D convolution layer (e.g. spatial convolution over images).\n",
       "\n",
       "This layer creates a convolution kernel that is convolved\n",
       "with the layer input to produce a tensor of\n",
       "outputs. If `use_bias` is True,\n",
       "a bias vector is created and added to the outputs. Finally, if\n",
       "`activation` is not `None`, it is applied to the outputs as well.\n",
       "\n",
       "When using this layer as the first layer in a model,\n",
       "provide the keyword argument `input_shape`\n",
       "(tuple of integers or `None`, does not include the sample axis),\n",
       "e.g. `input_shape=(128, 128, 3)` for 128x128 RGB pictures\n",
       "in `data_format=\"channels_last\"`. You can use `None` when\n",
       "a dimension has variable size.\n",
       "\n",
       "Examples:\n",
       "\n",
       ">>> # The inputs are 28x28 RGB images with `channels_last` and the batch\n",
       ">>> # size is 4.\n",
       ">>> input_shape = (4, 28, 28, 3)\n",
       ">>> x = tf.random.normal(input_shape)\n",
       ">>> y = tf.keras.layers.Conv2D(\n",
       "... 2, 3, activation='relu', input_shape=input_shape[1:])(x)\n",
       ">>> print(y.shape)\n",
       "(4, 26, 26, 2)\n",
       "\n",
       ">>> # With `dilation_rate` as 2.\n",
       ">>> input_shape = (4, 28, 28, 3)\n",
       ">>> x = tf.random.normal(input_shape)\n",
       ">>> y = tf.keras.layers.Conv2D(\n",
       "... 2, 3, activation='relu', dilation_rate=2, input_shape=input_shape[1:])(x)\n",
       ">>> print(y.shape)\n",
       "(4, 24, 24, 2)\n",
       "\n",
       ">>> # With `padding` as \"same\".\n",
       ">>> input_shape = (4, 28, 28, 3)\n",
       ">>> x = tf.random.normal(input_shape)\n",
       ">>> y = tf.keras.layers.Conv2D(\n",
       "... 2, 3, activation='relu', padding=\"same\", input_shape=input_shape[1:])(x)\n",
       ">>> print(y.shape)\n",
       "(4, 28, 28, 2)\n",
       "\n",
       ">>> # With extended batch shape [4, 7]:\n",
       ">>> input_shape = (4, 7, 28, 28, 3)\n",
       ">>> x = tf.random.normal(input_shape)\n",
       ">>> y = tf.keras.layers.Conv2D(\n",
       "... 2, 3, activation='relu', input_shape=input_shape[2:])(x)\n",
       ">>> print(y.shape)\n",
       "(4, 7, 26, 26, 2)\n",
       "\n",
       "\n",
       "Args:\n",
       "  filters: Integer, the dimensionality of the output space (i.e. the number of\n",
       "    output filters in the convolution).\n",
       "  kernel_size: An integer or tuple/list of 2 integers, specifying the height\n",
       "    and width of the 2D convolution window. Can be a single integer to specify\n",
       "    the same value for all spatial dimensions.\n",
       "  strides: An integer or tuple/list of 2 integers, specifying the strides of\n",
       "    the convolution along the height and width. Can be a single integer to\n",
       "    specify the same value for all spatial dimensions. Specifying any stride\n",
       "    value != 1 is incompatible with specifying any `dilation_rate` value != 1.\n",
       "  padding: one of `\"valid\"` or `\"same\"` (case-insensitive).\n",
       "    `\"valid\"` means no padding. `\"same\"` results in padding with zeros evenly\n",
       "    to the left/right or up/down of the input. When `padding=\"same\"` and\n",
       "    `strides=1`, the output has the same size as the input.\n",
       "  data_format: A string, one of `channels_last` (default) or `channels_first`.\n",
       "    The ordering of the dimensions in the inputs. `channels_last` corresponds\n",
       "    to inputs with shape `(batch_size, height, width, channels)` while\n",
       "    `channels_first` corresponds to inputs with shape `(batch_size, channels,\n",
       "    height, width)`. It defaults to the `image_data_format` value found in\n",
       "    your Keras config file at `~/.keras/keras.json`. If you never set it, then\n",
       "    it will be `channels_last`.\n",
       "  dilation_rate: an integer or tuple/list of 2 integers, specifying the\n",
       "    dilation rate to use for dilated convolution. Can be a single integer to\n",
       "    specify the same value for all spatial dimensions. Currently, specifying\n",
       "    any `dilation_rate` value != 1 is incompatible with specifying any stride\n",
       "    value != 1.\n",
       "  groups: A positive integer specifying the number of groups in which the\n",
       "    input is split along the channel axis. Each group is convolved separately\n",
       "    with `filters / groups` filters. The output is the concatenation of all\n",
       "    the `groups` results along the channel axis. Input channels and `filters`\n",
       "    must both be divisible by `groups`.\n",
       "  activation: Activation function to use. If you don't specify anything, no\n",
       "    activation is applied (see `keras.activations`).\n",
       "  use_bias: Boolean, whether the layer uses a bias vector.\n",
       "  kernel_initializer: Initializer for the `kernel` weights matrix (see\n",
       "    `keras.initializers`). Defaults to 'glorot_uniform'.\n",
       "  bias_initializer: Initializer for the bias vector (see\n",
       "    `keras.initializers`). Defaults to 'zeros'.\n",
       "  kernel_regularizer: Regularizer function applied to the `kernel` weights\n",
       "    matrix (see `keras.regularizers`).\n",
       "  bias_regularizer: Regularizer function applied to the bias vector (see\n",
       "    `keras.regularizers`).\n",
       "  activity_regularizer: Regularizer function applied to the output of the\n",
       "    layer (its \"activation\") (see `keras.regularizers`).\n",
       "  kernel_constraint: Constraint function applied to the kernel matrix (see\n",
       "    `keras.constraints`).\n",
       "  bias_constraint: Constraint function applied to the bias vector (see\n",
       "    `keras.constraints`).\n",
       "\n",
       "Input shape:\n",
       "  4+D tensor with shape: `batch_shape + (channels, rows, cols)` if\n",
       "    `data_format='channels_first'`\n",
       "  or 4+D tensor with shape: `batch_shape + (rows, cols, channels)` if\n",
       "    `data_format='channels_last'`.\n",
       "\n",
       "Output shape:\n",
       "  4+D tensor with shape: `batch_shape + (filters, new_rows, new_cols)` if\n",
       "  `data_format='channels_first'` or 4+D tensor with shape: `batch_shape +\n",
       "    (new_rows, new_cols, filters)` if `data_format='channels_last'`.  `rows`\n",
       "    and `cols` values might have changed due to padding.\n",
       "\n",
       "Returns:\n",
       "  A tensor of rank 4+ representing\n",
       "  `activation(conv2d(inputs, kernel) + bias)`.\n",
       "\n",
       "Raises:\n",
       "  ValueError: if `padding` is `\"causal\"`.\n",
       "  ValueError: when both `strides > 1` and `dilation_rate > 1`.\n",
       "\u001b[0;31mFile:\u001b[0m           ~/git/marco/learn-deep-learning/.env/lib/python3.8/site-packages/keras/layers/convolutional.py\n",
       "\u001b[0;31mType:\u001b[0m           type\n",
       "\u001b[0;31mSubclasses:\u001b[0m     Conv2DTranspose, Conv2D\n"
      ]
     },
     "metadata": {},
     "output_type": "display_data"
    }
   ],
   "source": [
    "Conv2D?"
   ]
  },
  {
   "cell_type": "code",
   "execution_count": 91,
   "id": "83f37271-b87c-4139-a229-bf95f7eea903",
   "metadata": {},
   "outputs": [
    {
     "data": {
      "text/plain": [
       "\u001b[0;31mInit signature:\u001b[0m \u001b[0mDense\u001b[0m\u001b[0;34m(\u001b[0m\u001b[0;34m*\u001b[0m\u001b[0margs\u001b[0m\u001b[0;34m,\u001b[0m \u001b[0;34m**\u001b[0m\u001b[0mkwargs\u001b[0m\u001b[0;34m)\u001b[0m\u001b[0;34m\u001b[0m\u001b[0;34m\u001b[0m\u001b[0m\n",
       "\u001b[0;31mDocstring:\u001b[0m     \n",
       "Just your regular densely-connected NN layer.\n",
       "\n",
       "`Dense` implements the operation:\n",
       "`output = activation(dot(input, kernel) + bias)`\n",
       "where `activation` is the element-wise activation function\n",
       "passed as the `activation` argument, `kernel` is a weights matrix\n",
       "created by the layer, and `bias` is a bias vector created by the layer\n",
       "(only applicable if `use_bias` is `True`). These are all attributes of\n",
       "`Dense`.\n",
       "\n",
       "Note: If the input to the layer has a rank greater than 2, then `Dense`\n",
       "computes the dot product between the `inputs` and the `kernel` along the\n",
       "last axis of the `inputs` and axis 0 of the `kernel` (using `tf.tensordot`).\n",
       "For example, if input has dimensions `(batch_size, d0, d1)`,\n",
       "then we create a `kernel` with shape `(d1, units)`, and the `kernel` operates\n",
       "along axis 2 of the `input`, on every sub-tensor of shape `(1, 1, d1)`\n",
       "(there are `batch_size * d0` such sub-tensors).\n",
       "The output in this case will have shape `(batch_size, d0, units)`.\n",
       "\n",
       "Besides, layer attributes cannot be modified after the layer has been called\n",
       "once (except the `trainable` attribute).\n",
       "When a popular kwarg `input_shape` is passed, then keras will create\n",
       "an input layer to insert before the current layer. This can be treated\n",
       "equivalent to explicitly defining an `InputLayer`.\n",
       "\n",
       "Example:\n",
       "\n",
       ">>> # Create a `Sequential` model and add a Dense layer as the first layer.\n",
       ">>> model = tf.keras.models.Sequential()\n",
       ">>> model.add(tf.keras.Input(shape=(16,)))\n",
       ">>> model.add(tf.keras.layers.Dense(32, activation='relu'))\n",
       ">>> # Now the model will take as input arrays of shape (None, 16)\n",
       ">>> # and output arrays of shape (None, 32).\n",
       ">>> # Note that after the first layer, you don't need to specify\n",
       ">>> # the size of the input anymore:\n",
       ">>> model.add(tf.keras.layers.Dense(32))\n",
       ">>> model.output_shape\n",
       "(None, 32)\n",
       "\n",
       "Args:\n",
       "  units: Positive integer, dimensionality of the output space.\n",
       "  activation: Activation function to use.\n",
       "    If you don't specify anything, no activation is applied\n",
       "    (ie. \"linear\" activation: `a(x) = x`).\n",
       "  use_bias: Boolean, whether the layer uses a bias vector.\n",
       "  kernel_initializer: Initializer for the `kernel` weights matrix.\n",
       "  bias_initializer: Initializer for the bias vector.\n",
       "  kernel_regularizer: Regularizer function applied to\n",
       "    the `kernel` weights matrix.\n",
       "  bias_regularizer: Regularizer function applied to the bias vector.\n",
       "  activity_regularizer: Regularizer function applied to\n",
       "    the output of the layer (its \"activation\").\n",
       "  kernel_constraint: Constraint function applied to\n",
       "    the `kernel` weights matrix.\n",
       "  bias_constraint: Constraint function applied to the bias vector.\n",
       "\n",
       "Input shape:\n",
       "  N-D tensor with shape: `(batch_size, ..., input_dim)`.\n",
       "  The most common situation would be\n",
       "  a 2D input with shape `(batch_size, input_dim)`.\n",
       "\n",
       "Output shape:\n",
       "  N-D tensor with shape: `(batch_size, ..., units)`.\n",
       "  For instance, for a 2D input with shape `(batch_size, input_dim)`,\n",
       "  the output would have shape `(batch_size, units)`.\n",
       "\u001b[0;31mFile:\u001b[0m           ~/git/marco/learn-deep-learning/.env/lib/python3.8/site-packages/keras/layers/core/dense.py\n",
       "\u001b[0;31mType:\u001b[0m           type\n",
       "\u001b[0;31mSubclasses:\u001b[0m     Dense\n"
      ]
     },
     "metadata": {},
     "output_type": "display_data"
    }
   ],
   "source": [
    "Dense?"
   ]
  },
  {
   "cell_type": "code",
   "execution_count": 94,
   "id": "38f6e5c0-7996-4e58-b9d2-4f9ba0ac02a7",
   "metadata": {},
   "outputs": [],
   "source": [
    "model = Sequential()\n",
    "model.add(\n",
    "    Conv2D(\n",
    "        input_shape=(28, 28, 1),\n",
    "        filters=8,\n",
    "        kernel_size=(4, 4),\n",
    "        strides=(2, 2),\n",
    "        padding=\"same\",\n",
    "        kernel_initializer=\"he_normal\",\n",
    "        bias_initializer='zeros',\n",
    "        activation=\"relu\",\n",
    "    )\n",
    ")\n",
    "model.add(\n",
    "    Conv2D(\n",
    "        input_shape=(28, 28, 1),\n",
    "        filters=4,\n",
    "        kernel_size=(3, 3),\n",
    "        strides=(1, 1),\n",
    "        padding=\"same\",\n",
    "        kernel_initializer=\"he_normal\",\n",
    "        bias_initializer='zeros',\n",
    "        activation=\"relu\",\n",
    "    )\n",
    ")\n",
    "model.add(Flatten())\n",
    "model.add(\n",
    "    Dense(\n",
    "        units=10,\n",
    "        kernel_initializer=\"glorot_uniform\",\n",
    "        bias_initializer='zeros',\n",
    "        activation=\"softmax\",\n",
    "    )\n",
    ")"
   ]
  },
  {
   "cell_type": "code",
   "execution_count": 109,
   "id": "dd156f5f-266d-4985-a87e-f326c694d1f0",
   "metadata": {},
   "outputs": [
    {
     "data": {
      "text/plain": [
       "\u001b[0;31mSignature:\u001b[0m\n",
       "\u001b[0mmodel\u001b[0m\u001b[0;34m.\u001b[0m\u001b[0mcompile\u001b[0m\u001b[0;34m(\u001b[0m\u001b[0;34m\u001b[0m\n",
       "\u001b[0;34m\u001b[0m    \u001b[0moptimizer\u001b[0m\u001b[0;34m=\u001b[0m\u001b[0;34m'rmsprop'\u001b[0m\u001b[0;34m,\u001b[0m\u001b[0;34m\u001b[0m\n",
       "\u001b[0;34m\u001b[0m    \u001b[0mloss\u001b[0m\u001b[0;34m=\u001b[0m\u001b[0;32mNone\u001b[0m\u001b[0;34m,\u001b[0m\u001b[0;34m\u001b[0m\n",
       "\u001b[0;34m\u001b[0m    \u001b[0mmetrics\u001b[0m\u001b[0;34m=\u001b[0m\u001b[0;32mNone\u001b[0m\u001b[0;34m,\u001b[0m\u001b[0;34m\u001b[0m\n",
       "\u001b[0;34m\u001b[0m    \u001b[0mloss_weights\u001b[0m\u001b[0;34m=\u001b[0m\u001b[0;32mNone\u001b[0m\u001b[0;34m,\u001b[0m\u001b[0;34m\u001b[0m\n",
       "\u001b[0;34m\u001b[0m    \u001b[0mweighted_metrics\u001b[0m\u001b[0;34m=\u001b[0m\u001b[0;32mNone\u001b[0m\u001b[0;34m,\u001b[0m\u001b[0;34m\u001b[0m\n",
       "\u001b[0;34m\u001b[0m    \u001b[0mrun_eagerly\u001b[0m\u001b[0;34m=\u001b[0m\u001b[0;32mNone\u001b[0m\u001b[0;34m,\u001b[0m\u001b[0;34m\u001b[0m\n",
       "\u001b[0;34m\u001b[0m    \u001b[0msteps_per_execution\u001b[0m\u001b[0;34m=\u001b[0m\u001b[0;32mNone\u001b[0m\u001b[0;34m,\u001b[0m\u001b[0;34m\u001b[0m\n",
       "\u001b[0;34m\u001b[0m    \u001b[0;34m**\u001b[0m\u001b[0mkwargs\u001b[0m\u001b[0;34m,\u001b[0m\u001b[0;34m\u001b[0m\n",
       "\u001b[0;34m\u001b[0m\u001b[0;34m)\u001b[0m\u001b[0;34m\u001b[0m\u001b[0;34m\u001b[0m\u001b[0m\n",
       "\u001b[0;31mDocstring:\u001b[0m\n",
       "Configures the model for training.\n",
       "\n",
       "Example:\n",
       "\n",
       "```python\n",
       "model.compile(optimizer=tf.keras.optimizers.Adam(learning_rate=1e-3),\n",
       "              loss=tf.keras.losses.BinaryCrossentropy(),\n",
       "              metrics=[tf.keras.metrics.BinaryAccuracy(),\n",
       "                       tf.keras.metrics.FalseNegatives()])\n",
       "```\n",
       "\n",
       "Args:\n",
       "    optimizer: String (name of optimizer) or optimizer instance. See\n",
       "      `tf.keras.optimizers`.\n",
       "    loss: Loss function. Maybe be a string (name of loss function), or\n",
       "      a `tf.keras.losses.Loss` instance. See `tf.keras.losses`. A loss\n",
       "      function is any callable with the signature `loss = fn(y_true,\n",
       "      y_pred)`, where `y_true` are the ground truth values, and\n",
       "      `y_pred` are the model's predictions.\n",
       "      `y_true` should have shape\n",
       "      `(batch_size, d0, .. dN)` (except in the case of\n",
       "      sparse loss functions such as\n",
       "      sparse categorical crossentropy which expects integer arrays of shape\n",
       "      `(batch_size, d0, .. dN-1)`).\n",
       "      `y_pred` should have shape `(batch_size, d0, .. dN)`.\n",
       "      The loss function should return a float tensor.\n",
       "      If a custom `Loss` instance is\n",
       "      used and reduction is set to `None`, return value has shape\n",
       "      `(batch_size, d0, .. dN-1)` i.e. per-sample or per-timestep loss\n",
       "      values; otherwise, it is a scalar. If the model has multiple outputs,\n",
       "      you can use a different loss on each output by passing a dictionary\n",
       "      or a list of losses. The loss value that will be minimized by the\n",
       "      model will then be the sum of all individual losses, unless\n",
       "      `loss_weights` is specified.\n",
       "    metrics: List of metrics to be evaluated by the model during training\n",
       "      and testing. Each of this can be a string (name of a built-in\n",
       "      function), function or a `tf.keras.metrics.Metric` instance. See\n",
       "      `tf.keras.metrics`. Typically you will use `metrics=['accuracy']`. A\n",
       "      function is any callable with the signature `result = fn(y_true,\n",
       "      y_pred)`. To specify different metrics for different outputs of a\n",
       "      multi-output model, you could also pass a dictionary, such as\n",
       "      `metrics={'output_a': 'accuracy', 'output_b': ['accuracy', 'mse']}`.\n",
       "      You can also pass a list to specify a metric or a list of metrics\n",
       "      for each output, such as `metrics=[['accuracy'], ['accuracy', 'mse']]`\n",
       "      or `metrics=['accuracy', ['accuracy', 'mse']]`. When you pass the\n",
       "      strings 'accuracy' or 'acc', we convert this to one of\n",
       "      `tf.keras.metrics.BinaryAccuracy`,\n",
       "      `tf.keras.metrics.CategoricalAccuracy`,\n",
       "      `tf.keras.metrics.SparseCategoricalAccuracy` based on the loss\n",
       "      function used and the model output shape. We do a similar\n",
       "      conversion for the strings 'crossentropy' and 'ce' as well.\n",
       "    loss_weights: Optional list or dictionary specifying scalar coefficients\n",
       "      (Python floats) to weight the loss contributions of different model\n",
       "      outputs. The loss value that will be minimized by the model will then\n",
       "      be the *weighted sum* of all individual losses, weighted by the\n",
       "      `loss_weights` coefficients.\n",
       "        If a list, it is expected to have a 1:1 mapping to the model's\n",
       "          outputs. If a dict, it is expected to map output names (strings)\n",
       "          to scalar coefficients.\n",
       "    weighted_metrics: List of metrics to be evaluated and weighted by\n",
       "      `sample_weight` or `class_weight` during training and testing.\n",
       "    run_eagerly: Bool. Defaults to `False`. If `True`, this `Model`'s\n",
       "      logic will not be wrapped in a `tf.function`. Recommended to leave\n",
       "      this as `None` unless your `Model` cannot be run inside a\n",
       "      `tf.function`. `run_eagerly=True` is not supported when using\n",
       "      `tf.distribute.experimental.ParameterServerStrategy`.\n",
       "    steps_per_execution: Int. Defaults to 1. The number of batches to\n",
       "      run during each `tf.function` call. Running multiple batches\n",
       "      inside a single `tf.function` call can greatly improve performance\n",
       "      on TPUs or small models with a large Python overhead.\n",
       "      At most, one full epoch will be run each\n",
       "      execution. If a number larger than the size of the epoch is passed,\n",
       "      the execution will be truncated to the size of the epoch.\n",
       "      Note that if `steps_per_execution` is set to `N`,\n",
       "      `Callback.on_batch_begin` and `Callback.on_batch_end` methods\n",
       "      will only be called every `N` batches\n",
       "      (i.e. before/after each `tf.function` execution).\n",
       "    **kwargs: Arguments supported for backwards compatibility only.\n",
       "\u001b[0;31mFile:\u001b[0m      ~/git/marco/learn-deep-learning/.env/lib/python3.8/site-packages/keras/engine/training.py\n",
       "\u001b[0;31mType:\u001b[0m      method\n"
      ]
     },
     "metadata": {},
     "output_type": "display_data"
    }
   ],
   "source": [
    "model.compile?"
   ]
  },
  {
   "cell_type": "code",
   "execution_count": 96,
   "id": "8fb263c9-bbc3-4b3b-b098-4b006cfe83d9",
   "metadata": {},
   "outputs": [
    {
     "name": "stdout",
     "output_type": "stream",
     "text": [
      "Model: \"sequential_4\"\n",
      "_________________________________________________________________\n",
      " Layer (type)                Output Shape              Param #   \n",
      "=================================================================\n",
      " conv2d_3 (Conv2D)           (None, 14, 14, 8)         136       \n",
      "                                                                 \n",
      " conv2d_4 (Conv2D)           (None, 14, 14, 4)         292       \n",
      "                                                                 \n",
      " flatten_1 (Flatten)         (None, 784)               0         \n",
      "                                                                 \n",
      " dense_1 (Dense)             (None, 10)                7850      \n",
      "                                                                 \n",
      "=================================================================\n",
      "Total params: 8,278\n",
      "Trainable params: 8,278\n",
      "Non-trainable params: 0\n",
      "_________________________________________________________________\n"
     ]
    }
   ],
   "source": [
    "model.compile(\n",
    "    optimizer='adam',\n",
    "    loss=\"categorical_crossentropy\",\n",
    "    metrics=[\"accuracy\"],\n",
    ")\n",
    "model.summary()"
   ]
  },
  {
   "cell_type": "code",
   "execution_count": 105,
   "id": "2cb5a919-a75c-41a9-b70b-0d6ef24f6665",
   "metadata": {},
   "outputs": [],
   "source": [
    "batch_size = 256\n",
    "epochs = 10"
   ]
  },
  {
   "cell_type": "code",
   "execution_count": 202,
   "id": "30497ad3-44d4-42d1-88a8-8cc98ecd45f4",
   "metadata": {},
   "outputs": [
    {
     "name": "stdout",
     "output_type": "stream",
     "text": [
      "Epoch 1/10\n",
      "235/235 [==============================] - 3s 12ms/step - loss: 8.8979e-04 - accuracy: 0.9998 - val_loss: 0.3956 - val_accuracy: 0.9681\n",
      "Epoch 2/10\n",
      "235/235 [==============================] - 3s 12ms/step - loss: 8.7813e-04 - accuracy: 0.9998 - val_loss: 0.3957 - val_accuracy: 0.9678\n",
      "Epoch 3/10\n",
      "235/235 [==============================] - 3s 12ms/step - loss: 8.7868e-04 - accuracy: 0.9998 - val_loss: 0.3964 - val_accuracy: 0.9673\n",
      "Epoch 4/10\n",
      "235/235 [==============================] - 3s 12ms/step - loss: 8.8192e-04 - accuracy: 0.9998 - val_loss: 0.3970 - val_accuracy: 0.9683\n",
      "Epoch 5/10\n",
      "235/235 [==============================] - 3s 12ms/step - loss: 8.5955e-04 - accuracy: 0.9998 - val_loss: 0.3991 - val_accuracy: 0.9680\n",
      "Epoch 6/10\n",
      "235/235 [==============================] - 3s 12ms/step - loss: 8.9193e-04 - accuracy: 0.9998 - val_loss: 0.4009 - val_accuracy: 0.9677\n",
      "Epoch 7/10\n",
      "235/235 [==============================] - 3s 12ms/step - loss: 8.6018e-04 - accuracy: 0.9998 - val_loss: 0.4003 - val_accuracy: 0.9679\n",
      "Epoch 8/10\n",
      "235/235 [==============================] - 3s 14ms/step - loss: 8.5877e-04 - accuracy: 0.9998 - val_loss: 0.4010 - val_accuracy: 0.9681\n",
      "Epoch 9/10\n",
      "235/235 [==============================] - 3s 15ms/step - loss: 8.4865e-04 - accuracy: 0.9998 - val_loss: 0.4015 - val_accuracy: 0.9679\n",
      "Epoch 10/10\n",
      "235/235 [==============================] - 3s 14ms/step - loss: 8.7305e-04 - accuracy: 0.9998 - val_loss: 0.4062 - val_accuracy: 0.9677\n"
     ]
    },
    {
     "data": {
      "text/plain": [
       "<keras.callbacks.History at 0x7f47780a2e20>"
      ]
     },
     "execution_count": 202,
     "metadata": {},
     "output_type": "execute_result"
    }
   ],
   "source": [
    "model.fit(\n",
    "    x=x_train_std,\n",
    "    y=y_train_ohc,\n",
    "    batch_size=batch_size,\n",
    "    epochs=epochs,\n",
    "    verbose=1,\n",
    "    validation_data=(x_test_std, y_test_ohc),\n",
    "    shuffle=True,\n",
    "    workers=8,\n",
    "    use_multiprocessing=True,\n",
    ")"
   ]
  },
  {
   "cell_type": "code",
   "execution_count": 207,
   "id": "40bb773f-2c57-4fed-b9a2-8afd9e50944f",
   "metadata": {},
   "outputs": [
    {
     "name": "stdout",
     "output_type": "stream",
     "text": [
      "Validation accuracy: 96.77%\n"
     ]
    },
    {
     "data": {
      "image/png": "[encoded data removed]",
      "text/plain": [
       "<Figure size 432x288 with 1 Axes>"
      ]
     },
     "metadata": {
      "needs_background": "light"
     },
     "output_type": "display_data"
    }
   ],
   "source": [
    "acc = model.history.history['accuracy']\n",
    "acc_val =  model.history.history['val_accuracy']\n",
    "plt.plot(acc)\n",
    "plt.plot(acc_val)\n",
    "plt.title('Model Accuracy')\n",
    "plt.ylabel('Accuracy')\n",
    "plt.xlabel('Epoch')\n",
    "plt.legend([\"Train\", \"Test\"])\n",
    "plt.ylim((0.0,1.1))\n",
    "print(\"Validation accuracy: {:.2%}\".format(acc_val[-1]))"
   ]
  },
  {
   "cell_type": "code",
   "execution_count": 325,
   "id": "fea0ddb5-834b-4c36-92ba-724678f12c9e",
   "metadata": {},
   "outputs": [
    {
     "data": {
      "image/png": "[encoded data removed]",
      "text/plain": [
       "<Figure size 432x288 with 1 Axes>"
      ]
     },
     "metadata": {
      "needs_background": "light"
     },
     "output_type": "display_data"
    },
    {
     "name": "stdout",
     "output_type": "stream",
     "text": [
      "Predicted:  1\n",
      "Actual:  1\n"
     ]
    }
   ],
   "source": [
    "idx = np.random.randint(10000)\n",
    "fig = plt.figure\n",
    "plt.imshow(x_test[idx].reshape(28, 28), cmap='gray')\n",
    "plt.show()\n",
    "print(\"Predicted: \", np.argmax(model.predict(x_test_std[idx:idx+1])[0]))\n",
    "print(\"Actual: \", y_test[idx])"
   ]
  }
 ],
 "metadata": {
  "kernelspec": {
   "display_name": "Python 3 (ipykernel)",
   "language": "python",
   "name": "python3"
  },
  "language_info": {
   "codemirror_mode": {
    "name": "ipython",
    "version": 3
   },
   "file_extension": ".py",
   "mimetype": "text/x-python",
   "name": "python",
   "nbconvert_exporter": "python",
   "pygments_lexer": "ipython3",
   "version": "3.8.10"
  }
 },
 "nbformat": 4,
 "nbformat_minor": 5
}
