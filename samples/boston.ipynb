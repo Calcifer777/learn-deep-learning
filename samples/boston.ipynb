{
 "cells": [
  {
   "cell_type": "code",
   "execution_count": 1,
   "id": "a7e4c8ad-6681-4663-8999-370161359087",
   "metadata": {},
   "outputs": [
    {
     "name": "stderr",
     "output_type": "stream",
     "text": [
      "2021-11-18 22:15:17.894366: W tensorflow/stream_executor/platform/default/dso_loader.cc:64] Could not load dynamic library 'libcudart.so.11.0'; dlerror: libcudart.so.11.0: cannot open shared object file: No such file or directory\n",
      "2021-11-18 22:15:17.894390: I tensorflow/stream_executor/cuda/cudart_stub.cc:29] Ignore above cudart dlerror if you do not have a GPU set up on your machine.\n"
     ]
    }
   ],
   "source": [
    "from tensorflow import keras\n",
    "from tensorflow.keras.models import Sequential\n",
    "from tensorflow.keras.layers import Dense, Dropout\n",
    "from tensorflow.keras.regularizers import l1, l2\n",
    "from tensorflow.keras.optimizers import Adam\n",
    "\n",
    "import matplotlib.pyplot as plt\n",
    "import numpy as np"
   ]
  },
  {
   "cell_type": "code",
   "execution_count": 2,
   "id": "760136da-c807-4f7b-b24c-a204e5e3103f",
   "metadata": {},
   "outputs": [],
   "source": [
    "boston = keras.datasets.boston_housing\n",
    "(train_X, train_y), (test_X, test_y) = boston.load_data()"
   ]
  },
  {
   "cell_type": "code",
   "execution_count": 3,
   "id": "107b1e6f-c7e9-4a1e-9c4c-307d3122f17e",
   "metadata": {},
   "outputs": [
    {
     "name": "stdout",
     "output_type": "stream",
     "text": [
      "(404, 13)\n",
      "(404,)\n",
      "(102, 13)\n",
      "(102,)\n"
     ]
    }
   ],
   "source": [
    "print(train_X.shape)\n",
    "print(train_y.shape)\n",
    "print(test_X.shape)\n",
    "print(test_y.shape)"
   ]
  },
  {
   "cell_type": "code",
   "execution_count": 4,
   "id": "675c13ad-faed-4543-a96b-7422bda635dd",
   "metadata": {},
   "outputs": [],
   "source": [
    "mean = train_X.mean(axis=0)\n",
    "std = train_X.std(axis=0)\n",
    "train_X_std = (train_X - mean) / std\n",
    "test_X_std = (test_X - mean) / std"
   ]
  },
  {
   "cell_type": "code",
   "execution_count": 13,
   "id": "90107d6f-88af-4e1f-b481-2c5ddff07581",
   "metadata": {},
   "outputs": [],
   "source": [
    "model = Sequential()\n",
    "model.add(\n",
    "    Dense(\n",
    "        128, \n",
    "        activation=\"relu\",\n",
    "        kernel_regularizer=l2(0.01),\n",
    "    )\n",
    ")\n",
    "model.add(Dropout(.3))\n",
    "model.add(\n",
    "    Dense(\n",
    "        128, \n",
    "        activation=\"relu\",\n",
    "        kernel_regularizer=l2(0.01),\n",
    "    )\n",
    ")\n",
    "model.add(Dropout(.3))\n",
    "model.add(\n",
    "    Dense(\n",
    "        64, \n",
    "        activation=\"relu\",\n",
    "        kernel_regularizer=l2(0.01),\n",
    "    )\n",
    ")\n",
    "model.add(Dropout(.3))\n",
    "model.add(\n",
    "    Dense(\n",
    "        1, \n",
    "        activation=\"linear\",\n",
    "        kernel_regularizer=l2(0.01),\n",
    "    )\n",
    ")\n",
    "    "
   ]
  },
  {
   "cell_type": "code",
   "execution_count": 14,
   "id": "a1e195bb-a9d7-4348-add0-e0ee4d3619e8",
   "metadata": {},
   "outputs": [],
   "source": [
    "model.compile(\n",
    "    optimizer=\"adam\",\n",
    "    loss=\"mean_squared_error\",\n",
    "    metrics=[\"mean_absolute_error\"]\n",
    ")\n"
   ]
  },
  {
   "cell_type": "code",
   "execution_count": 15,
   "id": "49808cc4-d00a-4739-8ce0-133eea4eb78b",
   "metadata": {},
   "outputs": [
    {
     "name": "stdout",
     "output_type": "stream",
     "text": [
      "Model: \"sequential_1\"\n",
      "_________________________________________________________________\n",
      " Layer (type)                Output Shape              Param #   \n",
      "=================================================================\n",
      " dense_4 (Dense)             (None, 128)               1792      \n",
      "                                                                 \n",
      " dropout_3 (Dropout)         (None, 128)               0         \n",
      "                                                                 \n",
      " dense_5 (Dense)             (None, 128)               16512     \n",
      "                                                                 \n",
      " dropout_4 (Dropout)         (None, 128)               0         \n",
      "                                                                 \n",
      " dense_6 (Dense)             (None, 64)                8256      \n",
      "                                                                 \n",
      " dropout_5 (Dropout)         (None, 64)                0         \n",
      "                                                                 \n",
      " dense_7 (Dense)             (None, 1)                 65        \n",
      "                                                                 \n",
      "=================================================================\n",
      "Total params: 26,625\n",
      "Trainable params: 26,625\n",
      "Non-trainable params: 0\n",
      "_________________________________________________________________\n"
     ]
    }
   ],
   "source": [
    "batch_size = 16\n",
    "epochs = 500\n",
    "\n",
    "model.fit(\n",
    "    x=train_X_std, \n",
    "    y=train_y, \n",
    "    batch_size=batch_size, \n",
    "    epochs=epochs, \n",
    "    validation_data=(test_X_std, test_y),\n",
    "    verbose=0,\n",
    ")\n",
    "model.summary()"
   ]
  },
  {
   "cell_type": "code",
   "execution_count": 16,
   "id": "e7ff6267-8097-4d30-8d57-b960f3dc3529",
   "metadata": {},
   "outputs": [
    {
     "data": {
      "image/png": "[encoded data removed]",
      "text/plain": [
       "<Figure size 432x288 with 1 Axes>"
      ]
     },
     "metadata": {
      "needs_background": "light"
     },
     "output_type": "display_data"
    },
    {
     "name": "stdout",
     "output_type": "stream",
     "text": [
      "Min test MAE: 2.119\n"
     ]
    }
   ],
   "source": [
    "# summarize history for accuracy\n",
    "mae = model.history.history['mean_absolute_error']\n",
    "val_mae = model.history.history['val_mean_absolute_error']\n",
    "plt.plot(mae)\n",
    "plt.plot(val_mae)\n",
    "plt.title('Model MAE')\n",
    "plt.ylabel('MAE')\n",
    "plt.xlabel('epoch')\n",
    "plt.legend(['Train MAE', 'Test MAE'])\n",
    "plt.show()\n",
    "print(\"Min test MAE: {:.3f}\".format(np.min(val_mae)))"
   ]
  },
  {
   "cell_type": "code",
   "execution_count": 17,
   "id": "4eef180e-f78d-424d-94eb-b0d88177e8f2",
   "metadata": {},
   "outputs": [
    {
     "data": {
      "image/png": "[encoded data removed]",
      "text/plain": [
       "<Figure size 432x288 with 1 Axes>"
      ]
     },
     "metadata": {
      "needs_background": "light"
     },
     "output_type": "display_data"
    },
    {
     "name": "stdout",
     "output_type": "stream",
     "text": [
      "Min Loss: 12.02\n"
     ]
    }
   ],
   "source": [
    "loss = model.history.history['loss']\n",
    "val_loss = model.history.history['val_loss']\n",
    "plt.plot(loss)\n",
    "plt.plot(val_loss)\n",
    "plt.title('Model loss')\n",
    "plt.ylabel('loss')\n",
    "plt.xlabel('epoch')\n",
    "plt.legend(['train', \"test\"], loc='upper left')\n",
    "plt.show()\n",
    "print(\"Min Loss: {:.2f}\".format(np.min(val_loss)))"
   ]
  },
  {
   "cell_type": "code",
   "execution_count": 18,
   "id": "dd608b32-c6e4-4867-af24-dea9aded24bd",
   "metadata": {},
   "outputs": [
    {
     "name": "stdout",
     "output_type": "stream",
     "text": [
      "Prediction:  [9.172976] , true value:  7.2\n",
      "Prediction:  [18.282] , true value:  18.8\n",
      "Prediction:  [19.659336] , true value:  19.0\n",
      "Prediction:  [27.742386] , true value:  27.0\n"
     ]
    }
   ],
   "source": [
    "# Print first 4 predictions.\n",
    "predictions = model.predict(test_X_std)\n",
    "for i in range(0, 4):\n",
    "    print('Prediction: ', predictions[i],\n",
    "          ', true value: ', test_y[i])\n"
   ]
  }
 ],
 "metadata": {
  "kernelspec": {
   "display_name": "Python 3 (ipykernel)",
   "language": "python",
   "name": "python3"
  },
  "language_info": {
   "codemirror_mode": {
    "name": "ipython",
    "version": 3
   },
   "file_extension": ".py",
   "mimetype": "text/x-python",
   "name": "python",
   "nbconvert_exporter": "python",
   "pygments_lexer": "ipython3",
   "version": "3.8.10"
  }
 },
 "nbformat": 4,
 "nbformat_minor": 5
}
