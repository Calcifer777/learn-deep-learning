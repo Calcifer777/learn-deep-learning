{
 "cells": [
  {
   "cell_type": "code",
   "execution_count": 113,
   "id": "2663b118",
   "metadata": {},
   "outputs": [],
   "source": [
    "import numpy as np\n",
    "import matplotlib.pyplot as plt"
   ]
  },
  {
   "cell_type": "code",
   "execution_count": 204,
   "id": "c10852c2",
   "metadata": {},
   "outputs": [
    {
     "data": {
      "text/plain": [
       "(10000, 3)"
      ]
     },
     "execution_count": 204,
     "metadata": {},
     "output_type": "execute_result"
    }
   ],
   "source": [
    "x = np.random.normal(0, 1, (10000, 3))\n",
    "x.shape"
   ]
  },
  {
   "cell_type": "code",
   "execution_count": 264,
   "id": "284fba57",
   "metadata": {},
   "outputs": [],
   "source": [
    "def obj(x):\n",
    "    return 2.0*np.power(x[0], 2)+x[1]*x[2]-x[0]*np.power(x[1], 2)"
   ]
  },
  {
   "cell_type": "code",
   "execution_count": 265,
   "id": "b8aa67d3",
   "metadata": {},
   "outputs": [
    {
     "data": {
      "text/plain": [
       "(10000, 1)"
      ]
     },
     "execution_count": 265,
     "metadata": {},
     "output_type": "execute_result"
    }
   ],
   "source": [
    "y = np.expand_dims(np.apply_along_axis(obj, axis=1, arr=x), axis=1)\n",
    "y.shape"
   ]
  },
  {
   "cell_type": "code",
   "execution_count": 266,
   "id": "6e7f5b87",
   "metadata": {},
   "outputs": [],
   "source": [
    "def sigmoid(x):\n",
    "    return 1 / (1 + np.exp(-x))\n",
    "\n",
    "def grad_sigmoid(x):\n",
    "    return sigmoid(x)*(1 - sigmoid(x))"
   ]
  },
  {
   "cell_type": "code",
   "execution_count": 267,
   "id": "2e3f96ab",
   "metadata": {},
   "outputs": [],
   "source": [
    "def loss(e):\n",
    "    return np.sum(e)/e.shape[0]\n",
    "\n",
    "def error(y, y_hat):\n",
    "    return np.power(y-y_hat, 2)/2\n",
    "\n",
    "def grad_error(y, y_hat):\n",
    "    return (y_hat - y)/y_hat.shape[0]"
   ]
  },
  {
   "cell_type": "code",
   "execution_count": 268,
   "id": "a3af1704",
   "metadata": {},
   "outputs": [],
   "source": [
    "def grad(x, y, w1, w2, w3):\n",
    "    # Forward\n",
    "    o1 = np.matmul(x, w1)  # N, 8\n",
    "    a1 = sigmoid(o1)       # N, 8\n",
    "    o2 = np.matmul(a1, w2) # N, 5\n",
    "    a2 = sigmoid(o2)       # N, 5\n",
    "    o3 = np.matmul(a2, w3) # N, 1\n",
    "    y_hat = o3\n",
    "    # Backprop\n",
    "    e = error(y, y_hat)\n",
    "    l = loss(e)\n",
    "    d3 = grad_e = grad_error(y, y_hat)         # N, 1\n",
    "    grad_3 = np.matmul(a2.T, d3)               # 5, 1\n",
    "    d2 = grad_sigmoid(o2)*np.matmul(d3, w3.T)  # N, 5   # IMPORTANT: no matmul for sigmoid, elementwise-prod\n",
    "    grad_2 = np.matmul(a1.T, d2)               # 8, 5\n",
    "    d1 = grad_sigmoid(o1)*np.matmul(d2, w2.T)  # N, 8\n",
    "    grad_1 = np.matmul(x.T, d1)                # 3, 8\n",
    "    return l, grad_1, grad_2, grad_3"
   ]
  },
  {
   "cell_type": "code",
   "execution_count": 269,
   "id": "d3997e46",
   "metadata": {},
   "outputs": [],
   "source": [
    "w1_ = np.random.normal(0, 1, (3, 8))\n",
    "w2_ = np.random.normal(0, 1, (8, 5))\n",
    "w3_ = np.random.normal(0, 1, (5, 1))"
   ]
  },
  {
   "cell_type": "code",
   "execution_count": 281,
   "id": "fcd0679a",
   "metadata": {
    "scrolled": true
   },
   "outputs": [],
   "source": [
    "def train(x, y, w1_, w2_, w3_, epochs = 10000, eta = 0.05):\n",
    "    w1 = w1_.copy()\n",
    "    w2 = w2_.copy()\n",
    "    w3 = w3_.copy()\n",
    "    history = []\n",
    "    for i in range(epochs):\n",
    "        sample = np.random.choice(x.shape[0], size=100, replace=False)\n",
    "        batch_x = x[sample, :]\n",
    "        batch_y = y[sample, :]\n",
    "        l, grad_1, grad_2, grad_3 = grad(batch_x, batch_y, w1, w2, w3)\n",
    "        w1 -= eta*grad_1\n",
    "        w2 -= eta*grad_2\n",
    "        w3 -= eta*grad_3\n",
    "        if i % 500 == 0:\n",
    "            print(\"Loss:\", l)\n",
    "        history.append(l)\n",
    "    return history, w1, w2, w3"
   ]
  },
  {
   "cell_type": "code",
   "execution_count": 282,
   "id": "dd21fd25",
   "metadata": {
    "scrolled": true
   },
   "outputs": [
    {
     "name": "stdout",
     "output_type": "stream",
     "text": [
      "Loss: 6.352353465007552\n",
      "Loss: 5.578976927540855\n",
      "Loss: 2.8371304582514143\n",
      "Loss: 1.5653673972738478\n",
      "Loss: 1.3345589157771176\n",
      "Loss: 1.2715612092430377\n",
      "Loss: 1.5118157425944616\n",
      "Loss: 1.7018478399843868\n",
      "Loss: 0.8836631189248513\n",
      "Loss: 0.2534682420394521\n",
      "Loss: 0.5237677017045946\n",
      "Loss: 0.7839719031247877\n",
      "Loss: 0.985262460356179\n",
      "Loss: 4.034956386753003\n",
      "Loss: 0.23598214515999083\n",
      "Loss: 2.0058874590755233\n",
      "Loss: 0.5090800494305171\n",
      "Loss: 0.8427440630649221\n",
      "Loss: 0.25689436427274837\n",
      "Loss: 0.18551783414235007\n"
     ]
    }
   ],
   "source": [
    "history, w1, w2, w3 = train(x, y, w1_, w2_, w3_)"
   ]
  },
  {
   "cell_type": "code",
   "execution_count": 298,
   "id": "b45ec2b4",
   "metadata": {
    "scrolled": false
   },
   "outputs": [
    {
     "data": {
      "text/plain": [
       "[<matplotlib.lines.Line2D at 0x7f90ceae0940>]"
      ]
     },
     "execution_count": 298,
     "metadata": {},
     "output_type": "execute_result"
    },
    {
     "data": {
      "image/png": "[encoded data removed]",
      "text/plain": [
       "<Figure size 432x288 with 1 Axes>"
      ]
     },
     "metadata": {
      "needs_background": "light"
     },
     "output_type": "display_data"
    }
   ],
   "source": [
    "plt.plot(history[::50])"
   ]
  },
  {
   "cell_type": "code",
   "execution_count": 300,
   "id": "cd863bf8",
   "metadata": {},
   "outputs": [],
   "source": [
    "def predict(x, w1, w2, w3):\n",
    "    o1 = np.matmul(x, w1)  # 100, 8\n",
    "    a1 = sigmoid(o1)       # 100, 8\n",
    "    o2 = np.matmul(a1, w2) # 100, 5\n",
    "    a2 = sigmoid(o2)       # 100, 5\n",
    "    o3 = np.matmul(a2, w3) # 100, 1\n",
    "    y_hat = o3\n",
    "    return y_hat"
   ]
  },
  {
   "cell_type": "code",
   "execution_count": 304,
   "id": "1604da91",
   "metadata": {},
   "outputs": [],
   "source": [
    "x_test = np.random.normal(0, 1, (100, 3))\n",
    "y_test = np.expand_dims(np.apply_along_axis(obj, axis=1, arr=x_test), axis=1)"
   ]
  },
  {
   "cell_type": "code",
   "execution_count": 305,
   "id": "25f87a8c",
   "metadata": {
    "scrolled": true
   },
   "outputs": [],
   "source": [
    "y_hat = predict(x_test, w1, w2, w3)"
   ]
  },
  {
   "cell_type": "code",
   "execution_count": 307,
   "id": "8c7fc58d",
   "metadata": {},
   "outputs": [
    {
     "data": {
      "text/plain": [
       "-0.2599275877002038"
      ]
     },
     "execution_count": 307,
     "metadata": {},
     "output_type": "execute_result"
    }
   ],
   "source": [
    "np.mean(y_test-y_hat)"
   ]
  },
  {
   "cell_type": "code",
   "execution_count": 309,
   "id": "d2d0a7a8",
   "metadata": {},
   "outputs": [
    {
     "data": {
      "text/plain": [
       "[<matplotlib.lines.Line2D at 0x7f90cea581f0>]"
      ]
     },
     "execution_count": 309,
     "metadata": {},
     "output_type": "execute_result"
    },
    {
     "data": {
      "image/png": "[encoded data removed]",
      "text/plain": [
       "<Figure size 432x288 with 1 Axes>"
      ]
     },
     "metadata": {
      "needs_background": "light"
     },
     "output_type": "display_data"
    }
   ],
   "source": [
    "plt.plot(y_test-y_hat)"
   ]
  }
 ],
 "metadata": {
  "kernelspec": {
   "display_name": "venv",
   "language": "python",
   "name": "venv"
  },
  "language_info": {
   "codemirror_mode": {
    "name": "ipython",
    "version": 3
   },
   "file_extension": ".py",
   "mimetype": "text/x-python",
   "name": "python",
   "nbconvert_exporter": "python",
   "pygments_lexer": "ipython3",
   "version": "3.8.10"
  }
 },
 "nbformat": 4,
 "nbformat_minor": 5
}
