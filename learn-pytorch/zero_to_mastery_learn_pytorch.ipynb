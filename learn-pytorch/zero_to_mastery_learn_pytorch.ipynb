{
  "nbformat": 4,
  "nbformat_minor": 0,
  "metadata": {
    "colab": {
      "provenance": [],
      "authorship_tag": "ABX9TyNi826pJZf7NgOGvYdEV2wZ",
      "include_colab_link": true
    },
    "kernelspec": {
      "name": "python3",
      "display_name": "Python 3"
    },
    "language_info": {
      "name": "python"
    }
  },
  "cells": [
    {
      "cell_type": "markdown",
      "metadata": {
        "id": "view-in-github",
        "colab_type": "text"
      },
      "source": [
        "<a href=\"https://colab.research.google.com/github/Calcifer777/learn-deep-learning/blob/main/learn-pytorch/zero_to_mastery_learn_pytorch.ipynb\" target=\"_parent\"><img src=\"https://colab.research.google.com/assets/colab-badge.svg\" alt=\"Open In Colab\"/></a>"
      ]
    },
    {
      "cell_type": "code",
      "execution_count": 1,
      "metadata": {
        "colab": {
          "base_uri": "https://localhost:8080/",
          "height": 36
        },
        "id": "cAaq3DNuq8KT",
        "outputId": "43686e63-2f7e-4e5e-b8ab-ef8d59ec8567"
      },
      "outputs": [
        {
          "output_type": "execute_result",
          "data": {
            "text/plain": [
              "'1.13.1+cu116'"
            ],
            "application/vnd.google.colaboratory.intrinsic+json": {
              "type": "string"
            }
          },
          "metadata": {},
          "execution_count": 1
        }
      ],
      "source": [
        "import torch\n",
        "\n",
        "torch.__version__"
      ]
    },
    {
      "cell_type": "code",
      "source": [
        "!nvidia-smi"
      ],
      "metadata": {
        "colab": {
          "base_uri": "https://localhost:8080/"
        },
        "id": "AVKRfY6ru-lR",
        "outputId": "abaf5ce8-5655-408a-8480-57f8de01bfbb"
      },
      "execution_count": 21,
      "outputs": [
        {
          "output_type": "stream",
          "name": "stdout",
          "text": [
            "NVIDIA-SMI has failed because it couldn't communicate with the NVIDIA driver. Make sure that the latest NVIDIA driver is installed and running.\n",
            "\n"
          ]
        }
      ]
    },
    {
      "cell_type": "code",
      "source": [
        "device = \"cuda\" if torch.cuda.is_available() else \"cpu\""
      ],
      "metadata": {
        "id": "CQdqELUtMG5c"
      },
      "execution_count": 199,
      "outputs": []
    },
    {
      "cell_type": "markdown",
      "source": [
        "# 00 Pytorch fundamentals"
      ],
      "metadata": {
        "id": "WE37w7e3x3Lh"
      }
    },
    {
      "cell_type": "code",
      "source": [
        "# 2\n",
        "t = torch.rand(7, 7)\n",
        "print(f\"{t.shape=}\")"
      ],
      "metadata": {
        "colab": {
          "base_uri": "https://localhost:8080/"
        },
        "id": "-rIbKSyhrgHI",
        "outputId": "3a950b59-ab10-4cf5-bb15-c00101e225dc"
      },
      "execution_count": 24,
      "outputs": [
        {
          "output_type": "stream",
          "name": "stdout",
          "text": [
            "t.shape=torch.Size([7, 7])\n"
          ]
        }
      ]
    },
    {
      "cell_type": "code",
      "source": [
        "# 3\n",
        "t2 = torch.rand(1, 7)\n",
        "t @ t2.T"
      ],
      "metadata": {
        "colab": {
          "base_uri": "https://localhost:8080/"
        },
        "id": "pkEzjFQ8r1ga",
        "outputId": "c2a88f47-0ac1-48ae-99d0-fd80a8f5e016"
      },
      "execution_count": 25,
      "outputs": [
        {
          "output_type": "execute_result",
          "data": {
            "text/plain": [
              "tensor([[0.7465],\n",
              "        [1.0733],\n",
              "        [0.8227],\n",
              "        [1.4065],\n",
              "        [1.5015],\n",
              "        [1.2632],\n",
              "        [1.5652]])"
            ]
          },
          "metadata": {},
          "execution_count": 25
        }
      ]
    },
    {
      "cell_type": "code",
      "source": [
        "# 4\n",
        "torch.manual_seed(0)"
      ],
      "metadata": {
        "colab": {
          "base_uri": "https://localhost:8080/"
        },
        "id": "Feo_ejuUsIAZ",
        "outputId": "496f3ecd-9f48-4910-c91d-1090cc777fc9"
      },
      "execution_count": 26,
      "outputs": [
        {
          "output_type": "execute_result",
          "data": {
            "text/plain": [
              "<torch._C.Generator at 0x7fd8f02e6af0>"
            ]
          },
          "metadata": {},
          "execution_count": 26
        }
      ]
    },
    {
      "cell_type": "code",
      "source": [
        "# 5\n",
        "if torch.cuda.is_available():\n",
        "  torch.cuda.seed(0)"
      ],
      "metadata": {
        "id": "3TYc4z6bt10_"
      },
      "execution_count": 30,
      "outputs": []
    },
    {
      "cell_type": "code",
      "source": [
        "# 8, 9\n",
        "t3 = torch.rand(3, 5)\n",
        "out, idx = t3.max(axis=0)\n",
        "assert out.shape == torch.Size([5])"
      ],
      "metadata": {
        "id": "6BQc2MR7wHCK"
      },
      "execution_count": 49,
      "outputs": []
    },
    {
      "cell_type": "code",
      "source": [
        "# 10\n",
        "t4 = torch.rand(1, 1, 1, 10)\n",
        "t4.view(10)"
      ],
      "metadata": {
        "id": "Jjw7iGDixajj"
      },
      "execution_count": 50,
      "outputs": []
    },
    {
      "cell_type": "code",
      "source": [],
      "metadata": {
        "colab": {
          "base_uri": "https://localhost:8080/"
        },
        "id": "VusW-zdoxnzv",
        "outputId": "4ea618c2-3ad2-4d2c-c228-9a2b25ec66c2"
      },
      "execution_count": 51,
      "outputs": [
        {
          "output_type": "execute_result",
          "data": {
            "text/plain": [
              "tensor([0.6962, 0.5300, 0.2560, 0.7366, 0.0204, 0.2036, 0.3748, 0.2564, 0.3251,\n",
              "        0.0902])"
            ]
          },
          "metadata": {},
          "execution_count": 51
        }
      ]
    },
    {
      "cell_type": "markdown",
      "source": [
        "# 01 PyTorch Workflow Fundamentas"
      ],
      "metadata": {
        "id": "GQKxA6wdx9t_"
      }
    },
    {
      "cell_type": "code",
      "source": [
        "import matplotlib.pyplot as plt\n",
        "from torch import nn\n",
        "from pathlib import Path"
      ],
      "metadata": {
        "id": "CM0Qs15TzLZF"
      },
      "execution_count": 184,
      "outputs": []
    },
    {
      "cell_type": "code",
      "source": [
        "weight = 0.7\n",
        "bias = 0.3\n",
        "\n",
        "X = torch.arange(0, 1, step=0.02).unsqueeze(1)\n",
        "y = weight * X + bias + torch.rand(X.shape) * 0.2"
      ],
      "metadata": {
        "id": "CY3jrtP9yCet"
      },
      "execution_count": 113,
      "outputs": []
    },
    {
      "cell_type": "code",
      "source": [
        "split = int(0.8 * X.shape[0])\n",
        "X_train, X_test, y_train, y_test = X[:split], X[split:], y[:split], y[split:] "
      ],
      "metadata": {
        "id": "i1eflCQDyRk6"
      },
      "execution_count": 114,
      "outputs": []
    },
    {
      "cell_type": "code",
      "source": [
        "def plot_predictions(\n",
        "    train_data,\n",
        "    train_labels,\n",
        "    test_data,\n",
        "    test_labels,\n",
        "    predictions=None,\n",
        "):\n",
        "  plt.figure(figsize=(10, 7))\n",
        "  plt.scatter(train_data, train_labels, c=\"b\", s=4, label=\"Train data\")\n",
        "  plt.scatter(test_data, test_labels, c=\"g\", s=4, label=\"Test data\")\n",
        "  if predictions is not None:\n",
        "    plt.scatter(test_data, predictions, c=\"r\", s=4, label=\"Predictions\")\n",
        "  plt.legend(prop={\"size\": 14})"
      ],
      "metadata": {
        "id": "BBppROXky5P-"
      },
      "execution_count": 172,
      "outputs": []
    },
    {
      "cell_type": "code",
      "source": [
        "plot_predictions(X_train, y_train, X_test, y_test)"
      ],
      "metadata": {
        "colab": {
          "base_uri": "https://localhost:8080/",
          "height": 428
        },
        "id": "dDjcDRkry75f",
        "outputId": "cfc1aa03-519f-45c8-db10-7166c3e8a5db"
      },
      "execution_count": 173,
      "outputs": [
        {
          "output_type": "display_data",
          "data": {
            "text/plain": [
              "<Figure size 720x504 with 1 Axes>"
            ],
            "image/png": "[encoded data removed]"
          },
          "metadata": {
            "needs_background": "light"
          }
        }
      ]
    },
    {
      "cell_type": "code",
      "source": [
        "class LinearModel(nn.Module):\n",
        "  def __init__(self):\n",
        "    super().__init__()\n",
        "    self.weights = nn.Parameter(torch.rand(1, dtype=torch.float), requires_grad=True)\n",
        "    self.bias = nn.Parameter(torch.rand(1, dtype=torch.float), requires_grad=True)\n",
        "  def forward(self, x: torch.Tensor):\n",
        "    return self.weights * x + self.bias"
      ],
      "metadata": {
        "id": "AjUNO-osz0lR"
      },
      "execution_count": 174,
      "outputs": []
    },
    {
      "cell_type": "code",
      "source": [
        "torch.manual_seed(13)\n",
        "model_0 = LinearModel()\n",
        "with torch.inference_mode():\n",
        "  y_preds = model_0(X_test)"
      ],
      "metadata": {
        "id": "LvTtLUpW0hce"
      },
      "execution_count": 175,
      "outputs": []
    },
    {
      "cell_type": "code",
      "source": [
        "plot_predictions(X_train, y_train, X_test, y_test, y_preds)"
      ],
      "metadata": {
        "colab": {
          "base_uri": "https://localhost:8080/",
          "height": 428
        },
        "id": "ZQy9Qaq91qaE",
        "outputId": "fbfe5deb-c781-45e0-fd88-9a51620fe1f7"
      },
      "execution_count": 176,
      "outputs": [
        {
          "output_type": "display_data",
          "data": {
            "text/plain": [
              "<Figure size 720x504 with 1 Axes>"
            ],
            "image/png": "[encoded data removed]"
          },
          "metadata": {
            "needs_background": "light"
          }
        }
      ]
    },
    {
      "cell_type": "code",
      "source": [
        "loss_fn = nn.L1Loss()\n",
        "optimizer = torch.optim.SGD(params=model_0.parameters(), lr=0.05)"
      ],
      "metadata": {
        "id": "V48sYZH41yJG"
      },
      "execution_count": 177,
      "outputs": []
    },
    {
      "cell_type": "code",
      "source": [
        "num_epochs = 100\n",
        "epochs, train_losses, test_losses = [], [], []\n",
        "\n",
        "for epoch in range(num_epochs):\n",
        "  model_0.train()\n",
        "  y_pred = model_0(X_train)\n",
        "  train_loss = loss_fn(y_pred, y_train)\n",
        "  optimizer.zero_grad()\n",
        "  train_loss.backward()\n",
        "  optimizer.step()\n",
        "  model_0.eval()\n",
        "  with torch.inference_mode():\n",
        "    test_pred = model_0(X_test)\n",
        "    test_loss = loss_fn(test_pred, y_test)\n",
        "    epochs.append(epoch)\n",
        "    train_losses.append(train_loss.detach().numpy())\n",
        "    test_losses.append(test_loss.detach().numpy())\n",
        "    if epoch % 5 == 0:\n",
        "      print(\"Epoch: %i Loss %.2f Test Loss %.2f\" % (epoch, train_loss, test_loss))"
      ],
      "metadata": {
        "colab": {
          "base_uri": "https://localhost:8080/"
        },
        "id": "jhO1myzl1_VB",
        "outputId": "fc1d94ee-7cd3-4c84-d267-11c56ac0784f"
      },
      "execution_count": 178,
      "outputs": [
        {
          "output_type": "stream",
          "name": "stdout",
          "text": [
            "Epoch: 0 Loss 0.18 Test Loss 0.43\n",
            "Epoch: 5 Loss 0.13 Test Loss 0.31\n",
            "Epoch: 10 Loss 0.11 Test Loss 0.24\n",
            "Epoch: 15 Loss 0.11 Test Loss 0.21\n",
            "Epoch: 20 Loss 0.10 Test Loss 0.19\n",
            "Epoch: 25 Loss 0.09 Test Loss 0.17\n",
            "Epoch: 30 Loss 0.09 Test Loss 0.16\n",
            "Epoch: 35 Loss 0.08 Test Loss 0.16\n",
            "Epoch: 40 Loss 0.08 Test Loss 0.15\n",
            "Epoch: 45 Loss 0.07 Test Loss 0.15\n",
            "Epoch: 50 Loss 0.07 Test Loss 0.14\n",
            "Epoch: 55 Loss 0.06 Test Loss 0.11\n",
            "Epoch: 60 Loss 0.06 Test Loss 0.09\n",
            "Epoch: 65 Loss 0.06 Test Loss 0.09\n",
            "Epoch: 70 Loss 0.05 Test Loss 0.07\n",
            "Epoch: 75 Loss 0.05 Test Loss 0.07\n",
            "Epoch: 80 Loss 0.05 Test Loss 0.06\n",
            "Epoch: 85 Loss 0.05 Test Loss 0.06\n",
            "Epoch: 90 Loss 0.05 Test Loss 0.05\n",
            "Epoch: 95 Loss 0.05 Test Loss 0.05\n"
          ]
        }
      ]
    },
    {
      "cell_type": "code",
      "source": [
        "plt.plot(epochs, train_losses, label=\"Train_loss\")\n",
        "plt.plot(epochs, test_losses, label=\"Test_loss\")\n",
        "plt.title(\"Training and test loss curves\")\n",
        "plt.ylabel(\"Loss\")\n",
        "plt.xlabel(\"Epoch\")\n",
        "plt.legend()"
      ],
      "metadata": {
        "colab": {
          "base_uri": "https://localhost:8080/",
          "height": 313
        },
        "id": "TadsJib25Yq5",
        "outputId": "e76fbbef-8d20-47a5-bb1f-622588606513"
      },
      "execution_count": 180,
      "outputs": [
        {
          "output_type": "execute_result",
          "data": {
            "text/plain": [
              "<matplotlib.legend.Legend at 0x7fd8e45b6a30>"
            ]
          },
          "metadata": {},
          "execution_count": 180
        },
        {
          "output_type": "display_data",
          "data": {
            "text/plain": [
              "<Figure size 432x288 with 1 Axes>"
            ],
            "image/png": "[encoded data removed]"
          },
          "metadata": {
            "needs_background": "light"
          }
        }
      ]
    },
    {
      "cell_type": "code",
      "source": [
        "with torch.inference_mode():\n",
        "  y_preds = model_0(X_test)\n",
        "  \n",
        "plot_predictions(X_train, y_train, X_test, y_test, y_preds)"
      ],
      "metadata": {
        "colab": {
          "base_uri": "https://localhost:8080/",
          "height": 428
        },
        "id": "uVu27FPI31n9",
        "outputId": "6104dd13-a70d-4eb4-e6de-2766f02bbf26"
      },
      "execution_count": 165,
      "outputs": [
        {
          "output_type": "display_data",
          "data": {
            "text/plain": [
              "<Figure size 720x504 with 1 Axes>"
            ],
            "image/png": "[encoded data removed]"
          },
          "metadata": {
            "needs_background": "light"
          }
        }
      ]
    },
    {
      "cell_type": "code",
      "source": [
        "OUTPUT_PATH = Path(\"models\")\n",
        "OUTPUT_PATH.mkdir(parents=True, exist_ok=True)\n",
        "file_path = OUTPUT_PATH / \"linear_model.pt\"\n",
        "torch.save(obj=model_0.state_dict(), f=file_path)"
      ],
      "metadata": {
        "id": "DBRL-5o86YwG"
      },
      "execution_count": 186,
      "outputs": []
    },
    {
      "cell_type": "code",
      "source": [
        "model_0_from_saved = LinearModel()\n",
        "model_0_from_saved.load_state_dict(state_dict=torch.load(file_path))"
      ],
      "metadata": {
        "colab": {
          "base_uri": "https://localhost:8080/"
        },
        "id": "V8FUWMrz7OgY",
        "outputId": "94afb5d1-5fca-4d4f-e414-2dcdc88fef40"
      },
      "execution_count": 190,
      "outputs": [
        {
          "output_type": "execute_result",
          "data": {
            "text/plain": [
              "<All keys matched successfully>"
            ]
          },
          "metadata": {},
          "execution_count": 190
        }
      ]
    },
    {
      "cell_type": "markdown",
      "source": [
        "# 02 PyTorch Neural Network Classification"
      ],
      "metadata": {
        "id": "XiHaMKe37_-C"
      }
    },
    {
      "cell_type": "code",
      "source": [
        "import numpy as np\n",
        "from sklearn.datasets import make_circles"
      ],
      "metadata": {
        "id": "csrPynhbZC7J"
      },
      "execution_count": 385,
      "outputs": []
    },
    {
      "cell_type": "code",
      "source": [
        "n_samples = 1000\n",
        "\n",
        "X, y = make_circles(n_samples, noise=0.03, random_state=42)"
      ],
      "metadata": {
        "id": "ABgPhAJY7V5s"
      },
      "execution_count": 218,
      "outputs": []
    },
    {
      "cell_type": "code",
      "source": [
        "print(f\"{X.shape=}\")\n",
        "print(f\"{y.shape=}\")"
      ],
      "metadata": {
        "colab": {
          "base_uri": "https://localhost:8080/"
        },
        "id": "WIfmFWycLW_F",
        "outputId": "f82b4370-a58f-45a5-cc3f-6af096e7b423"
      },
      "execution_count": 219,
      "outputs": [
        {
          "output_type": "stream",
          "name": "stdout",
          "text": [
            "X.shape=(1000, 2)\n",
            "y.shape=(1000,)\n"
          ]
        }
      ]
    },
    {
      "cell_type": "code",
      "source": [
        "import matplotlib.pyplot as plt\n",
        "\n",
        "plt.scatter(x=X[:, 0], y=X[:, 1], c=y, cmap=plt.cm.RdYlBu)"
      ],
      "metadata": {
        "colab": {
          "base_uri": "https://localhost:8080/",
          "height": 283
        },
        "id": "5qrDmvabLdS8",
        "outputId": "6d488515-be63-4bf5-b491-4ffb55ef3299"
      },
      "execution_count": 220,
      "outputs": [
        {
          "output_type": "execute_result",
          "data": {
            "text/plain": [
              "<matplotlib.collections.PathCollection at 0x7fd8e428df40>"
            ]
          },
          "metadata": {},
          "execution_count": 220
        },
        {
          "output_type": "display_data",
          "data": {
            "text/plain": [
              "<Figure size 432x288 with 1 Axes>"
            ],
            "image/png": "[encoded data removed]"
          },
          "metadata": {
            "needs_background": "light"
          }
        }
      ]
    },
    {
      "cell_type": "code",
      "source": [
        "X_pt = torch.from_numpy(X).type(torch.float)\n",
        "y_pt = torch.from_numpy(y).type(torch.float)"
      ],
      "metadata": {
        "id": "CGF3CcLbLyww"
      },
      "execution_count": 254,
      "outputs": []
    },
    {
      "cell_type": "code",
      "source": [
        "from sklearn.model_selection import train_test_split\n",
        "\n",
        "X_train, X_test, y_train, y_test = train_test_split(X_pt, y_pt, test_size=0.2, random_state=32)"
      ],
      "metadata": {
        "id": "DuaRO4v8L2-f"
      },
      "execution_count": 257,
      "outputs": []
    },
    {
      "cell_type": "code",
      "source": [
        "class CircleModel(nn.Module):\n",
        "  def __init__(self):\n",
        "    super().__init__()\n",
        "    self.l1 = nn.Linear(in_features=2, out_features=16, dtype=torch.float)\n",
        "    self.l2 = nn.Linear(in_features=16, out_features=16, dtype=torch.float)\n",
        "    self.l3 = nn.Linear(in_features=16, out_features=1, dtype=torch.float)\n",
        "    self.relu = nn.ReLU()\n",
        "    self.activation = nn.Sigmoid()\n",
        "\n",
        "  def forward(self, x):\n",
        "    x = self.l1(x)\n",
        "    x = self.relu(x)\n",
        "    x = self.l2(x)\n",
        "    x = self.relu(x)\n",
        "    x = self.l3(x)\n",
        "    x = self.activation(x)\n",
        "    return x"
      ],
      "metadata": {
        "id": "YtWyIbunMADi"
      },
      "execution_count": 332,
      "outputs": []
    },
    {
      "cell_type": "code",
      "source": [
        "def accuracy(y_true, y_pred):\n",
        "  correct = torch.eq(y_true, y_pred).sum().item()\n",
        "  return correct / y_true.shape[0] * 100"
      ],
      "metadata": {
        "id": "bdymXfivRP_j"
      },
      "execution_count": 343,
      "outputs": []
    },
    {
      "cell_type": "code",
      "source": [
        "model_0 = CircleModel().to(device)\n",
        "optimizer = torch.optim.Adam(model_0.parameters(), lr=0.01)"
      ],
      "metadata": {
        "id": "8jdyS8XGMj6Y"
      },
      "execution_count": 354,
      "outputs": []
    },
    {
      "cell_type": "code",
      "source": [
        "num_epochs = 100\n",
        "\n",
        "epochs = range(num_epochs)\n",
        "train_losses, test_losses = [], []\n",
        "train_accuracies, test_accuracies = [], []\n",
        "\n",
        "tmpl = \"Epoch %i Loss %.2f Accuracy %.2f Test Loss %.2f Test Accuracy %.2f\"\n",
        "\n",
        "for epoch in epochs:\n",
        "  model_0.train()\n",
        "  probs_train = model_0(X_train).squeeze()\n",
        "  preds_train = torch.round(probs_train)\n",
        "  loss_train = nn.BCELoss()(probs_train, y_train)\n",
        "  optimizer.zero_grad()\n",
        "  loss_train.backward()\n",
        "  optimizer.step()\n",
        "  train_losses.append(loss_train)\n",
        "  accuracy_train = accuracy(y_train, preds_train)\n",
        "  train_accuracies.append(accuracy_train)\n",
        "  model_0.eval()\n",
        "  with torch.inference_mode():\n",
        "    probs_test = model_0(X_test).squeeze()\n",
        "    preds_test = torch.round(probs_test)\n",
        "    loss_test = nn.BCELoss()(probs_test, y_test)\n",
        "  test_losses.append(loss_test)\n",
        "  accuracy_test = accuracy(y_test, preds_test)\n",
        "  test_accuracies.append(accuracy_test)\n",
        "  if epoch % 5 == 0:\n",
        "    print(tmpl % (epoch, loss_train, accuracy_train, loss_test, accuracy_test))\n",
        "  "
      ],
      "metadata": {
        "colab": {
          "base_uri": "https://localhost:8080/"
        },
        "id": "oAj-bVeXPVyu",
        "outputId": "121d9630-b97e-4987-89e9-90cdf8ad85e0"
      },
      "execution_count": 355,
      "outputs": [
        {
          "output_type": "stream",
          "name": "stdout",
          "text": [
            "Epoch 0 Loss 0.70 Accuracy 50.12 Test Loss 0.70 Test Accuracy 49.50\n",
            "Epoch 5 Loss 0.69 Accuracy 51.62 Test Loss 0.69 Test Accuracy 48.50\n",
            "Epoch 10 Loss 0.69 Accuracy 51.75 Test Loss 0.69 Test Accuracy 47.50\n",
            "Epoch 15 Loss 0.68 Accuracy 52.75 Test Loss 0.69 Test Accuracy 46.50\n",
            "Epoch 20 Loss 0.68 Accuracy 53.87 Test Loss 0.69 Test Accuracy 48.50\n",
            "Epoch 25 Loss 0.67 Accuracy 54.25 Test Loss 0.68 Test Accuracy 49.00\n",
            "Epoch 30 Loss 0.67 Accuracy 59.00 Test Loss 0.67 Test Accuracy 60.50\n",
            "Epoch 35 Loss 0.66 Accuracy 60.25 Test Loss 0.67 Test Accuracy 54.50\n",
            "Epoch 40 Loss 0.65 Accuracy 61.12 Test Loss 0.66 Test Accuracy 57.00\n",
            "Epoch 45 Loss 0.63 Accuracy 62.75 Test Loss 0.64 Test Accuracy 58.00\n",
            "Epoch 50 Loss 0.61 Accuracy 65.00 Test Loss 0.62 Test Accuracy 62.00\n",
            "Epoch 55 Loss 0.59 Accuracy 69.88 Test Loss 0.60 Test Accuracy 65.00\n",
            "Epoch 60 Loss 0.56 Accuracy 73.75 Test Loss 0.57 Test Accuracy 74.00\n",
            "Epoch 65 Loss 0.52 Accuracy 79.00 Test Loss 0.54 Test Accuracy 77.50\n",
            "Epoch 70 Loss 0.49 Accuracy 81.12 Test Loss 0.50 Test Accuracy 77.00\n",
            "Epoch 75 Loss 0.45 Accuracy 84.12 Test Loss 0.47 Test Accuracy 81.50\n",
            "Epoch 80 Loss 0.41 Accuracy 91.12 Test Loss 0.42 Test Accuracy 92.00\n",
            "Epoch 85 Loss 0.37 Accuracy 96.00 Test Loss 0.38 Test Accuracy 97.50\n",
            "Epoch 90 Loss 0.33 Accuracy 98.50 Test Loss 0.33 Test Accuracy 98.50\n",
            "Epoch 95 Loss 0.28 Accuracy 99.38 Test Loss 0.28 Test Accuracy 99.00\n"
          ]
        }
      ]
    },
    {
      "cell_type": "code",
      "source": [
        "model_0.eval()\n",
        "with torch.inference_mode():\n",
        "  probs_test = model_0(X_test).squeeze()\n",
        "  preds_test = torch.round(probs_test)\n",
        "\n",
        "print(f\"{preds_test[:15]=}\".rjust(85))\n",
        "print(f\"{y_test[:15]=}\".rjust(85))"
      ],
      "metadata": {
        "colab": {
          "base_uri": "https://localhost:8080/"
        },
        "id": "RgQ6K8-iQwbu",
        "outputId": "e5444b73-f471-437a-9e87-c7f830a1f8d4"
      },
      "execution_count": 386,
      "outputs": [
        {
          "output_type": "stream",
          "name": "stdout",
          "text": [
            " preds_test[:15]=tensor([0., 1., 0., 0., 1., 0., 1., 0., 1., 1., 1., 0., 0., 0., 0.])\n",
            "     y_test[:15]=tensor([0., 1., 0., 0., 1., 0., 1., 0., 1., 1., 1., 0., 0., 0., 0.])\n"
          ]
        }
      ]
    },
    {
      "cell_type": "code",
      "source": [
        "def plot_decision_boundary(model, X, y):\n",
        "  # setup mesh\n",
        "  x_min, x_max = X[:, 0].min() - 0.1, X[:, 0].max() + 0.1\n",
        "  y_min, y_max = X[:, 1].min() - 0.1, X[:, 1].max() + 0.1\n",
        "  xx, yy = np.meshgrid(np.linspace(x_min, x_max, 1001), np.linspace(y_min, y_max, 1001))\n",
        "  # reshape data\n",
        "  X_mesh = torch.from_numpy(np.column_stack((xx.ravel(), yy.ravel()))).float()\n",
        "  # predict\n",
        "  model_0.eval()\n",
        "  with torch.inference_mode():\n",
        "    probs_mesh = model_0(X_mesh).squeeze()\n",
        "    preds_mesh = torch.round(probs_mesh)\n",
        "  # reshape back\n",
        "  preds_mesh_reshaped = preds_mesh.reshape(xx.shape)\n",
        "  # plot\n",
        "  plt.contourf(xx, yy, preds_mesh_reshaped, cmap=plt.cm.RdYlBu, alpha=0.7)\n",
        "  plt.scatter(X[:, 0], X[:, 1], c=y, s=40, cmap=plt.cm.RdYlBu)"
      ],
      "metadata": {
        "id": "eGEopjEBYwUU"
      },
      "execution_count": 408,
      "outputs": []
    },
    {
      "cell_type": "code",
      "source": [
        "plot_decision_boundary(model=model_0, X=X_test, y=y_test)"
      ],
      "metadata": {
        "colab": {
          "base_uri": "https://localhost:8080/",
          "height": 265
        },
        "id": "BkaUAfu4Y3EP",
        "outputId": "47dd56a8-3c37-4c57-9172-cb944eaae98a"
      },
      "execution_count": 409,
      "outputs": [
        {
          "output_type": "display_data",
          "data": {
            "text/plain": [
              "<Figure size 432x288 with 1 Axes>"
            ],
            "image/png": "[encoded data removed]"
          },
          "metadata": {
            "needs_background": "light"
          }
        }
      ]
    }
  ]
}