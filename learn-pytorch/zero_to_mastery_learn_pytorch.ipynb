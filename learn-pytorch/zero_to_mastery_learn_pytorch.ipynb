{
  "nbformat": 4,
  "nbformat_minor": 0,
  "metadata": {
    "colab": {
      "provenance": [],
      "toc_visible": true,
      "authorship_tag": "ABX9TyOAONKjVZrXaV9FO0gGSJpM",
      "include_colab_link": true
    },
    "kernelspec": {
      "name": "python3",
      "display_name": "Python 3"
    },
    "language_info": {
      "name": "python"
    },
    "widgets": {
      "application/vnd.jupyter.widget-state+json": {
        "e1c9b463ecc345e0a3e754ecc1f05ee6": {
          "model_module": "@jupyter-widgets/controls",
          "model_name": "HBoxModel",
          "model_module_version": "1.5.0",
          "state": {
            "_dom_classes": [],
            "_model_module": "@jupyter-widgets/controls",
            "_model_module_version": "1.5.0",
            "_model_name": "HBoxModel",
            "_view_count": null,
            "_view_module": "@jupyter-widgets/controls",
            "_view_module_version": "1.5.0",
            "_view_name": "HBoxView",
            "box_style": "",
            "children": [
              "IPY_MODEL_101448c43fc24fb9a385c4ad1747a075",
              "IPY_MODEL_9ee0df6cfd054b3b9e58fabf9181a99c",
              "IPY_MODEL_db5f6c1660bb4053aad0cf1a7e467d66"
            ],
            "layout": "IPY_MODEL_00db00ec2f1e43868ef4fcfbef813a20"
          }
        },
        "101448c43fc24fb9a385c4ad1747a075": {
          "model_module": "@jupyter-widgets/controls",
          "model_name": "HTMLModel",
          "model_module_version": "1.5.0",
          "state": {
            "_dom_classes": [],
            "_model_module": "@jupyter-widgets/controls",
            "_model_module_version": "1.5.0",
            "_model_name": "HTMLModel",
            "_view_count": null,
            "_view_module": "@jupyter-widgets/controls",
            "_view_module_version": "1.5.0",
            "_view_name": "HTMLView",
            "description": "",
            "description_tooltip": null,
            "layout": "IPY_MODEL_df8c3170daf84497a45aa7d4a2f38f55",
            "placeholder": "​",
            "style": "IPY_MODEL_105b45d6e00a45b8ab9d007334f0e493",
            "value": "100%"
          }
        },
        "9ee0df6cfd054b3b9e58fabf9181a99c": {
          "model_module": "@jupyter-widgets/controls",
          "model_name": "FloatProgressModel",
          "model_module_version": "1.5.0",
          "state": {
            "_dom_classes": [],
            "_model_module": "@jupyter-widgets/controls",
            "_model_module_version": "1.5.0",
            "_model_name": "FloatProgressModel",
            "_view_count": null,
            "_view_module": "@jupyter-widgets/controls",
            "_view_module_version": "1.5.0",
            "_view_name": "ProgressView",
            "bar_style": "success",
            "description": "",
            "description_tooltip": null,
            "layout": "IPY_MODEL_36d1870f394042abbe9ab96306d6a4c2",
            "max": 26421880,
            "min": 0,
            "orientation": "horizontal",
            "style": "IPY_MODEL_a6f685591d8f4e7ebd09757f2f598205",
            "value": 26421880
          }
        },
        "db5f6c1660bb4053aad0cf1a7e467d66": {
          "model_module": "@jupyter-widgets/controls",
          "model_name": "HTMLModel",
          "model_module_version": "1.5.0",
          "state": {
            "_dom_classes": [],
            "_model_module": "@jupyter-widgets/controls",
            "_model_module_version": "1.5.0",
            "_model_name": "HTMLModel",
            "_view_count": null,
            "_view_module": "@jupyter-widgets/controls",
            "_view_module_version": "1.5.0",
            "_view_name": "HTMLView",
            "description": "",
            "description_tooltip": null,
            "layout": "IPY_MODEL_f695ecaf58a740568f3164776fbc3dcf",
            "placeholder": "​",
            "style": "IPY_MODEL_49a4142e33e94cf6b720b1b26ca189ca",
            "value": " 26421880/26421880 [00:02&lt;00:00, 20033535.89it/s]"
          }
        },
        "00db00ec2f1e43868ef4fcfbef813a20": {
          "model_module": "@jupyter-widgets/base",
          "model_name": "LayoutModel",
          "model_module_version": "1.2.0",
          "state": {
            "_model_module": "@jupyter-widgets/base",
            "_model_module_version": "1.2.0",
            "_model_name": "LayoutModel",
            "_view_count": null,
            "_view_module": "@jupyter-widgets/base",
            "_view_module_version": "1.2.0",
            "_view_name": "LayoutView",
            "align_content": null,
            "align_items": null,
            "align_self": null,
            "border": null,
            "bottom": null,
            "display": null,
            "flex": null,
            "flex_flow": null,
            "grid_area": null,
            "grid_auto_columns": null,
            "grid_auto_flow": null,
            "grid_auto_rows": null,
            "grid_column": null,
            "grid_gap": null,
            "grid_row": null,
            "grid_template_areas": null,
            "grid_template_columns": null,
            "grid_template_rows": null,
            "height": null,
            "justify_content": null,
            "justify_items": null,
            "left": null,
            "margin": null,
            "max_height": null,
            "max_width": null,
            "min_height": null,
            "min_width": null,
            "object_fit": null,
            "object_position": null,
            "order": null,
            "overflow": null,
            "overflow_x": null,
            "overflow_y": null,
            "padding": null,
            "right": null,
            "top": null,
            "visibility": null,
            "width": null
          }
        },
        "df8c3170daf84497a45aa7d4a2f38f55": {
          "model_module": "@jupyter-widgets/base",
          "model_name": "LayoutModel",
          "model_module_version": "1.2.0",
          "state": {
            "_model_module": "@jupyter-widgets/base",
            "_model_module_version": "1.2.0",
            "_model_name": "LayoutModel",
            "_view_count": null,
            "_view_module": "@jupyter-widgets/base",
            "_view_module_version": "1.2.0",
            "_view_name": "LayoutView",
            "align_content": null,
            "align_items": null,
            "align_self": null,
            "border": null,
            "bottom": null,
            "display": null,
            "flex": null,
            "flex_flow": null,
            "grid_area": null,
            "grid_auto_columns": null,
            "grid_auto_flow": null,
            "grid_auto_rows": null,
            "grid_column": null,
            "grid_gap": null,
            "grid_row": null,
            "grid_template_areas": null,
            "grid_template_columns": null,
            "grid_template_rows": null,
            "height": null,
            "justify_content": null,
            "justify_items": null,
            "left": null,
            "margin": null,
            "max_height": null,
            "max_width": null,
            "min_height": null,
            "min_width": null,
            "object_fit": null,
            "object_position": null,
            "order": null,
            "overflow": null,
            "overflow_x": null,
            "overflow_y": null,
            "padding": null,
            "right": null,
            "top": null,
            "visibility": null,
            "width": null
          }
        },
        "105b45d6e00a45b8ab9d007334f0e493": {
          "model_module": "@jupyter-widgets/controls",
          "model_name": "DescriptionStyleModel",
          "model_module_version": "1.5.0",
          "state": {
            "_model_module": "@jupyter-widgets/controls",
            "_model_module_version": "1.5.0",
            "_model_name": "DescriptionStyleModel",
            "_view_count": null,
            "_view_module": "@jupyter-widgets/base",
            "_view_module_version": "1.2.0",
            "_view_name": "StyleView",
            "description_width": ""
          }
        },
        "36d1870f394042abbe9ab96306d6a4c2": {
          "model_module": "@jupyter-widgets/base",
          "model_name": "LayoutModel",
          "model_module_version": "1.2.0",
          "state": {
            "_model_module": "@jupyter-widgets/base",
            "_model_module_version": "1.2.0",
            "_model_name": "LayoutModel",
            "_view_count": null,
            "_view_module": "@jupyter-widgets/base",
            "_view_module_version": "1.2.0",
            "_view_name": "LayoutView",
            "align_content": null,
            "align_items": null,
            "align_self": null,
            "border": null,
            "bottom": null,
            "display": null,
            "flex": null,
            "flex_flow": null,
            "grid_area": null,
            "grid_auto_columns": null,
            "grid_auto_flow": null,
            "grid_auto_rows": null,
            "grid_column": null,
            "grid_gap": null,
            "grid_row": null,
            "grid_template_areas": null,
            "grid_template_columns": null,
            "grid_template_rows": null,
            "height": null,
            "justify_content": null,
            "justify_items": null,
            "left": null,
            "margin": null,
            "max_height": null,
            "max_width": null,
            "min_height": null,
            "min_width": null,
            "object_fit": null,
            "object_position": null,
            "order": null,
            "overflow": null,
            "overflow_x": null,
            "overflow_y": null,
            "padding": null,
            "right": null,
            "top": null,
            "visibility": null,
            "width": null
          }
        },
        "a6f685591d8f4e7ebd09757f2f598205": {
          "model_module": "@jupyter-widgets/controls",
          "model_name": "ProgressStyleModel",
          "model_module_version": "1.5.0",
          "state": {
            "_model_module": "@jupyter-widgets/controls",
            "_model_module_version": "1.5.0",
            "_model_name": "ProgressStyleModel",
            "_view_count": null,
            "_view_module": "@jupyter-widgets/base",
            "_view_module_version": "1.2.0",
            "_view_name": "StyleView",
            "bar_color": null,
            "description_width": ""
          }
        },
        "f695ecaf58a740568f3164776fbc3dcf": {
          "model_module": "@jupyter-widgets/base",
          "model_name": "LayoutModel",
          "model_module_version": "1.2.0",
          "state": {
            "_model_module": "@jupyter-widgets/base",
            "_model_module_version": "1.2.0",
            "_model_name": "LayoutModel",
            "_view_count": null,
            "_view_module": "@jupyter-widgets/base",
            "_view_module_version": "1.2.0",
            "_view_name": "LayoutView",
            "align_content": null,
            "align_items": null,
            "align_self": null,
            "border": null,
            "bottom": null,
            "display": null,
            "flex": null,
            "flex_flow": null,
            "grid_area": null,
            "grid_auto_columns": null,
            "grid_auto_flow": null,
            "grid_auto_rows": null,
            "grid_column": null,
            "grid_gap": null,
            "grid_row": null,
            "grid_template_areas": null,
            "grid_template_columns": null,
            "grid_template_rows": null,
            "height": null,
            "justify_content": null,
            "justify_items": null,
            "left": null,
            "margin": null,
            "max_height": null,
            "max_width": null,
            "min_height": null,
            "min_width": null,
            "object_fit": null,
            "object_position": null,
            "order": null,
            "overflow": null,
            "overflow_x": null,
            "overflow_y": null,
            "padding": null,
            "right": null,
            "top": null,
            "visibility": null,
            "width": null
          }
        },
        "49a4142e33e94cf6b720b1b26ca189ca": {
          "model_module": "@jupyter-widgets/controls",
          "model_name": "DescriptionStyleModel",
          "model_module_version": "1.5.0",
          "state": {
            "_model_module": "@jupyter-widgets/controls",
            "_model_module_version": "1.5.0",
            "_model_name": "DescriptionStyleModel",
            "_view_count": null,
            "_view_module": "@jupyter-widgets/base",
            "_view_module_version": "1.2.0",
            "_view_name": "StyleView",
            "description_width": ""
          }
        },
        "9a12c7e1df314be4ab194326ae664ba1": {
          "model_module": "@jupyter-widgets/controls",
          "model_name": "HBoxModel",
          "model_module_version": "1.5.0",
          "state": {
            "_dom_classes": [],
            "_model_module": "@jupyter-widgets/controls",
            "_model_module_version": "1.5.0",
            "_model_name": "HBoxModel",
            "_view_count": null,
            "_view_module": "@jupyter-widgets/controls",
            "_view_module_version": "1.5.0",
            "_view_name": "HBoxView",
            "box_style": "",
            "children": [
              "IPY_MODEL_90c78ed00fcf42bf8da3b9d9eef05eb6",
              "IPY_MODEL_27bd013d55d2407c8b8100ecdd30638d",
              "IPY_MODEL_2a9ccd9e48bf472abf4ed930cfcd6515"
            ],
            "layout": "IPY_MODEL_34bc463815954e46913356ba4186124a"
          }
        },
        "90c78ed00fcf42bf8da3b9d9eef05eb6": {
          "model_module": "@jupyter-widgets/controls",
          "model_name": "HTMLModel",
          "model_module_version": "1.5.0",
          "state": {
            "_dom_classes": [],
            "_model_module": "@jupyter-widgets/controls",
            "_model_module_version": "1.5.0",
            "_model_name": "HTMLModel",
            "_view_count": null,
            "_view_module": "@jupyter-widgets/controls",
            "_view_module_version": "1.5.0",
            "_view_name": "HTMLView",
            "description": "",
            "description_tooltip": null,
            "layout": "IPY_MODEL_dbc461a01adc4db0a3b7b35a2ec929f7",
            "placeholder": "​",
            "style": "IPY_MODEL_0e568e0191a544178443782331e6e899",
            "value": "100%"
          }
        },
        "27bd013d55d2407c8b8100ecdd30638d": {
          "model_module": "@jupyter-widgets/controls",
          "model_name": "FloatProgressModel",
          "model_module_version": "1.5.0",
          "state": {
            "_dom_classes": [],
            "_model_module": "@jupyter-widgets/controls",
            "_model_module_version": "1.5.0",
            "_model_name": "FloatProgressModel",
            "_view_count": null,
            "_view_module": "@jupyter-widgets/controls",
            "_view_module_version": "1.5.0",
            "_view_name": "ProgressView",
            "bar_style": "success",
            "description": "",
            "description_tooltip": null,
            "layout": "IPY_MODEL_1af2e198848a4181bc983ecb7c7fc084",
            "max": 29515,
            "min": 0,
            "orientation": "horizontal",
            "style": "IPY_MODEL_0a30a82ae0c344b094d6e109166391a5",
            "value": 29515
          }
        },
        "2a9ccd9e48bf472abf4ed930cfcd6515": {
          "model_module": "@jupyter-widgets/controls",
          "model_name": "HTMLModel",
          "model_module_version": "1.5.0",
          "state": {
            "_dom_classes": [],
            "_model_module": "@jupyter-widgets/controls",
            "_model_module_version": "1.5.0",
            "_model_name": "HTMLModel",
            "_view_count": null,
            "_view_module": "@jupyter-widgets/controls",
            "_view_module_version": "1.5.0",
            "_view_name": "HTMLView",
            "description": "",
            "description_tooltip": null,
            "layout": "IPY_MODEL_116d3417ef694c24bf29f7c6dbcb64ff",
            "placeholder": "​",
            "style": "IPY_MODEL_1457eeb3c08a41dcbeb14d9462953638",
            "value": " 29515/29515 [00:00&lt;00:00, 207769.84it/s]"
          }
        },
        "34bc463815954e46913356ba4186124a": {
          "model_module": "@jupyter-widgets/base",
          "model_name": "LayoutModel",
          "model_module_version": "1.2.0",
          "state": {
            "_model_module": "@jupyter-widgets/base",
            "_model_module_version": "1.2.0",
            "_model_name": "LayoutModel",
            "_view_count": null,
            "_view_module": "@jupyter-widgets/base",
            "_view_module_version": "1.2.0",
            "_view_name": "LayoutView",
            "align_content": null,
            "align_items": null,
            "align_self": null,
            "border": null,
            "bottom": null,
            "display": null,
            "flex": null,
            "flex_flow": null,
            "grid_area": null,
            "grid_auto_columns": null,
            "grid_auto_flow": null,
            "grid_auto_rows": null,
            "grid_column": null,
            "grid_gap": null,
            "grid_row": null,
            "grid_template_areas": null,
            "grid_template_columns": null,
            "grid_template_rows": null,
            "height": null,
            "justify_content": null,
            "justify_items": null,
            "left": null,
            "margin": null,
            "max_height": null,
            "max_width": null,
            "min_height": null,
            "min_width": null,
            "object_fit": null,
            "object_position": null,
            "order": null,
            "overflow": null,
            "overflow_x": null,
            "overflow_y": null,
            "padding": null,
            "right": null,
            "top": null,
            "visibility": null,
            "width": null
          }
        },
        "dbc461a01adc4db0a3b7b35a2ec929f7": {
          "model_module": "@jupyter-widgets/base",
          "model_name": "LayoutModel",
          "model_module_version": "1.2.0",
          "state": {
            "_model_module": "@jupyter-widgets/base",
            "_model_module_version": "1.2.0",
            "_model_name": "LayoutModel",
            "_view_count": null,
            "_view_module": "@jupyter-widgets/base",
            "_view_module_version": "1.2.0",
            "_view_name": "LayoutView",
            "align_content": null,
            "align_items": null,
            "align_self": null,
            "border": null,
            "bottom": null,
            "display": null,
            "flex": null,
            "flex_flow": null,
            "grid_area": null,
            "grid_auto_columns": null,
            "grid_auto_flow": null,
            "grid_auto_rows": null,
            "grid_column": null,
            "grid_gap": null,
            "grid_row": null,
            "grid_template_areas": null,
            "grid_template_columns": null,
            "grid_template_rows": null,
            "height": null,
            "justify_content": null,
            "justify_items": null,
            "left": null,
            "margin": null,
            "max_height": null,
            "max_width": null,
            "min_height": null,
            "min_width": null,
            "object_fit": null,
            "object_position": null,
            "order": null,
            "overflow": null,
            "overflow_x": null,
            "overflow_y": null,
            "padding": null,
            "right": null,
            "top": null,
            "visibility": null,
            "width": null
          }
        },
        "0e568e0191a544178443782331e6e899": {
          "model_module": "@jupyter-widgets/controls",
          "model_name": "DescriptionStyleModel",
          "model_module_version": "1.5.0",
          "state": {
            "_model_module": "@jupyter-widgets/controls",
            "_model_module_version": "1.5.0",
            "_model_name": "DescriptionStyleModel",
            "_view_count": null,
            "_view_module": "@jupyter-widgets/base",
            "_view_module_version": "1.2.0",
            "_view_name": "StyleView",
            "description_width": ""
          }
        },
        "1af2e198848a4181bc983ecb7c7fc084": {
          "model_module": "@jupyter-widgets/base",
          "model_name": "LayoutModel",
          "model_module_version": "1.2.0",
          "state": {
            "_model_module": "@jupyter-widgets/base",
            "_model_module_version": "1.2.0",
            "_model_name": "LayoutModel",
            "_view_count": null,
            "_view_module": "@jupyter-widgets/base",
            "_view_module_version": "1.2.0",
            "_view_name": "LayoutView",
            "align_content": null,
            "align_items": null,
            "align_self": null,
            "border": null,
            "bottom": null,
            "display": null,
            "flex": null,
            "flex_flow": null,
            "grid_area": null,
            "grid_auto_columns": null,
            "grid_auto_flow": null,
            "grid_auto_rows": null,
            "grid_column": null,
            "grid_gap": null,
            "grid_row": null,
            "grid_template_areas": null,
            "grid_template_columns": null,
            "grid_template_rows": null,
            "height": null,
            "justify_content": null,
            "justify_items": null,
            "left": null,
            "margin": null,
            "max_height": null,
            "max_width": null,
            "min_height": null,
            "min_width": null,
            "object_fit": null,
            "object_position": null,
            "order": null,
            "overflow": null,
            "overflow_x": null,
            "overflow_y": null,
            "padding": null,
            "right": null,
            "top": null,
            "visibility": null,
            "width": null
          }
        },
        "0a30a82ae0c344b094d6e109166391a5": {
          "model_module": "@jupyter-widgets/controls",
          "model_name": "ProgressStyleModel",
          "model_module_version": "1.5.0",
          "state": {
            "_model_module": "@jupyter-widgets/controls",
            "_model_module_version": "1.5.0",
            "_model_name": "ProgressStyleModel",
            "_view_count": null,
            "_view_module": "@jupyter-widgets/base",
            "_view_module_version": "1.2.0",
            "_view_name": "StyleView",
            "bar_color": null,
            "description_width": ""
          }
        },
        "116d3417ef694c24bf29f7c6dbcb64ff": {
          "model_module": "@jupyter-widgets/base",
          "model_name": "LayoutModel",
          "model_module_version": "1.2.0",
          "state": {
            "_model_module": "@jupyter-widgets/base",
            "_model_module_version": "1.2.0",
            "_model_name": "LayoutModel",
            "_view_count": null,
            "_view_module": "@jupyter-widgets/base",
            "_view_module_version": "1.2.0",
            "_view_name": "LayoutView",
            "align_content": null,
            "align_items": null,
            "align_self": null,
            "border": null,
            "bottom": null,
            "display": null,
            "flex": null,
            "flex_flow": null,
            "grid_area": null,
            "grid_auto_columns": null,
            "grid_auto_flow": null,
            "grid_auto_rows": null,
            "grid_column": null,
            "grid_gap": null,
            "grid_row": null,
            "grid_template_areas": null,
            "grid_template_columns": null,
            "grid_template_rows": null,
            "height": null,
            "justify_content": null,
            "justify_items": null,
            "left": null,
            "margin": null,
            "max_height": null,
            "max_width": null,
            "min_height": null,
            "min_width": null,
            "object_fit": null,
            "object_position": null,
            "order": null,
            "overflow": null,
            "overflow_x": null,
            "overflow_y": null,
            "padding": null,
            "right": null,
            "top": null,
            "visibility": null,
            "width": null
          }
        },
        "1457eeb3c08a41dcbeb14d9462953638": {
          "model_module": "@jupyter-widgets/controls",
          "model_name": "DescriptionStyleModel",
          "model_module_version": "1.5.0",
          "state": {
            "_model_module": "@jupyter-widgets/controls",
            "_model_module_version": "1.5.0",
            "_model_name": "DescriptionStyleModel",
            "_view_count": null,
            "_view_module": "@jupyter-widgets/base",
            "_view_module_version": "1.2.0",
            "_view_name": "StyleView",
            "description_width": ""
          }
        },
        "ebaca8c424484da98ec578b0ad11288f": {
          "model_module": "@jupyter-widgets/controls",
          "model_name": "HBoxModel",
          "model_module_version": "1.5.0",
          "state": {
            "_dom_classes": [],
            "_model_module": "@jupyter-widgets/controls",
            "_model_module_version": "1.5.0",
            "_model_name": "HBoxModel",
            "_view_count": null,
            "_view_module": "@jupyter-widgets/controls",
            "_view_module_version": "1.5.0",
            "_view_name": "HBoxView",
            "box_style": "",
            "children": [
              "IPY_MODEL_1bbb83a52f284fa3b0a510c1d9fe42c7",
              "IPY_MODEL_cb4266b69eeb4d818dbba1d8e1e5dc37",
              "IPY_MODEL_9c0a9184460342f888d61a13ea2dec36"
            ],
            "layout": "IPY_MODEL_93e0119a76b343c2b32995be0bd2abd7"
          }
        },
        "1bbb83a52f284fa3b0a510c1d9fe42c7": {
          "model_module": "@jupyter-widgets/controls",
          "model_name": "HTMLModel",
          "model_module_version": "1.5.0",
          "state": {
            "_dom_classes": [],
            "_model_module": "@jupyter-widgets/controls",
            "_model_module_version": "1.5.0",
            "_model_name": "HTMLModel",
            "_view_count": null,
            "_view_module": "@jupyter-widgets/controls",
            "_view_module_version": "1.5.0",
            "_view_name": "HTMLView",
            "description": "",
            "description_tooltip": null,
            "layout": "IPY_MODEL_476bc384e7d3474999da961b3de24be8",
            "placeholder": "​",
            "style": "IPY_MODEL_35d24a42f2724f7d990f14595c8a22f3",
            "value": "100%"
          }
        },
        "cb4266b69eeb4d818dbba1d8e1e5dc37": {
          "model_module": "@jupyter-widgets/controls",
          "model_name": "FloatProgressModel",
          "model_module_version": "1.5.0",
          "state": {
            "_dom_classes": [],
            "_model_module": "@jupyter-widgets/controls",
            "_model_module_version": "1.5.0",
            "_model_name": "FloatProgressModel",
            "_view_count": null,
            "_view_module": "@jupyter-widgets/controls",
            "_view_module_version": "1.5.0",
            "_view_name": "ProgressView",
            "bar_style": "success",
            "description": "",
            "description_tooltip": null,
            "layout": "IPY_MODEL_cab6b0aac775455f9e7d68d5e164726a",
            "max": 4422102,
            "min": 0,
            "orientation": "horizontal",
            "style": "IPY_MODEL_3ac84706392d40ab97d66ddd891c8a5e",
            "value": 4422102
          }
        },
        "9c0a9184460342f888d61a13ea2dec36": {
          "model_module": "@jupyter-widgets/controls",
          "model_name": "HTMLModel",
          "model_module_version": "1.5.0",
          "state": {
            "_dom_classes": [],
            "_model_module": "@jupyter-widgets/controls",
            "_model_module_version": "1.5.0",
            "_model_name": "HTMLModel",
            "_view_count": null,
            "_view_module": "@jupyter-widgets/controls",
            "_view_module_version": "1.5.0",
            "_view_name": "HTMLView",
            "description": "",
            "description_tooltip": null,
            "layout": "IPY_MODEL_34e4422c6dd74a128963c764dd6643b4",
            "placeholder": "​",
            "style": "IPY_MODEL_b10c5a5aafdb473892caa32cf3c12257",
            "value": " 4422102/4422102 [00:01&lt;00:00, 6192779.80it/s]"
          }
        },
        "93e0119a76b343c2b32995be0bd2abd7": {
          "model_module": "@jupyter-widgets/base",
          "model_name": "LayoutModel",
          "model_module_version": "1.2.0",
          "state": {
            "_model_module": "@jupyter-widgets/base",
            "_model_module_version": "1.2.0",
            "_model_name": "LayoutModel",
            "_view_count": null,
            "_view_module": "@jupyter-widgets/base",
            "_view_module_version": "1.2.0",
            "_view_name": "LayoutView",
            "align_content": null,
            "align_items": null,
            "align_self": null,
            "border": null,
            "bottom": null,
            "display": null,
            "flex": null,
            "flex_flow": null,
            "grid_area": null,
            "grid_auto_columns": null,
            "grid_auto_flow": null,
            "grid_auto_rows": null,
            "grid_column": null,
            "grid_gap": null,
            "grid_row": null,
            "grid_template_areas": null,
            "grid_template_columns": null,
            "grid_template_rows": null,
            "height": null,
            "justify_content": null,
            "justify_items": null,
            "left": null,
            "margin": null,
            "max_height": null,
            "max_width": null,
            "min_height": null,
            "min_width": null,
            "object_fit": null,
            "object_position": null,
            "order": null,
            "overflow": null,
            "overflow_x": null,
            "overflow_y": null,
            "padding": null,
            "right": null,
            "top": null,
            "visibility": null,
            "width": null
          }
        },
        "476bc384e7d3474999da961b3de24be8": {
          "model_module": "@jupyter-widgets/base",
          "model_name": "LayoutModel",
          "model_module_version": "1.2.0",
          "state": {
            "_model_module": "@jupyter-widgets/base",
            "_model_module_version": "1.2.0",
            "_model_name": "LayoutModel",
            "_view_count": null,
            "_view_module": "@jupyter-widgets/base",
            "_view_module_version": "1.2.0",
            "_view_name": "LayoutView",
            "align_content": null,
            "align_items": null,
            "align_self": null,
            "border": null,
            "bottom": null,
            "display": null,
            "flex": null,
            "flex_flow": null,
            "grid_area": null,
            "grid_auto_columns": null,
            "grid_auto_flow": null,
            "grid_auto_rows": null,
            "grid_column": null,
            "grid_gap": null,
            "grid_row": null,
            "grid_template_areas": null,
            "grid_template_columns": null,
            "grid_template_rows": null,
            "height": null,
            "justify_content": null,
            "justify_items": null,
            "left": null,
            "margin": null,
            "max_height": null,
            "max_width": null,
            "min_height": null,
            "min_width": null,
            "object_fit": null,
            "object_position": null,
            "order": null,
            "overflow": null,
            "overflow_x": null,
            "overflow_y": null,
            "padding": null,
            "right": null,
            "top": null,
            "visibility": null,
            "width": null
          }
        },
        "35d24a42f2724f7d990f14595c8a22f3": {
          "model_module": "@jupyter-widgets/controls",
          "model_name": "DescriptionStyleModel",
          "model_module_version": "1.5.0",
          "state": {
            "_model_module": "@jupyter-widgets/controls",
            "_model_module_version": "1.5.0",
            "_model_name": "DescriptionStyleModel",
            "_view_count": null,
            "_view_module": "@jupyter-widgets/base",
            "_view_module_version": "1.2.0",
            "_view_name": "StyleView",
            "description_width": ""
          }
        },
        "cab6b0aac775455f9e7d68d5e164726a": {
          "model_module": "@jupyter-widgets/base",
          "model_name": "LayoutModel",
          "model_module_version": "1.2.0",
          "state": {
            "_model_module": "@jupyter-widgets/base",
            "_model_module_version": "1.2.0",
            "_model_name": "LayoutModel",
            "_view_count": null,
            "_view_module": "@jupyter-widgets/base",
            "_view_module_version": "1.2.0",
            "_view_name": "LayoutView",
            "align_content": null,
            "align_items": null,
            "align_self": null,
            "border": null,
            "bottom": null,
            "display": null,
            "flex": null,
            "flex_flow": null,
            "grid_area": null,
            "grid_auto_columns": null,
            "grid_auto_flow": null,
            "grid_auto_rows": null,
            "grid_column": null,
            "grid_gap": null,
            "grid_row": null,
            "grid_template_areas": null,
            "grid_template_columns": null,
            "grid_template_rows": null,
            "height": null,
            "justify_content": null,
            "justify_items": null,
            "left": null,
            "margin": null,
            "max_height": null,
            "max_width": null,
            "min_height": null,
            "min_width": null,
            "object_fit": null,
            "object_position": null,
            "order": null,
            "overflow": null,
            "overflow_x": null,
            "overflow_y": null,
            "padding": null,
            "right": null,
            "top": null,
            "visibility": null,
            "width": null
          }
        },
        "3ac84706392d40ab97d66ddd891c8a5e": {
          "model_module": "@jupyter-widgets/controls",
          "model_name": "ProgressStyleModel",
          "model_module_version": "1.5.0",
          "state": {
            "_model_module": "@jupyter-widgets/controls",
            "_model_module_version": "1.5.0",
            "_model_name": "ProgressStyleModel",
            "_view_count": null,
            "_view_module": "@jupyter-widgets/base",
            "_view_module_version": "1.2.0",
            "_view_name": "StyleView",
            "bar_color": null,
            "description_width": ""
          }
        },
        "34e4422c6dd74a128963c764dd6643b4": {
          "model_module": "@jupyter-widgets/base",
          "model_name": "LayoutModel",
          "model_module_version": "1.2.0",
          "state": {
            "_model_module": "@jupyter-widgets/base",
            "_model_module_version": "1.2.0",
            "_model_name": "LayoutModel",
            "_view_count": null,
            "_view_module": "@jupyter-widgets/base",
            "_view_module_version": "1.2.0",
            "_view_name": "LayoutView",
            "align_content": null,
            "align_items": null,
            "align_self": null,
            "border": null,
            "bottom": null,
            "display": null,
            "flex": null,
            "flex_flow": null,
            "grid_area": null,
            "grid_auto_columns": null,
            "grid_auto_flow": null,
            "grid_auto_rows": null,
            "grid_column": null,
            "grid_gap": null,
            "grid_row": null,
            "grid_template_areas": null,
            "grid_template_columns": null,
            "grid_template_rows": null,
            "height": null,
            "justify_content": null,
            "justify_items": null,
            "left": null,
            "margin": null,
            "max_height": null,
            "max_width": null,
            "min_height": null,
            "min_width": null,
            "object_fit": null,
            "object_position": null,
            "order": null,
            "overflow": null,
            "overflow_x": null,
            "overflow_y": null,
            "padding": null,
            "right": null,
            "top": null,
            "visibility": null,
            "width": null
          }
        },
        "b10c5a5aafdb473892caa32cf3c12257": {
          "model_module": "@jupyter-widgets/controls",
          "model_name": "DescriptionStyleModel",
          "model_module_version": "1.5.0",
          "state": {
            "_model_module": "@jupyter-widgets/controls",
            "_model_module_version": "1.5.0",
            "_model_name": "DescriptionStyleModel",
            "_view_count": null,
            "_view_module": "@jupyter-widgets/base",
            "_view_module_version": "1.2.0",
            "_view_name": "StyleView",
            "description_width": ""
          }
        },
        "4b83f9e427454a11a1b21fb59485904d": {
          "model_module": "@jupyter-widgets/controls",
          "model_name": "HBoxModel",
          "model_module_version": "1.5.0",
          "state": {
            "_dom_classes": [],
            "_model_module": "@jupyter-widgets/controls",
            "_model_module_version": "1.5.0",
            "_model_name": "HBoxModel",
            "_view_count": null,
            "_view_module": "@jupyter-widgets/controls",
            "_view_module_version": "1.5.0",
            "_view_name": "HBoxView",
            "box_style": "",
            "children": [
              "IPY_MODEL_7910003e6ef94fcf8fdf6f8732da07db",
              "IPY_MODEL_46a9717eee8e4ee99f6ebecaf7e0c92a",
              "IPY_MODEL_6af817600a1b4fff8e0165ff00a40724"
            ],
            "layout": "IPY_MODEL_1af653ffb82e4239ad845f0971f63e41"
          }
        },
        "7910003e6ef94fcf8fdf6f8732da07db": {
          "model_module": "@jupyter-widgets/controls",
          "model_name": "HTMLModel",
          "model_module_version": "1.5.0",
          "state": {
            "_dom_classes": [],
            "_model_module": "@jupyter-widgets/controls",
            "_model_module_version": "1.5.0",
            "_model_name": "HTMLModel",
            "_view_count": null,
            "_view_module": "@jupyter-widgets/controls",
            "_view_module_version": "1.5.0",
            "_view_name": "HTMLView",
            "description": "",
            "description_tooltip": null,
            "layout": "IPY_MODEL_ed06976bce6c45049aebddbfc63e0b78",
            "placeholder": "​",
            "style": "IPY_MODEL_35d0054f07dd485e90dbea3482cb62f5",
            "value": "100%"
          }
        },
        "46a9717eee8e4ee99f6ebecaf7e0c92a": {
          "model_module": "@jupyter-widgets/controls",
          "model_name": "FloatProgressModel",
          "model_module_version": "1.5.0",
          "state": {
            "_dom_classes": [],
            "_model_module": "@jupyter-widgets/controls",
            "_model_module_version": "1.5.0",
            "_model_name": "FloatProgressModel",
            "_view_count": null,
            "_view_module": "@jupyter-widgets/controls",
            "_view_module_version": "1.5.0",
            "_view_name": "ProgressView",
            "bar_style": "success",
            "description": "",
            "description_tooltip": null,
            "layout": "IPY_MODEL_6478ce9fb890468e95849e4b87996182",
            "max": 5148,
            "min": 0,
            "orientation": "horizontal",
            "style": "IPY_MODEL_364f60a534f64259ac02bafb7bb9e428",
            "value": 5148
          }
        },
        "6af817600a1b4fff8e0165ff00a40724": {
          "model_module": "@jupyter-widgets/controls",
          "model_name": "HTMLModel",
          "model_module_version": "1.5.0",
          "state": {
            "_dom_classes": [],
            "_model_module": "@jupyter-widgets/controls",
            "_model_module_version": "1.5.0",
            "_model_name": "HTMLModel",
            "_view_count": null,
            "_view_module": "@jupyter-widgets/controls",
            "_view_module_version": "1.5.0",
            "_view_name": "HTMLView",
            "description": "",
            "description_tooltip": null,
            "layout": "IPY_MODEL_69311462b1fc423c8e903f4dcd907767",
            "placeholder": "​",
            "style": "IPY_MODEL_e61c80fb0aa546828785e5ce0ce7c331",
            "value": " 5148/5148 [00:00&lt;00:00, 52797.24it/s]"
          }
        },
        "1af653ffb82e4239ad845f0971f63e41": {
          "model_module": "@jupyter-widgets/base",
          "model_name": "LayoutModel",
          "model_module_version": "1.2.0",
          "state": {
            "_model_module": "@jupyter-widgets/base",
            "_model_module_version": "1.2.0",
            "_model_name": "LayoutModel",
            "_view_count": null,
            "_view_module": "@jupyter-widgets/base",
            "_view_module_version": "1.2.0",
            "_view_name": "LayoutView",
            "align_content": null,
            "align_items": null,
            "align_self": null,
            "border": null,
            "bottom": null,
            "display": null,
            "flex": null,
            "flex_flow": null,
            "grid_area": null,
            "grid_auto_columns": null,
            "grid_auto_flow": null,
            "grid_auto_rows": null,
            "grid_column": null,
            "grid_gap": null,
            "grid_row": null,
            "grid_template_areas": null,
            "grid_template_columns": null,
            "grid_template_rows": null,
            "height": null,
            "justify_content": null,
            "justify_items": null,
            "left": null,
            "margin": null,
            "max_height": null,
            "max_width": null,
            "min_height": null,
            "min_width": null,
            "object_fit": null,
            "object_position": null,
            "order": null,
            "overflow": null,
            "overflow_x": null,
            "overflow_y": null,
            "padding": null,
            "right": null,
            "top": null,
            "visibility": null,
            "width": null
          }
        },
        "ed06976bce6c45049aebddbfc63e0b78": {
          "model_module": "@jupyter-widgets/base",
          "model_name": "LayoutModel",
          "model_module_version": "1.2.0",
          "state": {
            "_model_module": "@jupyter-widgets/base",
            "_model_module_version": "1.2.0",
            "_model_name": "LayoutModel",
            "_view_count": null,
            "_view_module": "@jupyter-widgets/base",
            "_view_module_version": "1.2.0",
            "_view_name": "LayoutView",
            "align_content": null,
            "align_items": null,
            "align_self": null,
            "border": null,
            "bottom": null,
            "display": null,
            "flex": null,
            "flex_flow": null,
            "grid_area": null,
            "grid_auto_columns": null,
            "grid_auto_flow": null,
            "grid_auto_rows": null,
            "grid_column": null,
            "grid_gap": null,
            "grid_row": null,
            "grid_template_areas": null,
            "grid_template_columns": null,
            "grid_template_rows": null,
            "height": null,
            "justify_content": null,
            "justify_items": null,
            "left": null,
            "margin": null,
            "max_height": null,
            "max_width": null,
            "min_height": null,
            "min_width": null,
            "object_fit": null,
            "object_position": null,
            "order": null,
            "overflow": null,
            "overflow_x": null,
            "overflow_y": null,
            "padding": null,
            "right": null,
            "top": null,
            "visibility": null,
            "width": null
          }
        },
        "35d0054f07dd485e90dbea3482cb62f5": {
          "model_module": "@jupyter-widgets/controls",
          "model_name": "DescriptionStyleModel",
          "model_module_version": "1.5.0",
          "state": {
            "_model_module": "@jupyter-widgets/controls",
            "_model_module_version": "1.5.0",
            "_model_name": "DescriptionStyleModel",
            "_view_count": null,
            "_view_module": "@jupyter-widgets/base",
            "_view_module_version": "1.2.0",
            "_view_name": "StyleView",
            "description_width": ""
          }
        },
        "6478ce9fb890468e95849e4b87996182": {
          "model_module": "@jupyter-widgets/base",
          "model_name": "LayoutModel",
          "model_module_version": "1.2.0",
          "state": {
            "_model_module": "@jupyter-widgets/base",
            "_model_module_version": "1.2.0",
            "_model_name": "LayoutModel",
            "_view_count": null,
            "_view_module": "@jupyter-widgets/base",
            "_view_module_version": "1.2.0",
            "_view_name": "LayoutView",
            "align_content": null,
            "align_items": null,
            "align_self": null,
            "border": null,
            "bottom": null,
            "display": null,
            "flex": null,
            "flex_flow": null,
            "grid_area": null,
            "grid_auto_columns": null,
            "grid_auto_flow": null,
            "grid_auto_rows": null,
            "grid_column": null,
            "grid_gap": null,
            "grid_row": null,
            "grid_template_areas": null,
            "grid_template_columns": null,
            "grid_template_rows": null,
            "height": null,
            "justify_content": null,
            "justify_items": null,
            "left": null,
            "margin": null,
            "max_height": null,
            "max_width": null,
            "min_height": null,
            "min_width": null,
            "object_fit": null,
            "object_position": null,
            "order": null,
            "overflow": null,
            "overflow_x": null,
            "overflow_y": null,
            "padding": null,
            "right": null,
            "top": null,
            "visibility": null,
            "width": null
          }
        },
        "364f60a534f64259ac02bafb7bb9e428": {
          "model_module": "@jupyter-widgets/controls",
          "model_name": "ProgressStyleModel",
          "model_module_version": "1.5.0",
          "state": {
            "_model_module": "@jupyter-widgets/controls",
            "_model_module_version": "1.5.0",
            "_model_name": "ProgressStyleModel",
            "_view_count": null,
            "_view_module": "@jupyter-widgets/base",
            "_view_module_version": "1.2.0",
            "_view_name": "StyleView",
            "bar_color": null,
            "description_width": ""
          }
        },
        "69311462b1fc423c8e903f4dcd907767": {
          "model_module": "@jupyter-widgets/base",
          "model_name": "LayoutModel",
          "model_module_version": "1.2.0",
          "state": {
            "_model_module": "@jupyter-widgets/base",
            "_model_module_version": "1.2.0",
            "_model_name": "LayoutModel",
            "_view_count": null,
            "_view_module": "@jupyter-widgets/base",
            "_view_module_version": "1.2.0",
            "_view_name": "LayoutView",
            "align_content": null,
            "align_items": null,
            "align_self": null,
            "border": null,
            "bottom": null,
            "display": null,
            "flex": null,
            "flex_flow": null,
            "grid_area": null,
            "grid_auto_columns": null,
            "grid_auto_flow": null,
            "grid_auto_rows": null,
            "grid_column": null,
            "grid_gap": null,
            "grid_row": null,
            "grid_template_areas": null,
            "grid_template_columns": null,
            "grid_template_rows": null,
            "height": null,
            "justify_content": null,
            "justify_items": null,
            "left": null,
            "margin": null,
            "max_height": null,
            "max_width": null,
            "min_height": null,
            "min_width": null,
            "object_fit": null,
            "object_position": null,
            "order": null,
            "overflow": null,
            "overflow_x": null,
            "overflow_y": null,
            "padding": null,
            "right": null,
            "top": null,
            "visibility": null,
            "width": null
          }
        },
        "e61c80fb0aa546828785e5ce0ce7c331": {
          "model_module": "@jupyter-widgets/controls",
          "model_name": "DescriptionStyleModel",
          "model_module_version": "1.5.0",
          "state": {
            "_model_module": "@jupyter-widgets/controls",
            "_model_module_version": "1.5.0",
            "_model_name": "DescriptionStyleModel",
            "_view_count": null,
            "_view_module": "@jupyter-widgets/base",
            "_view_module_version": "1.2.0",
            "_view_name": "StyleView",
            "description_width": ""
          }
        },
        "5832ea0f7e024f7594281ae653d7bc72": {
          "model_module": "@jupyter-widgets/controls",
          "model_name": "HBoxModel",
          "model_module_version": "1.5.0",
          "state": {
            "_dom_classes": [],
            "_model_module": "@jupyter-widgets/controls",
            "_model_module_version": "1.5.0",
            "_model_name": "HBoxModel",
            "_view_count": null,
            "_view_module": "@jupyter-widgets/controls",
            "_view_module_version": "1.5.0",
            "_view_name": "HBoxView",
            "box_style": "",
            "children": [
              "IPY_MODEL_d5a6cab3dbe44575be9f8d1f5a906496",
              "IPY_MODEL_ee50db305ca1473caf073a9d18d770f0",
              "IPY_MODEL_7c7c798a7b9e4196af70bbea555be679"
            ],
            "layout": "IPY_MODEL_25383d5c73d6497e8a86be70fdbe38bf"
          }
        },
        "d5a6cab3dbe44575be9f8d1f5a906496": {
          "model_module": "@jupyter-widgets/controls",
          "model_name": "HTMLModel",
          "model_module_version": "1.5.0",
          "state": {
            "_dom_classes": [],
            "_model_module": "@jupyter-widgets/controls",
            "_model_module_version": "1.5.0",
            "_model_name": "HTMLModel",
            "_view_count": null,
            "_view_module": "@jupyter-widgets/controls",
            "_view_module_version": "1.5.0",
            "_view_name": "HTMLView",
            "description": "",
            "description_tooltip": null,
            "layout": "IPY_MODEL_53ef65bdba3b4b7684d0acf3528d0854",
            "placeholder": "​",
            "style": "IPY_MODEL_ce4fd402c2974443b71ffbf3b3d786e1",
            "value": ""
          }
        },
        "ee50db305ca1473caf073a9d18d770f0": {
          "model_module": "@jupyter-widgets/controls",
          "model_name": "FloatProgressModel",
          "model_module_version": "1.5.0",
          "state": {
            "_dom_classes": [],
            "_model_module": "@jupyter-widgets/controls",
            "_model_module_version": "1.5.0",
            "_model_name": "FloatProgressModel",
            "_view_count": null,
            "_view_module": "@jupyter-widgets/controls",
            "_view_module_version": "1.5.0",
            "_view_name": "ProgressView",
            "bar_style": "success",
            "description": "",
            "description_tooltip": null,
            "layout": "IPY_MODEL_7356536f3ce94f9abd4f20478405b141",
            "max": 1,
            "min": 0,
            "orientation": "horizontal",
            "style": "IPY_MODEL_e68fbe2415824a979d2f0477bfb80287",
            "value": 1
          }
        },
        "7c7c798a7b9e4196af70bbea555be679": {
          "model_module": "@jupyter-widgets/controls",
          "model_name": "HTMLModel",
          "model_module_version": "1.5.0",
          "state": {
            "_dom_classes": [],
            "_model_module": "@jupyter-widgets/controls",
            "_model_module_version": "1.5.0",
            "_model_name": "HTMLModel",
            "_view_count": null,
            "_view_module": "@jupyter-widgets/controls",
            "_view_module_version": "1.5.0",
            "_view_name": "HTMLView",
            "description": "",
            "description_tooltip": null,
            "layout": "IPY_MODEL_f41d2c17c58647b3ad868d8c7c13f4c9",
            "placeholder": "​",
            "style": "IPY_MODEL_b7967a45432f4b01b5db3ae4b8f72dfb",
            "value": " 29/? [00:02&lt;00:00, 11.02it/s]"
          }
        },
        "25383d5c73d6497e8a86be70fdbe38bf": {
          "model_module": "@jupyter-widgets/base",
          "model_name": "LayoutModel",
          "model_module_version": "1.2.0",
          "state": {
            "_model_module": "@jupyter-widgets/base",
            "_model_module_version": "1.2.0",
            "_model_name": "LayoutModel",
            "_view_count": null,
            "_view_module": "@jupyter-widgets/base",
            "_view_module_version": "1.2.0",
            "_view_name": "LayoutView",
            "align_content": null,
            "align_items": null,
            "align_self": null,
            "border": null,
            "bottom": null,
            "display": null,
            "flex": null,
            "flex_flow": null,
            "grid_area": null,
            "grid_auto_columns": null,
            "grid_auto_flow": null,
            "grid_auto_rows": null,
            "grid_column": null,
            "grid_gap": null,
            "grid_row": null,
            "grid_template_areas": null,
            "grid_template_columns": null,
            "grid_template_rows": null,
            "height": null,
            "justify_content": null,
            "justify_items": null,
            "left": null,
            "margin": null,
            "max_height": null,
            "max_width": null,
            "min_height": null,
            "min_width": null,
            "object_fit": null,
            "object_position": null,
            "order": null,
            "overflow": null,
            "overflow_x": null,
            "overflow_y": null,
            "padding": null,
            "right": null,
            "top": null,
            "visibility": null,
            "width": null
          }
        },
        "53ef65bdba3b4b7684d0acf3528d0854": {
          "model_module": "@jupyter-widgets/base",
          "model_name": "LayoutModel",
          "model_module_version": "1.2.0",
          "state": {
            "_model_module": "@jupyter-widgets/base",
            "_model_module_version": "1.2.0",
            "_model_name": "LayoutModel",
            "_view_count": null,
            "_view_module": "@jupyter-widgets/base",
            "_view_module_version": "1.2.0",
            "_view_name": "LayoutView",
            "align_content": null,
            "align_items": null,
            "align_self": null,
            "border": null,
            "bottom": null,
            "display": null,
            "flex": null,
            "flex_flow": null,
            "grid_area": null,
            "grid_auto_columns": null,
            "grid_auto_flow": null,
            "grid_auto_rows": null,
            "grid_column": null,
            "grid_gap": null,
            "grid_row": null,
            "grid_template_areas": null,
            "grid_template_columns": null,
            "grid_template_rows": null,
            "height": null,
            "justify_content": null,
            "justify_items": null,
            "left": null,
            "margin": null,
            "max_height": null,
            "max_width": null,
            "min_height": null,
            "min_width": null,
            "object_fit": null,
            "object_position": null,
            "order": null,
            "overflow": null,
            "overflow_x": null,
            "overflow_y": null,
            "padding": null,
            "right": null,
            "top": null,
            "visibility": null,
            "width": null
          }
        },
        "ce4fd402c2974443b71ffbf3b3d786e1": {
          "model_module": "@jupyter-widgets/controls",
          "model_name": "DescriptionStyleModel",
          "model_module_version": "1.5.0",
          "state": {
            "_model_module": "@jupyter-widgets/controls",
            "_model_module_version": "1.5.0",
            "_model_name": "DescriptionStyleModel",
            "_view_count": null,
            "_view_module": "@jupyter-widgets/base",
            "_view_module_version": "1.2.0",
            "_view_name": "StyleView",
            "description_width": ""
          }
        },
        "7356536f3ce94f9abd4f20478405b141": {
          "model_module": "@jupyter-widgets/base",
          "model_name": "LayoutModel",
          "model_module_version": "1.2.0",
          "state": {
            "_model_module": "@jupyter-widgets/base",
            "_model_module_version": "1.2.0",
            "_model_name": "LayoutModel",
            "_view_count": null,
            "_view_module": "@jupyter-widgets/base",
            "_view_module_version": "1.2.0",
            "_view_name": "LayoutView",
            "align_content": null,
            "align_items": null,
            "align_self": null,
            "border": null,
            "bottom": null,
            "display": null,
            "flex": null,
            "flex_flow": null,
            "grid_area": null,
            "grid_auto_columns": null,
            "grid_auto_flow": null,
            "grid_auto_rows": null,
            "grid_column": null,
            "grid_gap": null,
            "grid_row": null,
            "grid_template_areas": null,
            "grid_template_columns": null,
            "grid_template_rows": null,
            "height": null,
            "justify_content": null,
            "justify_items": null,
            "left": null,
            "margin": null,
            "max_height": null,
            "max_width": null,
            "min_height": null,
            "min_width": null,
            "object_fit": null,
            "object_position": null,
            "order": null,
            "overflow": null,
            "overflow_x": null,
            "overflow_y": null,
            "padding": null,
            "right": null,
            "top": null,
            "visibility": null,
            "width": "20px"
          }
        },
        "e68fbe2415824a979d2f0477bfb80287": {
          "model_module": "@jupyter-widgets/controls",
          "model_name": "ProgressStyleModel",
          "model_module_version": "1.5.0",
          "state": {
            "_model_module": "@jupyter-widgets/controls",
            "_model_module_version": "1.5.0",
            "_model_name": "ProgressStyleModel",
            "_view_count": null,
            "_view_module": "@jupyter-widgets/base",
            "_view_module_version": "1.2.0",
            "_view_name": "StyleView",
            "bar_color": null,
            "description_width": ""
          }
        },
        "f41d2c17c58647b3ad868d8c7c13f4c9": {
          "model_module": "@jupyter-widgets/base",
          "model_name": "LayoutModel",
          "model_module_version": "1.2.0",
          "state": {
            "_model_module": "@jupyter-widgets/base",
            "_model_module_version": "1.2.0",
            "_model_name": "LayoutModel",
            "_view_count": null,
            "_view_module": "@jupyter-widgets/base",
            "_view_module_version": "1.2.0",
            "_view_name": "LayoutView",
            "align_content": null,
            "align_items": null,
            "align_self": null,
            "border": null,
            "bottom": null,
            "display": null,
            "flex": null,
            "flex_flow": null,
            "grid_area": null,
            "grid_auto_columns": null,
            "grid_auto_flow": null,
            "grid_auto_rows": null,
            "grid_column": null,
            "grid_gap": null,
            "grid_row": null,
            "grid_template_areas": null,
            "grid_template_columns": null,
            "grid_template_rows": null,
            "height": null,
            "justify_content": null,
            "justify_items": null,
            "left": null,
            "margin": null,
            "max_height": null,
            "max_width": null,
            "min_height": null,
            "min_width": null,
            "object_fit": null,
            "object_position": null,
            "order": null,
            "overflow": null,
            "overflow_x": null,
            "overflow_y": null,
            "padding": null,
            "right": null,
            "top": null,
            "visibility": null,
            "width": null
          }
        },
        "b7967a45432f4b01b5db3ae4b8f72dfb": {
          "model_module": "@jupyter-widgets/controls",
          "model_name": "DescriptionStyleModel",
          "model_module_version": "1.5.0",
          "state": {
            "_model_module": "@jupyter-widgets/controls",
            "_model_module_version": "1.5.0",
            "_model_name": "DescriptionStyleModel",
            "_view_count": null,
            "_view_module": "@jupyter-widgets/base",
            "_view_module_version": "1.2.0",
            "_view_name": "StyleView",
            "description_width": ""
          }
        },
        "34e5c76208a34cceaad371f6f1284830": {
          "model_module": "@jupyter-widgets/controls",
          "model_name": "HBoxModel",
          "model_module_version": "1.5.0",
          "state": {
            "_dom_classes": [],
            "_model_module": "@jupyter-widgets/controls",
            "_model_module_version": "1.5.0",
            "_model_name": "HBoxModel",
            "_view_count": null,
            "_view_module": "@jupyter-widgets/controls",
            "_view_module_version": "1.5.0",
            "_view_name": "HBoxView",
            "box_style": "",
            "children": [
              "IPY_MODEL_0f5981ad7d6c4a7bb0c1feaa9a637bb7",
              "IPY_MODEL_93981c2e3645478fa9ba27128ba24959",
              "IPY_MODEL_2f1e4e0b74af407b90a253769738a21f"
            ],
            "layout": "IPY_MODEL_dd1b55ce3278464086fd1946a9c0e6fa"
          }
        },
        "0f5981ad7d6c4a7bb0c1feaa9a637bb7": {
          "model_module": "@jupyter-widgets/controls",
          "model_name": "HTMLModel",
          "model_module_version": "1.5.0",
          "state": {
            "_dom_classes": [],
            "_model_module": "@jupyter-widgets/controls",
            "_model_module_version": "1.5.0",
            "_model_name": "HTMLModel",
            "_view_count": null,
            "_view_module": "@jupyter-widgets/controls",
            "_view_module_version": "1.5.0",
            "_view_name": "HTMLView",
            "description": "",
            "description_tooltip": null,
            "layout": "IPY_MODEL_ab55c6a65fb44617be8e9596c00a7931",
            "placeholder": "​",
            "style": "IPY_MODEL_ea4f9dd8a3d94bc38e9653592b3f5acb",
            "value": ""
          }
        },
        "93981c2e3645478fa9ba27128ba24959": {
          "model_module": "@jupyter-widgets/controls",
          "model_name": "FloatProgressModel",
          "model_module_version": "1.5.0",
          "state": {
            "_dom_classes": [],
            "_model_module": "@jupyter-widgets/controls",
            "_model_module_version": "1.5.0",
            "_model_name": "FloatProgressModel",
            "_view_count": null,
            "_view_module": "@jupyter-widgets/controls",
            "_view_module_version": "1.5.0",
            "_view_name": "ProgressView",
            "bar_style": "success",
            "description": "",
            "description_tooltip": null,
            "layout": "IPY_MODEL_ac4f93fbb74e4b42ab5aa15f4043c320",
            "max": 1,
            "min": 0,
            "orientation": "horizontal",
            "style": "IPY_MODEL_63f4566581a0445689a31f11f7700f0c",
            "value": 1
          }
        },
        "2f1e4e0b74af407b90a253769738a21f": {
          "model_module": "@jupyter-widgets/controls",
          "model_name": "HTMLModel",
          "model_module_version": "1.5.0",
          "state": {
            "_dom_classes": [],
            "_model_module": "@jupyter-widgets/controls",
            "_model_module_version": "1.5.0",
            "_model_name": "HTMLModel",
            "_view_count": null,
            "_view_module": "@jupyter-widgets/controls",
            "_view_module_version": "1.5.0",
            "_view_name": "HTMLView",
            "description": "",
            "description_tooltip": null,
            "layout": "IPY_MODEL_7036ca873d66429aa5ca52cde7c2ff12",
            "placeholder": "​",
            "style": "IPY_MODEL_fef3aa360fe94210b79369f71fa4ca8f",
            "value": " 29/? [00:02&lt;00:00, 10.98it/s]"
          }
        },
        "dd1b55ce3278464086fd1946a9c0e6fa": {
          "model_module": "@jupyter-widgets/base",
          "model_name": "LayoutModel",
          "model_module_version": "1.2.0",
          "state": {
            "_model_module": "@jupyter-widgets/base",
            "_model_module_version": "1.2.0",
            "_model_name": "LayoutModel",
            "_view_count": null,
            "_view_module": "@jupyter-widgets/base",
            "_view_module_version": "1.2.0",
            "_view_name": "LayoutView",
            "align_content": null,
            "align_items": null,
            "align_self": null,
            "border": null,
            "bottom": null,
            "display": null,
            "flex": null,
            "flex_flow": null,
            "grid_area": null,
            "grid_auto_columns": null,
            "grid_auto_flow": null,
            "grid_auto_rows": null,
            "grid_column": null,
            "grid_gap": null,
            "grid_row": null,
            "grid_template_areas": null,
            "grid_template_columns": null,
            "grid_template_rows": null,
            "height": null,
            "justify_content": null,
            "justify_items": null,
            "left": null,
            "margin": null,
            "max_height": null,
            "max_width": null,
            "min_height": null,
            "min_width": null,
            "object_fit": null,
            "object_position": null,
            "order": null,
            "overflow": null,
            "overflow_x": null,
            "overflow_y": null,
            "padding": null,
            "right": null,
            "top": null,
            "visibility": null,
            "width": null
          }
        },
        "ab55c6a65fb44617be8e9596c00a7931": {
          "model_module": "@jupyter-widgets/base",
          "model_name": "LayoutModel",
          "model_module_version": "1.2.0",
          "state": {
            "_model_module": "@jupyter-widgets/base",
            "_model_module_version": "1.2.0",
            "_model_name": "LayoutModel",
            "_view_count": null,
            "_view_module": "@jupyter-widgets/base",
            "_view_module_version": "1.2.0",
            "_view_name": "LayoutView",
            "align_content": null,
            "align_items": null,
            "align_self": null,
            "border": null,
            "bottom": null,
            "display": null,
            "flex": null,
            "flex_flow": null,
            "grid_area": null,
            "grid_auto_columns": null,
            "grid_auto_flow": null,
            "grid_auto_rows": null,
            "grid_column": null,
            "grid_gap": null,
            "grid_row": null,
            "grid_template_areas": null,
            "grid_template_columns": null,
            "grid_template_rows": null,
            "height": null,
            "justify_content": null,
            "justify_items": null,
            "left": null,
            "margin": null,
            "max_height": null,
            "max_width": null,
            "min_height": null,
            "min_width": null,
            "object_fit": null,
            "object_position": null,
            "order": null,
            "overflow": null,
            "overflow_x": null,
            "overflow_y": null,
            "padding": null,
            "right": null,
            "top": null,
            "visibility": null,
            "width": null
          }
        },
        "ea4f9dd8a3d94bc38e9653592b3f5acb": {
          "model_module": "@jupyter-widgets/controls",
          "model_name": "DescriptionStyleModel",
          "model_module_version": "1.5.0",
          "state": {
            "_model_module": "@jupyter-widgets/controls",
            "_model_module_version": "1.5.0",
            "_model_name": "DescriptionStyleModel",
            "_view_count": null,
            "_view_module": "@jupyter-widgets/base",
            "_view_module_version": "1.2.0",
            "_view_name": "StyleView",
            "description_width": ""
          }
        },
        "ac4f93fbb74e4b42ab5aa15f4043c320": {
          "model_module": "@jupyter-widgets/base",
          "model_name": "LayoutModel",
          "model_module_version": "1.2.0",
          "state": {
            "_model_module": "@jupyter-widgets/base",
            "_model_module_version": "1.2.0",
            "_model_name": "LayoutModel",
            "_view_count": null,
            "_view_module": "@jupyter-widgets/base",
            "_view_module_version": "1.2.0",
            "_view_name": "LayoutView",
            "align_content": null,
            "align_items": null,
            "align_self": null,
            "border": null,
            "bottom": null,
            "display": null,
            "flex": null,
            "flex_flow": null,
            "grid_area": null,
            "grid_auto_columns": null,
            "grid_auto_flow": null,
            "grid_auto_rows": null,
            "grid_column": null,
            "grid_gap": null,
            "grid_row": null,
            "grid_template_areas": null,
            "grid_template_columns": null,
            "grid_template_rows": null,
            "height": null,
            "justify_content": null,
            "justify_items": null,
            "left": null,
            "margin": null,
            "max_height": null,
            "max_width": null,
            "min_height": null,
            "min_width": null,
            "object_fit": null,
            "object_position": null,
            "order": null,
            "overflow": null,
            "overflow_x": null,
            "overflow_y": null,
            "padding": null,
            "right": null,
            "top": null,
            "visibility": null,
            "width": "20px"
          }
        },
        "63f4566581a0445689a31f11f7700f0c": {
          "model_module": "@jupyter-widgets/controls",
          "model_name": "ProgressStyleModel",
          "model_module_version": "1.5.0",
          "state": {
            "_model_module": "@jupyter-widgets/controls",
            "_model_module_version": "1.5.0",
            "_model_name": "ProgressStyleModel",
            "_view_count": null,
            "_view_module": "@jupyter-widgets/base",
            "_view_module_version": "1.2.0",
            "_view_name": "StyleView",
            "bar_color": null,
            "description_width": ""
          }
        },
        "7036ca873d66429aa5ca52cde7c2ff12": {
          "model_module": "@jupyter-widgets/base",
          "model_name": "LayoutModel",
          "model_module_version": "1.2.0",
          "state": {
            "_model_module": "@jupyter-widgets/base",
            "_model_module_version": "1.2.0",
            "_model_name": "LayoutModel",
            "_view_count": null,
            "_view_module": "@jupyter-widgets/base",
            "_view_module_version": "1.2.0",
            "_view_name": "LayoutView",
            "align_content": null,
            "align_items": null,
            "align_self": null,
            "border": null,
            "bottom": null,
            "display": null,
            "flex": null,
            "flex_flow": null,
            "grid_area": null,
            "grid_auto_columns": null,
            "grid_auto_flow": null,
            "grid_auto_rows": null,
            "grid_column": null,
            "grid_gap": null,
            "grid_row": null,
            "grid_template_areas": null,
            "grid_template_columns": null,
            "grid_template_rows": null,
            "height": null,
            "justify_content": null,
            "justify_items": null,
            "left": null,
            "margin": null,
            "max_height": null,
            "max_width": null,
            "min_height": null,
            "min_width": null,
            "object_fit": null,
            "object_position": null,
            "order": null,
            "overflow": null,
            "overflow_x": null,
            "overflow_y": null,
            "padding": null,
            "right": null,
            "top": null,
            "visibility": null,
            "width": null
          }
        },
        "fef3aa360fe94210b79369f71fa4ca8f": {
          "model_module": "@jupyter-widgets/controls",
          "model_name": "DescriptionStyleModel",
          "model_module_version": "1.5.0",
          "state": {
            "_model_module": "@jupyter-widgets/controls",
            "_model_module_version": "1.5.0",
            "_model_name": "DescriptionStyleModel",
            "_view_count": null,
            "_view_module": "@jupyter-widgets/base",
            "_view_module_version": "1.2.0",
            "_view_name": "StyleView",
            "description_width": ""
          }
        },
        "39f92bb1800c408280b7d8a05cb6ec93": {
          "model_module": "@jupyter-widgets/controls",
          "model_name": "HBoxModel",
          "model_module_version": "1.5.0",
          "state": {
            "_dom_classes": [],
            "_model_module": "@jupyter-widgets/controls",
            "_model_module_version": "1.5.0",
            "_model_name": "HBoxModel",
            "_view_count": null,
            "_view_module": "@jupyter-widgets/controls",
            "_view_module_version": "1.5.0",
            "_view_name": "HBoxView",
            "box_style": "",
            "children": [
              "IPY_MODEL_2e7b4c05b5d04ff5a14eff49d25527a6",
              "IPY_MODEL_7eec7d8b17454baaa8edd4088c29b811",
              "IPY_MODEL_26b1e0ab11554750a7c7567f30c24e21"
            ],
            "layout": "IPY_MODEL_86a519b66a9f43b4a54f3a35f90f0dd3"
          }
        },
        "2e7b4c05b5d04ff5a14eff49d25527a6": {
          "model_module": "@jupyter-widgets/controls",
          "model_name": "HTMLModel",
          "model_module_version": "1.5.0",
          "state": {
            "_dom_classes": [],
            "_model_module": "@jupyter-widgets/controls",
            "_model_module_version": "1.5.0",
            "_model_name": "HTMLModel",
            "_view_count": null,
            "_view_module": "@jupyter-widgets/controls",
            "_view_module_version": "1.5.0",
            "_view_name": "HTMLView",
            "description": "",
            "description_tooltip": null,
            "layout": "IPY_MODEL_cc194b7f3ab44306b14e4a97667ef95b",
            "placeholder": "​",
            "style": "IPY_MODEL_c5adb4bb26df4db8bf740ee083147c01",
            "value": ""
          }
        },
        "7eec7d8b17454baaa8edd4088c29b811": {
          "model_module": "@jupyter-widgets/controls",
          "model_name": "FloatProgressModel",
          "model_module_version": "1.5.0",
          "state": {
            "_dom_classes": [],
            "_model_module": "@jupyter-widgets/controls",
            "_model_module_version": "1.5.0",
            "_model_name": "FloatProgressModel",
            "_view_count": null,
            "_view_module": "@jupyter-widgets/controls",
            "_view_module_version": "1.5.0",
            "_view_name": "ProgressView",
            "bar_style": "success",
            "description": "",
            "description_tooltip": null,
            "layout": "IPY_MODEL_a64b9885da8d4a7dbfee09c3ac33ba8b",
            "max": 1,
            "min": 0,
            "orientation": "horizontal",
            "style": "IPY_MODEL_054274f4fc454101beeb9115406f98b5",
            "value": 1
          }
        },
        "26b1e0ab11554750a7c7567f30c24e21": {
          "model_module": "@jupyter-widgets/controls",
          "model_name": "HTMLModel",
          "model_module_version": "1.5.0",
          "state": {
            "_dom_classes": [],
            "_model_module": "@jupyter-widgets/controls",
            "_model_module_version": "1.5.0",
            "_model_name": "HTMLModel",
            "_view_count": null,
            "_view_module": "@jupyter-widgets/controls",
            "_view_module_version": "1.5.0",
            "_view_name": "HTMLView",
            "description": "",
            "description_tooltip": null,
            "layout": "IPY_MODEL_72103eea4ec14a73952afaa604ea1ef9",
            "placeholder": "​",
            "style": "IPY_MODEL_fd75a9bd1d094403a39cab9c2d61e202",
            "value": " 29/? [00:02&lt;00:00, 10.87it/s]"
          }
        },
        "86a519b66a9f43b4a54f3a35f90f0dd3": {
          "model_module": "@jupyter-widgets/base",
          "model_name": "LayoutModel",
          "model_module_version": "1.2.0",
          "state": {
            "_model_module": "@jupyter-widgets/base",
            "_model_module_version": "1.2.0",
            "_model_name": "LayoutModel",
            "_view_count": null,
            "_view_module": "@jupyter-widgets/base",
            "_view_module_version": "1.2.0",
            "_view_name": "LayoutView",
            "align_content": null,
            "align_items": null,
            "align_self": null,
            "border": null,
            "bottom": null,
            "display": null,
            "flex": null,
            "flex_flow": null,
            "grid_area": null,
            "grid_auto_columns": null,
            "grid_auto_flow": null,
            "grid_auto_rows": null,
            "grid_column": null,
            "grid_gap": null,
            "grid_row": null,
            "grid_template_areas": null,
            "grid_template_columns": null,
            "grid_template_rows": null,
            "height": null,
            "justify_content": null,
            "justify_items": null,
            "left": null,
            "margin": null,
            "max_height": null,
            "max_width": null,
            "min_height": null,
            "min_width": null,
            "object_fit": null,
            "object_position": null,
            "order": null,
            "overflow": null,
            "overflow_x": null,
            "overflow_y": null,
            "padding": null,
            "right": null,
            "top": null,
            "visibility": null,
            "width": null
          }
        },
        "cc194b7f3ab44306b14e4a97667ef95b": {
          "model_module": "@jupyter-widgets/base",
          "model_name": "LayoutModel",
          "model_module_version": "1.2.0",
          "state": {
            "_model_module": "@jupyter-widgets/base",
            "_model_module_version": "1.2.0",
            "_model_name": "LayoutModel",
            "_view_count": null,
            "_view_module": "@jupyter-widgets/base",
            "_view_module_version": "1.2.0",
            "_view_name": "LayoutView",
            "align_content": null,
            "align_items": null,
            "align_self": null,
            "border": null,
            "bottom": null,
            "display": null,
            "flex": null,
            "flex_flow": null,
            "grid_area": null,
            "grid_auto_columns": null,
            "grid_auto_flow": null,
            "grid_auto_rows": null,
            "grid_column": null,
            "grid_gap": null,
            "grid_row": null,
            "grid_template_areas": null,
            "grid_template_columns": null,
            "grid_template_rows": null,
            "height": null,
            "justify_content": null,
            "justify_items": null,
            "left": null,
            "margin": null,
            "max_height": null,
            "max_width": null,
            "min_height": null,
            "min_width": null,
            "object_fit": null,
            "object_position": null,
            "order": null,
            "overflow": null,
            "overflow_x": null,
            "overflow_y": null,
            "padding": null,
            "right": null,
            "top": null,
            "visibility": null,
            "width": null
          }
        },
        "c5adb4bb26df4db8bf740ee083147c01": {
          "model_module": "@jupyter-widgets/controls",
          "model_name": "DescriptionStyleModel",
          "model_module_version": "1.5.0",
          "state": {
            "_model_module": "@jupyter-widgets/controls",
            "_model_module_version": "1.5.0",
            "_model_name": "DescriptionStyleModel",
            "_view_count": null,
            "_view_module": "@jupyter-widgets/base",
            "_view_module_version": "1.2.0",
            "_view_name": "StyleView",
            "description_width": ""
          }
        },
        "a64b9885da8d4a7dbfee09c3ac33ba8b": {
          "model_module": "@jupyter-widgets/base",
          "model_name": "LayoutModel",
          "model_module_version": "1.2.0",
          "state": {
            "_model_module": "@jupyter-widgets/base",
            "_model_module_version": "1.2.0",
            "_model_name": "LayoutModel",
            "_view_count": null,
            "_view_module": "@jupyter-widgets/base",
            "_view_module_version": "1.2.0",
            "_view_name": "LayoutView",
            "align_content": null,
            "align_items": null,
            "align_self": null,
            "border": null,
            "bottom": null,
            "display": null,
            "flex": null,
            "flex_flow": null,
            "grid_area": null,
            "grid_auto_columns": null,
            "grid_auto_flow": null,
            "grid_auto_rows": null,
            "grid_column": null,
            "grid_gap": null,
            "grid_row": null,
            "grid_template_areas": null,
            "grid_template_columns": null,
            "grid_template_rows": null,
            "height": null,
            "justify_content": null,
            "justify_items": null,
            "left": null,
            "margin": null,
            "max_height": null,
            "max_width": null,
            "min_height": null,
            "min_width": null,
            "object_fit": null,
            "object_position": null,
            "order": null,
            "overflow": null,
            "overflow_x": null,
            "overflow_y": null,
            "padding": null,
            "right": null,
            "top": null,
            "visibility": null,
            "width": "20px"
          }
        },
        "054274f4fc454101beeb9115406f98b5": {
          "model_module": "@jupyter-widgets/controls",
          "model_name": "ProgressStyleModel",
          "model_module_version": "1.5.0",
          "state": {
            "_model_module": "@jupyter-widgets/controls",
            "_model_module_version": "1.5.0",
            "_model_name": "ProgressStyleModel",
            "_view_count": null,
            "_view_module": "@jupyter-widgets/base",
            "_view_module_version": "1.2.0",
            "_view_name": "StyleView",
            "bar_color": null,
            "description_width": ""
          }
        },
        "72103eea4ec14a73952afaa604ea1ef9": {
          "model_module": "@jupyter-widgets/base",
          "model_name": "LayoutModel",
          "model_module_version": "1.2.0",
          "state": {
            "_model_module": "@jupyter-widgets/base",
            "_model_module_version": "1.2.0",
            "_model_name": "LayoutModel",
            "_view_count": null,
            "_view_module": "@jupyter-widgets/base",
            "_view_module_version": "1.2.0",
            "_view_name": "LayoutView",
            "align_content": null,
            "align_items": null,
            "align_self": null,
            "border": null,
            "bottom": null,
            "display": null,
            "flex": null,
            "flex_flow": null,
            "grid_area": null,
            "grid_auto_columns": null,
            "grid_auto_flow": null,
            "grid_auto_rows": null,
            "grid_column": null,
            "grid_gap": null,
            "grid_row": null,
            "grid_template_areas": null,
            "grid_template_columns": null,
            "grid_template_rows": null,
            "height": null,
            "justify_content": null,
            "justify_items": null,
            "left": null,
            "margin": null,
            "max_height": null,
            "max_width": null,
            "min_height": null,
            "min_width": null,
            "object_fit": null,
            "object_position": null,
            "order": null,
            "overflow": null,
            "overflow_x": null,
            "overflow_y": null,
            "padding": null,
            "right": null,
            "top": null,
            "visibility": null,
            "width": null
          }
        },
        "fd75a9bd1d094403a39cab9c2d61e202": {
          "model_module": "@jupyter-widgets/controls",
          "model_name": "DescriptionStyleModel",
          "model_module_version": "1.5.0",
          "state": {
            "_model_module": "@jupyter-widgets/controls",
            "_model_module_version": "1.5.0",
            "_model_name": "DescriptionStyleModel",
            "_view_count": null,
            "_view_module": "@jupyter-widgets/base",
            "_view_module_version": "1.2.0",
            "_view_name": "StyleView",
            "description_width": ""
          }
        },
        "de0c854b94ff4a42a30005fe3959699d": {
          "model_module": "@jupyter-widgets/controls",
          "model_name": "HBoxModel",
          "model_module_version": "1.5.0",
          "state": {
            "_dom_classes": [],
            "_model_module": "@jupyter-widgets/controls",
            "_model_module_version": "1.5.0",
            "_model_name": "HBoxModel",
            "_view_count": null,
            "_view_module": "@jupyter-widgets/controls",
            "_view_module_version": "1.5.0",
            "_view_name": "HBoxView",
            "box_style": "",
            "children": [
              "IPY_MODEL_6c32709f1adb4e06af44b3dd4608496b",
              "IPY_MODEL_595269730b0242e180101a526a336c01",
              "IPY_MODEL_42f25151579c4f719efd9f38e3486ffc"
            ],
            "layout": "IPY_MODEL_ba097c49f5d244d58a080aaa0135dd02"
          }
        },
        "6c32709f1adb4e06af44b3dd4608496b": {
          "model_module": "@jupyter-widgets/controls",
          "model_name": "HTMLModel",
          "model_module_version": "1.5.0",
          "state": {
            "_dom_classes": [],
            "_model_module": "@jupyter-widgets/controls",
            "_model_module_version": "1.5.0",
            "_model_name": "HTMLModel",
            "_view_count": null,
            "_view_module": "@jupyter-widgets/controls",
            "_view_module_version": "1.5.0",
            "_view_name": "HTMLView",
            "description": "",
            "description_tooltip": null,
            "layout": "IPY_MODEL_968698c33a69462d9c9d81037d7bf97e",
            "placeholder": "​",
            "style": "IPY_MODEL_8fc1992d31ae4db593f86ec55155f11c",
            "value": ""
          }
        },
        "595269730b0242e180101a526a336c01": {
          "model_module": "@jupyter-widgets/controls",
          "model_name": "FloatProgressModel",
          "model_module_version": "1.5.0",
          "state": {
            "_dom_classes": [],
            "_model_module": "@jupyter-widgets/controls",
            "_model_module_version": "1.5.0",
            "_model_name": "FloatProgressModel",
            "_view_count": null,
            "_view_module": "@jupyter-widgets/controls",
            "_view_module_version": "1.5.0",
            "_view_name": "ProgressView",
            "bar_style": "success",
            "description": "",
            "description_tooltip": null,
            "layout": "IPY_MODEL_7619d9a59d824ecebc9986db566cde74",
            "max": 1,
            "min": 0,
            "orientation": "horizontal",
            "style": "IPY_MODEL_daa57710e4af4f41b52dab85c960b8d4",
            "value": 1
          }
        },
        "42f25151579c4f719efd9f38e3486ffc": {
          "model_module": "@jupyter-widgets/controls",
          "model_name": "HTMLModel",
          "model_module_version": "1.5.0",
          "state": {
            "_dom_classes": [],
            "_model_module": "@jupyter-widgets/controls",
            "_model_module_version": "1.5.0",
            "_model_name": "HTMLModel",
            "_view_count": null,
            "_view_module": "@jupyter-widgets/controls",
            "_view_module_version": "1.5.0",
            "_view_name": "HTMLView",
            "description": "",
            "description_tooltip": null,
            "layout": "IPY_MODEL_23aed4c50c3541d9bac86d1a0732cd80",
            "placeholder": "​",
            "style": "IPY_MODEL_0ebbc255acb64fc6b9056602e174afe9",
            "value": " 29/? [00:02&lt;00:00, 10.81it/s]"
          }
        },
        "ba097c49f5d244d58a080aaa0135dd02": {
          "model_module": "@jupyter-widgets/base",
          "model_name": "LayoutModel",
          "model_module_version": "1.2.0",
          "state": {
            "_model_module": "@jupyter-widgets/base",
            "_model_module_version": "1.2.0",
            "_model_name": "LayoutModel",
            "_view_count": null,
            "_view_module": "@jupyter-widgets/base",
            "_view_module_version": "1.2.0",
            "_view_name": "LayoutView",
            "align_content": null,
            "align_items": null,
            "align_self": null,
            "border": null,
            "bottom": null,
            "display": null,
            "flex": null,
            "flex_flow": null,
            "grid_area": null,
            "grid_auto_columns": null,
            "grid_auto_flow": null,
            "grid_auto_rows": null,
            "grid_column": null,
            "grid_gap": null,
            "grid_row": null,
            "grid_template_areas": null,
            "grid_template_columns": null,
            "grid_template_rows": null,
            "height": null,
            "justify_content": null,
            "justify_items": null,
            "left": null,
            "margin": null,
            "max_height": null,
            "max_width": null,
            "min_height": null,
            "min_width": null,
            "object_fit": null,
            "object_position": null,
            "order": null,
            "overflow": null,
            "overflow_x": null,
            "overflow_y": null,
            "padding": null,
            "right": null,
            "top": null,
            "visibility": null,
            "width": null
          }
        },
        "968698c33a69462d9c9d81037d7bf97e": {
          "model_module": "@jupyter-widgets/base",
          "model_name": "LayoutModel",
          "model_module_version": "1.2.0",
          "state": {
            "_model_module": "@jupyter-widgets/base",
            "_model_module_version": "1.2.0",
            "_model_name": "LayoutModel",
            "_view_count": null,
            "_view_module": "@jupyter-widgets/base",
            "_view_module_version": "1.2.0",
            "_view_name": "LayoutView",
            "align_content": null,
            "align_items": null,
            "align_self": null,
            "border": null,
            "bottom": null,
            "display": null,
            "flex": null,
            "flex_flow": null,
            "grid_area": null,
            "grid_auto_columns": null,
            "grid_auto_flow": null,
            "grid_auto_rows": null,
            "grid_column": null,
            "grid_gap": null,
            "grid_row": null,
            "grid_template_areas": null,
            "grid_template_columns": null,
            "grid_template_rows": null,
            "height": null,
            "justify_content": null,
            "justify_items": null,
            "left": null,
            "margin": null,
            "max_height": null,
            "max_width": null,
            "min_height": null,
            "min_width": null,
            "object_fit": null,
            "object_position": null,
            "order": null,
            "overflow": null,
            "overflow_x": null,
            "overflow_y": null,
            "padding": null,
            "right": null,
            "top": null,
            "visibility": null,
            "width": null
          }
        },
        "8fc1992d31ae4db593f86ec55155f11c": {
          "model_module": "@jupyter-widgets/controls",
          "model_name": "DescriptionStyleModel",
          "model_module_version": "1.5.0",
          "state": {
            "_model_module": "@jupyter-widgets/controls",
            "_model_module_version": "1.5.0",
            "_model_name": "DescriptionStyleModel",
            "_view_count": null,
            "_view_module": "@jupyter-widgets/base",
            "_view_module_version": "1.2.0",
            "_view_name": "StyleView",
            "description_width": ""
          }
        },
        "7619d9a59d824ecebc9986db566cde74": {
          "model_module": "@jupyter-widgets/base",
          "model_name": "LayoutModel",
          "model_module_version": "1.2.0",
          "state": {
            "_model_module": "@jupyter-widgets/base",
            "_model_module_version": "1.2.0",
            "_model_name": "LayoutModel",
            "_view_count": null,
            "_view_module": "@jupyter-widgets/base",
            "_view_module_version": "1.2.0",
            "_view_name": "LayoutView",
            "align_content": null,
            "align_items": null,
            "align_self": null,
            "border": null,
            "bottom": null,
            "display": null,
            "flex": null,
            "flex_flow": null,
            "grid_area": null,
            "grid_auto_columns": null,
            "grid_auto_flow": null,
            "grid_auto_rows": null,
            "grid_column": null,
            "grid_gap": null,
            "grid_row": null,
            "grid_template_areas": null,
            "grid_template_columns": null,
            "grid_template_rows": null,
            "height": null,
            "justify_content": null,
            "justify_items": null,
            "left": null,
            "margin": null,
            "max_height": null,
            "max_width": null,
            "min_height": null,
            "min_width": null,
            "object_fit": null,
            "object_position": null,
            "order": null,
            "overflow": null,
            "overflow_x": null,
            "overflow_y": null,
            "padding": null,
            "right": null,
            "top": null,
            "visibility": null,
            "width": "20px"
          }
        },
        "daa57710e4af4f41b52dab85c960b8d4": {
          "model_module": "@jupyter-widgets/controls",
          "model_name": "ProgressStyleModel",
          "model_module_version": "1.5.0",
          "state": {
            "_model_module": "@jupyter-widgets/controls",
            "_model_module_version": "1.5.0",
            "_model_name": "ProgressStyleModel",
            "_view_count": null,
            "_view_module": "@jupyter-widgets/base",
            "_view_module_version": "1.2.0",
            "_view_name": "StyleView",
            "bar_color": null,
            "description_width": ""
          }
        },
        "23aed4c50c3541d9bac86d1a0732cd80": {
          "model_module": "@jupyter-widgets/base",
          "model_name": "LayoutModel",
          "model_module_version": "1.2.0",
          "state": {
            "_model_module": "@jupyter-widgets/base",
            "_model_module_version": "1.2.0",
            "_model_name": "LayoutModel",
            "_view_count": null,
            "_view_module": "@jupyter-widgets/base",
            "_view_module_version": "1.2.0",
            "_view_name": "LayoutView",
            "align_content": null,
            "align_items": null,
            "align_self": null,
            "border": null,
            "bottom": null,
            "display": null,
            "flex": null,
            "flex_flow": null,
            "grid_area": null,
            "grid_auto_columns": null,
            "grid_auto_flow": null,
            "grid_auto_rows": null,
            "grid_column": null,
            "grid_gap": null,
            "grid_row": null,
            "grid_template_areas": null,
            "grid_template_columns": null,
            "grid_template_rows": null,
            "height": null,
            "justify_content": null,
            "justify_items": null,
            "left": null,
            "margin": null,
            "max_height": null,
            "max_width": null,
            "min_height": null,
            "min_width": null,
            "object_fit": null,
            "object_position": null,
            "order": null,
            "overflow": null,
            "overflow_x": null,
            "overflow_y": null,
            "padding": null,
            "right": null,
            "top": null,
            "visibility": null,
            "width": null
          }
        },
        "0ebbc255acb64fc6b9056602e174afe9": {
          "model_module": "@jupyter-widgets/controls",
          "model_name": "DescriptionStyleModel",
          "model_module_version": "1.5.0",
          "state": {
            "_model_module": "@jupyter-widgets/controls",
            "_model_module_version": "1.5.0",
            "_model_name": "DescriptionStyleModel",
            "_view_count": null,
            "_view_module": "@jupyter-widgets/base",
            "_view_module_version": "1.2.0",
            "_view_name": "StyleView",
            "description_width": ""
          }
        },
        "efc12fbec1674f419a64450bdb0fcb95": {
          "model_module": "@jupyter-widgets/controls",
          "model_name": "HBoxModel",
          "model_module_version": "1.5.0",
          "state": {
            "_dom_classes": [],
            "_model_module": "@jupyter-widgets/controls",
            "_model_module_version": "1.5.0",
            "_model_name": "HBoxModel",
            "_view_count": null,
            "_view_module": "@jupyter-widgets/controls",
            "_view_module_version": "1.5.0",
            "_view_name": "HBoxView",
            "box_style": "",
            "children": [
              "IPY_MODEL_c142ab5d566b4461b43dc49eaa8ee422",
              "IPY_MODEL_400eac8cdc5c406da375126e032691aa",
              "IPY_MODEL_f1483338e1c548ad837790c1ad276513"
            ],
            "layout": "IPY_MODEL_fca77f595afe4357951bf63397fee2f9"
          }
        },
        "c142ab5d566b4461b43dc49eaa8ee422": {
          "model_module": "@jupyter-widgets/controls",
          "model_name": "HTMLModel",
          "model_module_version": "1.5.0",
          "state": {
            "_dom_classes": [],
            "_model_module": "@jupyter-widgets/controls",
            "_model_module_version": "1.5.0",
            "_model_name": "HTMLModel",
            "_view_count": null,
            "_view_module": "@jupyter-widgets/controls",
            "_view_module_version": "1.5.0",
            "_view_name": "HTMLView",
            "description": "",
            "description_tooltip": null,
            "layout": "IPY_MODEL_d0e2ed47b6aa49058664c82c9e45fa9f",
            "placeholder": "​",
            "style": "IPY_MODEL_3b5ad0c318e24ef892617fadb00b318d",
            "value": ""
          }
        },
        "400eac8cdc5c406da375126e032691aa": {
          "model_module": "@jupyter-widgets/controls",
          "model_name": "FloatProgressModel",
          "model_module_version": "1.5.0",
          "state": {
            "_dom_classes": [],
            "_model_module": "@jupyter-widgets/controls",
            "_model_module_version": "1.5.0",
            "_model_name": "FloatProgressModel",
            "_view_count": null,
            "_view_module": "@jupyter-widgets/controls",
            "_view_module_version": "1.5.0",
            "_view_name": "ProgressView",
            "bar_style": "success",
            "description": "",
            "description_tooltip": null,
            "layout": "IPY_MODEL_c2b73c3b9bd744f5a0f50342dbdf7989",
            "max": 1,
            "min": 0,
            "orientation": "horizontal",
            "style": "IPY_MODEL_2cc2b9247845473aae0de919e75d914e",
            "value": 1
          }
        },
        "f1483338e1c548ad837790c1ad276513": {
          "model_module": "@jupyter-widgets/controls",
          "model_name": "HTMLModel",
          "model_module_version": "1.5.0",
          "state": {
            "_dom_classes": [],
            "_model_module": "@jupyter-widgets/controls",
            "_model_module_version": "1.5.0",
            "_model_name": "HTMLModel",
            "_view_count": null,
            "_view_module": "@jupyter-widgets/controls",
            "_view_module_version": "1.5.0",
            "_view_name": "HTMLView",
            "description": "",
            "description_tooltip": null,
            "layout": "IPY_MODEL_54300aef8e814e4397c9bdc8879988c7",
            "placeholder": "​",
            "style": "IPY_MODEL_ea15b8b009f64f939dc1b789fdb174b7",
            "value": " 29/? [00:02&lt;00:00, 10.74it/s]"
          }
        },
        "fca77f595afe4357951bf63397fee2f9": {
          "model_module": "@jupyter-widgets/base",
          "model_name": "LayoutModel",
          "model_module_version": "1.2.0",
          "state": {
            "_model_module": "@jupyter-widgets/base",
            "_model_module_version": "1.2.0",
            "_model_name": "LayoutModel",
            "_view_count": null,
            "_view_module": "@jupyter-widgets/base",
            "_view_module_version": "1.2.0",
            "_view_name": "LayoutView",
            "align_content": null,
            "align_items": null,
            "align_self": null,
            "border": null,
            "bottom": null,
            "display": null,
            "flex": null,
            "flex_flow": null,
            "grid_area": null,
            "grid_auto_columns": null,
            "grid_auto_flow": null,
            "grid_auto_rows": null,
            "grid_column": null,
            "grid_gap": null,
            "grid_row": null,
            "grid_template_areas": null,
            "grid_template_columns": null,
            "grid_template_rows": null,
            "height": null,
            "justify_content": null,
            "justify_items": null,
            "left": null,
            "margin": null,
            "max_height": null,
            "max_width": null,
            "min_height": null,
            "min_width": null,
            "object_fit": null,
            "object_position": null,
            "order": null,
            "overflow": null,
            "overflow_x": null,
            "overflow_y": null,
            "padding": null,
            "right": null,
            "top": null,
            "visibility": null,
            "width": null
          }
        },
        "d0e2ed47b6aa49058664c82c9e45fa9f": {
          "model_module": "@jupyter-widgets/base",
          "model_name": "LayoutModel",
          "model_module_version": "1.2.0",
          "state": {
            "_model_module": "@jupyter-widgets/base",
            "_model_module_version": "1.2.0",
            "_model_name": "LayoutModel",
            "_view_count": null,
            "_view_module": "@jupyter-widgets/base",
            "_view_module_version": "1.2.0",
            "_view_name": "LayoutView",
            "align_content": null,
            "align_items": null,
            "align_self": null,
            "border": null,
            "bottom": null,
            "display": null,
            "flex": null,
            "flex_flow": null,
            "grid_area": null,
            "grid_auto_columns": null,
            "grid_auto_flow": null,
            "grid_auto_rows": null,
            "grid_column": null,
            "grid_gap": null,
            "grid_row": null,
            "grid_template_areas": null,
            "grid_template_columns": null,
            "grid_template_rows": null,
            "height": null,
            "justify_content": null,
            "justify_items": null,
            "left": null,
            "margin": null,
            "max_height": null,
            "max_width": null,
            "min_height": null,
            "min_width": null,
            "object_fit": null,
            "object_position": null,
            "order": null,
            "overflow": null,
            "overflow_x": null,
            "overflow_y": null,
            "padding": null,
            "right": null,
            "top": null,
            "visibility": null,
            "width": null
          }
        },
        "3b5ad0c318e24ef892617fadb00b318d": {
          "model_module": "@jupyter-widgets/controls",
          "model_name": "DescriptionStyleModel",
          "model_module_version": "1.5.0",
          "state": {
            "_model_module": "@jupyter-widgets/controls",
            "_model_module_version": "1.5.0",
            "_model_name": "DescriptionStyleModel",
            "_view_count": null,
            "_view_module": "@jupyter-widgets/base",
            "_view_module_version": "1.2.0",
            "_view_name": "StyleView",
            "description_width": ""
          }
        },
        "c2b73c3b9bd744f5a0f50342dbdf7989": {
          "model_module": "@jupyter-widgets/base",
          "model_name": "LayoutModel",
          "model_module_version": "1.2.0",
          "state": {
            "_model_module": "@jupyter-widgets/base",
            "_model_module_version": "1.2.0",
            "_model_name": "LayoutModel",
            "_view_count": null,
            "_view_module": "@jupyter-widgets/base",
            "_view_module_version": "1.2.0",
            "_view_name": "LayoutView",
            "align_content": null,
            "align_items": null,
            "align_self": null,
            "border": null,
            "bottom": null,
            "display": null,
            "flex": null,
            "flex_flow": null,
            "grid_area": null,
            "grid_auto_columns": null,
            "grid_auto_flow": null,
            "grid_auto_rows": null,
            "grid_column": null,
            "grid_gap": null,
            "grid_row": null,
            "grid_template_areas": null,
            "grid_template_columns": null,
            "grid_template_rows": null,
            "height": null,
            "justify_content": null,
            "justify_items": null,
            "left": null,
            "margin": null,
            "max_height": null,
            "max_width": null,
            "min_height": null,
            "min_width": null,
            "object_fit": null,
            "object_position": null,
            "order": null,
            "overflow": null,
            "overflow_x": null,
            "overflow_y": null,
            "padding": null,
            "right": null,
            "top": null,
            "visibility": null,
            "width": "20px"
          }
        },
        "2cc2b9247845473aae0de919e75d914e": {
          "model_module": "@jupyter-widgets/controls",
          "model_name": "ProgressStyleModel",
          "model_module_version": "1.5.0",
          "state": {
            "_model_module": "@jupyter-widgets/controls",
            "_model_module_version": "1.5.0",
            "_model_name": "ProgressStyleModel",
            "_view_count": null,
            "_view_module": "@jupyter-widgets/base",
            "_view_module_version": "1.2.0",
            "_view_name": "StyleView",
            "bar_color": null,
            "description_width": ""
          }
        },
        "54300aef8e814e4397c9bdc8879988c7": {
          "model_module": "@jupyter-widgets/base",
          "model_name": "LayoutModel",
          "model_module_version": "1.2.0",
          "state": {
            "_model_module": "@jupyter-widgets/base",
            "_model_module_version": "1.2.0",
            "_model_name": "LayoutModel",
            "_view_count": null,
            "_view_module": "@jupyter-widgets/base",
            "_view_module_version": "1.2.0",
            "_view_name": "LayoutView",
            "align_content": null,
            "align_items": null,
            "align_self": null,
            "border": null,
            "bottom": null,
            "display": null,
            "flex": null,
            "flex_flow": null,
            "grid_area": null,
            "grid_auto_columns": null,
            "grid_auto_flow": null,
            "grid_auto_rows": null,
            "grid_column": null,
            "grid_gap": null,
            "grid_row": null,
            "grid_template_areas": null,
            "grid_template_columns": null,
            "grid_template_rows": null,
            "height": null,
            "justify_content": null,
            "justify_items": null,
            "left": null,
            "margin": null,
            "max_height": null,
            "max_width": null,
            "min_height": null,
            "min_width": null,
            "object_fit": null,
            "object_position": null,
            "order": null,
            "overflow": null,
            "overflow_x": null,
            "overflow_y": null,
            "padding": null,
            "right": null,
            "top": null,
            "visibility": null,
            "width": null
          }
        },
        "ea15b8b009f64f939dc1b789fdb174b7": {
          "model_module": "@jupyter-widgets/controls",
          "model_name": "DescriptionStyleModel",
          "model_module_version": "1.5.0",
          "state": {
            "_model_module": "@jupyter-widgets/controls",
            "_model_module_version": "1.5.0",
            "_model_name": "DescriptionStyleModel",
            "_view_count": null,
            "_view_module": "@jupyter-widgets/base",
            "_view_module_version": "1.2.0",
            "_view_name": "StyleView",
            "description_width": ""
          }
        }
      }
    },
    "accelerator": "GPU",
    "gpuClass": "standard"
  },
  "cells": [
    {
      "cell_type": "markdown",
      "metadata": {
        "id": "view-in-github",
        "colab_type": "text"
      },
      "source": [
        "<a href=\"https://colab.research.google.com/github/Calcifer777/learn-deep-learning/blob/main/learn-pytorch/zero_to_mastery_learn_pytorch.ipynb\" target=\"_parent\"><img src=\"https://colab.research.google.com/assets/colab-badge.svg\" alt=\"Open In Colab\"/></a>"
      ]
    },
    {
      "cell_type": "code",
      "execution_count": 1,
      "metadata": {
        "colab": {
          "base_uri": "https://localhost:8080/",
          "height": 36
        },
        "id": "cAaq3DNuq8KT",
        "outputId": "38ff65e6-5a62-497b-a187-c4cc475a038e"
      },
      "outputs": [
        {
          "output_type": "execute_result",
          "data": {
            "text/plain": [
              "'1.13.1+cu116'"
            ],
            "application/vnd.google.colaboratory.intrinsic+json": {
              "type": "string"
            }
          },
          "metadata": {},
          "execution_count": 1
        }
      ],
      "source": [
        "import torch\n",
        "\n",
        "torch.__version__"
      ]
    },
    {
      "cell_type": "code",
      "source": [
        "!nvidia-smi"
      ],
      "metadata": {
        "colab": {
          "base_uri": "https://localhost:8080/"
        },
        "id": "AVKRfY6ru-lR",
        "outputId": "57c73d36-68b9-428d-d894-d63d6b5a66e9"
      },
      "execution_count": 2,
      "outputs": [
        {
          "output_type": "stream",
          "name": "stdout",
          "text": [
            "Tue Jan 31 01:25:57 2023       \n",
            "+-----------------------------------------------------------------------------+\n",
            "| NVIDIA-SMI 510.47.03    Driver Version: 510.47.03    CUDA Version: 11.6     |\n",
            "|-------------------------------+----------------------+----------------------+\n",
            "| GPU  Name        Persistence-M| Bus-Id        Disp.A | Volatile Uncorr. ECC |\n",
            "| Fan  Temp  Perf  Pwr:Usage/Cap|         Memory-Usage | GPU-Util  Compute M. |\n",
            "|                               |                      |               MIG M. |\n",
            "|===============================+======================+======================|\n",
            "|   0  Tesla T4            Off  | 00000000:00:04.0 Off |                    0 |\n",
            "| N/A   70C    P0    29W /  70W |      0MiB / 15360MiB |      0%      Default |\n",
            "|                               |                      |                  N/A |\n",
            "+-------------------------------+----------------------+----------------------+\n",
            "                                                                               \n",
            "+-----------------------------------------------------------------------------+\n",
            "| Processes:                                                                  |\n",
            "|  GPU   GI   CI        PID   Type   Process name                  GPU Memory |\n",
            "|        ID   ID                                                   Usage      |\n",
            "|=============================================================================|\n",
            "|  No running processes found                                                 |\n",
            "+-----------------------------------------------------------------------------+\n"
          ]
        }
      ]
    },
    {
      "cell_type": "code",
      "source": [
        "!pip install torchvision torchinfo tensorboardx"
      ],
      "metadata": {
        "colab": {
          "base_uri": "https://localhost:8080/"
        },
        "id": "HtYF_zp4MIQ2",
        "outputId": "2b3691bf-4144-481b-a4eb-be933b786248"
      },
      "execution_count": 246,
      "outputs": [
        {
          "output_type": "stream",
          "name": "stdout",
          "text": [
            "Looking in indexes: https://pypi.org/simple, https://us-python.pkg.dev/colab-wheels/public/simple/\n",
            "Requirement already satisfied: torchvision in /usr/local/lib/python3.8/dist-packages (0.14.1+cu116)\n",
            "Requirement already satisfied: torchinfo in /usr/local/lib/python3.8/dist-packages (1.7.1)\n",
            "Requirement already satisfied: tensorboardx in /usr/local/lib/python3.8/dist-packages (2.5.1)\n",
            "Requirement already satisfied: torch==1.13.1 in /usr/local/lib/python3.8/dist-packages (from torchvision) (1.13.1+cu116)\n",
            "Requirement already satisfied: numpy in /usr/local/lib/python3.8/dist-packages (from torchvision) (1.21.6)\n",
            "Requirement already satisfied: requests in /usr/local/lib/python3.8/dist-packages (from torchvision) (2.25.1)\n",
            "Requirement already satisfied: pillow!=8.3.*,>=5.3.0 in /usr/local/lib/python3.8/dist-packages (from torchvision) (7.1.2)\n",
            "Requirement already satisfied: typing-extensions in /usr/local/lib/python3.8/dist-packages (from torchvision) (4.4.0)\n",
            "Requirement already satisfied: protobuf<=3.20.1,>=3.8.0 in /usr/local/lib/python3.8/dist-packages (from tensorboardx) (3.19.6)\n",
            "Requirement already satisfied: chardet<5,>=3.0.2 in /usr/local/lib/python3.8/dist-packages (from requests->torchvision) (4.0.0)\n",
            "Requirement already satisfied: idna<3,>=2.5 in /usr/local/lib/python3.8/dist-packages (from requests->torchvision) (2.10)\n",
            "Requirement already satisfied: certifi>=2017.4.17 in /usr/local/lib/python3.8/dist-packages (from requests->torchvision) (2022.12.7)\n",
            "Requirement already satisfied: urllib3<1.27,>=1.21.1 in /usr/local/lib/python3.8/dist-packages (from requests->torchvision) (1.24.3)\n"
          ]
        }
      ]
    },
    {
      "cell_type": "code",
      "source": [
        "device = \"cuda\" if torch.cuda.is_available() else \"cpu\""
      ],
      "metadata": {
        "id": "CQdqELUtMG5c"
      },
      "execution_count": 3,
      "outputs": []
    },
    {
      "cell_type": "markdown",
      "source": [
        "# Utils"
      ],
      "metadata": {
        "id": "Dd4wXyLOYJW3"
      }
    },
    {
      "cell_type": "code",
      "source": [
        "import torch\n",
        "from torch.utils.data import DataLoader\n",
        "from torch import nn"
      ],
      "metadata": {
        "id": "IrvbAWkIYYGz"
      },
      "execution_count": 4,
      "outputs": []
    },
    {
      "cell_type": "code",
      "source": [
        "def train_step(\n",
        "    model: nn.Module, \n",
        "    data_loader: DataLoader, \n",
        "    loss_fn: nn.Module, \n",
        "    optimizer: torch.optim.Optimizer, \n",
        "    accuracy_fn,\n",
        "    device: torch.device = device,\n",
        "    debug=False\n",
        "):\n",
        "  loss, acc = 0, 0\n",
        "  model.train()\n",
        "  for batch_idx, (x, y) in tqdm(enumerate(data_loader)):\n",
        "    x, y = x.to(device), y.to(device)\n",
        "    train_probs = model(x)\n",
        "    batch_loss = loss_fn(train_probs, y)\n",
        "    optimizer.zero_grad()\n",
        "    batch_loss.backward()\n",
        "    optimizer.step()\n",
        "    loss += batch_loss\n",
        "    train_preds = train_probs.argmax(dim=-1)\n",
        "    batch_acc = accuracy_fn(y, train_preds)\n",
        "    acc += batch_acc\n",
        "    if debug and batch_idx % 250 == 0:\n",
        "      print(f\"Batch {batch_idx} Loss: {batch_loss:.5f} | Train accuracy: {batch_acc:.2f}%\")\n",
        "  loss /= len(data_loader)\n",
        "  acc /= len(data_loader)\n",
        "  print(f\"Train loss: {loss:.5f} | Train accuracy: {acc:.2f}%\")\n",
        "  return loss, acc"
      ],
      "metadata": {
        "id": "4Vthplq2Q5av"
      },
      "execution_count": 5,
      "outputs": []
    },
    {
      "cell_type": "code",
      "source": [
        "def test_step(\n",
        "    model: nn.Module, \n",
        "    data_loader: DataLoader, \n",
        "    loss_fn: nn.Module, \n",
        "    optimizer: torch.optim.Optimizer, \n",
        "    accuracy_fn,\n",
        "    device: torch.device = device,\n",
        "    debug=False\n",
        "):\n",
        "  loss, acc = 0, 0\n",
        "  model.eval()\n",
        "  with torch.inference_mode():\n",
        "    for batch_idx, (x, y) in enumerate(data_loader):\n",
        "      x, y = x.to(device), y.to(device)\n",
        "      probs = model(x)\n",
        "      batch_loss = loss_fn(probs, y)\n",
        "      loss += batch_loss\n",
        "      preds = probs.argmax(dim=-1)\n",
        "      batch_acc = accuracy_fn(y, preds)\n",
        "      acc += batch_acc\n",
        "      if debug and batch_idx % 250 == 0:\n",
        "        print(f\"Batch {batch_idx} Loss: {batch_loss:.5f} | Test accuracy: {batch_acc:.2f}%\")\n",
        "    loss /= len(data_loader)\n",
        "    acc /= len(data_loader)\n",
        "  print(f\"Test loss: {loss:.5f} | Test accuracy: {acc:.2f}%\")\n",
        "  return loss, acc"
      ],
      "metadata": {
        "id": "296MLAOYQ6Cx"
      },
      "execution_count": 6,
      "outputs": []
    },
    {
      "cell_type": "code",
      "source": [
        "def train(model, loss_fn, optimizer, accuracy_fn, epochs, train_dataloader, test_dataloader, device=device):\n",
        "  epochs = range(EPOCHS)\n",
        "  history = dict(\n",
        "    train_loss=[],\n",
        "    test_loss=[], \n",
        "    train_acc=[],\n",
        "    test_acc=[]\n",
        "  )\n",
        "  \n",
        "  for epoch in epochs:\n",
        "    etrain_loss, etrain_acc = train_step(\n",
        "      model=model, \n",
        "      data_loader=train_dataloader, \n",
        "      loss_fn=loss_fn, \n",
        "      optimizer=optimizer, \n",
        "      accuracy_fn=accuracy_fn,\n",
        "    )\n",
        "    history[\"train_loss\"].append(etrain_loss.to(\"cpu\").detach().numpy())\n",
        "    history[\"train_acc\"].append(etrain_acc.to(\"cpu\").detach().numpy())\n",
        "    etest_loss, etest_acc = test_step(\n",
        "      model=model, \n",
        "      data_loader=test_dataloader, \n",
        "      loss_fn=loss_fn, \n",
        "      optimizer=optimizer, \n",
        "      accuracy_fn=accuracy_fn,  \n",
        "    )\n",
        "    history[\"test_loss\"].append(etest_loss.to(\"cpu\").detach().numpy())\n",
        "    history[\"test_acc\"].append(etest_acc.to(\"cpu\").detach().numpy())\n",
        "  return history"
      ],
      "metadata": {
        "id": "gd4gxfWbQ-Yj"
      },
      "execution_count": 7,
      "outputs": []
    },
    {
      "cell_type": "code",
      "source": [
        "def plot_history(train_losses, test_losses=None, train_acc=None, test_acc=None):\n",
        "  plt.figure(figsize=(12, 6))\n",
        "  plt.subplot(1, 2, 1)\n",
        "  epochs = list(range(1, len(train_losses)+1))\n",
        "  plt.plot(epochs, train_losses, label=\"Train\")\n",
        "  if test_losses:\n",
        "    plt.plot(epochs, test_losses, label=\"Test\")\n",
        "  plt.title(\"Loss by epoch\")\n",
        "  plt.ylabel(\"Loss\")\n",
        "  plt.xlabel(\"Epoch\")\n",
        "  plt.legend()\n",
        "  plt.subplot(1, 2, 2)\n",
        "  plt.plot(epochs, train_acc, label=\"Train\")\n",
        "  if test_losses:\n",
        "    plt.plot(epochs, test_acc, label=\"Test\")\n",
        "  plt.title(\"Accuracy by epoch\")\n",
        "  plt.ylabel(\"Loss\")\n",
        "  plt.xlabel(\"Epoch\")\n",
        "  plt.legend()"
      ],
      "metadata": {
        "id": "mYl6pUm4YJIG"
      },
      "execution_count": 38,
      "outputs": []
    },
    {
      "cell_type": "markdown",
      "source": [
        "# 00 Pytorch fundamentals"
      ],
      "metadata": {
        "id": "WE37w7e3x3Lh"
      }
    },
    {
      "cell_type": "code",
      "source": [
        "# 2\n",
        "t = torch.rand(7, 7)\n",
        "print(f\"{t.shape=}\")"
      ],
      "metadata": {
        "colab": {
          "base_uri": "https://localhost:8080/"
        },
        "id": "-rIbKSyhrgHI",
        "outputId": "b08b094d-4408-4646-c01f-95ba14c8f0bb"
      },
      "execution_count": 253,
      "outputs": [
        {
          "output_type": "stream",
          "name": "stdout",
          "text": [
            "t.shape=torch.Size([7, 7])\n"
          ]
        }
      ]
    },
    {
      "cell_type": "code",
      "source": [
        "# 3\n",
        "t2 = torch.rand(1, 7)\n",
        "t @ t2.T"
      ],
      "metadata": {
        "colab": {
          "base_uri": "https://localhost:8080/"
        },
        "id": "pkEzjFQ8r1ga",
        "outputId": "3946cf20-b035-4cc9-d323-6adad879a377"
      },
      "execution_count": 254,
      "outputs": [
        {
          "output_type": "execute_result",
          "data": {
            "text/plain": [
              "tensor([[1.7977],\n",
              "        [1.4399],\n",
              "        [1.9632],\n",
              "        [1.5714],\n",
              "        [1.3151],\n",
              "        [1.6300],\n",
              "        [1.7768]])"
            ]
          },
          "metadata": {},
          "execution_count": 254
        }
      ]
    },
    {
      "cell_type": "code",
      "source": [
        "# 4\n",
        "torch.manual_seed(0)"
      ],
      "metadata": {
        "colab": {
          "base_uri": "https://localhost:8080/"
        },
        "id": "Feo_ejuUsIAZ",
        "outputId": "a1b71d96-a48c-465e-871d-04c043bcf8ab"
      },
      "execution_count": 255,
      "outputs": [
        {
          "output_type": "execute_result",
          "data": {
            "text/plain": [
              "<torch._C.Generator at 0x7f634d84dd50>"
            ]
          },
          "metadata": {},
          "execution_count": 255
        }
      ]
    },
    {
      "cell_type": "code",
      "source": [
        "# 5\n",
        "if torch.cuda.is_available():\n",
        "  torch.cuda.random.manual_seed(0)"
      ],
      "metadata": {
        "id": "3TYc4z6bt10_"
      },
      "execution_count": 256,
      "outputs": []
    },
    {
      "cell_type": "code",
      "source": [
        "# 8, 9\n",
        "t3 = torch.rand(3, 5)\n",
        "out, idx = t3.max(axis=0)\n",
        "assert out.shape == torch.Size([5])"
      ],
      "metadata": {
        "id": "6BQc2MR7wHCK"
      },
      "execution_count": 257,
      "outputs": []
    },
    {
      "cell_type": "code",
      "source": [
        "# 10\n",
        "t4 = torch.rand(1, 1, 1, 10)\n",
        "t4.view(10)"
      ],
      "metadata": {
        "id": "Jjw7iGDixajj",
        "colab": {
          "base_uri": "https://localhost:8080/"
        },
        "outputId": "85daeac1-5faf-439d-ce9c-773b446524ed"
      },
      "execution_count": 258,
      "outputs": [
        {
          "output_type": "execute_result",
          "data": {
            "text/plain": [
              "tensor([0.5185, 0.6977, 0.8000, 0.1610, 0.2823, 0.6816, 0.9152, 0.3971, 0.8742,\n",
              "        0.4194])"
            ]
          },
          "metadata": {},
          "execution_count": 258
        }
      ]
    },
    {
      "cell_type": "markdown",
      "source": [
        "# 01 PyTorch Workflow Fundamentas"
      ],
      "metadata": {
        "id": "GQKxA6wdx9t_"
      }
    },
    {
      "cell_type": "code",
      "source": [
        "import matplotlib.pyplot as plt\n",
        "from torch import nn\n",
        "from pathlib import Path"
      ],
      "metadata": {
        "id": "CM0Qs15TzLZF"
      },
      "execution_count": 259,
      "outputs": []
    },
    {
      "cell_type": "code",
      "source": [
        "weight = 0.7\n",
        "bias = 0.3\n",
        "\n",
        "X = torch.arange(0, 1, step=0.02).unsqueeze(1)\n",
        "y = weight * X + bias + torch.rand(X.shape) * 0.2"
      ],
      "metadata": {
        "id": "CY3jrtP9yCet"
      },
      "execution_count": 260,
      "outputs": []
    },
    {
      "cell_type": "code",
      "source": [
        "split = int(0.8 * X.shape[0])\n",
        "X_train, X_test, y_train, y_test = X[:split], X[split:], y[:split], y[split:] "
      ],
      "metadata": {
        "id": "i1eflCQDyRk6"
      },
      "execution_count": 261,
      "outputs": []
    },
    {
      "cell_type": "code",
      "source": [
        "def plot_predictions(\n",
        "    train_data,\n",
        "    train_labels,\n",
        "    test_data,\n",
        "    test_labels,\n",
        "    predictions=None,\n",
        "):\n",
        "  plt.figure(figsize=(10, 7))\n",
        "  plt.scatter(train_data, train_labels, c=\"b\", s=4, label=\"Train data\")\n",
        "  plt.scatter(test_data, test_labels, c=\"g\", s=4, label=\"Test data\")\n",
        "  if predictions is not None:\n",
        "    plt.scatter(test_data, predictions, c=\"r\", s=4, label=\"Predictions\")\n",
        "  plt.legend(prop={\"size\": 14})"
      ],
      "metadata": {
        "id": "BBppROXky5P-"
      },
      "execution_count": 262,
      "outputs": []
    },
    {
      "cell_type": "code",
      "source": [
        "plot_predictions(X_train, y_train, X_test, y_test)"
      ],
      "metadata": {
        "colab": {
          "base_uri": "https://localhost:8080/",
          "height": 428
        },
        "id": "dDjcDRkry75f",
        "outputId": "8c8d70e5-d526-484b-c508-616f2f15da0c"
      },
      "execution_count": 263,
      "outputs": [
        {
          "output_type": "display_data",
          "data": {
            "text/plain": [
              "<Figure size 720x504 with 1 Axes>"
            ],
            "image/png": "[encoded data removed]"
          },
          "metadata": {
            "needs_background": "light"
          }
        }
      ]
    },
    {
      "cell_type": "code",
      "source": [
        "class LinearModel(nn.Module):\n",
        "  def __init__(self):\n",
        "    super().__init__()\n",
        "    self.weights = nn.Parameter(torch.rand(1, dtype=torch.float), requires_grad=True)\n",
        "    self.bias = nn.Parameter(torch.rand(1, dtype=torch.float), requires_grad=True)\n",
        "  def forward(self, x: torch.Tensor):\n",
        "    return self.weights * x + self.bias"
      ],
      "metadata": {
        "id": "AjUNO-osz0lR"
      },
      "execution_count": 264,
      "outputs": []
    },
    {
      "cell_type": "code",
      "source": [
        "torch.manual_seed(13)\n",
        "model_0 = LinearModel()\n",
        "with torch.inference_mode():\n",
        "  y_preds = model_0(X_test)"
      ],
      "metadata": {
        "id": "LvTtLUpW0hce"
      },
      "execution_count": 265,
      "outputs": []
    },
    {
      "cell_type": "code",
      "source": [
        "plot_predictions(X_train, y_train, X_test, y_test, y_preds)"
      ],
      "metadata": {
        "colab": {
          "base_uri": "https://localhost:8080/",
          "height": 428
        },
        "id": "ZQy9Qaq91qaE",
        "outputId": "75cb6460-dce2-4574-ea39-c75fded694c3"
      },
      "execution_count": 266,
      "outputs": [
        {
          "output_type": "display_data",
          "data": {
            "text/plain": [
              "<Figure size 720x504 with 1 Axes>"
            ],
            "image/png": "[encoded data removed]"
          },
          "metadata": {
            "needs_background": "light"
          }
        }
      ]
    },
    {
      "cell_type": "code",
      "source": [
        "loss_fn = nn.L1Loss()\n",
        "optimizer = torch.optim.SGD(params=model_0.parameters(), lr=0.05)"
      ],
      "metadata": {
        "id": "V48sYZH41yJG"
      },
      "execution_count": 267,
      "outputs": []
    },
    {
      "cell_type": "code",
      "source": [
        "num_epochs = 100\n",
        "epochs, train_losses, test_losses = [], [], []\n",
        "\n",
        "for epoch in range(num_epochs):\n",
        "  model_0.train()\n",
        "  y_pred = model_0(X_train)\n",
        "  train_loss = loss_fn(y_pred, y_train)\n",
        "  optimizer.zero_grad()\n",
        "  train_loss.backward()\n",
        "  optimizer.step()\n",
        "  model_0.eval()\n",
        "  with torch.inference_mode():\n",
        "    test_pred = model_0(X_test)\n",
        "    test_loss = loss_fn(test_pred, y_test)\n",
        "    epochs.append(epoch)\n",
        "    train_losses.append(train_loss.detach().numpy())\n",
        "    test_losses.append(test_loss.detach().numpy())\n",
        "    if epoch % 5 == 0:\n",
        "      print(\"Epoch: %i Loss %.2f Test Loss %.2f\" % (epoch, train_loss, test_loss))"
      ],
      "metadata": {
        "colab": {
          "base_uri": "https://localhost:8080/"
        },
        "id": "jhO1myzl1_VB",
        "outputId": "7c6baa67-9643-4068-e6b3-2d7ac271e060"
      },
      "execution_count": 268,
      "outputs": [
        {
          "output_type": "stream",
          "name": "stdout",
          "text": [
            "Epoch: 0 Loss 0.18 Test Loss 0.45\n",
            "Epoch: 5 Loss 0.13 Test Loss 0.31\n",
            "Epoch: 10 Loss 0.11 Test Loss 0.26\n",
            "Epoch: 15 Loss 0.11 Test Loss 0.24\n",
            "Epoch: 20 Loss 0.10 Test Loss 0.21\n",
            "Epoch: 25 Loss 0.09 Test Loss 0.19\n",
            "Epoch: 30 Loss 0.08 Test Loss 0.18\n",
            "Epoch: 35 Loss 0.08 Test Loss 0.16\n",
            "Epoch: 40 Loss 0.07 Test Loss 0.15\n",
            "Epoch: 45 Loss 0.07 Test Loss 0.13\n",
            "Epoch: 50 Loss 0.07 Test Loss 0.12\n",
            "Epoch: 55 Loss 0.07 Test Loss 0.11\n",
            "Epoch: 60 Loss 0.07 Test Loss 0.11\n",
            "Epoch: 65 Loss 0.06 Test Loss 0.11\n",
            "Epoch: 70 Loss 0.06 Test Loss 0.10\n",
            "Epoch: 75 Loss 0.06 Test Loss 0.09\n",
            "Epoch: 80 Loss 0.06 Test Loss 0.09\n",
            "Epoch: 85 Loss 0.06 Test Loss 0.08\n",
            "Epoch: 90 Loss 0.06 Test Loss 0.07\n",
            "Epoch: 95 Loss 0.06 Test Loss 0.07\n"
          ]
        }
      ]
    },
    {
      "cell_type": "code",
      "source": [
        "plt.plot(epochs, train_losses, label=\"Train_loss\")\n",
        "plt.plot(epochs, test_losses, label=\"Test_loss\")\n",
        "plt.title(\"Training and test loss curves\")\n",
        "plt.ylabel(\"Loss\")\n",
        "plt.xlabel(\"Epoch\")\n",
        "plt.legend()"
      ],
      "metadata": {
        "colab": {
          "base_uri": "https://localhost:8080/",
          "height": 313
        },
        "id": "TadsJib25Yq5",
        "outputId": "91994717-0e7d-4f7a-cb21-6e41e763559a"
      },
      "execution_count": 269,
      "outputs": [
        {
          "output_type": "execute_result",
          "data": {
            "text/plain": [
              "<matplotlib.legend.Legend at 0x7f63274e9a30>"
            ]
          },
          "metadata": {},
          "execution_count": 269
        },
        {
          "output_type": "display_data",
          "data": {
            "text/plain": [
              "<Figure size 432x288 with 1 Axes>"
            ],
            "image/png": "[encoded data removed]"
          },
          "metadata": {
            "needs_background": "light"
          }
        }
      ]
    },
    {
      "cell_type": "code",
      "source": [
        "with torch.inference_mode():\n",
        "  y_preds = model_0(X_test)\n",
        "  \n",
        "plot_predictions(X_train, y_train, X_test, y_test, y_preds)"
      ],
      "metadata": {
        "colab": {
          "base_uri": "https://localhost:8080/",
          "height": 428
        },
        "id": "uVu27FPI31n9",
        "outputId": "3ad0f170-518e-43fb-c1cf-714388c9672a"
      },
      "execution_count": 270,
      "outputs": [
        {
          "output_type": "display_data",
          "data": {
            "text/plain": [
              "<Figure size 720x504 with 1 Axes>"
            ],
            "image/png": "[encoded data removed]"
          },
          "metadata": {
            "needs_background": "light"
          }
        }
      ]
    },
    {
      "cell_type": "code",
      "source": [
        "OUTPUT_PATH = Path(\"models\")\n",
        "OUTPUT_PATH.mkdir(parents=True, exist_ok=True)\n",
        "file_path = OUTPUT_PATH / \"linear_model.pt\"\n",
        "torch.save(obj=model_0.state_dict(), f=file_path)"
      ],
      "metadata": {
        "id": "DBRL-5o86YwG"
      },
      "execution_count": 271,
      "outputs": []
    },
    {
      "cell_type": "code",
      "source": [
        "model_0_from_saved = LinearModel()\n",
        "model_0_from_saved.load_state_dict(state_dict=torch.load(file_path))"
      ],
      "metadata": {
        "colab": {
          "base_uri": "https://localhost:8080/"
        },
        "id": "V8FUWMrz7OgY",
        "outputId": "611b766f-57cb-4569-c7e5-3c4dd486b004"
      },
      "execution_count": 272,
      "outputs": [
        {
          "output_type": "execute_result",
          "data": {
            "text/plain": [
              "<All keys matched successfully>"
            ]
          },
          "metadata": {},
          "execution_count": 272
        }
      ]
    },
    {
      "cell_type": "markdown",
      "source": [
        "# 02 PyTorch Neural Network Classification"
      ],
      "metadata": {
        "id": "XiHaMKe37_-C"
      }
    },
    {
      "cell_type": "code",
      "source": [
        "import numpy as np\n",
        "from sklearn.datasets import make_circles"
      ],
      "metadata": {
        "id": "csrPynhbZC7J"
      },
      "execution_count": 273,
      "outputs": []
    },
    {
      "cell_type": "code",
      "source": [
        "n_samples = 1000\n",
        "\n",
        "X, y = make_circles(n_samples, noise=0.03, random_state=42)"
      ],
      "metadata": {
        "id": "ABgPhAJY7V5s"
      },
      "execution_count": 274,
      "outputs": []
    },
    {
      "cell_type": "code",
      "source": [
        "print(f\"{X.shape=}\")\n",
        "print(f\"{y.shape=}\")"
      ],
      "metadata": {
        "colab": {
          "base_uri": "https://localhost:8080/"
        },
        "id": "WIfmFWycLW_F",
        "outputId": "94709fe0-1f81-4e79-ba7e-b69e0f7d6cc6"
      },
      "execution_count": 275,
      "outputs": [
        {
          "output_type": "stream",
          "name": "stdout",
          "text": [
            "X.shape=(1000, 2)\n",
            "y.shape=(1000,)\n"
          ]
        }
      ]
    },
    {
      "cell_type": "code",
      "source": [
        "import matplotlib.pyplot as plt\n",
        "\n",
        "plt.scatter(x=X[:, 0], y=X[:, 1], c=y, cmap=plt.cm.RdYlBu)"
      ],
      "metadata": {
        "colab": {
          "base_uri": "https://localhost:8080/",
          "height": 283
        },
        "id": "5qrDmvabLdS8",
        "outputId": "6c50b117-33c7-42f8-e5f5-d64d1673d535"
      },
      "execution_count": 276,
      "outputs": [
        {
          "output_type": "execute_result",
          "data": {
            "text/plain": [
              "<matplotlib.collections.PathCollection at 0x7f5f9ddb91c0>"
            ]
          },
          "metadata": {},
          "execution_count": 276
        },
        {
          "output_type": "display_data",
          "data": {
            "text/plain": [
              "<Figure size 432x288 with 1 Axes>"
            ],
            "image/png": "[encoded data removed]"
          },
          "metadata": {
            "needs_background": "light"
          }
        }
      ]
    },
    {
      "cell_type": "code",
      "source": [
        "X_pt = torch.from_numpy(X).type(torch.float)\n",
        "y_pt = torch.from_numpy(y).type(torch.float)"
      ],
      "metadata": {
        "id": "CGF3CcLbLyww"
      },
      "execution_count": 277,
      "outputs": []
    },
    {
      "cell_type": "code",
      "source": [
        "from sklearn.model_selection import train_test_split\n",
        "\n",
        "X_train, X_test, y_train, y_test = train_test_split(X_pt, y_pt, test_size=0.2, random_state=32)"
      ],
      "metadata": {
        "id": "DuaRO4v8L2-f"
      },
      "execution_count": 278,
      "outputs": []
    },
    {
      "cell_type": "code",
      "source": [
        "class CircleModel(nn.Module):\n",
        "  def __init__(self):\n",
        "    super().__init__()\n",
        "    self.l1 = nn.Linear(in_features=2, out_features=16, dtype=torch.float)\n",
        "    self.l2 = nn.Linear(in_features=16, out_features=16, dtype=torch.float)\n",
        "    self.l3 = nn.Linear(in_features=16, out_features=1, dtype=torch.float)\n",
        "    self.relu = nn.ReLU()\n",
        "    self.activation = nn.Sigmoid()\n",
        "\n",
        "  def forward(self, x):\n",
        "    x = self.l1(x)\n",
        "    x = self.relu(x)\n",
        "    x = self.l2(x)\n",
        "    x = self.relu(x)\n",
        "    x = self.l3(x)\n",
        "    x = self.activation(x)\n",
        "    return x"
      ],
      "metadata": {
        "id": "YtWyIbunMADi"
      },
      "execution_count": 279,
      "outputs": []
    },
    {
      "cell_type": "code",
      "source": [
        "def accuracy(y_true, y_pred):\n",
        "  correct = torch.eq(y_true, y_pred).sum().item()\n",
        "  return correct / y_true.shape[0] * 100"
      ],
      "metadata": {
        "id": "bdymXfivRP_j"
      },
      "execution_count": 280,
      "outputs": []
    },
    {
      "cell_type": "code",
      "source": [
        "model_0 = CircleModel().to(device)\n",
        "optimizer = torch.optim.Adam(model_0.parameters(), lr=0.01)"
      ],
      "metadata": {
        "id": "8jdyS8XGMj6Y"
      },
      "execution_count": 281,
      "outputs": []
    },
    {
      "cell_type": "code",
      "source": [
        "num_epochs = 100\n",
        "\n",
        "epochs = range(num_epochs)\n",
        "train_losses, test_losses = [], []\n",
        "train_accuracies, test_accuracies = [], []\n",
        "\n",
        "tmpl = \"Epoch %i Loss %.2f Accuracy %.2f Test Loss %.2f Test Accuracy %.2f\"\n",
        "\n",
        "X_train = X_train.to(device)\n",
        "X_test = X_test.to(device)\n",
        "y_train = y_train.to(device)\n",
        "y_test = y_test.to(device)\n",
        "\n",
        "for epoch in epochs:\n",
        "  model_0.train()\n",
        "  probs_train = model_0(X_train).squeeze()\n",
        "  preds_train = torch.round(probs_train)\n",
        "  loss_train = nn.BCELoss()(probs_train, y_train)\n",
        "  optimizer.zero_grad()\n",
        "  loss_train.backward()\n",
        "  optimizer.step()\n",
        "  train_losses.append(loss_train)\n",
        "  accuracy_train = accuracy(y_train, preds_train)\n",
        "  train_accuracies.append(accuracy_train)\n",
        "  model_0.eval()\n",
        "  with torch.inference_mode():\n",
        "    probs_test = model_0(X_test).squeeze()\n",
        "    preds_test = torch.round(probs_test)\n",
        "    loss_test = nn.BCELoss()(probs_test, y_test)\n",
        "  test_losses.append(loss_test)\n",
        "  accuracy_test = accuracy(y_test, preds_test)\n",
        "  test_accuracies.append(accuracy_test)\n",
        "  if epoch % 5 == 0:\n",
        "    print(tmpl % (epoch, loss_train, accuracy_train, loss_test, accuracy_test))\n",
        "  "
      ],
      "metadata": {
        "colab": {
          "base_uri": "https://localhost:8080/"
        },
        "id": "oAj-bVeXPVyu",
        "outputId": "16e5b150-f561-4652-adb1-1ccba0d71c84"
      },
      "execution_count": 282,
      "outputs": [
        {
          "output_type": "stream",
          "name": "stdout",
          "text": [
            "Epoch 0 Loss 0.70 Accuracy 50.12 Test Loss 0.70 Test Accuracy 49.50\n",
            "Epoch 5 Loss 0.69 Accuracy 49.88 Test Loss 0.69 Test Accuracy 50.50\n",
            "Epoch 10 Loss 0.69 Accuracy 52.00 Test Loss 0.69 Test Accuracy 51.50\n",
            "Epoch 15 Loss 0.68 Accuracy 59.00 Test Loss 0.68 Test Accuracy 53.00\n",
            "Epoch 20 Loss 0.67 Accuracy 61.38 Test Loss 0.67 Test Accuracy 55.00\n",
            "Epoch 25 Loss 0.65 Accuracy 63.00 Test Loss 0.66 Test Accuracy 56.00\n",
            "Epoch 30 Loss 0.62 Accuracy 68.12 Test Loss 0.64 Test Accuracy 62.00\n",
            "Epoch 35 Loss 0.59 Accuracy 78.50 Test Loss 0.60 Test Accuracy 80.00\n",
            "Epoch 40 Loss 0.54 Accuracy 91.25 Test Loss 0.54 Test Accuracy 91.00\n",
            "Epoch 45 Loss 0.47 Accuracy 98.88 Test Loss 0.47 Test Accuracy 98.50\n",
            "Epoch 50 Loss 0.39 Accuracy 99.62 Test Loss 0.40 Test Accuracy 100.00\n",
            "Epoch 55 Loss 0.31 Accuracy 99.50 Test Loss 0.32 Test Accuracy 100.00\n",
            "Epoch 60 Loss 0.24 Accuracy 99.75 Test Loss 0.24 Test Accuracy 100.00\n",
            "Epoch 65 Loss 0.17 Accuracy 99.75 Test Loss 0.18 Test Accuracy 100.00\n",
            "Epoch 70 Loss 0.12 Accuracy 100.00 Test Loss 0.13 Test Accuracy 100.00\n",
            "Epoch 75 Loss 0.09 Accuracy 100.00 Test Loss 0.10 Test Accuracy 100.00\n",
            "Epoch 80 Loss 0.07 Accuracy 100.00 Test Loss 0.07 Test Accuracy 100.00\n",
            "Epoch 85 Loss 0.05 Accuracy 100.00 Test Loss 0.06 Test Accuracy 100.00\n",
            "Epoch 90 Loss 0.04 Accuracy 100.00 Test Loss 0.05 Test Accuracy 100.00\n",
            "Epoch 95 Loss 0.03 Accuracy 100.00 Test Loss 0.04 Test Accuracy 100.00\n"
          ]
        }
      ]
    },
    {
      "cell_type": "code",
      "source": [
        "model_0.eval()\n",
        "with torch.inference_mode():\n",
        "  probs_test = model_0(X_test).squeeze()\n",
        "  preds_test = torch.round(probs_test)\n",
        "\n",
        "print(f\"{preds_test[:15]=}\".rjust(85))\n",
        "print(f\"{y_test[:15]=}\".rjust(85))"
      ],
      "metadata": {
        "colab": {
          "base_uri": "https://localhost:8080/"
        },
        "id": "RgQ6K8-iQwbu",
        "outputId": "5adef2ad-dff3-40e3-8938-dc7a1f9c6040"
      },
      "execution_count": 283,
      "outputs": [
        {
          "output_type": "stream",
          "name": "stdout",
          "text": [
            "preds_test[:15]=tensor([0., 1., 0., 0., 1., 0., 1., 0., 1., 1., 1., 0., 0., 0., 0.],\n",
            "       device='cuda:0')\n",
            "y_test[:15]=tensor([0., 1., 0., 0., 1., 0., 1., 0., 1., 1., 1., 0., 0., 0., 0.],\n",
            "       device='cuda:0')\n"
          ]
        }
      ]
    },
    {
      "cell_type": "code",
      "source": [
        "def plot_decision_boundary(model, X, y):\n",
        "  # setup mesh\n",
        "  x_min, x_max = X[:, 0].min() - 0.1, X[:, 0].max() + 0.1\n",
        "  y_min, y_max = X[:, 1].min() - 0.1, X[:, 1].max() + 0.1\n",
        "  xx, yy = np.meshgrid(\n",
        "    np.linspace(x_min.to(\"cpu\"), x_max.to(\"cpu\"), 1001), \n",
        "    np.linspace(y_min.to(\"cpu\"), y_max.to(\"cpu\"), 1001),\n",
        "  )\n",
        "  # reshape data\n",
        "  X_mesh = torch.from_numpy(np.column_stack((xx.ravel(), yy.ravel()))).float()\n",
        "  # predict\n",
        "  model_0.eval()\n",
        "  with torch.inference_mode():\n",
        "    probs_mesh = model_0(X_mesh.to(device)).squeeze()\n",
        "    preds_mesh = torch.round(probs_mesh)\n",
        "  # reshape back\n",
        "  preds_mesh_reshaped = preds_mesh.reshape(xx.shape)\n",
        "  # plot\n",
        "  plt.contourf(xx, yy, preds_mesh_reshaped.to(\"cpu\"), cmap=plt.cm.RdYlBu, alpha=0.7)\n",
        "  plt.scatter(X[:, 0].to(\"cpu\"), X[:, 1].to(\"cpu\"), c=y.to(\"cpu\"), s=40, cmap=plt.cm.RdYlBu)"
      ],
      "metadata": {
        "id": "eGEopjEBYwUU"
      },
      "execution_count": 284,
      "outputs": []
    },
    {
      "cell_type": "code",
      "source": [
        "plot_decision_boundary(model=model_0, X=X_test, y=y_test)"
      ],
      "metadata": {
        "colab": {
          "base_uri": "https://localhost:8080/",
          "height": 265
        },
        "id": "BkaUAfu4Y3EP",
        "outputId": "9f8f4a1e-b1e3-4a1b-8a0d-2574e05ffa22"
      },
      "execution_count": 285,
      "outputs": [
        {
          "output_type": "display_data",
          "data": {
            "text/plain": [
              "<Figure size 432x288 with 1 Axes>"
            ],
            "image/png": "[encoded data removed]"
          },
          "metadata": {
            "needs_background": "light"
          }
        }
      ]
    },
    {
      "cell_type": "markdown",
      "source": [
        "# 03 PyTorch Computer Vision"
      ],
      "metadata": {
        "id": "ZEdirDVJs9Np"
      }
    },
    {
      "cell_type": "code",
      "source": [
        "!pip install torchmetrics"
      ],
      "metadata": {
        "colab": {
          "base_uri": "https://localhost:8080/"
        },
        "id": "RDNi2e44y1Q4",
        "outputId": "6fe82cbd-fb38-49ba-fc44-802e0d0874d3"
      },
      "execution_count": 286,
      "outputs": [
        {
          "output_type": "stream",
          "name": "stdout",
          "text": [
            "Looking in indexes: https://pypi.org/simple, https://us-python.pkg.dev/colab-wheels/public/simple/\n",
            "Collecting torchmetrics\n",
            "  Downloading torchmetrics-0.11.0-py3-none-any.whl (512 kB)\n",
            "\u001b[?25l     \u001b[90m━━━━━━━━━━━━━━━━━━━━━━━━━━━━━━━━━━━━━━━━\u001b[0m \u001b[32m0.0/512.4 KB\u001b[0m \u001b[31m?\u001b[0m eta \u001b[36m-:--:--\u001b[0m\r\u001b[2K     \u001b[91m━━━━━━━━━━━━━━━━━━━━━━━━━━━━━━━━━━━━━\u001b[0m\u001b[91m╸\u001b[0m \u001b[32m512.0/512.4 KB\u001b[0m \u001b[31m20.1 MB/s\u001b[0m eta \u001b[36m0:00:01\u001b[0m\r\u001b[2K     \u001b[90m━━━━━━━━━━━━━━━━━━━━━━━━━━━━━━━━━━━━━━\u001b[0m \u001b[32m512.4/512.4 KB\u001b[0m \u001b[31m13.9 MB/s\u001b[0m eta \u001b[36m0:00:00\u001b[0m\n",
            "\u001b[?25hRequirement already satisfied: typing-extensions in /usr/local/lib/python3.8/dist-packages (from torchmetrics) (4.4.0)\n",
            "Requirement already satisfied: packaging in /usr/local/lib/python3.8/dist-packages (from torchmetrics) (21.3)\n",
            "Requirement already satisfied: numpy>=1.17.2 in /usr/local/lib/python3.8/dist-packages (from torchmetrics) (1.21.6)\n",
            "Requirement already satisfied: torch>=1.8.1 in /usr/local/lib/python3.8/dist-packages (from torchmetrics) (1.13.1+cu116)\n",
            "Requirement already satisfied: pyparsing!=3.0.5,>=2.0.2 in /usr/local/lib/python3.8/dist-packages (from packaging->torchmetrics) (3.0.9)\n",
            "Installing collected packages: torchmetrics\n",
            "Successfully installed torchmetrics-0.11.0\n"
          ]
        }
      ]
    },
    {
      "cell_type": "code",
      "source": [
        "import torch\n",
        "from torch import nn\n",
        "\n",
        "import torchvision\n",
        "from torchvision import datasets\n",
        "from torchvision.transforms import ToTensor\n",
        "\n",
        "from torch.utils.data import DataLoader\n",
        "\n",
        "import torchmetrics\n",
        "\n",
        "import matplotlib.pyplot as plt\n",
        "\n",
        "from tqdm import tqdm"
      ],
      "metadata": {
        "id": "2h9NXVLBtAR_"
      },
      "execution_count": 287,
      "outputs": []
    },
    {
      "cell_type": "code",
      "source": [
        "ROOT_DATA_FOLDER = \"data\"\n",
        "\n",
        "def get_fashion_mnist(split: str, data_folder=ROOT_DATA_FOLDER):\n",
        "  return datasets.FashionMNIST(\n",
        "      root=data_folder,\n",
        "      train=(True if split.lower() == \"train\" else False),\n",
        "      download=True,\n",
        "      transform=ToTensor(),\n",
        "      target_transform=None,\n",
        "  )  \n",
        "\n",
        "train_data = get_fashion_mnist(split=\"train\")\n",
        "test_data = get_fashion_mnist(split=\"test\")"
      ],
      "metadata": {
        "colab": {
          "base_uri": "https://localhost:8080/",
          "height": 453,
          "referenced_widgets": [
            "e1c9b463ecc345e0a3e754ecc1f05ee6",
            "101448c43fc24fb9a385c4ad1747a075",
            "9ee0df6cfd054b3b9e58fabf9181a99c",
            "db5f6c1660bb4053aad0cf1a7e467d66",
            "00db00ec2f1e43868ef4fcfbef813a20",
            "df8c3170daf84497a45aa7d4a2f38f55",
            "105b45d6e00a45b8ab9d007334f0e493",
            "36d1870f394042abbe9ab96306d6a4c2",
            "a6f685591d8f4e7ebd09757f2f598205",
            "f695ecaf58a740568f3164776fbc3dcf",
            "49a4142e33e94cf6b720b1b26ca189ca",
            "9a12c7e1df314be4ab194326ae664ba1",
            "90c78ed00fcf42bf8da3b9d9eef05eb6",
            "27bd013d55d2407c8b8100ecdd30638d",
            "2a9ccd9e48bf472abf4ed930cfcd6515",
            "34bc463815954e46913356ba4186124a",
            "dbc461a01adc4db0a3b7b35a2ec929f7",
            "0e568e0191a544178443782331e6e899",
            "1af2e198848a4181bc983ecb7c7fc084",
            "0a30a82ae0c344b094d6e109166391a5",
            "116d3417ef694c24bf29f7c6dbcb64ff",
            "1457eeb3c08a41dcbeb14d9462953638",
            "ebaca8c424484da98ec578b0ad11288f",
            "1bbb83a52f284fa3b0a510c1d9fe42c7",
            "cb4266b69eeb4d818dbba1d8e1e5dc37",
            "9c0a9184460342f888d61a13ea2dec36",
            "93e0119a76b343c2b32995be0bd2abd7",
            "476bc384e7d3474999da961b3de24be8",
            "35d24a42f2724f7d990f14595c8a22f3",
            "cab6b0aac775455f9e7d68d5e164726a",
            "3ac84706392d40ab97d66ddd891c8a5e",
            "34e4422c6dd74a128963c764dd6643b4",
            "b10c5a5aafdb473892caa32cf3c12257",
            "4b83f9e427454a11a1b21fb59485904d",
            "7910003e6ef94fcf8fdf6f8732da07db",
            "46a9717eee8e4ee99f6ebecaf7e0c92a",
            "6af817600a1b4fff8e0165ff00a40724",
            "1af653ffb82e4239ad845f0971f63e41",
            "ed06976bce6c45049aebddbfc63e0b78",
            "35d0054f07dd485e90dbea3482cb62f5",
            "6478ce9fb890468e95849e4b87996182",
            "364f60a534f64259ac02bafb7bb9e428",
            "69311462b1fc423c8e903f4dcd907767",
            "e61c80fb0aa546828785e5ce0ce7c331"
          ]
        },
        "id": "0sSwJHk5tTcv",
        "outputId": "d7379197-f975-4cc8-d746-3f72f9daeaec"
      },
      "execution_count": 288,
      "outputs": [
        {
          "output_type": "stream",
          "name": "stdout",
          "text": [
            "Downloading http://fashion-mnist.s3-website.eu-central-1.amazonaws.com/train-images-idx3-ubyte.gz\n",
            "Downloading http://fashion-mnist.s3-website.eu-central-1.amazonaws.com/train-images-idx3-ubyte.gz to data/FashionMNIST/raw/train-images-idx3-ubyte.gz\n"
          ]
        },
        {
          "output_type": "display_data",
          "data": {
            "text/plain": [
              "  0%|          | 0/26421880 [00:00<?, ?it/s]"
            ],
            "application/vnd.jupyter.widget-view+json": {
              "version_major": 2,
              "version_minor": 0,
              "model_id": "e1c9b463ecc345e0a3e754ecc1f05ee6"
            }
          },
          "metadata": {}
        },
        {
          "output_type": "stream",
          "name": "stdout",
          "text": [
            "Extracting data/FashionMNIST/raw/train-images-idx3-ubyte.gz to data/FashionMNIST/raw\n",
            "\n",
            "Downloading http://fashion-mnist.s3-website.eu-central-1.amazonaws.com/train-labels-idx1-ubyte.gz\n",
            "Downloading http://fashion-mnist.s3-website.eu-central-1.amazonaws.com/train-labels-idx1-ubyte.gz to data/FashionMNIST/raw/train-labels-idx1-ubyte.gz\n"
          ]
        },
        {
          "output_type": "display_data",
          "data": {
            "text/plain": [
              "  0%|          | 0/29515 [00:00<?, ?it/s]"
            ],
            "application/vnd.jupyter.widget-view+json": {
              "version_major": 2,
              "version_minor": 0,
              "model_id": "9a12c7e1df314be4ab194326ae664ba1"
            }
          },
          "metadata": {}
        },
        {
          "output_type": "stream",
          "name": "stdout",
          "text": [
            "Extracting data/FashionMNIST/raw/train-labels-idx1-ubyte.gz to data/FashionMNIST/raw\n",
            "\n",
            "Downloading http://fashion-mnist.s3-website.eu-central-1.amazonaws.com/t10k-images-idx3-ubyte.gz\n",
            "Downloading http://fashion-mnist.s3-website.eu-central-1.amazonaws.com/t10k-images-idx3-ubyte.gz to data/FashionMNIST/raw/t10k-images-idx3-ubyte.gz\n"
          ]
        },
        {
          "output_type": "display_data",
          "data": {
            "text/plain": [
              "  0%|          | 0/4422102 [00:00<?, ?it/s]"
            ],
            "application/vnd.jupyter.widget-view+json": {
              "version_major": 2,
              "version_minor": 0,
              "model_id": "ebaca8c424484da98ec578b0ad11288f"
            }
          },
          "metadata": {}
        },
        {
          "output_type": "stream",
          "name": "stdout",
          "text": [
            "Extracting data/FashionMNIST/raw/t10k-images-idx3-ubyte.gz to data/FashionMNIST/raw\n",
            "\n",
            "Downloading http://fashion-mnist.s3-website.eu-central-1.amazonaws.com/t10k-labels-idx1-ubyte.gz\n",
            "Downloading http://fashion-mnist.s3-website.eu-central-1.amazonaws.com/t10k-labels-idx1-ubyte.gz to data/FashionMNIST/raw/t10k-labels-idx1-ubyte.gz\n"
          ]
        },
        {
          "output_type": "display_data",
          "data": {
            "text/plain": [
              "  0%|          | 0/5148 [00:00<?, ?it/s]"
            ],
            "application/vnd.jupyter.widget-view+json": {
              "version_major": 2,
              "version_minor": 0,
              "model_id": "4b83f9e427454a11a1b21fb59485904d"
            }
          },
          "metadata": {}
        },
        {
          "output_type": "stream",
          "name": "stdout",
          "text": [
            "Extracting data/FashionMNIST/raw/t10k-labels-idx1-ubyte.gz to data/FashionMNIST/raw\n",
            "\n"
          ]
        }
      ]
    },
    {
      "cell_type": "code",
      "source": [
        "len(train_data), len(test_data)"
      ],
      "metadata": {
        "colab": {
          "base_uri": "https://localhost:8080/"
        },
        "id": "RejTVgL2vJc5",
        "outputId": "f086090c-be78-407a-cd94-e00519a07e0c"
      },
      "execution_count": 289,
      "outputs": [
        {
          "output_type": "execute_result",
          "data": {
            "text/plain": [
              "(60000, 10000)"
            ]
          },
          "metadata": {},
          "execution_count": 289
        }
      ]
    },
    {
      "cell_type": "code",
      "source": [
        "BATCH_SIZE = 64\n",
        "\n",
        "train_dataloader = DataLoader(train_data, batch_size=BATCH_SIZE, shuffle=True)\n",
        "test_dataloader = DataLoader(test_data, batch_size=BATCH_SIZE, shuffle=False)"
      ],
      "metadata": {
        "id": "imrz1J5Ivf4c"
      },
      "execution_count": 290,
      "outputs": []
    },
    {
      "cell_type": "code",
      "source": [
        "class FashionClassifier(nn.Module):\n",
        "  def __init__(self, input_channels, hidden_units, num_classes):\n",
        "    super().__init__()\n",
        "    self.kernel_size = 3\n",
        "    self.stride = 2\n",
        "    self.conv1 = nn.Sequential(\n",
        "      nn.Conv2d(in_channels=input_channels, out_channels=hidden_units, kernel_size=self.kernel_size, padding=\"same\"),\n",
        "      nn.ReLU(),\n",
        "      nn.Conv2d(in_channels=hidden_units, out_channels=hidden_units, kernel_size=self.kernel_size, padding=\"same\"),\n",
        "      nn.ReLU(),\n",
        "      nn.MaxPool2d(kernel_size=self.kernel_size, stride=self.stride),\n",
        "    )\n",
        "    self.conv2 = nn.Sequential(\n",
        "      nn.Conv2d(in_channels=hidden_units, out_channels=hidden_units, kernel_size=self.kernel_size, padding=\"same\"),\n",
        "      nn.ReLU(),\n",
        "      nn.Conv2d(in_channels=hidden_units, out_channels=hidden_units, kernel_size=self.kernel_size, padding=\"same\"),\n",
        "      nn.ReLU(),\n",
        "      nn.MaxPool2d(kernel_size=self.kernel_size, stride=self.stride),\n",
        "    )\n",
        "    self.classifier = nn.Sequential(\n",
        "        nn.Flatten(),\n",
        "        nn.Dropout(0.2),\n",
        "        nn.Linear(in_features=hidden_units*6*6, out_features=num_classes),\n",
        "    )\n",
        "\n",
        "  def forward(self, x):\n",
        "    x = self.conv1(x)\n",
        "    x = self.conv2(x)\n",
        "    x = self.classifier(x)\n",
        "    return x"
      ],
      "metadata": {
        "id": "QgwpHBdCvqQF"
      },
      "execution_count": 291,
      "outputs": []
    },
    {
      "cell_type": "code",
      "source": [
        "INPUT_CHANNELS = train_data[0][0].shape[0]\n",
        "HIDDEN_UNITS = 64\n",
        "NUM_CLASSES = len(train_data.classes)\n",
        "\n",
        "print(f\"{INPUT_CHANNELS=}, {HIDDEN_UNITS=}, {NUM_CLASSES=}\")"
      ],
      "metadata": {
        "colab": {
          "base_uri": "https://localhost:8080/"
        },
        "id": "IZvZ7vdSxoY8",
        "outputId": "94af61b2-a583-4fef-e09e-3bdfb2e7b02c"
      },
      "execution_count": 292,
      "outputs": [
        {
          "output_type": "stream",
          "name": "stdout",
          "text": [
            "INPUT_CHANNELS=1, HIDDEN_UNITS=64, NUM_CLASSES=10\n"
          ]
        }
      ]
    },
    {
      "cell_type": "code",
      "source": [
        "model_0 = FashionClassifier(INPUT_CHANNELS, HIDDEN_UNITS, NUM_CLASSES).to(device)\n",
        "model_0"
      ],
      "metadata": {
        "colab": {
          "base_uri": "https://localhost:8080/"
        },
        "id": "w6VxOrArxkWY",
        "outputId": "310bbffe-258a-491e-99c2-6c3bb116bc70"
      },
      "execution_count": 293,
      "outputs": [
        {
          "output_type": "execute_result",
          "data": {
            "text/plain": [
              "FashionClassifier(\n",
              "  (conv1): Sequential(\n",
              "    (0): Conv2d(1, 64, kernel_size=(3, 3), stride=(1, 1), padding=same)\n",
              "    (1): ReLU()\n",
              "    (2): Conv2d(64, 64, kernel_size=(3, 3), stride=(1, 1), padding=same)\n",
              "    (3): ReLU()\n",
              "    (4): MaxPool2d(kernel_size=3, stride=2, padding=0, dilation=1, ceil_mode=False)\n",
              "  )\n",
              "  (conv2): Sequential(\n",
              "    (0): Conv2d(64, 64, kernel_size=(3, 3), stride=(1, 1), padding=same)\n",
              "    (1): ReLU()\n",
              "    (2): Conv2d(64, 64, kernel_size=(3, 3), stride=(1, 1), padding=same)\n",
              "    (3): ReLU()\n",
              "    (4): MaxPool2d(kernel_size=3, stride=2, padding=0, dilation=1, ceil_mode=False)\n",
              "  )\n",
              "  (classifier): Sequential(\n",
              "    (0): Flatten(start_dim=1, end_dim=-1)\n",
              "    (1): Dropout(p=0.2, inplace=False)\n",
              "    (2): Linear(in_features=2304, out_features=10, bias=True)\n",
              "  )\n",
              ")"
            ]
          },
          "metadata": {},
          "execution_count": 293
        }
      ]
    },
    {
      "cell_type": "code",
      "source": [
        "def accuracy_fn(y_true, y_pred):\n",
        "    correct = torch.eq(y_true, y_pred).sum().item()\n",
        "    acc = (correct / len(y_pred)) * 100 \n",
        "    return acc"
      ],
      "metadata": {
        "id": "D5LQzCTJAbU7"
      },
      "execution_count": 294,
      "outputs": []
    },
    {
      "cell_type": "code",
      "source": [
        "loss_fn = nn.CrossEntropyLoss()\n",
        "optimizer = torch.optim.Adam(params=model_0.parameters(), lr=0.005)"
      ],
      "metadata": {
        "id": "MdzjbGLYzCVR"
      },
      "execution_count": 295,
      "outputs": []
    },
    {
      "cell_type": "code",
      "source": [
        "def train_step(\n",
        "    model: nn.Module, \n",
        "    data_loader: DataLoader, \n",
        "    loss_fn: nn.Module, \n",
        "    optimizer: torch.optim.Optimizer, \n",
        "    accuracy_fn,\n",
        "    device: torch.device = device,\n",
        "    debug=False\n",
        "):\n",
        "  loss, acc = 0, 0\n",
        "  model.train()\n",
        "  for batch_idx, (x, y) in tqdm(enumerate(data_loader)):\n",
        "    x, y = x.to(device), y.to(device)\n",
        "    train_probs = model(x)\n",
        "    batch_loss = loss_fn(train_probs, y)\n",
        "    optimizer.zero_grad()\n",
        "    batch_loss.backward()\n",
        "    optimizer.step()\n",
        "    loss += batch_loss\n",
        "    train_preds = train_probs.argmax(dim=-1)\n",
        "    batch_acc = accuracy_fn(y, train_preds)\n",
        "    acc += batch_acc\n",
        "    if debug and batch_idx % 250 == 0:\n",
        "      print(f\"Batch {batch_idx} Loss: {batch_loss:.5f} | Train accuracy: {batch_acc:.2f}%\")\n",
        "  loss /= len(data_loader)\n",
        "  acc /= len(data_loader)\n",
        "  print(f\"Train loss: {loss:.5f} | Train accuracy: {acc:.2f}%\")\n",
        "  return loss, acc"
      ],
      "metadata": {
        "id": "piyBOFqT-aEc"
      },
      "execution_count": 296,
      "outputs": []
    },
    {
      "cell_type": "code",
      "source": [
        "def test_step(\n",
        "    model: nn.Module, \n",
        "    data_loader: DataLoader, \n",
        "    loss_fn: nn.Module, \n",
        "    optimizer: torch.optim.Optimizer, \n",
        "    accuracy_fn,\n",
        "    device: torch.device = device,\n",
        "    debug=False\n",
        "):\n",
        "  loss, acc = 0, 0\n",
        "  model.eval()\n",
        "  with torch.inference_mode():\n",
        "    for batch_idx, (x, y) in enumerate(data_loader):\n",
        "      x, y = x.to(device), y.to(device)\n",
        "      probs = model(x)\n",
        "      batch_loss = loss_fn(probs, y)\n",
        "      loss += batch_loss\n",
        "      preds = probs.argmax(dim=-1)\n",
        "      batch_acc = accuracy_fn(y, preds)\n",
        "      acc += batch_acc\n",
        "      if debug and batch_idx % 250 == 0:\n",
        "        print(f\"Batch {batch_idx} Loss: {batch_loss:.5f} | Test accuracy: {batch_acc:.2f}%\")\n",
        "    loss /= len(data_loader)\n",
        "    acc /= len(data_loader)\n",
        "  print(f\"Test loss: {loss:.5f} | Test accuracy: {acc:.2f}%\")\n",
        "  return loss, acc"
      ],
      "metadata": {
        "id": "x89Tu0pMZzRb"
      },
      "execution_count": 297,
      "outputs": []
    },
    {
      "cell_type": "code",
      "source": [
        "EPOCHS = 5\n",
        "\n",
        "epochs = range(EPOCHS)\n",
        "train_loss, test_loss, train_acc, test_acc, = [], [], [], [],  \n",
        "\n",
        "for epoch in epochs:\n",
        "  etrain_loss, etrain_acc = train_step(\n",
        "    model=model_0, \n",
        "    data_loader=train_dataloader, \n",
        "    loss_fn=loss_fn, \n",
        "    optimizer=optimizer, \n",
        "    accuracy_fn=accuracy,\n",
        "  )\n",
        "  train_loss.append(etrain_loss.to(\"cpu\").detach().numpy())\n",
        "  train_acc.append(etrain_acc)\n",
        "  etest_loss, etest_acc = test_step(\n",
        "    model=model_0, \n",
        "    data_loader=train_dataloader, \n",
        "    loss_fn=loss_fn, \n",
        "    optimizer=optimizer, \n",
        "    accuracy_fn=accuracy,  \n",
        "  )\n",
        "  test_loss.append(etest_loss.to(\"cpu\").detach().numpy())\n",
        "  test_acc.append(etest_acc)"
      ],
      "metadata": {
        "colab": {
          "base_uri": "https://localhost:8080/"
        },
        "id": "by6Fg9710B8A",
        "outputId": "054e0d9e-4dc7-46db-b970-6891ecf86411"
      },
      "execution_count": 298,
      "outputs": [
        {
          "output_type": "stream",
          "name": "stderr",
          "text": [
            "938it [00:19, 49.24it/s]\n"
          ]
        },
        {
          "output_type": "stream",
          "name": "stdout",
          "text": [
            "Train loss: 0.52780 | Train accuracy: 80.41%\n",
            "Test loss: 0.34594 | Test accuracy: 86.85%\n"
          ]
        },
        {
          "output_type": "stream",
          "name": "stderr",
          "text": [
            "938it [00:11, 84.58it/s]\n"
          ]
        },
        {
          "output_type": "stream",
          "name": "stdout",
          "text": [
            "Train loss: 0.35790 | Train accuracy: 86.78%\n",
            "Test loss: 0.31683 | Test accuracy: 88.38%\n"
          ]
        },
        {
          "output_type": "stream",
          "name": "stderr",
          "text": [
            "938it [00:11, 84.49it/s]\n"
          ]
        },
        {
          "output_type": "stream",
          "name": "stdout",
          "text": [
            "Train loss: 0.31735 | Train accuracy: 88.49%\n",
            "Test loss: 0.26165 | Test accuracy: 90.39%\n"
          ]
        },
        {
          "output_type": "stream",
          "name": "stderr",
          "text": [
            "938it [00:11, 84.69it/s]\n"
          ]
        },
        {
          "output_type": "stream",
          "name": "stdout",
          "text": [
            "Train loss: 0.29367 | Train accuracy: 89.31%\n",
            "Test loss: 0.24582 | Test accuracy: 90.96%\n"
          ]
        },
        {
          "output_type": "stream",
          "name": "stderr",
          "text": [
            "938it [00:11, 82.11it/s]\n"
          ]
        },
        {
          "output_type": "stream",
          "name": "stdout",
          "text": [
            "Train loss: 0.27970 | Train accuracy: 89.83%\n",
            "Test loss: 0.28314 | Test accuracy: 89.51%\n"
          ]
        }
      ]
    },
    {
      "cell_type": "code",
      "source": [
        "plot_history(train_loss, test_loss, train_acc, test_acc)"
      ],
      "metadata": {
        "colab": {
          "base_uri": "https://localhost:8080/",
          "height": 404
        },
        "id": "6HXlA0BkY8aU",
        "outputId": "bd44ed36-b641-4c4c-c1d2-257f2678f6fa"
      },
      "execution_count": 299,
      "outputs": [
        {
          "output_type": "display_data",
          "data": {
            "text/plain": [
              "<Figure size 864x432 with 2 Axes>"
            ],
            "image/png": "[encoded data removed]"
          },
          "metadata": {
            "needs_background": "light"
          }
        }
      ]
    },
    {
      "cell_type": "markdown",
      "source": [
        "# 04 Custom Datasets"
      ],
      "metadata": {
        "id": "y6vl0LT1B_iC"
      }
    },
    {
      "cell_type": "code",
      "source": [
        "import PIL\n",
        "from pathlib import Path\n",
        "import requests\n",
        "import zipfile\n",
        "from tqdm.auto import tqdm\n",
        "import matplotlib.pyplot as plt\n",
        "\n",
        "\n",
        "from torchvision import datasets, transforms, models\n",
        "\n",
        "from torch.utils.data import Dataset, DataLoader\n",
        "from torch import nn\n",
        "\n",
        "import torchinfo"
      ],
      "metadata": {
        "id": "JUsNe0AoEw0W"
      },
      "execution_count": 33,
      "outputs": []
    },
    {
      "cell_type": "code",
      "source": [
        "data_path = Path(\"data\") \n",
        "image_path = data_path / \"pizza_steak_sushi\"\n",
        "image_path.mkdir(parents=True, exist_ok=True)\n",
        "zip_path = data_path / \"pizza_steak_sushi.zip\"\n",
        "\n",
        "url = \"https://github.com/mrdbourke/pytorch-deep-learning/raw/main/data/pizza_steak_sushi.zip\"\n",
        "response = requests.get(url)\n",
        "\n",
        "with open(zip_path, \"wb\") as f:\n",
        "    f.write(response.content)\n",
        "\n",
        "with zipfile.ZipFile(zip_path, \"r\") as zip_ref:\n",
        "    zip_ref.extractall(image_path)"
      ],
      "metadata": {
        "id": "vOd6MbBCZmMI"
      },
      "execution_count": 10,
      "outputs": []
    },
    {
      "cell_type": "markdown",
      "source": [
        "### Use built-in dataset loader"
      ],
      "metadata": {
        "id": "Nhl-snu4GmSa"
      }
    },
    {
      "cell_type": "code",
      "source": [
        "IMG_SIZE = (224, 224)\n",
        "\n",
        "transform_train = transforms.Compose([\n",
        "    transforms.Resize(size=IMG_SIZE),\n",
        "    transforms.TrivialAugmentWide(num_magnitude_bins=31),\n",
        "    transforms.ToTensor(),\n",
        "])\n",
        "transform_test = transforms.Compose([\n",
        "    transforms.Resize(size=IMG_SIZE),\n",
        "    transforms.TrivialAugmentWide(num_magnitude_bins=31),\n",
        "    transforms.ToTensor(),\n",
        "])"
      ],
      "metadata": {
        "id": "bVx4Vj1EF-iy"
      },
      "execution_count": 11,
      "outputs": []
    },
    {
      "cell_type": "code",
      "source": [
        "ds = datasets.ImageFolder(root=image_path / \"train\", transform=transform_train)"
      ],
      "metadata": {
        "id": "IFncGPxdE_Gm"
      },
      "execution_count": 12,
      "outputs": []
    },
    {
      "cell_type": "markdown",
      "source": [
        "### Use custom dataset"
      ],
      "metadata": {
        "id": "JysZV0t7GpaW"
      }
    },
    {
      "cell_type": "code",
      "source": [
        "class CustomDataset(Dataset):\n",
        "\n",
        "  def __init__(self, path, transform=None):\n",
        "    self.path = path\n",
        "    self.images = list((path).glob(\"**/*.jpg\"))\n",
        "    self.num_images = len(self.images)\n",
        "    self.transform = transform\n",
        "    self.class_to_idx = {v.stem: k for k, v in enumerate(path.glob(\"*\"))}\n",
        "\n",
        "  def __len__(self,):\n",
        "    return self.num_images\n",
        "\n",
        "  def __getitem__(self, index):\n",
        "    img_path = self.images[index]\n",
        "    image = PIL.Image.open(img_path)\n",
        "    return (\n",
        "      (self.transform(image) if self.transform else image), \n",
        "      self.class_to_idx[img_path.parent.stem]\n",
        "    )"
      ],
      "metadata": {
        "id": "YwJ5NRgWGObK"
      },
      "execution_count": 13,
      "outputs": []
    },
    {
      "cell_type": "code",
      "source": [
        "weights = models.ViT_B_16_Weights.DEFAULT"
      ],
      "metadata": {
        "id": "4X1hky1BLzQd"
      },
      "execution_count": 14,
      "outputs": []
    },
    {
      "cell_type": "code",
      "source": [
        "weights.transforms()"
      ],
      "metadata": {
        "colab": {
          "base_uri": "https://localhost:8080/"
        },
        "id": "pY0YCq21OdR2",
        "outputId": "469183df-1810-484f-87cf-93524d6b6435"
      },
      "execution_count": 15,
      "outputs": [
        {
          "output_type": "execute_result",
          "data": {
            "text/plain": [
              "ImageClassification(\n",
              "    crop_size=[224]\n",
              "    resize_size=[256]\n",
              "    mean=[0.485, 0.456, 0.406]\n",
              "    std=[0.229, 0.224, 0.225]\n",
              "    interpolation=InterpolationMode.BILINEAR\n",
              ")"
            ]
          },
          "metadata": {},
          "execution_count": 15
        }
      ]
    },
    {
      "cell_type": "code",
      "source": [
        "IMG_SIZE = (224, 224)\n",
        "\n",
        "transform_train = transforms.Compose([\n",
        "    transforms.TrivialAugmentWide(num_magnitude_bins=31),\n",
        "    weights.transforms(),\n",
        "])\n",
        "transform_test = transforms.Compose([\n",
        "    weights.transforms(),\n",
        "])\n",
        "\n",
        "ds_train = CustomDataset(image_path / \"train\", transform_train)\n",
        "ds_test = CustomDataset(image_path / \"test\", transform_test)"
      ],
      "metadata": {
        "id": "cfrQYkzaGVyX"
      },
      "execution_count": 16,
      "outputs": []
    },
    {
      "cell_type": "code",
      "source": [
        "BATCH_SIZE = 8\n",
        "\n",
        "data_loader_train = DataLoader(dataset=ds_train, batch_size=BATCH_SIZE, shuffle=True)\n",
        "data_loader_test = DataLoader(dataset=ds_test, batch_size=BATCH_SIZE)"
      ],
      "metadata": {
        "id": "kSv23ngOJygB"
      },
      "execution_count": 17,
      "outputs": []
    },
    {
      "cell_type": "code",
      "source": [
        "sample = next(iter(data_loader_train))[0]\n",
        "sample.shape"
      ],
      "metadata": {
        "colab": {
          "base_uri": "https://localhost:8080/"
        },
        "id": "KweWnnoHVntP",
        "outputId": "bbfb52ce-1720-4be1-fc79-4eddb8702c30"
      },
      "execution_count": 359,
      "outputs": [
        {
          "output_type": "execute_result",
          "data": {
            "text/plain": [
              "torch.Size([8, 3, 224, 224])"
            ]
          },
          "metadata": {},
          "execution_count": 359
        }
      ]
    },
    {
      "cell_type": "code",
      "source": [
        "model = models.vit_b_16(weights=weights)"
      ],
      "metadata": {
        "id": "ohlCUP0EKy9Q"
      },
      "execution_count": 24,
      "outputs": []
    },
    {
      "cell_type": "code",
      "source": [
        "torchinfo.summary(\n",
        "  model=model, \n",
        "  input_size=(BATCH_SIZE, 3, *IMG_SIZE),\n",
        "  row_settings=[\"var_names\"],\n",
        "  col_names=[\"input_size\", \"output_size\", \"trainable\"],\n",
        ")"
      ],
      "metadata": {
        "colab": {
          "base_uri": "https://localhost:8080/"
        },
        "id": "bZVNG8qzL8bc",
        "outputId": "7d3f0f36-25cb-4522-a3bd-9da6b6da5153"
      },
      "execution_count": 25,
      "outputs": [
        {
          "output_type": "execute_result",
          "data": {
            "text/plain": [
              "=======================================================================================================================================\n",
              "Layer (type (var_name))                                      Input Shape               Output Shape              Trainable\n",
              "=======================================================================================================================================\n",
              "VisionTransformer (VisionTransformer)                        [8, 3, 224, 224]          [8, 1000]                 True\n",
              "├─Conv2d (conv_proj)                                         [8, 3, 224, 224]          [8, 768, 14, 14]          True\n",
              "├─Encoder (encoder)                                          [8, 197, 768]             [8, 197, 768]             True\n",
              "│    └─Dropout (dropout)                                     [8, 197, 768]             [8, 197, 768]             --\n",
              "│    └─Sequential (layers)                                   [8, 197, 768]             [8, 197, 768]             True\n",
              "│    │    └─EncoderBlock (encoder_layer_0)                   [8, 197, 768]             [8, 197, 768]             True\n",
              "│    │    └─EncoderBlock (encoder_layer_1)                   [8, 197, 768]             [8, 197, 768]             True\n",
              "│    │    └─EncoderBlock (encoder_layer_2)                   [8, 197, 768]             [8, 197, 768]             True\n",
              "│    │    └─EncoderBlock (encoder_layer_3)                   [8, 197, 768]             [8, 197, 768]             True\n",
              "│    │    └─EncoderBlock (encoder_layer_4)                   [8, 197, 768]             [8, 197, 768]             True\n",
              "│    │    └─EncoderBlock (encoder_layer_5)                   [8, 197, 768]             [8, 197, 768]             True\n",
              "│    │    └─EncoderBlock (encoder_layer_6)                   [8, 197, 768]             [8, 197, 768]             True\n",
              "│    │    └─EncoderBlock (encoder_layer_7)                   [8, 197, 768]             [8, 197, 768]             True\n",
              "│    │    └─EncoderBlock (encoder_layer_8)                   [8, 197, 768]             [8, 197, 768]             True\n",
              "│    │    └─EncoderBlock (encoder_layer_9)                   [8, 197, 768]             [8, 197, 768]             True\n",
              "│    │    └─EncoderBlock (encoder_layer_10)                  [8, 197, 768]             [8, 197, 768]             True\n",
              "│    │    └─EncoderBlock (encoder_layer_11)                  [8, 197, 768]             [8, 197, 768]             True\n",
              "│    └─LayerNorm (ln)                                        [8, 197, 768]             [8, 197, 768]             True\n",
              "├─Sequential (heads)                                         [8, 768]                  [8, 1000]                 True\n",
              "│    └─Linear (head)                                         [8, 768]                  [8, 1000]                 True\n",
              "=======================================================================================================================================\n",
              "Total params: 86,567,656\n",
              "Trainable params: 86,567,656\n",
              "Non-trainable params: 0\n",
              "Total mult-adds (G): 1.39\n",
              "=======================================================================================================================================\n",
              "Input size (MB): 4.82\n",
              "Forward/backward pass size (MB): 832.75\n",
              "Params size (MB): 232.27\n",
              "Estimated Total Size (MB): 1069.83\n",
              "======================================================================================================================================="
            ]
          },
          "metadata": {},
          "execution_count": 25
        }
      ]
    },
    {
      "cell_type": "code",
      "source": [
        "for param in model.parameters():\n",
        "    param.requires_grad = False"
      ],
      "metadata": {
        "id": "MPAajOlBOPSV"
      },
      "execution_count": 26,
      "outputs": []
    },
    {
      "cell_type": "code",
      "source": [
        "NUM_CLASSES = 3\n",
        "\n",
        "model.heads = nn.Sequential(\n",
        "    nn.Dropout(0.2),\n",
        "    nn.Linear(in_features=768, out_features=NUM_CLASSES)\n",
        ")\n",
        "torchinfo.summary(\n",
        "  model=model, \n",
        "  input_size=(BATCH_SIZE, 3, *IMG_SIZE),\n",
        "  row_settings=[\"var_names\"],\n",
        "  col_names=[\"output_size\", \"trainable\"],\n",
        ")"
      ],
      "metadata": {
        "colab": {
          "base_uri": "https://localhost:8080/"
        },
        "id": "7EMupC8kMZLA",
        "outputId": "309d8d95-8414-4a03-dad9-946932b93dcd"
      },
      "execution_count": 27,
      "outputs": [
        {
          "output_type": "execute_result",
          "data": {
            "text/plain": [
              "==============================================================================================================\n",
              "Layer (type (var_name))                                      Output Shape              Trainable\n",
              "==============================================================================================================\n",
              "VisionTransformer (VisionTransformer)                        [8, 3]                    Partial\n",
              "├─Conv2d (conv_proj)                                         [8, 768, 14, 14]          False\n",
              "├─Encoder (encoder)                                          [8, 197, 768]             False\n",
              "│    └─Dropout (dropout)                                     [8, 197, 768]             --\n",
              "│    └─Sequential (layers)                                   [8, 197, 768]             False\n",
              "│    │    └─EncoderBlock (encoder_layer_0)                   [8, 197, 768]             False\n",
              "│    │    └─EncoderBlock (encoder_layer_1)                   [8, 197, 768]             False\n",
              "│    │    └─EncoderBlock (encoder_layer_2)                   [8, 197, 768]             False\n",
              "│    │    └─EncoderBlock (encoder_layer_3)                   [8, 197, 768]             False\n",
              "│    │    └─EncoderBlock (encoder_layer_4)                   [8, 197, 768]             False\n",
              "│    │    └─EncoderBlock (encoder_layer_5)                   [8, 197, 768]             False\n",
              "│    │    └─EncoderBlock (encoder_layer_6)                   [8, 197, 768]             False\n",
              "│    │    └─EncoderBlock (encoder_layer_7)                   [8, 197, 768]             False\n",
              "│    │    └─EncoderBlock (encoder_layer_8)                   [8, 197, 768]             False\n",
              "│    │    └─EncoderBlock (encoder_layer_9)                   [8, 197, 768]             False\n",
              "│    │    └─EncoderBlock (encoder_layer_10)                  [8, 197, 768]             False\n",
              "│    │    └─EncoderBlock (encoder_layer_11)                  [8, 197, 768]             False\n",
              "│    └─LayerNorm (ln)                                        [8, 197, 768]             False\n",
              "├─Sequential (heads)                                         [8, 3]                    True\n",
              "│    └─Dropout (0)                                           [8, 768]                  --\n",
              "│    └─Linear (1)                                            [8, 3]                    True\n",
              "==============================================================================================================\n",
              "Total params: 85,800,963\n",
              "Trainable params: 2,307\n",
              "Non-trainable params: 85,798,656\n",
              "Total mult-adds (G): 1.38\n",
              "==============================================================================================================\n",
              "Input size (MB): 4.82\n",
              "Forward/backward pass size (MB): 832.68\n",
              "Params size (MB): 229.20\n",
              "Estimated Total Size (MB): 1066.70\n",
              "=============================================================================================================="
            ]
          },
          "metadata": {},
          "execution_count": 27
        }
      ]
    },
    {
      "cell_type": "code",
      "source": [
        "loss_fn = nn.CrossEntropyLoss()\n",
        "accuracy_fn = lambda labels, preds: torch.eq(labels, preds).sum() / len(labels)\n",
        "optimizer = torch.optim.AdamW(params=model.parameters(), lr=1e-3, weight_decay=0.1)"
      ],
      "metadata": {
        "id": "VXeH7xzVRsLy"
      },
      "execution_count": 28,
      "outputs": []
    },
    {
      "cell_type": "code",
      "source": [
        "EPOCHS = 5\n",
        "\n",
        "history = train(\n",
        "  model=model, \n",
        "  loss_fn=loss_fn, \n",
        "  optimizer=optimizer, \n",
        "  accuracy_fn=accuracy_fn, \n",
        "  epochs=EPOCHS,\n",
        "  train_dataloader=data_loader_train,\n",
        "  test_dataloader=data_loader_test,\n",
        ")"
      ],
      "metadata": {
        "colab": {
          "base_uri": "https://localhost:8080/",
          "height": 357,
          "referenced_widgets": [
            "5832ea0f7e024f7594281ae653d7bc72",
            "d5a6cab3dbe44575be9f8d1f5a906496",
            "ee50db305ca1473caf073a9d18d770f0",
            "7c7c798a7b9e4196af70bbea555be679",
            "25383d5c73d6497e8a86be70fdbe38bf",
            "53ef65bdba3b4b7684d0acf3528d0854",
            "ce4fd402c2974443b71ffbf3b3d786e1",
            "7356536f3ce94f9abd4f20478405b141",
            "e68fbe2415824a979d2f0477bfb80287",
            "f41d2c17c58647b3ad868d8c7c13f4c9",
            "b7967a45432f4b01b5db3ae4b8f72dfb",
            "34e5c76208a34cceaad371f6f1284830",
            "0f5981ad7d6c4a7bb0c1feaa9a637bb7",
            "93981c2e3645478fa9ba27128ba24959",
            "2f1e4e0b74af407b90a253769738a21f",
            "dd1b55ce3278464086fd1946a9c0e6fa",
            "ab55c6a65fb44617be8e9596c00a7931",
            "ea4f9dd8a3d94bc38e9653592b3f5acb",
            "ac4f93fbb74e4b42ab5aa15f4043c320",
            "63f4566581a0445689a31f11f7700f0c",
            "7036ca873d66429aa5ca52cde7c2ff12",
            "fef3aa360fe94210b79369f71fa4ca8f",
            "39f92bb1800c408280b7d8a05cb6ec93",
            "2e7b4c05b5d04ff5a14eff49d25527a6",
            "7eec7d8b17454baaa8edd4088c29b811",
            "26b1e0ab11554750a7c7567f30c24e21",
            "86a519b66a9f43b4a54f3a35f90f0dd3",
            "cc194b7f3ab44306b14e4a97667ef95b",
            "c5adb4bb26df4db8bf740ee083147c01",
            "a64b9885da8d4a7dbfee09c3ac33ba8b",
            "054274f4fc454101beeb9115406f98b5",
            "72103eea4ec14a73952afaa604ea1ef9",
            "fd75a9bd1d094403a39cab9c2d61e202",
            "de0c854b94ff4a42a30005fe3959699d",
            "6c32709f1adb4e06af44b3dd4608496b",
            "595269730b0242e180101a526a336c01",
            "42f25151579c4f719efd9f38e3486ffc",
            "ba097c49f5d244d58a080aaa0135dd02",
            "968698c33a69462d9c9d81037d7bf97e",
            "8fc1992d31ae4db593f86ec55155f11c",
            "7619d9a59d824ecebc9986db566cde74",
            "daa57710e4af4f41b52dab85c960b8d4",
            "23aed4c50c3541d9bac86d1a0732cd80",
            "0ebbc255acb64fc6b9056602e174afe9",
            "efc12fbec1674f419a64450bdb0fcb95",
            "c142ab5d566b4461b43dc49eaa8ee422",
            "400eac8cdc5c406da375126e032691aa",
            "f1483338e1c548ad837790c1ad276513",
            "fca77f595afe4357951bf63397fee2f9",
            "d0e2ed47b6aa49058664c82c9e45fa9f",
            "3b5ad0c318e24ef892617fadb00b318d",
            "c2b73c3b9bd744f5a0f50342dbdf7989",
            "2cc2b9247845473aae0de919e75d914e",
            "54300aef8e814e4397c9bdc8879988c7",
            "ea15b8b009f64f939dc1b789fdb174b7"
          ]
        },
        "id": "jxWZVHo3SZMh",
        "outputId": "f8c8066c-0c9a-4996-d558-78581543c0bd"
      },
      "execution_count": 29,
      "outputs": [
        {
          "output_type": "display_data",
          "data": {
            "text/plain": [
              "0it [00:00, ?it/s]"
            ],
            "application/vnd.jupyter.widget-view+json": {
              "version_major": 2,
              "version_minor": 0,
              "model_id": "5832ea0f7e024f7594281ae653d7bc72"
            }
          },
          "metadata": {}
        },
        {
          "output_type": "stream",
          "name": "stdout",
          "text": [
            "Train loss: 0.62827 | Train accuracy: 0.78%\n",
            "Test loss: 0.25529 | Test accuracy: 0.90%\n"
          ]
        },
        {
          "output_type": "display_data",
          "data": {
            "text/plain": [
              "0it [00:00, ?it/s]"
            ],
            "application/vnd.jupyter.widget-view+json": {
              "version_major": 2,
              "version_minor": 0,
              "model_id": "34e5c76208a34cceaad371f6f1284830"
            }
          },
          "metadata": {}
        },
        {
          "output_type": "stream",
          "name": "stdout",
          "text": [
            "Train loss: 0.22416 | Train accuracy: 0.94%\n",
            "Test loss: 0.22935 | Test accuracy: 0.90%\n"
          ]
        },
        {
          "output_type": "display_data",
          "data": {
            "text/plain": [
              "0it [00:00, ?it/s]"
            ],
            "application/vnd.jupyter.widget-view+json": {
              "version_major": 2,
              "version_minor": 0,
              "model_id": "39f92bb1800c408280b7d8a05cb6ec93"
            }
          },
          "metadata": {}
        },
        {
          "output_type": "stream",
          "name": "stdout",
          "text": [
            "Train loss: 0.19090 | Train accuracy: 0.94%\n",
            "Test loss: 0.21011 | Test accuracy: 0.95%\n"
          ]
        },
        {
          "output_type": "display_data",
          "data": {
            "text/plain": [
              "0it [00:00, ?it/s]"
            ],
            "application/vnd.jupyter.widget-view+json": {
              "version_major": 2,
              "version_minor": 0,
              "model_id": "de0c854b94ff4a42a30005fe3959699d"
            }
          },
          "metadata": {}
        },
        {
          "output_type": "stream",
          "name": "stdout",
          "text": [
            "Train loss: 0.18638 | Train accuracy: 0.94%\n",
            "Test loss: 0.19434 | Test accuracy: 0.94%\n"
          ]
        },
        {
          "output_type": "display_data",
          "data": {
            "text/plain": [
              "0it [00:00, ?it/s]"
            ],
            "application/vnd.jupyter.widget-view+json": {
              "version_major": 2,
              "version_minor": 0,
              "model_id": "efc12fbec1674f419a64450bdb0fcb95"
            }
          },
          "metadata": {}
        },
        {
          "output_type": "stream",
          "name": "stdout",
          "text": [
            "Train loss: 0.13730 | Train accuracy: 0.97%\n",
            "Test loss: 0.18997 | Test accuracy: 0.95%\n"
          ]
        }
      ]
    },
    {
      "cell_type": "code",
      "source": [
        "history"
      ],
      "metadata": {
        "id": "5EhDbDrVZUHv",
        "outputId": "238f9b1a-c13a-4625-9699-872b26e7c365",
        "colab": {
          "base_uri": "https://localhost:8080/"
        }
      },
      "execution_count": 30,
      "outputs": [
        {
          "output_type": "execute_result",
          "data": {
            "text/plain": [
              "{'train_loss': [array(0.6282664, dtype=float32),\n",
              "  array(0.22415732, dtype=float32),\n",
              "  array(0.19089663, dtype=float32),\n",
              "  array(0.18637912, dtype=float32),\n",
              "  array(0.1373039, dtype=float32)],\n",
              " 'test_loss': [array(0.2552912, dtype=float32),\n",
              "  array(0.22934575, dtype=float32),\n",
              "  array(0.21010874, dtype=float32),\n",
              "  array(0.19434105, dtype=float32),\n",
              "  array(0.18996651, dtype=float32)],\n",
              " 'train_acc': [array(0.7801724, dtype=float32),\n",
              "  array(0.9396552, dtype=float32),\n",
              "  array(0.9353448, dtype=float32),\n",
              "  array(0.9396552, dtype=float32),\n",
              "  array(0.9655172, dtype=float32)],\n",
              " 'test_acc': [array(0.9041667, dtype=float32),\n",
              "  array(0.9041667, dtype=float32),\n",
              "  array(0.95, dtype=float32),\n",
              "  array(0.9375, dtype=float32),\n",
              "  array(0.95, dtype=float32)]}"
            ]
          },
          "metadata": {},
          "execution_count": 30
        }
      ]
    },
    {
      "cell_type": "code",
      "source": [
        "plt.figure(figsize=(12, 6))\n",
        "plt.subplot(1, 2, 1)\n",
        "epochs = list(range(1, len(history[\"train_loss\"])+1))\n",
        "plt.plot(epochs, history[\"train_loss\"], label=\"Train\")\n",
        "plt.plot(epochs, history[\"test_loss\"], label=\"Test\")\n",
        "plt.title(\"Loss by epoch\")\n",
        "plt.ylabel(\"Loss\")\n",
        "plt.xlabel(\"Epoch\")\n",
        "plt.legend()\n",
        "plt.subplot(1, 2, 2)\n",
        "plt.plot(epochs, history[\"train_acc\"], label=\"Train\")\n",
        "plt.plot(epochs, history[\"test_acc\"], label=\"Test\")\n",
        "plt.title(\"Accuracy by epoch\")\n",
        "plt.ylabel(\"Loss\")\n",
        "plt.xlabel(\"Epoch\")\n",
        "plt.legend()"
      ],
      "metadata": {
        "colab": {
          "base_uri": "https://localhost:8080/",
          "height": 422
        },
        "id": "Fznnh4VcW5xi",
        "outputId": "9987399c-5c59-48e6-e74b-d5d26b80f4d4"
      },
      "execution_count": 41,
      "outputs": [
        {
          "output_type": "execute_result",
          "data": {
            "text/plain": [
              "<matplotlib.legend.Legend at 0x7f53274c5610>"
            ]
          },
          "metadata": {},
          "execution_count": 41
        },
        {
          "output_type": "display_data",
          "data": {
            "text/plain": [
              "<Figure size 864x432 with 2 Axes>"
            ],
            "image/png": "[encoded data removed]"
          },
          "metadata": {
            "needs_background": "light"
          }
        }
      ]
    }
  ]
}