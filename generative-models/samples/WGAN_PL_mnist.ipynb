{
  "nbformat": 4,
  "nbformat_minor": 0,
  "metadata": {
    "colab": {
      "provenance": [],
      "gpuType": "T4",
      "authorship_tag": "ABX9TyM88m7X9/cjih1aCfc5HBzg",
      "include_colab_link": true
    },
    "kernelspec": {
      "name": "python3",
      "display_name": "Python 3"
    },
    "language_info": {
      "name": "python"
    },
    "accelerator": "GPU"
  },
  "cells": [
    {
      "cell_type": "markdown",
      "metadata": {
        "id": "view-in-github",
        "colab_type": "text"
      },
      "source": [
        "<a href=\"https://colab.research.google.com/github/Calcifer777/learn-deep-learning/blob/main/generative-models/samples/WGAN_PL_mnist.ipynb\" target=\"_parent\"><img src=\"https://colab.research.google.com/assets/colab-badge.svg\" alt=\"Open In Colab\"/></a>"
      ]
    },
    {
      "cell_type": "markdown",
      "source": [
        "# Other References\n",
        "\n",
        "- https://github.com/Zeleni9/pytorch-wgan/\n",
        "- https://www.kaggle.com/code/varnez/wgan-gp-cifar10-dogs-with-pytorch"
      ],
      "metadata": {
        "id": "3imArGolyPDp"
      }
    },
    {
      "cell_type": "code",
      "source": [
        "%%bash\n",
        "\n",
        "pip install -q torchinfo"
      ],
      "metadata": {
        "id": "T4nOx27uBlRg"
      },
      "execution_count": 1,
      "outputs": []
    },
    {
      "cell_type": "code",
      "source": [
        "!test -e samples/ || mkdir samples\n",
        "!test -d \"./samples/\" && rm -r ./samples/*"
      ],
      "metadata": {
        "id": "yHghV7kg7qdn"
      },
      "execution_count": 2,
      "outputs": []
    },
    {
      "cell_type": "code",
      "execution_count": 3,
      "metadata": {
        "id": "RmcP3mxD6NOU"
      },
      "outputs": [],
      "source": [
        "from typing import List\n",
        "\n",
        "from IPython.display import clear_output\n",
        "from matplotlib import pyplot as plt\n",
        "import numpy as np\n",
        "import pandas as pd\n",
        "from pathlib import Path\n",
        "from PIL import Image\n",
        "from tqdm import tqdm\n",
        "\n",
        "import torch\n",
        "from torch import nn, Tensor\n",
        "from torch.nn.functional import mse_loss\n",
        "from torch.utils.data import DataLoader\n",
        "from torchvision import datasets\n",
        "import torchvision.transforms as T\n",
        "import torchvision.transforms.v2.functional as F\n",
        "from torchvision.utils import make_grid\n",
        "from torchvision.transforms import (\n",
        "    Compose,\n",
        "    PILToTensor,\n",
        ")\n",
        "from torchinfo import summary"
      ]
    },
    {
      "cell_type": "code",
      "source": [
        "torch.manual_seed(42)\n",
        "np.random.seed(42)"
      ],
      "metadata": {
        "id": "D3KzKiao6VeM"
      },
      "execution_count": 4,
      "outputs": []
    },
    {
      "cell_type": "code",
      "source": [
        "if torch.cuda.is_available():\n",
        "    device = \"cuda\"\n",
        "else:\n",
        "    device = \"cpu\"\n",
        "\n",
        "print(f\"{device = }\")"
      ],
      "metadata": {
        "id": "FWYdS43pctke",
        "colab": {
          "base_uri": "https://localhost:8080/"
        },
        "outputId": "d32e6a00-5774-4fd8-beb4-4c4806d79ad1"
      },
      "execution_count": 5,
      "outputs": [
        {
          "output_type": "stream",
          "name": "stdout",
          "text": [
            "device = 'cuda'\n"
          ]
        }
      ]
    },
    {
      "cell_type": "markdown",
      "source": [
        "## Parameters"
      ],
      "metadata": {
        "id": "jkq61Kfn6id9"
      }
    },
    {
      "cell_type": "code",
      "source": [
        "DATASET = \"mnist\"\n",
        "\n",
        "EPOCHS = 20\n",
        "BATCH_SIZE = 64\n",
        "LATENT_DIM = 100\n",
        "BASE_DIM_GEN = 4\n",
        "BASE_GEN_CH = 256\n",
        "CRITIC_TO_GEN_UPDATES = 5\n",
        "GP_WEIGHT = 10.0\n",
        "PATH_SAMPLES = Path(f\"./samples/{DATASET}\")\n",
        "\n",
        "LR_G = 1e-4\n",
        "LR_C = 1e-4\n",
        "BETA = (0.0, 0.9)\n"
      ],
      "metadata": {
        "id": "bzqxHT2T6epp"
      },
      "execution_count": 6,
      "outputs": []
    },
    {
      "cell_type": "code",
      "source": [
        "PATH_SAMPLES.mkdir(exist_ok=True)"
      ],
      "metadata": {
        "id": "BUiQ3W6LwNpy"
      },
      "execution_count": 7,
      "outputs": []
    },
    {
      "cell_type": "markdown",
      "source": [
        "## Data"
      ],
      "metadata": {
        "id": "-ihvQFk79gAW"
      }
    },
    {
      "cell_type": "code",
      "source": [
        "def resize(img):\n",
        "    return img.resize((32, 32))"
      ],
      "metadata": {
        "id": "zX79C6co27jp"
      },
      "execution_count": 8,
      "outputs": []
    },
    {
      "cell_type": "code",
      "source": [
        "def inv_norm_img(img):\n",
        "    return T.Compose([\n",
        "        T.Normalize(0.0, 1/0.5),\n",
        "        T.Normalize(-0.5, 1.0),\n",
        "    ])(img)"
      ],
      "metadata": {
        "id": "S2NWuYLM09kU"
      },
      "execution_count": 9,
      "outputs": []
    },
    {
      "cell_type": "code",
      "source": [
        "ds_train = datasets.MNIST(\n",
        "    \"./data/mnist/\",\n",
        "    download=True,\n",
        "    train=True,\n",
        "    transform=T.Compose([\n",
        "        resize,\n",
        "        T.ToTensor(),\n",
        "        T.Normalize(0.5, 0.5)\n",
        "    ]),\n",
        ")\n",
        "ds_train_base = datasets.MNIST(\n",
        "    \"./data/mnist/\",\n",
        "    train=True,\n",
        "    transform=resize,\n",
        ")\n"
      ],
      "metadata": {
        "id": "Tny1kc9l9iZq"
      },
      "execution_count": 10,
      "outputs": []
    },
    {
      "cell_type": "code",
      "source": [
        "sample_image_base = ds_train_base[42][0]\n",
        "arr_base = np.array(sample_image_base)\n",
        "sample_image_base"
      ],
      "metadata": {
        "colab": {
          "base_uri": "https://localhost:8080/",
          "height": 49
        },
        "id": "0zqaCdfA3bSh",
        "outputId": "ea5d61bc-8a60-4cad-c9cb-d76da8a6a698"
      },
      "execution_count": 11,
      "outputs": [
        {
          "output_type": "execute_result",
          "data": {
            "text/plain": [
              "<PIL.Image.Image image mode=L size=32x32>"
            ],
            "image/png": "[encoded data removed]"
          },
          "metadata": {},
          "execution_count": 11
        }
      ]
    },
    {
      "cell_type": "code",
      "source": [
        "sample_image = ds_train[42][0]\n",
        "print(\n",
        "    f\"{sample_image.shape = }\",\n",
        "    f\"{sample_image.min().item() = }\",\n",
        "    f\"{sample_image.max().item() = }\",\n",
        "    sep=\"\\n\",\n",
        ")\n",
        "arr_rec = np.array(F.to_pil_image(inv_norm_img(sample_image)))"
      ],
      "metadata": {
        "colab": {
          "base_uri": "https://localhost:8080/"
        },
        "id": "FRKVMIGA07Cs",
        "outputId": "e67befe3-9dce-4f64-829c-26d9f9f1e724"
      },
      "execution_count": 12,
      "outputs": [
        {
          "output_type": "stream",
          "name": "stdout",
          "text": [
            "sample_image.shape = torch.Size([1, 32, 32])\n",
            "sample_image.min().item() = -1.0\n",
            "sample_image.max().item() = 1.0\n"
          ]
        }
      ]
    },
    {
      "cell_type": "code",
      "source": [
        "np.abs(arr_base - arr_rec).mean()"
      ],
      "metadata": {
        "colab": {
          "base_uri": "https://localhost:8080/"
        },
        "id": "j1UewqUXFOL3",
        "outputId": "35367d44-4636-44a8-d582-f19732c3b916"
      },
      "execution_count": 13,
      "outputs": [
        {
          "output_type": "execute_result",
          "data": {
            "text/plain": [
              "0.0478515625"
            ]
          },
          "metadata": {},
          "execution_count": 13
        }
      ]
    },
    {
      "cell_type": "code",
      "source": [
        "dl_train = DataLoader(\n",
        "    dataset=ds_train,\n",
        "    batch_size=BATCH_SIZE,\n",
        ")"
      ],
      "metadata": {
        "id": "Z8OUWLgECHSt"
      },
      "execution_count": 14,
      "outputs": []
    },
    {
      "cell_type": "code",
      "source": [
        "sample_batch = next(iter(dl_train))\n",
        "sample_batch[0].shape"
      ],
      "metadata": {
        "colab": {
          "base_uri": "https://localhost:8080/"
        },
        "id": "pvmlbk7GEYZ0",
        "outputId": "623b7354-1903-4d63-b60d-6dd86468a808"
      },
      "execution_count": 15,
      "outputs": [
        {
          "output_type": "execute_result",
          "data": {
            "text/plain": [
              "torch.Size([64, 1, 32, 32])"
            ]
          },
          "metadata": {},
          "execution_count": 15
        }
      ]
    },
    {
      "cell_type": "markdown",
      "source": [
        "## Models"
      ],
      "metadata": {
        "id": "O0lRCk0t6dh3"
      }
    },
    {
      "cell_type": "code",
      "source": [
        "class Critic(nn.Module):\n",
        "\n",
        "    def __init__(self, *args, **kwargs):\n",
        "        super(Critic, self).__init__(*args, **kwargs)\n",
        "        self.net = nn.Sequential(\n",
        "            self.conv_block(1, 16),\n",
        "            self.conv_block(16, 32),\n",
        "            self.conv_block(32, 64),\n",
        "            nn.Conv2d(64, 1, kernel_size=4),\n",
        "            nn.Flatten(),\n",
        "        )\n",
        "\n",
        "    @staticmethod\n",
        "    def conv_block(\n",
        "        in_ch: int,\n",
        "        out_ch: int,\n",
        "        activation: bool = True,\n",
        "        padding: str | int = 1,\n",
        "        kernel_size=4,\n",
        "    ) -> Tensor:\n",
        "        layers = [\n",
        "            nn.Conv2d(in_ch, out_ch, kernel_size=4, stride=2, padding=padding),\n",
        "        ]\n",
        "        if activation:\n",
        "            layers.extend([\n",
        "                nn.InstanceNorm2d(num_features=out_ch, affine=True),\n",
        "                nn.LeakyReLU(0.2),\n",
        "            ])\n",
        "        return nn.Sequential(*layers)\n",
        "\n",
        "\n",
        "    def forward(self, x: Tensor):\n",
        "        x = self.net(x)\n",
        "        return x"
      ],
      "metadata": {
        "id": "r9eBg8Pz6hA6"
      },
      "execution_count": 16,
      "outputs": []
    },
    {
      "cell_type": "code",
      "source": [
        "x = torch.rand((2, 1, 32, 32))\n",
        "summary(Critic(), input_data=(x))"
      ],
      "metadata": {
        "colab": {
          "base_uri": "https://localhost:8080/"
        },
        "id": "dwBA0IJeNGSi",
        "outputId": "aa63b888-4c6c-4f62-ed9e-472cc30cd466"
      },
      "execution_count": 17,
      "outputs": [
        {
          "output_type": "execute_result",
          "data": {
            "text/plain": [
              "==========================================================================================\n",
              "Layer (type:depth-idx)                   Output Shape              Param #\n",
              "==========================================================================================\n",
              "Critic                                   [2, 1]                    --\n",
              "├─Sequential: 1-1                        [2, 1]                    --\n",
              "│    └─Sequential: 2-1                   [2, 16, 16, 16]           --\n",
              "│    │    └─Conv2d: 3-1                  [2, 16, 16, 16]           272\n",
              "│    │    └─InstanceNorm2d: 3-2          [2, 16, 16, 16]           32\n",
              "│    │    └─LeakyReLU: 3-3               [2, 16, 16, 16]           --\n",
              "│    └─Sequential: 2-2                   [2, 32, 8, 8]             --\n",
              "│    │    └─Conv2d: 3-4                  [2, 32, 8, 8]             8,224\n",
              "│    │    └─InstanceNorm2d: 3-5          [2, 32, 8, 8]             64\n",
              "│    │    └─LeakyReLU: 3-6               [2, 32, 8, 8]             --\n",
              "│    └─Sequential: 2-3                   [2, 64, 4, 4]             --\n",
              "│    │    └─Conv2d: 3-7                  [2, 64, 4, 4]             32,832\n",
              "│    │    └─InstanceNorm2d: 3-8          [2, 64, 4, 4]             128\n",
              "│    │    └─LeakyReLU: 3-9               [2, 64, 4, 4]             --\n",
              "│    └─Conv2d: 2-4                       [2, 1, 1, 1]              1,025\n",
              "│    └─Flatten: 2-5                      [2, 1]                    --\n",
              "==========================================================================================\n",
              "Total params: 42,577\n",
              "Trainable params: 42,577\n",
              "Non-trainable params: 0\n",
              "Total mult-adds (M): 2.25\n",
              "==========================================================================================\n",
              "Input size (MB): 0.01\n",
              "Forward/backward pass size (MB): 0.23\n",
              "Params size (MB): 0.17\n",
              "Estimated Total Size (MB): 0.41\n",
              "=========================================================================================="
            ]
          },
          "metadata": {},
          "execution_count": 17
        }
      ]
    },
    {
      "cell_type": "code",
      "source": [
        "class Generator(nn.Module):\n",
        "    def __init__(self, *args, **kwargs):\n",
        "        super(Generator, self).__init__(*args, **kwargs)\n",
        "        self.net = nn.Sequential(\n",
        "            nn.Unflatten(2, (1, 1)),\n",
        "            self.conv_block(100, 512, kernel_size=4, stride=1, padding=0),\n",
        "            self.conv_block(512, 256, kernel_size=4, stride=2, padding=1),\n",
        "            self.conv_block(256, 128, kernel_size=4, stride=2, padding=1),\n",
        "            self.conv_block(128, 64, kernel_size=4, stride=2, padding=1),\n",
        "            nn.Conv2d(64, 1, kernel_size=3, stride=1, padding=1),\n",
        "            nn.Tanh(),\n",
        "        )\n",
        "\n",
        "    @staticmethod\n",
        "    def conv_block(\n",
        "        in_ch: int,\n",
        "        out_ch: int,\n",
        "        kernel_size: int = 4,\n",
        "        stride: int = 2,\n",
        "        padding: int = 1,\n",
        "    ):\n",
        "        # Base\n",
        "        layers = [\n",
        "            nn.ConvTranspose2d(\n",
        "                in_ch,\n",
        "                out_ch,\n",
        "                kernel_size=kernel_size,\n",
        "                stride=stride,\n",
        "                padding=padding,\n",
        "            ),\n",
        "            nn.BatchNorm2d(out_ch),\n",
        "            nn.ReLU(),\n",
        "        ]\n",
        "        return nn.Sequential(*layers)\n",
        "\n",
        "    def forward(self, x: Tensor):\n",
        "        return self.net(x)"
      ],
      "metadata": {
        "id": "pHiXS1zMRB1L"
      },
      "execution_count": 18,
      "outputs": []
    },
    {
      "cell_type": "code",
      "source": [
        "z = torch.rand((2, 100, 1))\n",
        "summary(Generator(), input_data=z)"
      ],
      "metadata": {
        "colab": {
          "base_uri": "https://localhost:8080/"
        },
        "id": "561xdn2wTJl7",
        "outputId": "3c057551-cf4b-4634-ef0f-8d501bab107f"
      },
      "execution_count": 19,
      "outputs": [
        {
          "output_type": "execute_result",
          "data": {
            "text/plain": [
              "==========================================================================================\n",
              "Layer (type:depth-idx)                   Output Shape              Param #\n",
              "==========================================================================================\n",
              "Generator                                [2, 1, 32, 32]            --\n",
              "├─Sequential: 1-1                        [2, 1, 32, 32]            --\n",
              "│    └─Unflatten: 2-1                    [2, 100, 1, 1]            --\n",
              "│    └─Sequential: 2-2                   [2, 512, 4, 4]            --\n",
              "│    │    └─ConvTranspose2d: 3-1         [2, 512, 4, 4]            819,712\n",
              "│    │    └─BatchNorm2d: 3-2             [2, 512, 4, 4]            1,024\n",
              "│    │    └─ReLU: 3-3                    [2, 512, 4, 4]            --\n",
              "│    └─Sequential: 2-3                   [2, 256, 8, 8]            --\n",
              "│    │    └─ConvTranspose2d: 3-4         [2, 256, 8, 8]            2,097,408\n",
              "│    │    └─BatchNorm2d: 3-5             [2, 256, 8, 8]            512\n",
              "│    │    └─ReLU: 3-6                    [2, 256, 8, 8]            --\n",
              "│    └─Sequential: 2-4                   [2, 128, 16, 16]          --\n",
              "│    │    └─ConvTranspose2d: 3-7         [2, 128, 16, 16]          524,416\n",
              "│    │    └─BatchNorm2d: 3-8             [2, 128, 16, 16]          256\n",
              "│    │    └─ReLU: 3-9                    [2, 128, 16, 16]          --\n",
              "│    └─Sequential: 2-5                   [2, 64, 32, 32]           --\n",
              "│    │    └─ConvTranspose2d: 3-10        [2, 64, 32, 32]           131,136\n",
              "│    │    └─BatchNorm2d: 3-11            [2, 64, 32, 32]           128\n",
              "│    │    └─ReLU: 3-12                   [2, 64, 32, 32]           --\n",
              "│    └─Conv2d: 2-6                       [2, 1, 32, 32]            577\n",
              "│    └─Tanh: 2-7                         [2, 1, 32, 32]            --\n",
              "==========================================================================================\n",
              "Total params: 3,575,169\n",
              "Trainable params: 3,575,169\n",
              "Non-trainable params: 0\n",
              "Total mult-adds (M): 832.95\n",
              "==========================================================================================\n",
              "Input size (MB): 0.00\n",
              "Forward/backward pass size (MB): 3.95\n",
              "Params size (MB): 14.30\n",
              "Estimated Total Size (MB): 18.25\n",
              "=========================================================================================="
            ]
          },
          "metadata": {},
          "execution_count": 19
        }
      ]
    },
    {
      "cell_type": "markdown",
      "source": [
        "## Train"
      ],
      "metadata": {
        "id": "5CRpT5AIccHG"
      }
    },
    {
      "cell_type": "code",
      "source": [
        "generator = Generator().to(device)\n",
        "critic = Critic().to(device)\n",
        "\n",
        "opt_g = torch.optim.Adam(generator.parameters(), lr=LR_G, betas=BETA)\n",
        "opt_c = torch.optim.Adam(critic.parameters(), lr=LR_C, betas=BETA)"
      ],
      "metadata": {
        "id": "cYS8Lo9JcbyB"
      },
      "execution_count": 20,
      "outputs": []
    },
    {
      "cell_type": "code",
      "source": [
        "def sample_latent(batch_size: int):\n",
        "    return (\n",
        "        torch.distributions.Normal(0, 1)\n",
        "        .sample((batch_size, LATENT_DIM, 1))\n",
        "        .to(device)\n",
        "    )"
      ],
      "metadata": {
        "id": "XPR1g03UA2Yx"
      },
      "execution_count": 21,
      "outputs": []
    },
    {
      "cell_type": "code",
      "source": [
        "def gradient_penalty(batch: Tensor, img_gen: Tensor, critic_model: Critic) -> Tensor:\n",
        "    \"\"\" MSE loss w.r.t. 1 of gradients from scores of interpolated images \"\"\"\n",
        "    eps = torch.rand((batch.shape[0], 1, 1, 1)).to(device)\n",
        "    eps = eps.expand_as(eps)\n",
        "    interp = eps * batch + (1-eps) * img_gen\n",
        "    interp = torch.autograd.Variable(interp, requires_grad=True)\n",
        "    scores = critic_model(interp)\n",
        "    gradients = torch.autograd.grad(\n",
        "        outputs=scores,\n",
        "        inputs=interp,\n",
        "        grad_outputs=torch.ones_like(scores),\n",
        "        create_graph=True,\n",
        "        retain_graph=True,\n",
        "    )[0]  # take gradients w.r.t to the (only) input\n",
        "    gradients_flt = gradients.view(gradients.shape[0], -1)  # reshape batch x -1\n",
        "    norm = gradients_flt.norm(2, dim=-1)\n",
        "    gp = mse_loss(norm, torch.ones_like(norm))\n",
        "    return gp"
      ],
      "metadata": {
        "id": "NYaPi631ijpj"
      },
      "execution_count": 22,
      "outputs": []
    },
    {
      "cell_type": "code",
      "source": [
        "l = sample_latent(BATCH_SIZE)\n",
        "gradient_penalty(\n",
        "    sample_batch[0].cuda(),\n",
        "    Generator().to(device)(l),  # throwaway model\n",
        "    Critic().to(device),  # throwaway model\n",
        ")"
      ],
      "metadata": {
        "colab": {
          "base_uri": "https://localhost:8080/"
        },
        "id": "_6E1ysSaCXo8",
        "outputId": "77bb4b37-5b1d-49da-e344-16fa112db3ea"
      },
      "execution_count": 23,
      "outputs": [
        {
          "output_type": "execute_result",
          "data": {
            "text/plain": [
              "tensor(1.0395, device='cuda:0', grad_fn=<MseLossBackward0>)"
            ]
          },
          "metadata": {},
          "execution_count": 23
        }
      ]
    },
    {
      "cell_type": "code",
      "source": [
        "def train_step_c(batch):\n",
        "    opt_c.zero_grad()\n",
        "    z = sample_latent(batch.shape[0])\n",
        "    img_gen = generator(z).detach()  # detach probably not needed\n",
        "    score_real = critic(batch)\n",
        "    score_gen = critic(img_gen)\n",
        "    loss_w = - score_real.mean() + score_gen.mean()\n",
        "    gp = gradient_penalty(batch=batch, img_gen=img_gen, critic_model=critic)\n",
        "    loss = loss_w + GP_WEIGHT * gp\n",
        "    loss.backward()\n",
        "    opt_c.step()\n",
        "    return dict(\n",
        "        loss_c=loss.item(),\n",
        "        loss_c_w=loss_w.item(),\n",
        "        gp=gp.item(),\n",
        "        score_real=score_real.mean().item(),\n",
        "        score_gen=score_gen.mean().item(),\n",
        "    )"
      ],
      "metadata": {
        "id": "ukT6vAZ6dCpk"
      },
      "execution_count": 24,
      "outputs": []
    },
    {
      "cell_type": "code",
      "source": [
        "def train_step_g(batch):\n",
        "    opt_g.zero_grad()\n",
        "    z = sample_latent(batch.shape[0])\n",
        "    img_gen = generator(z)\n",
        "    score_gen = critic(img_gen)\n",
        "    loss = - score_gen.mean()\n",
        "    loss.backward()\n",
        "    opt_g.step()\n",
        "    return dict(\n",
        "        loss_g=loss.item(),\n",
        "    )"
      ],
      "metadata": {
        "id": "1alghb2xTffU"
      },
      "execution_count": 25,
      "outputs": []
    },
    {
      "cell_type": "code",
      "source": [
        "%matplotlib inline\n",
        "\n",
        "def live_plot(metrics: List[dict], title=''):\n",
        "    \"\"\"\n",
        "    0. List[Dict[str, float]]\n",
        "    1. pd.DataFrame\n",
        "    2. Column-wise running mean\n",
        "    3. Dict[str, List[float]]\n",
        "    \"\"\"\n",
        "    df = pd.DataFrame.from_records(metrics).rolling(50).mean()\n",
        "    data_dict = df.to_dict(orient=\"list\")\n",
        "    #\n",
        "    clear_output(wait=True)\n",
        "    fig, axes = plt.subplots(2, 3, figsize=(12, 6))\n",
        "    for ax, (k, v) in zip(axes.flatten(), data_dict.items()):\n",
        "        ax.plot(v)\n",
        "        ax.set_title(k)\n",
        "    plt.grid(False)\n",
        "    plt.show();"
      ],
      "metadata": {
        "id": "w77mRIYum6q0"
      },
      "execution_count": 26,
      "outputs": []
    },
    {
      "cell_type": "code",
      "source": [
        "def apply_along_axis(function, x, axis: int = 0):\n",
        "    return torch.stack([\n",
        "        function(x_i) for x_i in torch.unbind(x, dim=axis)\n",
        "    ], dim=axis)"
      ],
      "metadata": {
        "id": "P6jzR4NS5XfR"
      },
      "execution_count": 27,
      "outputs": []
    },
    {
      "cell_type": "code",
      "source": [
        "@torch.inference_mode()\n",
        "def generate_samples(n: int = 25):\n",
        "    generator.eval()\n",
        "    z = sample_latent(n)\n",
        "    x = generator(z)\n",
        "    x = x.cpu()\n",
        "    x = apply_along_axis(inv_norm_img, x)\n",
        "    # >>> DEBUG\n",
        "    arr = x.numpy()\n",
        "    assert np.logical_and(arr >= 0, arr <= 255).all()\n",
        "    # <<< DEBUG\n",
        "    nrow=int(np.sqrt(n))\n",
        "    grid = make_grid(x, nrow=nrow)\n",
        "    img = F.to_pil_image(grid)\n",
        "    return img"
      ],
      "metadata": {
        "id": "qwE5-cw5uO12"
      },
      "execution_count": 33,
      "outputs": []
    },
    {
      "cell_type": "code",
      "source": [
        "# Before training this should be random noise\n",
        "generate_samples()"
      ],
      "metadata": {
        "colab": {
          "base_uri": "https://localhost:8080/",
          "height": 189
        },
        "id": "ushZ4EbcJePC",
        "outputId": "bde17823-7a87-4a71-d01d-14cb2ce9f659"
      },
      "execution_count": 29,
      "outputs": [
        {
          "output_type": "execute_result",
          "data": {
            "text/plain": [
              "<PIL.Image.Image image mode=RGB size=172x172>"
            ],
            "image/png": "[encoded data removed]"
          },
          "metadata": {},
          "execution_count": 29
        }
      ]
    },
    {
      "cell_type": "code",
      "source": [
        "def train_epoch(epoch_id: int, history: List[dict]):\n",
        "    pbar = tqdm(enumerate(dl_train, start=1), total=len(dl_train))\n",
        "    for i, (batch, _) in pbar:\n",
        "        generator.train()\n",
        "        critic.train()\n",
        "        batch = batch.to(device)\n",
        "        for j in range(CRITIC_TO_GEN_UPDATES):\n",
        "            loss_c = train_step_c(batch)\n",
        "        loss_g = train_step_g(batch)\n",
        "        metrics = {**loss_c, **loss_g}\n",
        "        history.append(metrics)\n",
        "        if i % 125 == 0:\n",
        "            live_plot(history)\n",
        "        if i % 250 == 0:\n",
        "            samples = generate_samples()\n",
        "            samples.save(PATH_SAMPLES / f\"e{epoch_id:03d}_{i:04d}.png\")\n",
        "    return history"
      ],
      "metadata": {
        "id": "_Q-mER_udGAH"
      },
      "execution_count": 30,
      "outputs": []
    },
    {
      "cell_type": "code",
      "source": [
        "history = []"
      ],
      "metadata": {
        "id": "r-5486gTvzay"
      },
      "execution_count": 31,
      "outputs": []
    },
    {
      "cell_type": "code",
      "source": [
        "for epoch_id in range(EPOCHS):\n",
        "    history = train_epoch(epoch_id, history)"
      ],
      "metadata": {
        "id": "J3RXSWi_s3Kh"
      },
      "execution_count": null,
      "outputs": []
    },
    {
      "cell_type": "markdown",
      "source": [
        "## Generate samples"
      ],
      "metadata": {
        "id": "VcTXLJnH-mJ1"
      }
    },
    {
      "cell_type": "code",
      "source": [
        "generate_samples(100)"
      ],
      "metadata": {
        "id": "Q-bDdYf1-l0f",
        "colab": {
          "base_uri": "https://localhost:8080/",
          "height": 359
        },
        "outputId": "cb316c42-50ac-40cf-dac4-7da7ccf93be9"
      },
      "execution_count": 34,
      "outputs": [
        {
          "output_type": "execute_result",
          "data": {
            "text/plain": [
              "<PIL.Image.Image image mode=RGB size=342x342>"
            ],
            "image/png": "[encoded data removed]"
          },
          "metadata": {},
          "execution_count": 34
        }
      ]
    }
  ]
}