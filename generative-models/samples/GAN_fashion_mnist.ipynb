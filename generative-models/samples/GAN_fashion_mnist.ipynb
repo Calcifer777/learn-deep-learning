{
  "nbformat": 4,
  "nbformat_minor": 0,
  "metadata": {
    "colab": {
      "provenance": [],
      "gpuType": "T4",
      "authorship_tag": "ABX9TyOiHMJ3j9tkTsrARnkevAJG",
      "include_colab_link": true
    },
    "kernelspec": {
      "name": "python3",
      "display_name": "Python 3"
    },
    "language_info": {
      "name": "python"
    },
    "accelerator": "GPU"
  },
  "cells": [
    {
      "cell_type": "markdown",
      "metadata": {
        "id": "view-in-github",
        "colab_type": "text"
      },
      "source": [
        "<a href=\"https://colab.research.google.com/github/Calcifer777/learn-deep-learning/blob/main/generative-models/samples/GAN_fashion_mnist.ipynb\" target=\"_parent\"><img src=\"https://colab.research.google.com/assets/colab-badge.svg\" alt=\"Open In Colab\"/></a>"
      ]
    },
    {
      "cell_type": "markdown",
      "source": [
        "# Imports"
      ],
      "metadata": {
        "id": "eG92Gn8wT5cv"
      }
    },
    {
      "cell_type": "code",
      "execution_count": null,
      "metadata": {
        "id": "VO9FtVsRTboK"
      },
      "outputs": [],
      "source": [
        "import logging\n",
        "from pathlib import Path\n",
        "from typing import Tuple\n",
        "\n",
        "from matplotlib import pyplot as plt\n",
        "import numpy as np\n",
        "from PIL import Image\n",
        "from tqdm import tqdm\n",
        "\n",
        "import torch\n",
        "from torch import nn\n",
        "from torch import Tensor\n",
        "from torch.utils.data import DataLoader\n",
        "from torch.optim import AdamW, Optimizer\n",
        "from torchvision import datasets\n",
        "from torchvision.transforms.functional import pil_to_tensor\n",
        "from torchvision.transforms import (\n",
        "    Compose,\n",
        "    Normalize,\n",
        "    ToTensor,\n",
        ")"
      ]
    },
    {
      "cell_type": "code",
      "source": [
        "if torch.cuda.is_available():\n",
        "    DEVICE = \"cuda\"\n",
        "else:\n",
        "    DEVICE = \"cpu\"\n",
        "\n",
        "print(f\"{DEVICE =}\")"
      ],
      "metadata": {
        "id": "yAkUMr2KmaHs"
      },
      "execution_count": null,
      "outputs": []
    },
    {
      "cell_type": "code",
      "source": [
        "!test -e samples && rm samples/*\n",
        "!test -e models && rm models/*"
      ],
      "metadata": {
        "id": "zWVbBHJ3_G2A"
      },
      "execution_count": null,
      "outputs": []
    },
    {
      "cell_type": "markdown",
      "source": [
        "# Params"
      ],
      "metadata": {
        "id": "oTOF_41WZkce"
      }
    },
    {
      "cell_type": "code",
      "source": [
        "LATENT_DIM = 64 # was 32\n",
        "INPUT_DIM = 28\n",
        "LR_G = 0.0002\n",
        "LR_D = 0.0002\n",
        "EPOCHS = 50\n",
        "BATCH_SIZE = 16 # was 32\n",
        "EPS = 1e-5\n",
        "BASE_DIM_GEN = 7\n",
        "\n",
        "PATH_MODELS = Path(\"./models/\")\n",
        "PATH_MODELS.mkdir(exist_ok=True, parents=True)\n",
        "\n",
        "PATH_SAMPLES = Path(\"./samples/\")\n",
        "PATH_SAMPLES.mkdir(exist_ok=True, parents=True)"
      ],
      "metadata": {
        "id": "uE2T41UMZldK"
      },
      "execution_count": null,
      "outputs": []
    },
    {
      "cell_type": "markdown",
      "source": [
        "# Model"
      ],
      "metadata": {
        "id": "Nj3aY9D4TljY"
      }
    },
    {
      "cell_type": "code",
      "source": [
        "class Generator(nn.Module):\n",
        "    def __init__(self,):\n",
        "        super(Generator, self).__init__()\n",
        "        base_ch = 256\n",
        "        self.net = nn.Sequential(\n",
        "            nn.Linear(LATENT_DIM, BASE_DIM_GEN * BASE_DIM_GEN * base_ch),\n",
        "            nn.LeakyReLU(0.2),\n",
        "            nn.Unflatten(-1, (base_ch, BASE_DIM_GEN, BASE_DIM_GEN)),\n",
        "            Generator.cnn_block(base_ch, base_ch // 2, upsample=True),\n",
        "            Generator.cnn_block(base_ch // 2, base_ch // 4, upsample=True),\n",
        "            Generator.cnn_block(base_ch // 4, 1, final_layer=True),\n",
        "        )\n",
        "\n",
        "    @staticmethod\n",
        "    def cnn_block(\n",
        "        in_ch: int,\n",
        "        out_ch: int,\n",
        "        upsample: bool = False,\n",
        "        final_layer: bool = False,\n",
        "    ):\n",
        "        # Base\n",
        "        layers = [nn.Conv2d(in_ch, out_ch, kernel_size=3, padding=\"same\")]\n",
        "        # Upsample\n",
        "        if upsample:\n",
        "            layers.append(nn.Upsample(scale_factor=2, mode='nearest'),)\n",
        "        # BatchNorm\n",
        "        layers.append(nn.BatchNorm2d(out_ch))\n",
        "        # Activation\n",
        "        layers.append(nn.Tanh() if final_layer else nn.LeakyReLU(.2))\n",
        "        return nn.Sequential(*layers)\n",
        "\n",
        "    def forward(self, x: Tensor) -> Tensor:\n",
        "        return self.net(x)"
      ],
      "metadata": {
        "id": "XmbCQeSzTjXX"
      },
      "execution_count": null,
      "outputs": []
    },
    {
      "cell_type": "code",
      "source": [
        "test_generator = Generator().to(DEVICE)\n",
        "\n",
        "x = torch.rand((BATCH_SIZE, LATENT_DIM)).to(DEVICE)\n",
        "\n",
        "for i in range(len(test_generator.net)):\n",
        "    x = test_generator.net[i](x)\n",
        "    print(x.shape)"
      ],
      "metadata": {
        "id": "uqsv1hbhT1aS"
      },
      "execution_count": null,
      "outputs": []
    },
    {
      "cell_type": "code",
      "source": [
        "class Discriminator(nn.Module):\n",
        "    def __init__(self, ):\n",
        "        super(Discriminator, self).__init__()\n",
        "\n",
        "        self.net = nn.Sequential(\n",
        "            self.conv_block(1, 64),\n",
        "            self.conv_block(64, 256),\n",
        "            nn.Flatten(),\n",
        "            nn.Linear(4096, 1),\n",
        "            nn.Sigmoid()\n",
        "        )\n",
        "\n",
        "    @staticmethod\n",
        "    def conv_block(in_ch: int, out_ch: int, final_layer: bool = False):\n",
        "        block = nn.Sequential(\n",
        "            nn.Conv2d(in_ch, out_ch, kernel_size=5, stride=2),\n",
        "            nn.BatchNorm2d(out_ch,),\n",
        "        )\n",
        "        if not final_layer:\n",
        "            block.append(nn.LeakyReLU(0.2))\n",
        "        return block\n",
        "\n",
        "    def forward(self, x: Tensor):\n",
        "        return self.net(x)\n"
      ],
      "metadata": {
        "id": "UmSjvkmRf-OS"
      },
      "execution_count": null,
      "outputs": []
    },
    {
      "cell_type": "code",
      "source": [
        "discriminator_test = Discriminator().to(DEVICE)\n",
        "x = torch.rand((16, 1, 28, 28)).to(DEVICE)\n",
        "\n",
        "for i in range(len(discriminator_test.net)):\n",
        "    x = discriminator_test.net[i](x)\n",
        "    print(x.shape)\n",
        "\n",
        "x.mean()"
      ],
      "metadata": {
        "id": "KHLBdrsgg0l0"
      },
      "execution_count": null,
      "outputs": []
    },
    {
      "cell_type": "markdown",
      "source": [
        "# Dataset"
      ],
      "metadata": {
        "id": "_8-KggWuT3MX"
      }
    },
    {
      "cell_type": "code",
      "source": [
        "ds_sample = datasets.FashionMNIST(\n",
        "    \"./data/fashion-mnist/\",\n",
        "    download=True,\n",
        "    train=True,\n",
        ")"
      ],
      "metadata": {
        "id": "ZMzUXI3vT33b"
      },
      "execution_count": null,
      "outputs": []
    },
    {
      "cell_type": "code",
      "source": [
        "sample_img, sample_label = ds_sample[0]\n",
        "print(f\"{sample_label = }\")\n",
        "plt.imshow(sample_img)"
      ],
      "metadata": {
        "id": "Lj0iCZleUSa-"
      },
      "execution_count": null,
      "outputs": []
    },
    {
      "cell_type": "code",
      "source": [
        "def rescale(img: Image.Image):\n",
        "    img = pil_to_tensor(img)\n",
        "    return (img - 127.5) / 127.5"
      ],
      "metadata": {
        "id": "YL72H23E8mSA"
      },
      "execution_count": null,
      "outputs": []
    },
    {
      "cell_type": "code",
      "source": [
        "ds = datasets.FashionMNIST(\n",
        "    \"./data/fashion-mnist/\",\n",
        "    train=True,\n",
        "    download=True,\n",
        "    transform=Compose([\n",
        "        rescale\n",
        "    ]),\n",
        ")"
      ],
      "metadata": {
        "id": "QsD3sSjwWc2-"
      },
      "execution_count": null,
      "outputs": []
    },
    {
      "cell_type": "code",
      "source": [
        "dl = DataLoader(\n",
        "    dataset=ds,\n",
        "    batch_size=BATCH_SIZE,\n",
        "    shuffle=True,\n",
        ")"
      ],
      "metadata": {
        "id": "YHU5qEbhjOno"
      },
      "execution_count": null,
      "outputs": []
    },
    {
      "cell_type": "markdown",
      "source": [
        "# Train"
      ],
      "metadata": {
        "id": "FfOXXcwch_qe"
      }
    },
    {
      "cell_type": "code",
      "source": [
        "prior = torch.distributions.Normal(0, 1)\n",
        "\n",
        "def sample(sample_shape: torch.Size = torch.Size()):\n",
        "    return prior.sample(sample_shape)"
      ],
      "metadata": {
        "id": "7p6YR5u6mz_u"
      },
      "execution_count": null,
      "outputs": []
    },
    {
      "cell_type": "code",
      "source": [
        "loss_fn = nn.BCELoss(reduction=\"mean\")"
      ],
      "metadata": {
        "id": "kpngADEeIhIU"
      },
      "execution_count": null,
      "outputs": []
    },
    {
      "cell_type": "code",
      "source": [
        "def train_discriminator(\n",
        "    real_img: Tensor,\n",
        "    generator: nn.Module,\n",
        "    discriminator: nn.Module,\n",
        "    optim_d: Optimizer,\n",
        ") -> float:\n",
        "    optim_d.zero_grad()\n",
        "    latent = sample((real_img.shape[0], LATENT_DIM)).to(DEVICE)\n",
        "    gen_img = generator(latent).detach()\n",
        "    gen_img_probs = torch.clamp(discriminator(gen_img), EPS, 1.-EPS)\n",
        "    real_img_probs = torch.clamp(discriminator(real_img), EPS, 1-EPS)\n",
        "    loss = (\n",
        "        loss_fn(real_img_probs, torch.ones_like(real_img_probs))\n",
        "        + loss_fn(gen_img_probs, torch.zeros_like(gen_img_probs))\n",
        "    ) / 2\n",
        "    loss.backward()\n",
        "    optim_d.step()\n",
        "    return loss.item()"
      ],
      "metadata": {
        "id": "Jz6hElohNkAW"
      },
      "execution_count": null,
      "outputs": []
    },
    {
      "cell_type": "code",
      "source": [
        "def train_generator(\n",
        "    batch: Tensor,\n",
        "    generator: nn.Module,\n",
        "    discriminator: nn.Module,\n",
        "    optim_g: Optimizer,\n",
        ") -> float:\n",
        "    optim_g.zero_grad()\n",
        "    latent = sample((batch.shape[0], LATENT_DIM)).to(DEVICE)\n",
        "    gen_img = generator(latent)\n",
        "    gen_img_probs = torch.clamp(discriminator(gen_img), EPS, 1-EPS)\n",
        "    loss = loss_fn(gen_img_probs, torch.ones(batch.shape[0], 1).to(DEVICE))\n",
        "    loss.backward()\n",
        "    optim_g.step()\n",
        "    return loss.item()"
      ],
      "metadata": {
        "id": "zge3L7h1NdUA"
      },
      "execution_count": null,
      "outputs": []
    },
    {
      "cell_type": "code",
      "source": [
        "def train_step(\n",
        "    batch: Tensor,\n",
        "    generator: nn.Module,\n",
        "    discriminator: nn.Module,\n",
        "    optim_g: Optimizer,\n",
        "    optim_d: Optimizer,\n",
        "):\n",
        "    generator.train()\n",
        "    discriminator.train()\n",
        "    loss_d = train_discriminator(\n",
        "        batch,\n",
        "        generator,\n",
        "        discriminator,\n",
        "        optim_d,\n",
        "    )\n",
        "    loss_g = train_generator(\n",
        "        batch,\n",
        "        generator,\n",
        "        discriminator,\n",
        "        optim_g,\n",
        "    )\n",
        "    return dict(\n",
        "        g=loss_g,\n",
        "        d=loss_d,\n",
        "    )"
      ],
      "metadata": {
        "id": "IfQaWkvmh_Ei"
      },
      "execution_count": null,
      "outputs": []
    },
    {
      "cell_type": "code",
      "source": [
        "sample_batch = next(iter(dl))\n",
        "sample_batch_img, _ = sample_batch\n",
        "sample_batch_img.shape\n",
        "\n",
        "test_generator = Generator().to(DEVICE)\n",
        "test_discriminator = Discriminator().to(DEVICE)\n",
        "test_optim_g = AdamW(test_generator.parameters())\n",
        "test_optim_d = AdamW(test_discriminator.parameters())\n",
        "\n",
        "train_step(\n",
        "    sample_batch_img.to(DEVICE),\n",
        "    test_generator,\n",
        "    test_discriminator,\n",
        "    test_optim_d,\n",
        "    test_optim_d,\n",
        ")"
      ],
      "metadata": {
        "id": "D165d8objouy"
      },
      "execution_count": null,
      "outputs": []
    },
    {
      "cell_type": "code",
      "source": [
        "def train_epoch(\n",
        "    dl: DataLoader,\n",
        "    generator: nn.Module,\n",
        "    discriminator: nn.Module,\n",
        "    optim_g: Optimizer,\n",
        "    optim_d: Optimizer,\n",
        "):\n",
        "    loss_acc_g, loss_acc_d = 0.0, 0.0\n",
        "    for batch_idx, (batch, _) in enumerate(tqdm(dl)):\n",
        "        loss = train_step(\n",
        "            batch.to(DEVICE),\n",
        "            generator,\n",
        "            discriminator,\n",
        "            optim_g,\n",
        "            optim_d,\n",
        "        )\n",
        "        loss_acc_g += loss[\"g\"]\n",
        "        loss_acc_d += loss[\"d\"]\n",
        "        logging.info(\n",
        "            f\"Batch ({batch_idx}/{len(dl)})\"\n",
        "            f\" - Loss_G: {loss['g']:.4f}\"\n",
        "            f\" - Loss_D: {loss['d']:.4f}\"\n",
        "        )\n",
        "    loss_avg_g = loss_acc_g / len(dl)\n",
        "    loss_avg_d = loss_acc_d / len(dl)\n",
        "    return dict(\n",
        "        g=loss_avg_g,\n",
        "        d=loss_avg_d,\n",
        "    )"
      ],
      "metadata": {
        "id": "hPztY-X-lTkZ"
      },
      "execution_count": null,
      "outputs": []
    },
    {
      "cell_type": "code",
      "source": [
        "# train_epoch(\n",
        "#     dl,\n",
        "#     generator,\n",
        "#     discriminator,\n",
        "#     optimizer_g,\n",
        "#     optimizer_d,\n",
        "# )"
      ],
      "metadata": {
        "id": "4vmYo3Jd2rtq"
      },
      "execution_count": null,
      "outputs": []
    },
    {
      "cell_type": "code",
      "source": [
        "@torch.inference_mode\n",
        "def generate_samples(model: nn.Module, path_out: Path = None):\n",
        "\n",
        "    rows = 5\n",
        "    cols = 5\n",
        "\n",
        "    model.eval()\n",
        "    latent = sample((rows * cols, LATENT_DIM)).to(DEVICE)\n",
        "    x = model(latent)\n",
        "    x = x.detach().cpu().numpy()\n",
        "    fig, ax = plt.subplots(rows, cols)\n",
        "    for i, ax in enumerate(ax.flatten()):\n",
        "        plottable_image = np.reshape(x[i], x.shape[2:])\n",
        "        plottable_image = (plottable_image * 127.5) + 127.5\n",
        "        ax.imshow(plottable_image) # , cmap='gray')\n",
        "        ax.axis('off')\n",
        "\n",
        "    if path_out is not None:\n",
        "        plt.savefig(path_out, bbox_inches='tight')\n",
        "    else:\n",
        "        plt.show()\n",
        "    plt.close()"
      ],
      "metadata": {
        "id": "r85dMlA03vI8"
      },
      "execution_count": null,
      "outputs": []
    },
    {
      "cell_type": "code",
      "source": [
        "def train(\n",
        "    dl: DataLoader,\n",
        "    generator: nn.Module,\n",
        "    discriminator: nn.Module,\n",
        "    optim_g: Optimizer,\n",
        "    optim_d: Optimizer,\n",
        "):\n",
        "    losses = dict(\n",
        "        generator=[],\n",
        "        discriminator=[],\n",
        "    )\n",
        "    for epoch_id in range(EPOCHS):\n",
        "        loss = train_epoch(\n",
        "            dl,\n",
        "            generator,\n",
        "            discriminator,\n",
        "            optim_g,\n",
        "            optim_d,\n",
        "        )\n",
        "        logging.warning(\n",
        "            f\"Epoch ({epoch_id}/{EPOCHS})\"\n",
        "            f\" - Loss_G: {loss['g']:.4f}\"\n",
        "            f\" - Loss_D: {loss['d']:.4f}\"\n",
        "        )\n",
        "        losses[\"generator\"].append(loss['g'])\n",
        "        losses[\"discriminator\"].append(loss['d'])\n",
        "        # Save\n",
        "        torch.save(generator.state_dict(), PATH_MODELS / 'generator.pt')\n",
        "        torch.save(discriminator.state_dict(), PATH_MODELS / 'generator.pt')\n",
        "        # Generate samples\n",
        "        generate_samples(generator, PATH_SAMPLES / f\"epoch_{epoch_id}.png\")\n",
        "    return losses"
      ],
      "metadata": {
        "id": "n4j4ArLWoWV0"
      },
      "execution_count": null,
      "outputs": []
    },
    {
      "cell_type": "code",
      "source": [
        "generator = Generator().to(DEVICE)\n",
        "discriminator = Discriminator().to(DEVICE)"
      ],
      "metadata": {
        "id": "8ctbf47hkNdS"
      },
      "execution_count": null,
      "outputs": []
    },
    {
      "cell_type": "code",
      "source": [
        "optimizer_g = AdamW(params=generator.parameters(), lr=LR_G,)\n",
        "optimizer_d = AdamW(params=discriminator.parameters(), lr=LR_D,)"
      ],
      "metadata": {
        "id": "SOeKfRp6joHw"
      },
      "execution_count": null,
      "outputs": []
    },
    {
      "cell_type": "code",
      "source": [
        "history = train(\n",
        "    dl,\n",
        "    generator,\n",
        "    discriminator,\n",
        "    optimizer_g,\n",
        "    optimizer_d,\n",
        ")"
      ],
      "metadata": {
        "id": "B8TTywgww0fO"
      },
      "execution_count": null,
      "outputs": []
    },
    {
      "cell_type": "markdown",
      "source": [
        "# Diagnostics"
      ],
      "metadata": {
        "id": "LjHFReOJI_JI"
      }
    },
    {
      "cell_type": "markdown",
      "source": [
        "## Losses"
      ],
      "metadata": {
        "id": "vvNVn6v-JDVe"
      }
    },
    {
      "cell_type": "code",
      "source": [
        "plt.plot(range(EPOCHS), history[\"generator\"])\n",
        "plt.plot(range(EPOCHS), history[\"discriminator\"])\n",
        "plt.legend([\"generator\", \"discriminator\", ])\n",
        "plt.title(\"Loss\")"
      ],
      "metadata": {
        "id": "Stppsf2Xwxin"
      },
      "execution_count": null,
      "outputs": []
    },
    {
      "cell_type": "markdown",
      "source": [
        "## Samples"
      ],
      "metadata": {
        "id": "3tfFtsAGJFFw"
      }
    },
    {
      "cell_type": "markdown",
      "source": [
        "### Unconditional generation"
      ],
      "metadata": {
        "id": "EgKC2_d-JRYG"
      }
    },
    {
      "cell_type": "code",
      "source": [
        "generate_samples(generator)"
      ],
      "metadata": {
        "id": "nHGHU98-JBta"
      },
      "execution_count": null,
      "outputs": []
    },
    {
      "cell_type": "markdown",
      "source": [
        "### Sample interpolation"
      ],
      "metadata": {
        "id": "6OndVdG2JOgl"
      }
    },
    {
      "cell_type": "code",
      "source": [
        "# Generate samples\n",
        "latents = torch.distributions.Normal(0, 1).sample((2, LATENT_DIM))\n",
        "z1, z2 = torch.chunk(input=latents, chunks=2, dim=0)\n",
        "\n",
        "# Interpolate\n",
        "weights = Tensor(np.arange(0, 1, 0.1))\n",
        "z_inter = torch.lerp(\n",
        "    z1,\n",
        "    z2,\n",
        "    weights.unsqueeze(1),\n",
        ")\n",
        "\n",
        "generator.eval()\n",
        "with torch.inference_mode():\n",
        "    generated = generator(z_inter.to(DEVICE)).detach().cpu().numpy()\n",
        "\n",
        "fig, ax = plt.subplots(1, weights.shape[0], figsize=(16,9))\n",
        "\n",
        "for i, ax in enumerate(ax.flatten()):\n",
        "    plottable_image = np.reshape(generated[i], generated.shape[2:])\n",
        "    plottable_image = (plottable_image * 127.5) + 127.5\n",
        "    ax.imshow(plottable_image)\n",
        "    ax.axis('off')\n",
        "\n",
        "plt.show()\n",
        "plt.close()"
      ],
      "metadata": {
        "id": "-VaipJkSMGGp"
      },
      "execution_count": null,
      "outputs": []
    },
    {
      "cell_type": "code",
      "source": [],
      "metadata": {
        "id": "HEwUJe7AN63S"
      },
      "execution_count": null,
      "outputs": []
    }
  ]
}