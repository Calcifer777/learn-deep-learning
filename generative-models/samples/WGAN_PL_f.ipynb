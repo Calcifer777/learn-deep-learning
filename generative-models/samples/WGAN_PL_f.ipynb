{
  "nbformat": 4,
  "nbformat_minor": 0,
  "metadata": {
    "colab": {
      "provenance": [],
      "authorship_tag": "ABX9TyN4AVX2bmm5xOjJqRTZM/Ey",
      "include_colab_link": true
    },
    "kernelspec": {
      "name": "python3",
      "display_name": "Python 3"
    },
    "language_info": {
      "name": "python"
    }
  },
  "cells": [
    {
      "cell_type": "markdown",
      "metadata": {
        "id": "view-in-github",
        "colab_type": "text"
      },
      "source": [
        "<a href=\"https://colab.research.google.com/github/Calcifer777/learn-deep-learning/blob/main/generative-models/samples/WGAN_PL_f.ipynb\" target=\"_parent\"><img src=\"https://colab.research.google.com/assets/colab-badge.svg\" alt=\"Open In Colab\"/></a>"
      ]
    },
    {
      "cell_type": "code",
      "source": [
        "%%bash\n",
        "\n",
        "pip install -q torchinfo"
      ],
      "metadata": {
        "id": "T4nOx27uBlRg"
      },
      "execution_count": 259,
      "outputs": []
    },
    {
      "cell_type": "code",
      "execution_count": 529,
      "metadata": {
        "id": "RmcP3mxD6NOU"
      },
      "outputs": [],
      "source": [
        "from typing import List\n",
        "\n",
        "from IPython.display import clear_output\n",
        "from matplotlib import pyplot as plt\n",
        "import numpy as np\n",
        "import pandas as pd\n",
        "from pathlib import Path\n",
        "from PIL import Image\n",
        "from tqdm import tqdm\n",
        "\n",
        "import torch\n",
        "from torch import nn, Tensor\n",
        "from torch.nn.functional import mse_loss\n",
        "from torch.utils.data import DataLoader\n",
        "from torchvision import datasets\n",
        "import torchvision.transforms.v2.functional as F\n",
        "from torchvision.utils import make_grid\n",
        "from torchvision.transforms import (\n",
        "    Compose,\n",
        "    PILToTensor,\n",
        ")\n",
        "from torchinfo import summary"
      ]
    },
    {
      "cell_type": "code",
      "source": [
        "torch.manual_seed(42)\n",
        "np.random.seed(42)"
      ],
      "metadata": {
        "id": "D3KzKiao6VeM"
      },
      "execution_count": 530,
      "outputs": []
    },
    {
      "cell_type": "code",
      "source": [
        "if torch.cuda.is_available():\n",
        "    device = \"cuda\"\n",
        "else:\n",
        "    device = \"cpu\""
      ],
      "metadata": {
        "id": "FWYdS43pctke"
      },
      "execution_count": 531,
      "outputs": []
    },
    {
      "cell_type": "markdown",
      "source": [
        "## Parameters"
      ],
      "metadata": {
        "id": "jkq61Kfn6id9"
      }
    },
    {
      "cell_type": "code",
      "source": [
        "EPOCHS = 5\n",
        "BATCH_SIZE = 64\n",
        "LATENT_DIM = 100\n",
        "BASE_DIM_GEN = 7\n",
        "BASE_GEN_CH = 256\n",
        "CRITIC_TO_GEN_UPDATES = 3\n",
        "GP_WEIGHT = 10.0\n",
        "PATH_SAMPLES = Path(\"./samples/\")\n",
        "\n",
        "LR_G = 1e-4\n",
        "LR_C = 1e-4"
      ],
      "metadata": {
        "id": "bzqxHT2T6epp"
      },
      "execution_count": 532,
      "outputs": []
    },
    {
      "cell_type": "code",
      "source": [
        "PATH_SAMPLES.mkdir(exist_ok=True)"
      ],
      "metadata": {
        "id": "BUiQ3W6LwNpy"
      },
      "execution_count": 533,
      "outputs": []
    },
    {
      "cell_type": "markdown",
      "source": [
        "## Data"
      ],
      "metadata": {
        "id": "-ihvQFk79gAW"
      }
    },
    {
      "cell_type": "code",
      "source": [
        "def transform(img):\n",
        "    img = F.pil_to_tensor(img)\n",
        "    img = (img - 127.5) / 255.0\n",
        "    return img"
      ],
      "metadata": {
        "id": "685Iz2AbHd6t"
      },
      "execution_count": 316,
      "outputs": []
    },
    {
      "cell_type": "code",
      "source": [
        "ds_train = datasets.FashionMNIST(\n",
        "    \"./data/fashion-mnist/\",\n",
        "    download=True,\n",
        "    train=True,\n",
        "    transform=transform,\n",
        ")"
      ],
      "metadata": {
        "colab": {
          "base_uri": "https://localhost:8080/"
        },
        "id": "Tny1kc9l9iZq",
        "outputId": "b8a94ba1-8ed1-40d8-dc70-7a64efdab90b"
      },
      "execution_count": 322,
      "outputs": [
        {
          "output_type": "execute_result",
          "data": {
            "text/plain": [
              "torch.Size([1, 28, 28])"
            ]
          },
          "metadata": {},
          "execution_count": 322
        }
      ]
    },
    {
      "cell_type": "code",
      "source": [
        "dl_train = DataLoader(\n",
        "    dataset=ds_train,\n",
        "    batch_size=BATCH_SIZE,\n",
        ")"
      ],
      "metadata": {
        "id": "Z8OUWLgECHSt"
      },
      "execution_count": 318,
      "outputs": []
    },
    {
      "cell_type": "code",
      "source": [
        "sample_batch = next(iter(dl_train))\n",
        "sample_batch[0].shape"
      ],
      "metadata": {
        "colab": {
          "base_uri": "https://localhost:8080/"
        },
        "id": "pvmlbk7GEYZ0",
        "outputId": "62ab2489-99bb-4970-a518-940808559da8"
      },
      "execution_count": 323,
      "outputs": [
        {
          "output_type": "execute_result",
          "data": {
            "text/plain": [
              "torch.Size([8, 1, 28, 28])"
            ]
          },
          "metadata": {},
          "execution_count": 323
        }
      ]
    },
    {
      "cell_type": "markdown",
      "source": [
        "## Models"
      ],
      "metadata": {
        "id": "O0lRCk0t6dh3"
      }
    },
    {
      "cell_type": "code",
      "source": [
        "class Critic(nn.Module):\n",
        "\n",
        "    def __init__(self, *args, **kwargs):\n",
        "        super(Critic, self).__init__(*args, **kwargs)\n",
        "        self.net = nn.Sequential(\n",
        "            self.conv_block(1, 64, batch_norm=False, activation=True),\n",
        "            self.conv_block(64, 128, batch_norm=True, activation=True),\n",
        "            nn.Conv2d(128, 1, kernel_size=(5, 5)),\n",
        "            nn.Flatten(),\n",
        "        )\n",
        "\n",
        "    @staticmethod\n",
        "    def conv_block(in_ch: int, out_ch: int, batch_norm: bool, activation: bool, kernel_size=4) -> Tensor:\n",
        "        layers = [\n",
        "            nn.Conv2d(in_ch, out_ch, kernel_size=4, stride=2, padding=\"valid\"),\n",
        "        ]\n",
        "        if batch_norm:\n",
        "            layers.append(nn.BatchNorm2d(out_ch))\n",
        "        if activation:\n",
        "            layers.append(nn.LeakyReLU(0.2))\n",
        "            layers.append(nn.Dropout(0.2))\n",
        "        return nn.Sequential(*layers)\n",
        "\n",
        "\n",
        "    def forward(self, x: Tensor):\n",
        "        x = self.net(x)\n",
        "        return x"
      ],
      "metadata": {
        "id": "r9eBg8Pz6hA6"
      },
      "execution_count": 389,
      "outputs": []
    },
    {
      "cell_type": "code",
      "source": [
        "x = torch.rand((2, 1, 28, 28))\n",
        "summary(Critic(), input_data=(x))"
      ],
      "metadata": {
        "colab": {
          "base_uri": "https://localhost:8080/"
        },
        "id": "dwBA0IJeNGSi",
        "outputId": "8cf87584-7c6e-4b8e-f860-182741481550"
      },
      "execution_count": 391,
      "outputs": [
        {
          "output_type": "execute_result",
          "data": {
            "text/plain": [
              "==========================================================================================\n",
              "Layer (type:depth-idx)                   Output Shape              Param #\n",
              "==========================================================================================\n",
              "Critic                                   [2, 1]                    --\n",
              "├─Sequential: 1-1                        [2, 1]                    --\n",
              "│    └─Sequential: 2-1                   [2, 64, 13, 13]           --\n",
              "│    │    └─Conv2d: 3-1                  [2, 64, 13, 13]           1,088\n",
              "│    │    └─LeakyReLU: 3-2               [2, 64, 13, 13]           --\n",
              "│    │    └─Dropout: 3-3                 [2, 64, 13, 13]           --\n",
              "│    └─Sequential: 2-2                   [2, 128, 5, 5]            --\n",
              "│    │    └─Conv2d: 3-4                  [2, 128, 5, 5]            131,200\n",
              "│    │    └─BatchNorm2d: 3-5             [2, 128, 5, 5]            256\n",
              "│    │    └─LeakyReLU: 3-6               [2, 128, 5, 5]            --\n",
              "│    │    └─Dropout: 3-7                 [2, 128, 5, 5]            --\n",
              "│    └─Conv2d: 2-3                       [2, 1, 1, 1]              3,201\n",
              "│    └─Flatten: 2-4                      [2, 1]                    --\n",
              "==========================================================================================\n",
              "Total params: 135,745\n",
              "Trainable params: 135,745\n",
              "Non-trainable params: 0\n",
              "Total mult-adds (M): 6.93\n",
              "==========================================================================================\n",
              "Input size (MB): 0.01\n",
              "Forward/backward pass size (MB): 0.28\n",
              "Params size (MB): 0.54\n",
              "Estimated Total Size (MB): 0.82\n",
              "=========================================================================================="
            ]
          },
          "metadata": {},
          "execution_count": 391
        }
      ]
    },
    {
      "cell_type": "code",
      "source": [
        "class Generator(nn.Module):\n",
        "    def __init__(self, *args, **kwargs):\n",
        "        super(Generator, self).__init__(*args, **kwargs)\n",
        "        self.net = nn.Sequential(\n",
        "            nn.Linear(LATENT_DIM, BASE_DIM_GEN * BASE_DIM_GEN * BASE_GEN_CH),\n",
        "            nn.ReLU(0.2),\n",
        "            nn.Unflatten(-1, (BASE_GEN_CH, BASE_DIM_GEN, BASE_DIM_GEN)),\n",
        "            self.conv_block(BASE_GEN_CH, BASE_GEN_CH // 2, True, True),\n",
        "            self.conv_block(BASE_GEN_CH // 2, 1, False, False),\n",
        "            nn.Tanh(),\n",
        "        )\n",
        "\n",
        "    @staticmethod\n",
        "    def conv_block(\n",
        "        in_ch: int,\n",
        "        out_ch: int,\n",
        "        batch_norm: bool,\n",
        "        activation: bool,\n",
        "    ):\n",
        "        # Base\n",
        "        layers = [\n",
        "            nn.Conv2d(in_ch, out_ch, kernel_size=3, padding=\"same\"),\n",
        "            nn.Upsample(scale_factor=2, mode='nearest'),\n",
        "        ]\n",
        "        if batch_norm:\n",
        "            layers.append(nn.BatchNorm2d(out_ch))\n",
        "        if activation:\n",
        "            layers.append(nn.ReLU())\n",
        "        return nn.Sequential(*layers)\n",
        "\n",
        "    def forward(self, x: Tensor):\n",
        "        return self.net(x)"
      ],
      "metadata": {
        "id": "pHiXS1zMRB1L"
      },
      "execution_count": 378,
      "outputs": []
    },
    {
      "cell_type": "code",
      "source": [
        "z = torch.rand((2, 100))\n",
        "summary(Generator(), input_data=z)"
      ],
      "metadata": {
        "colab": {
          "base_uri": "https://localhost:8080/"
        },
        "id": "561xdn2wTJl7",
        "outputId": "7dd8e0e3-1137-4731-9eb0-2be3874e7bca"
      },
      "execution_count": 379,
      "outputs": [
        {
          "output_type": "execute_result",
          "data": {
            "text/plain": [
              "==========================================================================================\n",
              "Layer (type:depth-idx)                   Output Shape              Param #\n",
              "==========================================================================================\n",
              "Generator                                [2, 1, 28, 28]            --\n",
              "├─Sequential: 1-1                        [2, 1, 28, 28]            --\n",
              "│    └─Linear: 2-1                       [2, 12544]                1,266,944\n",
              "│    └─ReLU: 2-2                         [2, 12544]                --\n",
              "│    └─Unflatten: 2-3                    [2, 256, 7, 7]            --\n",
              "│    └─Sequential: 2-4                   [2, 128, 14, 14]          --\n",
              "│    │    └─Conv2d: 3-1                  [2, 128, 7, 7]            295,040\n",
              "│    │    └─Upsample: 3-2                [2, 128, 14, 14]          --\n",
              "│    │    └─BatchNorm2d: 3-3             [2, 128, 14, 14]          256\n",
              "│    │    └─ReLU: 3-4                    [2, 128, 14, 14]          --\n",
              "│    └─Sequential: 2-5                   [2, 1, 28, 28]            --\n",
              "│    │    └─Conv2d: 3-5                  [2, 1, 14, 14]            1,153\n",
              "│    │    └─Upsample: 3-6                [2, 1, 28, 28]            --\n",
              "│    └─Tanh: 2-6                         [2, 1, 28, 28]            --\n",
              "==========================================================================================\n",
              "Total params: 1,563,393\n",
              "Trainable params: 1,563,393\n",
              "Non-trainable params: 0\n",
              "Total mult-adds (M): 31.90\n",
              "==========================================================================================\n",
              "Input size (MB): 0.00\n",
              "Forward/backward pass size (MB): 0.71\n",
              "Params size (MB): 6.25\n",
              "Estimated Total Size (MB): 6.96\n",
              "=========================================================================================="
            ]
          },
          "metadata": {},
          "execution_count": 379
        }
      ]
    },
    {
      "cell_type": "markdown",
      "source": [
        "## Train"
      ],
      "metadata": {
        "id": "5CRpT5AIccHG"
      }
    },
    {
      "cell_type": "code",
      "source": [
        "generator = Generator().to(device)\n",
        "critic = Critic().to(device)\n",
        "\n",
        "opt_g = torch.optim.Adam(generator.parameters(), LR_G)\n",
        "opt_c = torch.optim.Adam(critic.parameters(), LR_C)"
      ],
      "metadata": {
        "id": "cYS8Lo9JcbyB"
      },
      "execution_count": 428,
      "outputs": []
    },
    {
      "cell_type": "code",
      "source": [
        "def gradient_penalty(batch: Tensor, img_gen: Tensor) -> Tensor:\n",
        "    interp_w = torch.rand((BATCH_SIZE, 1, 1, 1)).to(device)\n",
        "    interp = interp_w * batch + (1-interp_w) * img_gen\n",
        "    scores = critic(interp)\n",
        "    norm = scores.norm(2, dim=-1)\n",
        "    gp = mse_loss(norm, torch.ones_like(norm))\n",
        "    return gp"
      ],
      "metadata": {
        "id": "NYaPi631ijpj"
      },
      "execution_count": 429,
      "outputs": []
    },
    {
      "cell_type": "code",
      "source": [
        "def train_step_c(batch):\n",
        "    opt_c.zero_grad()\n",
        "    z = torch.rand((batch.shape[0], LATENT_DIM)).to(device)\n",
        "    img_gen = generator(z).detach()\n",
        "    score_real = critic(batch)\n",
        "    score_gen = critic(img_gen)\n",
        "    loss_w = score_gen.mean() - score_real.mean()\n",
        "    loss_gp = gradient_penalty(batch, img_gen)\n",
        "    loss = loss_w + GP_WEIGHT * loss_gp\n",
        "    loss.backward()\n",
        "    opt_c.step()\n",
        "    return dict(\n",
        "        loss_d=loss.item(),\n",
        "        loss_d_w=loss_w.item(),\n",
        "        loss_d_gp=loss_gp.item(),\n",
        "    )"
      ],
      "metadata": {
        "id": "ukT6vAZ6dCpk"
      },
      "execution_count": 430,
      "outputs": []
    },
    {
      "cell_type": "code",
      "source": [
        "def train_step_g(batch):\n",
        "    opt_g.zero_grad()\n",
        "    z = torch.rand((batch.shape[0], LATENT_DIM))\n",
        "    img_gen = generator(z)\n",
        "    score = critic(img_gen)\n",
        "    loss = - score.mean()\n",
        "    loss.backward()\n",
        "    opt_g.step()\n",
        "    return dict(\n",
        "        loss_g=loss.item(),\n",
        "    )"
      ],
      "metadata": {
        "id": "1alghb2xTffU"
      },
      "execution_count": 433,
      "outputs": []
    },
    {
      "cell_type": "code",
      "source": [
        "%matplotlib inline\n",
        "\n",
        "def live_plot(metrics: List[dict], title=''):\n",
        "    df = pd.DataFrame.from_records(metrics)\n",
        "    data_dict = df.to_dict(orient=\"list\")\n",
        "    #\n",
        "    clear_output(wait=True)\n",
        "    # plt.figure(figsize=(4, 16))\n",
        "    fig, axes = plt.subplots(1, 4, figsize=(16, 4))\n",
        "    for ax, (k, v) in zip(axes.flatten(), data_dict.items()):\n",
        "        ax.plot(v)\n",
        "        ax.set_title(k)\n",
        "    plt.grid(False)\n",
        "    plt.show();"
      ],
      "metadata": {
        "id": "w77mRIYum6q0"
      },
      "execution_count": 512,
      "outputs": []
    },
    {
      "cell_type": "code",
      "source": [
        "@torch.inference_mode()\n",
        "def generate_samples(fname):\n",
        "    generator.eval()\n",
        "    z = torch.rand((9, 100))\n",
        "    x = generator(z)\n",
        "    grid = make_grid(x, nrow=3)\n",
        "    img = F.to_pil_image(grid)\n",
        "    img.save(PATH_SAMPLES / (fname + \"+png\"))"
      ],
      "metadata": {
        "id": "qwE5-cw5uO12"
      },
      "execution_count": null,
      "outputs": []
    },
    {
      "cell_type": "code",
      "source": [
        "history = []\n",
        "\n",
        "pbar = tqdm(enumerate(dl_train, start=1), total=len(dl_train))\n",
        "epoch_id = 0\n",
        "for i, (batch, _) in pbar:\n",
        "    generator.train()\n",
        "    critic.train()\n",
        "    batch = batch.to(device)\n",
        "    for j in range(CRITIC_TO_GEN_UPDATES):\n",
        "        loss_d = train_step_c(batch)\n",
        "    loss_g = train_step_g(batch)\n",
        "    metrics = {**loss_d, **loss_g}\n",
        "    history.append(metrics)\n",
        "    msg = (\n",
        "        f\"({i}/{len(dl_train)}) \" +\n",
        "        \" - \".join(f\"{m}: {v:.3f}\" for m, v in metrics.items())\n",
        "    )\n",
        "    pbar.set_description(msg)\n",
        "    if i % 20 == 0:\n",
        "        live_plot(history)\n",
        "        generate_samples(f\"e{epoch_id:03d}_{i:04d}\")"
      ],
      "metadata": {
        "colab": {
          "base_uri": "https://localhost:8080/",
          "height": 766
        },
        "id": "_Q-mER_udGAH",
        "outputId": "e3753d6d-25b1-4cdc-cf36-101f3f680b38"
      },
      "execution_count": 513,
      "outputs": [
        {
          "output_type": "display_data",
          "data": {
            "text/plain": [
              "<Figure size 1600x400 with 4 Axes>"
            ],
            "image/png": "[encoded data removed]"
          },
          "metadata": {}
        },
        {
          "output_type": "stream",
          "name": "stderr",
          "text": [
            "(227/7500) loss_d: -5.106 - loss_d_w: -7.113 - loss_d_gp: 0.201 - loss_g: 2.807:   3%|▎         | 227/7500 [00:48<25:57,  4.67it/s]\n"
          ]
        },
        {
          "output_type": "error",
          "ename": "KeyboardInterrupt",
          "evalue": "",
          "traceback": [
            "\u001b[0;31m---------------------------------------------------------------------------\u001b[0m",
            "\u001b[0;31mKeyboardInterrupt\u001b[0m                         Traceback (most recent call last)",
            "\u001b[0;32m<ipython-input-513-99ae16d033ab>\u001b[0m in \u001b[0;36m<cell line: 4>\u001b[0;34m()\u001b[0m\n\u001b[1;32m      8\u001b[0m     \u001b[0;32mfor\u001b[0m \u001b[0mj\u001b[0m \u001b[0;32min\u001b[0m \u001b[0mrange\u001b[0m\u001b[0;34m(\u001b[0m\u001b[0mCRITIC_TO_GEN_UPDATES\u001b[0m\u001b[0;34m)\u001b[0m\u001b[0;34m:\u001b[0m\u001b[0;34m\u001b[0m\u001b[0;34m\u001b[0m\u001b[0m\n\u001b[1;32m      9\u001b[0m         \u001b[0mloss_d\u001b[0m \u001b[0;34m=\u001b[0m \u001b[0mtrain_step_c\u001b[0m\u001b[0;34m(\u001b[0m\u001b[0mbatch\u001b[0m\u001b[0;34m)\u001b[0m\u001b[0;34m\u001b[0m\u001b[0;34m\u001b[0m\u001b[0m\n\u001b[0;32m---> 10\u001b[0;31m     \u001b[0mloss_g\u001b[0m \u001b[0;34m=\u001b[0m \u001b[0mtrain_step_g\u001b[0m\u001b[0;34m(\u001b[0m\u001b[0mbatch\u001b[0m\u001b[0;34m)\u001b[0m\u001b[0;34m\u001b[0m\u001b[0;34m\u001b[0m\u001b[0m\n\u001b[0m\u001b[1;32m     11\u001b[0m     \u001b[0mmetrics\u001b[0m \u001b[0;34m=\u001b[0m \u001b[0;34m{\u001b[0m\u001b[0;34m**\u001b[0m\u001b[0mloss_d\u001b[0m\u001b[0;34m,\u001b[0m \u001b[0;34m**\u001b[0m\u001b[0mloss_g\u001b[0m\u001b[0;34m}\u001b[0m\u001b[0;34m\u001b[0m\u001b[0;34m\u001b[0m\u001b[0m\n\u001b[1;32m     12\u001b[0m     \u001b[0mhistory\u001b[0m\u001b[0;34m.\u001b[0m\u001b[0mappend\u001b[0m\u001b[0;34m(\u001b[0m\u001b[0mmetrics\u001b[0m\u001b[0;34m)\u001b[0m\u001b[0;34m\u001b[0m\u001b[0;34m\u001b[0m\u001b[0m\n",
            "\u001b[0;32m<ipython-input-433-252215fe3b4a>\u001b[0m in \u001b[0;36mtrain_step_g\u001b[0;34m(batch)\u001b[0m\n\u001b[1;32m      5\u001b[0m     \u001b[0mscore\u001b[0m \u001b[0;34m=\u001b[0m \u001b[0mcritic\u001b[0m\u001b[0;34m(\u001b[0m\u001b[0mimg_gen\u001b[0m\u001b[0;34m)\u001b[0m\u001b[0;34m\u001b[0m\u001b[0;34m\u001b[0m\u001b[0m\n\u001b[1;32m      6\u001b[0m     \u001b[0mloss\u001b[0m \u001b[0;34m=\u001b[0m \u001b[0;34m-\u001b[0m \u001b[0mscore\u001b[0m\u001b[0;34m.\u001b[0m\u001b[0mmean\u001b[0m\u001b[0;34m(\u001b[0m\u001b[0;34m)\u001b[0m\u001b[0;34m\u001b[0m\u001b[0;34m\u001b[0m\u001b[0m\n\u001b[0;32m----> 7\u001b[0;31m     \u001b[0mloss\u001b[0m\u001b[0;34m.\u001b[0m\u001b[0mbackward\u001b[0m\u001b[0;34m(\u001b[0m\u001b[0;34m)\u001b[0m\u001b[0;34m\u001b[0m\u001b[0;34m\u001b[0m\u001b[0m\n\u001b[0m\u001b[1;32m      8\u001b[0m     \u001b[0mopt_g\u001b[0m\u001b[0;34m.\u001b[0m\u001b[0mstep\u001b[0m\u001b[0;34m(\u001b[0m\u001b[0;34m)\u001b[0m\u001b[0;34m\u001b[0m\u001b[0;34m\u001b[0m\u001b[0m\n\u001b[1;32m      9\u001b[0m     return dict(\n",
            "\u001b[0;32m/usr/local/lib/python3.10/dist-packages/torch/_tensor.py\u001b[0m in \u001b[0;36mbackward\u001b[0;34m(self, gradient, retain_graph, create_graph, inputs)\u001b[0m\n\u001b[1;32m    490\u001b[0m                 \u001b[0minputs\u001b[0m\u001b[0;34m=\u001b[0m\u001b[0minputs\u001b[0m\u001b[0;34m,\u001b[0m\u001b[0;34m\u001b[0m\u001b[0;34m\u001b[0m\u001b[0m\n\u001b[1;32m    491\u001b[0m             )\n\u001b[0;32m--> 492\u001b[0;31m         torch.autograd.backward(\n\u001b[0m\u001b[1;32m    493\u001b[0m             \u001b[0mself\u001b[0m\u001b[0;34m,\u001b[0m \u001b[0mgradient\u001b[0m\u001b[0;34m,\u001b[0m \u001b[0mretain_graph\u001b[0m\u001b[0;34m,\u001b[0m \u001b[0mcreate_graph\u001b[0m\u001b[0;34m,\u001b[0m \u001b[0minputs\u001b[0m\u001b[0;34m=\u001b[0m\u001b[0minputs\u001b[0m\u001b[0;34m\u001b[0m\u001b[0;34m\u001b[0m\u001b[0m\n\u001b[1;32m    494\u001b[0m         )\n",
            "\u001b[0;32m/usr/local/lib/python3.10/dist-packages/torch/autograd/__init__.py\u001b[0m in \u001b[0;36mbackward\u001b[0;34m(tensors, grad_tensors, retain_graph, create_graph, grad_variables, inputs)\u001b[0m\n\u001b[1;32m    249\u001b[0m     \u001b[0;31m# some Python versions print out the first line of a multi-line function\u001b[0m\u001b[0;34m\u001b[0m\u001b[0;34m\u001b[0m\u001b[0m\n\u001b[1;32m    250\u001b[0m     \u001b[0;31m# calls in the traceback and some print out the last line\u001b[0m\u001b[0;34m\u001b[0m\u001b[0;34m\u001b[0m\u001b[0m\n\u001b[0;32m--> 251\u001b[0;31m     Variable._execution_engine.run_backward(  # Calls into the C++ engine to run the backward pass\n\u001b[0m\u001b[1;32m    252\u001b[0m         \u001b[0mtensors\u001b[0m\u001b[0;34m,\u001b[0m\u001b[0;34m\u001b[0m\u001b[0;34m\u001b[0m\u001b[0m\n\u001b[1;32m    253\u001b[0m         \u001b[0mgrad_tensors_\u001b[0m\u001b[0;34m,\u001b[0m\u001b[0;34m\u001b[0m\u001b[0;34m\u001b[0m\u001b[0m\n",
            "\u001b[0;31mKeyboardInterrupt\u001b[0m: "
          ]
        }
      ]
    },
    {
      "cell_type": "code",
      "source": [],
      "metadata": {
        "id": "J3RXSWi_s3Kh"
      },
      "execution_count": null,
      "outputs": []
    },
    {
      "cell_type": "code",
      "source": [],
      "metadata": {
        "id": "2sCmiZqZrIh6"
      },
      "execution_count": null,
      "outputs": []
    }
  ]
}