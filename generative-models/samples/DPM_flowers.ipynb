{
  "nbformat": 4,
  "nbformat_minor": 0,
  "metadata": {
    "colab": {
      "provenance": [],
      "collapsed_sections": [
        "_xzMNkdakzMW"
      ],
      "authorship_tag": "ABX9TyP6rhGI2OynBWCG/rmAJHt1",
      "include_colab_link": true
    },
    "kernelspec": {
      "name": "python3",
      "display_name": "Python 3"
    },
    "language_info": {
      "name": "python"
    }
  },
  "cells": [
    {
      "cell_type": "markdown",
      "metadata": {
        "id": "view-in-github",
        "colab_type": "text"
      },
      "source": [
        "<a href=\"https://colab.research.google.com/github/Calcifer777/learn-deep-learning/blob/main/generative-models/samples/DPM_flowers.ipynb\" target=\"_parent\"><img src=\"https://colab.research.google.com/assets/colab-badge.svg\" alt=\"Open In Colab\"/></a>"
      ]
    },
    {
      "cell_type": "markdown",
      "source": [
        "## Resources\n",
        "\n",
        "- https://github.com/davidADSP/Generative_Deep_Learning_2nd_Edition/blob/main/notebooks/08_diffusion/01_ddm/ddm.ipynb"
      ],
      "metadata": {
        "id": "F-4xdzH-AiCx"
      }
    },
    {
      "cell_type": "markdown",
      "source": [
        "## Imports"
      ],
      "metadata": {
        "id": "_xzMNkdakzMW"
      }
    },
    {
      "cell_type": "code",
      "execution_count": 281,
      "metadata": {
        "id": "Bd1DXA4gkmh1"
      },
      "outputs": [],
      "source": [
        "from typing import List\n",
        "\n",
        "import matplotlib.pyplot as plt\n",
        "import numpy as np\n",
        "\n",
        "import torch\n",
        "from torch import Tensor\n",
        "from torchvision import datasets\n",
        "import torchvision.transforms.v2 as T"
      ]
    },
    {
      "cell_type": "markdown",
      "source": [
        "## Parameters"
      ],
      "metadata": {
        "id": "ZiosXecKku9N"
      }
    },
    {
      "cell_type": "code",
      "source": [],
      "metadata": {
        "id": "qjDeCRD-kutz"
      },
      "execution_count": 281,
      "outputs": []
    },
    {
      "cell_type": "markdown",
      "source": [
        "## Dataset"
      ],
      "metadata": {
        "id": "3HUCvagEkvYg"
      }
    },
    {
      "cell_type": "code",
      "source": [
        "transform = T.Compose([\n",
        "    T.ToTensor(),\n",
        "    T.Resize((64, 64)),\n",
        "    T.Normalize((0.0, 0.0, 0.0), (1.0, 1.0, 1.0)),\n",
        "])"
      ],
      "metadata": {
        "colab": {
          "base_uri": "https://localhost:8080/"
        },
        "id": "qAaRAeIJlOVU",
        "outputId": "68b337b7-27fe-45a9-b316-d5e2a19abd02"
      },
      "execution_count": 282,
      "outputs": [
        {
          "output_type": "stream",
          "name": "stderr",
          "text": [
            "/usr/local/lib/python3.10/dist-packages/torchvision/transforms/v2/_deprecated.py:43: UserWarning: The transform `ToTensor()` is deprecated and will be removed in a future release. Instead, please use `v2.Compose([v2.ToImage(), v2.ToDtype(torch.float32, scale=True)])`.\n",
            "  warnings.warn(\n"
          ]
        }
      ]
    },
    {
      "cell_type": "code",
      "source": [
        "def inv_norm():\n",
        "    return lambda x: x*255.0"
      ],
      "metadata": {
        "id": "tBySdRPZ2aaM"
      },
      "execution_count": 283,
      "outputs": []
    },
    {
      "cell_type": "code",
      "source": [
        "inv_transform = T.ToPILImage()"
      ],
      "metadata": {
        "id": "MlqJ69jc2DP5"
      },
      "execution_count": 284,
      "outputs": []
    },
    {
      "cell_type": "code",
      "source": [
        "ds = datasets.Flowers102(\n",
        "    root=\"./data/flowers/\",\n",
        "    split=\"train\",\n",
        "    transform=transform,\n",
        "    download=True,\n",
        ")"
      ],
      "metadata": {
        "id": "U4c65og5kt-R"
      },
      "execution_count": 285,
      "outputs": []
    },
    {
      "cell_type": "code",
      "source": [
        "sample = ds[0][0]\n",
        "print(f\"{sample.shape = }\")"
      ],
      "metadata": {
        "colab": {
          "base_uri": "https://localhost:8080/"
        },
        "id": "w6WM-BEIk4UH",
        "outputId": "10aa3ab8-e7a4-4702-88e2-3f088ebae903"
      },
      "execution_count": 286,
      "outputs": [
        {
          "output_type": "stream",
          "name": "stdout",
          "text": [
            "sample.shape = torch.Size([3, 64, 64])\n"
          ]
        },
        {
          "output_type": "stream",
          "name": "stderr",
          "text": [
            "/usr/local/lib/python3.10/dist-packages/torchvision/transforms/functional.py:1603: UserWarning: The default value of the antialias parameter of all the resizing transforms (Resize(), RandomResizedCrop(), etc.) will change from None to True in v0.17, in order to be consistent across the PIL and Tensor backends. To suppress this warning, directly pass antialias=True (recommended, future default), antialias=None (current default, which means False for Tensors and True for PIL), or antialias=False (only works on Tensors - PIL will still use antialiasing). This also applies if you are using the inference transforms from the models weights: update the call to weights.transforms(antialias=True).\n",
            "  warnings.warn(\n"
          ]
        }
      ]
    },
    {
      "cell_type": "code",
      "source": [
        "out = inv_transform(sample)\n",
        "out"
      ],
      "metadata": {
        "colab": {
          "base_uri": "https://localhost:8080/",
          "height": 81
        },
        "id": "_sEWWOP_1won",
        "outputId": "f2a38b3a-5b83-426c-cf75-41b06a424a07"
      },
      "execution_count": 287,
      "outputs": [
        {
          "output_type": "execute_result",
          "data": {
            "text/plain": [
              "<PIL.Image.Image image mode=RGB size=64x64>"
            ],
            "image/png": "[encoded data removed]"
          },
          "metadata": {},
          "execution_count": 287
        }
      ]
    },
    {
      "cell_type": "markdown",
      "source": [
        "## Diffusion"
      ],
      "metadata": {
        "id": "bPdPOeMc8JhG"
      }
    },
    {
      "cell_type": "markdown",
      "source": [
        "### Schedule"
      ],
      "metadata": {
        "id": "_4_PsEgO8LKS"
      }
    },
    {
      "cell_type": "code",
      "source": [
        "steps = 1000"
      ],
      "metadata": {
        "id": "rIlKZj8OB9K6"
      },
      "execution_count": 288,
      "outputs": []
    },
    {
      "cell_type": "code",
      "source": [
        "def linear_diffusion_schedule(\n",
        "    steps: int,\n",
        "    min_step_error_rate: float = 1e-4,\n",
        "    max_step_error_rate: float= 2e-2,\n",
        "):\n",
        "    betas = torch.linspace(min_step_error_rate, max_step_error_rate, steps+1)\n",
        "    alphas = 1 - betas\n",
        "    alpha_bars = torch.cumprod(alphas, 0)\n",
        "    signal_rates = torch.pow(alpha_bars, 0.5)\n",
        "    noise_rates = 1 - signal_rates\n",
        "    return noise_rates, signal_rates"
      ],
      "metadata": {
        "id": "YVP7FuMSoNH4"
      },
      "execution_count": 289,
      "outputs": []
    },
    {
      "cell_type": "code",
      "source": [
        "def cosine_diffusion_schedule(\n",
        "    steps: int,\n",
        "):\n",
        "    times = torch.linspace(0, 1, steps+1)\n",
        "    signal_rates = torch.cos(times * np.pi * 0.5)\n",
        "    noise_rates = torch.sin(times * np.pi * 0.5)\n",
        "    return noise_rates, signal_rates"
      ],
      "metadata": {
        "id": "Qq5nO1_7PpEH"
      },
      "execution_count": 290,
      "outputs": []
    },
    {
      "cell_type": "code",
      "source": [
        "def cosine_diffusion_schedule_with_offset(\n",
        "    steps: int,\n",
        "    min_signal_rate: float = 0.02,\n",
        "    max_signal_rate: float = 0.95,\n",
        "):\n",
        "    start_angle, end_angle = np.arccos(max_signal_rate), np.arccos(min_signal_rate)\n",
        "    times = torch.linspace(0, 1, steps+1)\n",
        "    angles = start_angle + times * (end_angle - start_angle)\n",
        "    signal_rates = torch.cos(angles)\n",
        "    noise_rates = torch.sin(angles)\n",
        "    return noise_rates, signal_rates"
      ],
      "metadata": {
        "id": "Z1eGNlDbrPV-"
      },
      "execution_count": 294,
      "outputs": []
    },
    {
      "cell_type": "code",
      "source": [
        "nr_lin, sr_lin = linear_diffusion_schedule(steps)\n",
        "nr_cos, sr_cos = cosine_diffusion_schedule(steps)\n",
        "nr_cos_off, sr_cos_off = cosine_diffusion_schedule_with_offset(steps)"
      ],
      "metadata": {
        "id": "M3Lm6fVoO4OZ"
      },
      "execution_count": 295,
      "outputs": []
    },
    {
      "cell_type": "code",
      "source": [
        "x = np.linspace(0, 1, steps+1)\n",
        "plt.plot(x, sr_lin**2)\n",
        "plt.plot(x, sr_cos**2)\n",
        "plt.plot(x, sr_cos_off**2)\n",
        "plt.legend([\"lin\", \"cos\", \"cos_off\"])\n",
        "plt.xlabel(r'$1/T$ (steps)')\n",
        "plt.ylabel(r'$\\bar{\\alpha}_t$ (signal)')"
      ],
      "metadata": {
        "colab": {
          "base_uri": "https://localhost:8080/",
          "height": 470
        },
        "id": "9QkF0fWjO7dR",
        "outputId": "f75d2fd2-06b8-4f88-9921-985d3dd792b1"
      },
      "execution_count": 305,
      "outputs": [
        {
          "output_type": "execute_result",
          "data": {
            "text/plain": [
              "Text(0, 0.5, '$\\\\bar{\\\\alpha}_t$ (signal)')"
            ]
          },
          "metadata": {},
          "execution_count": 305
        },
        {
          "output_type": "display_data",
          "data": {
            "text/plain": [
              "<Figure size 640x480 with 1 Axes>"
            ],
            "image/png": "[encoded data removed]"
          },
          "metadata": {}
        }
      ]
    },
    {
      "cell_type": "code",
      "source": [],
      "metadata": {
        "id": "LFTQo50dBIXZ"
      },
      "execution_count": null,
      "outputs": []
    }
  ]
}